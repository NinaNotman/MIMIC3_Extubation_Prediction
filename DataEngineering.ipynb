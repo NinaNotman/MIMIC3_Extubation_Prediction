{
 "cells": [
  {
   "cell_type": "code",
   "execution_count": 1,
   "metadata": {},
   "outputs": [],
   "source": [
    "import pandas as pd\n",
    "import numpy as np\n",
    "import matplotlib.pyplot as plt\n",
    "import csv\n",
    "import psycopg2\n",
    "import re\n",
    "\n",
    "# settings\n",
    "pd.set_option('display.max_columns', 500)\n",
    "pd.options.display.float_format = '{:,}'.format\n",
    "%matplotlib inline\n",
    "\n",
    "# database\n",
    "conn_string = open('./intern/DB_connection.txt', 'r', encoding='UTF-8').read()"
   ]
  },
  {
   "cell_type": "markdown",
   "metadata": {},
   "source": [
    "# Database"
   ]
  },
  {
   "cell_type": "code",
   "execution_count": 2,
   "metadata": {},
   "outputs": [],
   "source": [
    "conn = eval('psycopg2.connect({})'.format(conn_string.strip()))"
   ]
  },
  {
   "cell_type": "code",
   "execution_count": 3,
   "metadata": {},
   "outputs": [],
   "source": [
    "sql = \"\"\"select * from vw_t_chartevents LIMIT 1000\"\"\"\n",
    "df_sql = pd.read_sql(sql, conn)"
   ]
  },
  {
   "cell_type": "code",
   "execution_count": 4,
   "metadata": {
    "scrolled": true
   },
   "outputs": [
    {
     "output_type": "execute_result",
     "data": {
      "text/plain": [
       "   row_id  subject_id   hadm_id  icustay_id    itemid           charttime  \\\n",
       "0   15639       111.0 155,897.0   249,202.0 225,668.0 2144-07-01 04:18:00   \n",
       "1   15640       111.0 155,897.0   249,202.0 220,224.0 2144-07-01 07:31:00   \n",
       "2   15641       111.0 155,897.0   249,202.0 220,235.0 2144-07-01 07:31:00   \n",
       "3   15642       111.0 155,897.0   249,202.0 223,830.0 2144-07-01 07:31:00   \n",
       "4   15643       111.0 155,897.0   249,202.0 224,828.0 2144-07-01 07:31:00   \n",
       "\n",
       "            storetime     cgid value  valuenum valueuom  warning  error  \\\n",
       "0 2144-07-01 04:25:00 20,889.0   3.2       3.2   mmol/L      1.0    0.0   \n",
       "1 2144-07-01 07:34:00 20,889.0   159     159.0     mmHg      1.0    0.0   \n",
       "2 2144-07-01 07:34:00 20,889.0    81      81.0     mmHg      1.0    0.0   \n",
       "3 2144-07-01 07:34:00 20,889.0  6.98      6.98    units      1.0    0.0   \n",
       "4 2144-07-01 07:34:00 20,889.0   -14     -14.0    mEq/L      0.0    0.0   \n",
       "\n",
       "  resultstatus stopped  \n",
       "0         None    None  \n",
       "1         None    None  \n",
       "2         None    None  \n",
       "3         None    None  \n",
       "4         None    None  "
      ],
      "text/html": "<div>\n<style scoped>\n    .dataframe tbody tr th:only-of-type {\n        vertical-align: middle;\n    }\n\n    .dataframe tbody tr th {\n        vertical-align: top;\n    }\n\n    .dataframe thead th {\n        text-align: right;\n    }\n</style>\n<table border=\"1\" class=\"dataframe\">\n  <thead>\n    <tr style=\"text-align: right;\">\n      <th></th>\n      <th>row_id</th>\n      <th>subject_id</th>\n      <th>hadm_id</th>\n      <th>icustay_id</th>\n      <th>itemid</th>\n      <th>charttime</th>\n      <th>storetime</th>\n      <th>cgid</th>\n      <th>value</th>\n      <th>valuenum</th>\n      <th>valueuom</th>\n      <th>warning</th>\n      <th>error</th>\n      <th>resultstatus</th>\n      <th>stopped</th>\n    </tr>\n  </thead>\n  <tbody>\n    <tr>\n      <th>0</th>\n      <td>15639</td>\n      <td>111.0</td>\n      <td>155,897.0</td>\n      <td>249,202.0</td>\n      <td>225,668.0</td>\n      <td>2144-07-01 04:18:00</td>\n      <td>2144-07-01 04:25:00</td>\n      <td>20,889.0</td>\n      <td>3.2</td>\n      <td>3.2</td>\n      <td>mmol/L</td>\n      <td>1.0</td>\n      <td>0.0</td>\n      <td>None</td>\n      <td>None</td>\n    </tr>\n    <tr>\n      <th>1</th>\n      <td>15640</td>\n      <td>111.0</td>\n      <td>155,897.0</td>\n      <td>249,202.0</td>\n      <td>220,224.0</td>\n      <td>2144-07-01 07:31:00</td>\n      <td>2144-07-01 07:34:00</td>\n      <td>20,889.0</td>\n      <td>159</td>\n      <td>159.0</td>\n      <td>mmHg</td>\n      <td>1.0</td>\n      <td>0.0</td>\n      <td>None</td>\n      <td>None</td>\n    </tr>\n    <tr>\n      <th>2</th>\n      <td>15641</td>\n      <td>111.0</td>\n      <td>155,897.0</td>\n      <td>249,202.0</td>\n      <td>220,235.0</td>\n      <td>2144-07-01 07:31:00</td>\n      <td>2144-07-01 07:34:00</td>\n      <td>20,889.0</td>\n      <td>81</td>\n      <td>81.0</td>\n      <td>mmHg</td>\n      <td>1.0</td>\n      <td>0.0</td>\n      <td>None</td>\n      <td>None</td>\n    </tr>\n    <tr>\n      <th>3</th>\n      <td>15642</td>\n      <td>111.0</td>\n      <td>155,897.0</td>\n      <td>249,202.0</td>\n      <td>223,830.0</td>\n      <td>2144-07-01 07:31:00</td>\n      <td>2144-07-01 07:34:00</td>\n      <td>20,889.0</td>\n      <td>6.98</td>\n      <td>6.98</td>\n      <td>units</td>\n      <td>1.0</td>\n      <td>0.0</td>\n      <td>None</td>\n      <td>None</td>\n    </tr>\n    <tr>\n      <th>4</th>\n      <td>15643</td>\n      <td>111.0</td>\n      <td>155,897.0</td>\n      <td>249,202.0</td>\n      <td>224,828.0</td>\n      <td>2144-07-01 07:31:00</td>\n      <td>2144-07-01 07:34:00</td>\n      <td>20,889.0</td>\n      <td>-14</td>\n      <td>-14.0</td>\n      <td>mEq/L</td>\n      <td>0.0</td>\n      <td>0.0</td>\n      <td>None</td>\n      <td>None</td>\n    </tr>\n  </tbody>\n</table>\n</div>"
     },
     "metadata": {},
     "execution_count": 4
    }
   ],
   "source": [
    "df_sql.head()"
   ]
  },
  {
   "cell_type": "code",
   "execution_count": 4,
   "metadata": {},
   "outputs": [
    {
     "output_type": "stream",
     "name": "stdout",
     "text": [
      "<class 'pandas.core.frame.DataFrame'>\nRangeIndex: 1000 entries, 0 to 999\nData columns (total 15 columns):\nrow_id          1000 non-null int64\nsubject_id      1000 non-null float64\nhadm_id         1000 non-null float64\nicustay_id      1000 non-null float64\nitemid          1000 non-null float64\ncharttime       1000 non-null datetime64[ns]\nstoretime       1000 non-null datetime64[ns]\ncgid            1000 non-null float64\nvalue           1000 non-null object\nvaluenum        1000 non-null float64\nvalueuom        939 non-null object\nwarning         1000 non-null float64\nerror           1000 non-null float64\nresultstatus    0 non-null object\nstopped         0 non-null object\ndtypes: datetime64[ns](2), float64(8), int64(1), object(4)\nmemory usage: 117.3+ KB\n"
     ]
    }
   ],
   "source": [
    "df_sql.info()"
   ]
  },
  {
   "cell_type": "markdown",
   "metadata": {},
   "source": [
    "# inputevents_cv"
   ]
  },
  {
   "cell_type": "markdown",
   "metadata": {},
   "source": [
    "Inputs are any fluids which have been administered to the patient: such as oral or tube feedings or intravenous solutions containing medications. "
   ]
  },
  {
   "cell_type": "markdown",
   "metadata": {},
   "source": [
    "Inputs exist in two separate tables: INPUTEVENTS_CV and INPUTEVENTS_MV. INPUTEVENTS_CV contains CareVue inputs, while INPUTEVENTS_MV contains Metavision inputs. Results from these tables can be unioned as observations are not duplicated across tables. For CareVue data, the rate and volume will be asynchronous, and only the CHARTTIME will be available. For rates, the CHARTTIME will correspond to a start time (when the drug was set to that rate). For volumes, the CHARTTIME will correspond to an end time."
   ]
  },
  {
   "cell_type": "markdown",
   "metadata": {},
   "source": [
    "| column | Description | Type |\n",
    "|:-------|:------------|------|\n",
    "| ROW_ID | ID from Database | numeric |\n",
    "| SUBJECT_ID | Unique ID of a patient | numeric |\n",
    "| HADM_ID | Unique ID of a patient hospital stay | numeric |\n",
    "| ICUSTAY_ID | Unique ID of a patient ICU stay | numeric |\n",
    "| CHARTTIME | time at which the measurement was charted at the bedside | datetime |\n",
    "| ITEMID | Identifier for a single measurement type D_ITEMS.csv | numeric |\n",
    "| AMOUNT | amount of a drug or substance administered to the patient either between the STARTTIME and ENDTIME | numeric |"
   ]
  },
  {
   "cell_type": "code",
   "execution_count": 5,
   "metadata": {},
   "outputs": [],
   "source": [
    "sql = \"\"\"select * from inputevents_cv \n",
    "        where subject_id in (select subject_id from diagnoses_icd di where ICD9_CODE = '51881')\n",
    "        LIMIT 100000\"\"\"\n",
    "df_input_cv = pd.read_sql(sql, conn)"
   ]
  },
  {
   "cell_type": "code",
   "execution_count": 7,
   "metadata": {},
   "outputs": [
    {
     "output_type": "execute_result",
     "data": {
      "text/plain": [
       "(100000, 22)"
      ]
     },
     "metadata": {},
     "execution_count": 7
    }
   ],
   "source": [
    "df_input_cv.shape"
   ]
  },
  {
   "cell_type": "code",
   "execution_count": 8,
   "metadata": {
    "scrolled": true
   },
   "outputs": [
    {
     "output_type": "stream",
     "name": "stdout",
     "text": [
      "<class 'pandas.core.frame.DataFrame'>\nRangeIndex: 100000 entries, 0 to 99999\nData columns (total 22 columns):\nrow_id               100000 non-null int64\nsubject_id           100000 non-null int64\nhadm_id              99685 non-null float64\nicustay_id           99578 non-null float64\ncharttime            100000 non-null datetime64[ns]\nitemid               100000 non-null int64\namount               99081 non-null float64\namountuom            99195 non-null object\nrate                 0 non-null object\nrateuom              0 non-null object\nstoretime            100000 non-null datetime64[ns]\ncgid                 100000 non-null int64\norderid              100000 non-null int64\nlinkorderid          100000 non-null int64\nstopped              863 non-null object\nnewbottle            343 non-null float64\noriginalamount       58655 non-null float64\noriginalamountuom    100000 non-null object\noriginalroute        100000 non-null object\noriginalrate         7 non-null float64\noriginalrateuom      7 non-null object\noriginalsite         0 non-null object\ndtypes: datetime64[ns](2), float64(6), int64(6), object(8)\nmemory usage: 16.8+ MB\n"
     ]
    }
   ],
   "source": [
    "df_input_cv.info()"
   ]
  },
  {
   "cell_type": "markdown",
   "metadata": {},
   "source": [
    "We can see that already in the first 100000 rows some HADM_ID's are missing. Let us show how many, if we import only this column."
   ]
  },
  {
   "cell_type": "code",
   "execution_count": 9,
   "metadata": {},
   "outputs": [],
   "source": [
    "sql = \"\"\"select hadm_id from inputevents_cv \"\"\"\n",
    "df_test = pd.read_sql(sql, conn)"
   ]
  },
  {
   "cell_type": "code",
   "execution_count": 10,
   "metadata": {},
   "outputs": [
    {
     "output_type": "execute_result",
     "data": {
      "text/plain": [
       "(17527935, 1)"
      ]
     },
     "metadata": {},
     "execution_count": 10
    }
   ],
   "source": [
    "df_test.shape"
   ]
  },
  {
   "cell_type": "code",
   "execution_count": 11,
   "metadata": {},
   "outputs": [
    {
     "output_type": "execute_result",
     "data": {
      "text/plain": [
       "hadm_id    22669\n",
       "dtype: int64"
      ]
     },
     "metadata": {},
     "execution_count": 11
    }
   ],
   "source": [
    "df_test.isna().sum()"
   ]
  },
  {
   "cell_type": "code",
   "execution_count": 12,
   "metadata": {},
   "outputs": [
    {
     "output_type": "stream",
     "name": "stdout",
     "text": [
      "Missing HADM_ID in percent: 0.13%\n"
     ]
    }
   ],
   "source": [
    "print('Missing HADM_ID in percent: {:.2f}%'.format(float(df_test.isna().sum()) / df_test.shape[0] *100))"
   ]
  },
  {
   "cell_type": "markdown",
   "metadata": {},
   "source": [
    "The amount of missing HADM_ID's ist tiny. We ignore these missing entrys."
   ]
  },
  {
   "cell_type": "code",
   "execution_count": 13,
   "metadata": {
    "scrolled": false
   },
   "outputs": [
    {
     "output_type": "execute_result",
     "data": {
      "text/plain": [
       "   row_id  subject_id   hadm_id  icustay_id           charttime  itemid  \\\n",
       "0     237       19872 134,153.0   249,265.0 2106-08-24 00:00:00   30056   \n",
       "1     238       19872 134,153.0   249,265.0 2106-08-24 06:00:00   30056   \n",
       "2     239       19872 134,153.0   249,265.0 2106-08-24 08:00:00   30056   \n",
       "3     240       19872 134,153.0   249,265.0 2106-08-24 10:00:00   30056   \n",
       "4     241       19872 134,153.0   249,265.0 2106-08-24 13:00:00   30056   \n",
       "\n",
       "   amount amountuom  rate rateuom           storetime   cgid   orderid  \\\n",
       "0    60.0        ml  None    None 2106-08-24 00:34:00  17155  11574865   \n",
       "1    60.0        ml  None    None 2106-08-24 05:58:00  17155   7339140   \n",
       "2   200.0        ml  None    None 2106-08-24 13:31:00  19525   4310986   \n",
       "3   100.0        ml  None    None 2106-08-24 13:31:00  19525  10773658   \n",
       "4   200.0        ml  None    None 2106-08-24 14:38:00  19525   6089121   \n",
       "\n",
       "   linkorderid stopped  newbottle  originalamount originalamountuom  \\\n",
       "0      5492089    None        nan             nan                ml   \n",
       "1      5492089    None        nan             nan                ml   \n",
       "2      5492089    None        nan             nan                ml   \n",
       "3      5492089    None        nan             nan                ml   \n",
       "4      5492089    None        nan             nan                ml   \n",
       "\n",
       "  originalroute  originalrate originalrateuom originalsite  \n",
       "0          Oral           nan            None         None  \n",
       "1          Oral           nan            None         None  \n",
       "2          Oral           nan            None         None  \n",
       "3          Oral           nan            None         None  \n",
       "4          Oral           nan            None         None  "
      ],
      "text/html": "<div>\n<style scoped>\n    .dataframe tbody tr th:only-of-type {\n        vertical-align: middle;\n    }\n\n    .dataframe tbody tr th {\n        vertical-align: top;\n    }\n\n    .dataframe thead th {\n        text-align: right;\n    }\n</style>\n<table border=\"1\" class=\"dataframe\">\n  <thead>\n    <tr style=\"text-align: right;\">\n      <th></th>\n      <th>row_id</th>\n      <th>subject_id</th>\n      <th>hadm_id</th>\n      <th>icustay_id</th>\n      <th>charttime</th>\n      <th>itemid</th>\n      <th>amount</th>\n      <th>amountuom</th>\n      <th>rate</th>\n      <th>rateuom</th>\n      <th>storetime</th>\n      <th>cgid</th>\n      <th>orderid</th>\n      <th>linkorderid</th>\n      <th>stopped</th>\n      <th>newbottle</th>\n      <th>originalamount</th>\n      <th>originalamountuom</th>\n      <th>originalroute</th>\n      <th>originalrate</th>\n      <th>originalrateuom</th>\n      <th>originalsite</th>\n    </tr>\n  </thead>\n  <tbody>\n    <tr>\n      <th>0</th>\n      <td>237</td>\n      <td>19872</td>\n      <td>134,153.0</td>\n      <td>249,265.0</td>\n      <td>2106-08-24 00:00:00</td>\n      <td>30056</td>\n      <td>60.0</td>\n      <td>ml</td>\n      <td>None</td>\n      <td>None</td>\n      <td>2106-08-24 00:34:00</td>\n      <td>17155</td>\n      <td>11574865</td>\n      <td>5492089</td>\n      <td>None</td>\n      <td>nan</td>\n      <td>nan</td>\n      <td>ml</td>\n      <td>Oral</td>\n      <td>nan</td>\n      <td>None</td>\n      <td>None</td>\n    </tr>\n    <tr>\n      <th>1</th>\n      <td>238</td>\n      <td>19872</td>\n      <td>134,153.0</td>\n      <td>249,265.0</td>\n      <td>2106-08-24 06:00:00</td>\n      <td>30056</td>\n      <td>60.0</td>\n      <td>ml</td>\n      <td>None</td>\n      <td>None</td>\n      <td>2106-08-24 05:58:00</td>\n      <td>17155</td>\n      <td>7339140</td>\n      <td>5492089</td>\n      <td>None</td>\n      <td>nan</td>\n      <td>nan</td>\n      <td>ml</td>\n      <td>Oral</td>\n      <td>nan</td>\n      <td>None</td>\n      <td>None</td>\n    </tr>\n    <tr>\n      <th>2</th>\n      <td>239</td>\n      <td>19872</td>\n      <td>134,153.0</td>\n      <td>249,265.0</td>\n      <td>2106-08-24 08:00:00</td>\n      <td>30056</td>\n      <td>200.0</td>\n      <td>ml</td>\n      <td>None</td>\n      <td>None</td>\n      <td>2106-08-24 13:31:00</td>\n      <td>19525</td>\n      <td>4310986</td>\n      <td>5492089</td>\n      <td>None</td>\n      <td>nan</td>\n      <td>nan</td>\n      <td>ml</td>\n      <td>Oral</td>\n      <td>nan</td>\n      <td>None</td>\n      <td>None</td>\n    </tr>\n    <tr>\n      <th>3</th>\n      <td>240</td>\n      <td>19872</td>\n      <td>134,153.0</td>\n      <td>249,265.0</td>\n      <td>2106-08-24 10:00:00</td>\n      <td>30056</td>\n      <td>100.0</td>\n      <td>ml</td>\n      <td>None</td>\n      <td>None</td>\n      <td>2106-08-24 13:31:00</td>\n      <td>19525</td>\n      <td>10773658</td>\n      <td>5492089</td>\n      <td>None</td>\n      <td>nan</td>\n      <td>nan</td>\n      <td>ml</td>\n      <td>Oral</td>\n      <td>nan</td>\n      <td>None</td>\n      <td>None</td>\n    </tr>\n    <tr>\n      <th>4</th>\n      <td>241</td>\n      <td>19872</td>\n      <td>134,153.0</td>\n      <td>249,265.0</td>\n      <td>2106-08-24 13:00:00</td>\n      <td>30056</td>\n      <td>200.0</td>\n      <td>ml</td>\n      <td>None</td>\n      <td>None</td>\n      <td>2106-08-24 14:38:00</td>\n      <td>19525</td>\n      <td>6089121</td>\n      <td>5492089</td>\n      <td>None</td>\n      <td>nan</td>\n      <td>nan</td>\n      <td>ml</td>\n      <td>Oral</td>\n      <td>nan</td>\n      <td>None</td>\n      <td>None</td>\n    </tr>\n  </tbody>\n</table>\n</div>"
     },
     "metadata": {},
     "execution_count": 13
    }
   ],
   "source": [
    "df_input_cv.head()"
   ]
  },
  {
   "cell_type": "code",
   "execution_count": 14,
   "metadata": {},
   "outputs": [],
   "source": [
    "sql = \"\"\"select row_id from inputevents_cv \"\"\"\n",
    "df_test2 = pd.read_sql(sql, conn)"
   ]
  },
  {
   "cell_type": "code",
   "execution_count": 15,
   "metadata": {},
   "outputs": [
    {
     "output_type": "execute_result",
     "data": {
      "text/plain": [
       "(17527935, 1)"
      ]
     },
     "metadata": {},
     "execution_count": 15
    }
   ],
   "source": [
    "df_test2.shape"
   ]
  },
  {
   "cell_type": "code",
   "execution_count": 16,
   "metadata": {},
   "outputs": [
    {
     "output_type": "execute_result",
     "data": {
      "text/plain": [
       "row_id    17527935\n",
       "dtype: int64"
      ]
     },
     "metadata": {},
     "execution_count": 16
    }
   ],
   "source": [
    "df_test2.nunique()"
   ]
  },
  {
   "cell_type": "markdown",
   "metadata": {},
   "source": [
    "# Find extubations"
   ]
  },
  {
   "cell_type": "code",
   "execution_count": 6,
   "metadata": {},
   "outputs": [],
   "source": [
    "sql = \"\"\"select i2.hadm_id, v.* \n",
    "        from ventsettings v\n",
    "        inner join icustays i2 on i2.icustay_id = v.icustay_id \n",
    "        where (v.mechvent + v.oxygentherapy + v.extubated + v.selfextubated) > 0\n",
    "            and i2.hadm_id in (select * from hadm_overview) \n",
    "        order by icustay_id, charttime \"\"\"\n",
    "df = pd.read_sql(sql, conn)"
   ]
  },
  {
   "cell_type": "code",
   "execution_count": 7,
   "metadata": {},
   "outputs": [
    {
     "output_type": "execute_result",
     "data": {
      "text/plain": [
       "(592571, 7)"
      ]
     },
     "metadata": {},
     "execution_count": 7
    }
   ],
   "source": [
    "df.shape"
   ]
  },
  {
   "cell_type": "code",
   "execution_count": 19,
   "metadata": {},
   "outputs": [
    {
     "output_type": "execute_result",
     "data": {
      "text/plain": [
       "   hadm_id  icustay_id           charttime  mechvent  oxygentherapy  \\\n",
       "0   189514   200,006.0 2159-09-03 13:00:00         1              0   \n",
       "1   189514   200,006.0 2159-09-03 16:50:00         1              0   \n",
       "2   189514   200,006.0 2159-09-03 20:00:00         1              0   \n",
       "\n",
       "   extubated  selfextubated  \n",
       "0          0              0  \n",
       "1          0              0  \n",
       "2          0              0  "
      ],
      "text/html": "<div>\n<style scoped>\n    .dataframe tbody tr th:only-of-type {\n        vertical-align: middle;\n    }\n\n    .dataframe tbody tr th {\n        vertical-align: top;\n    }\n\n    .dataframe thead th {\n        text-align: right;\n    }\n</style>\n<table border=\"1\" class=\"dataframe\">\n  <thead>\n    <tr style=\"text-align: right;\">\n      <th></th>\n      <th>hadm_id</th>\n      <th>icustay_id</th>\n      <th>charttime</th>\n      <th>mechvent</th>\n      <th>oxygentherapy</th>\n      <th>extubated</th>\n      <th>selfextubated</th>\n    </tr>\n  </thead>\n  <tbody>\n    <tr>\n      <th>0</th>\n      <td>189514</td>\n      <td>200,006.0</td>\n      <td>2159-09-03 13:00:00</td>\n      <td>1</td>\n      <td>0</td>\n      <td>0</td>\n      <td>0</td>\n    </tr>\n    <tr>\n      <th>1</th>\n      <td>189514</td>\n      <td>200,006.0</td>\n      <td>2159-09-03 16:50:00</td>\n      <td>1</td>\n      <td>0</td>\n      <td>0</td>\n      <td>0</td>\n    </tr>\n    <tr>\n      <th>2</th>\n      <td>189514</td>\n      <td>200,006.0</td>\n      <td>2159-09-03 20:00:00</td>\n      <td>1</td>\n      <td>0</td>\n      <td>0</td>\n      <td>0</td>\n    </tr>\n  </tbody>\n</table>\n</div>"
     },
     "metadata": {},
     "execution_count": 19
    }
   ],
   "source": [
    "df.head(3)"
   ]
  },
  {
   "cell_type": "code",
   "execution_count": 20,
   "metadata": {},
   "outputs": [
    {
     "output_type": "stream",
     "name": "stdout",
     "text": [
      "<class 'pandas.core.frame.DataFrame'>\nRangeIndex: 592571 entries, 0 to 592570\nData columns (total 7 columns):\nhadm_id          592571 non-null int64\nicustay_id       592571 non-null float64\ncharttime        592571 non-null datetime64[ns]\nmechvent         592571 non-null int64\noxygentherapy    592571 non-null int64\nextubated        592571 non-null int64\nselfextubated    592571 non-null int64\ndtypes: datetime64[ns](1), float64(1), int64(5)\nmemory usage: 31.6 MB\n"
     ]
    }
   ],
   "source": [
    "df.info()"
   ]
  },
  {
   "cell_type": "markdown",
   "metadata": {},
   "source": [
    "This dataframe contains all entries from the table chartevents of the selected hadm_id's. We have to find the timestamp of the extubations and we have to check if the first extubation is succesfull."
   ]
  },
  {
   "cell_type": "markdown",
   "metadata": {},
   "source": [
    "## Getting the timestamp"
   ]
  },
  {
   "cell_type": "markdown",
   "metadata": {},
   "source": [
    "Checking the exturbations"
   ]
  },
  {
   "cell_type": "code",
   "execution_count": 8,
   "metadata": {
    "scrolled": true
   },
   "outputs": [],
   "source": [
    "df_count_ex = df.groupby('icustay_id').extubated.sum()"
   ]
  },
  {
   "cell_type": "code",
   "execution_count": 9,
   "metadata": {},
   "outputs": [
    {
     "output_type": "execute_result",
     "data": {
      "text/plain": [
       "icustay_id\n",
       "200,006.0    0\n",
       "200,059.0    0\n",
       "200,063.0    4\n",
       "200,065.0    1\n",
       "200,077.0    0\n",
       "Name: extubated, dtype: int64"
      ]
     },
     "metadata": {},
     "execution_count": 9
    }
   ],
   "source": [
    "df_count_ex.head()"
   ]
  },
  {
   "cell_type": "code",
   "execution_count": 10,
   "metadata": {},
   "outputs": [
    {
     "output_type": "execute_result",
     "data": {
      "text/plain": [
       "(4960, 7)"
      ]
     },
     "metadata": {},
     "execution_count": 10
    }
   ],
   "source": [
    "df[(df.extubated == 1)].shape"
   ]
  },
  {
   "cell_type": "code",
   "execution_count": 24,
   "metadata": {},
   "outputs": [
    {
     "output_type": "display_data",
     "data": {
      "text/plain": "<Figure size 720x504 with 1 Axes>",
      "image/svg+xml": "<?xml version=\"1.0\" encoding=\"utf-8\" standalone=\"no\"?>\n<!DOCTYPE svg PUBLIC \"-//W3C//DTD SVG 1.1//EN\"\n  \"http://www.w3.org/Graphics/SVG/1.1/DTD/svg11.dtd\">\n<!-- Created with matplotlib (https://matplotlib.org/) -->\n<svg height=\"440.394375pt\" version=\"1.1\" viewBox=\"0 0 618.528125 440.394375\" width=\"618.528125pt\" xmlns=\"http://www.w3.org/2000/svg\" xmlns:xlink=\"http://www.w3.org/1999/xlink\">\n <metadata>\n  <rdf:RDF xmlns:cc=\"http://creativecommons.org/ns#\" xmlns:dc=\"http://purl.org/dc/elements/1.1/\" xmlns:rdf=\"http://www.w3.org/1999/02/22-rdf-syntax-ns#\">\n   <cc:Work>\n    <dc:type rdf:resource=\"http://purl.org/dc/dcmitype/StillImage\"/>\n    <dc:date>2020-11-23T13:11:22.165826</dc:date>\n    <dc:format>image/svg+xml</dc:format>\n    <dc:creator>\n     <cc:Agent>\n      <dc:title>Matplotlib v3.3.1, https://matplotlib.org/</dc:title>\n     </cc:Agent>\n    </dc:creator>\n   </cc:Work>\n  </rdf:RDF>\n </metadata>\n <defs>\n  <style type=\"text/css\">*{stroke-linecap:butt;stroke-linejoin:round;}</style>\n </defs>\n <g id=\"figure_1\">\n  <g id=\"patch_1\">\n   <path d=\"M 0 440.394375 \nL 618.528125 440.394375 \nL 618.528125 0 \nL 0 0 \nz\n\" style=\"fill:none;\"/>\n  </g>\n  <g id=\"axes_1\">\n   <g id=\"patch_2\">\n    <path d=\"M 53.328125 402.838125 \nL 611.328125 402.838125 \nL 611.328125 22.318125 \nL 53.328125 22.318125 \nz\n\" style=\"fill:#ffffff;\"/>\n   </g>\n   <g id=\"patch_3\">\n    <path clip-path=\"url(#p1d3ba3d718)\" d=\"M 78.691761 402.838125 \nL 129.419034 402.838125 \nL 129.419034 46.223901 \nL 78.691761 46.223901 \nz\n\" style=\"fill:#1f77b4;\"/>\n   </g>\n   <g id=\"patch_4\">\n    <path clip-path=\"url(#p1d3ba3d718)\" d=\"M 129.419034 402.838125 \nL 180.146307 402.838125 \nL 180.146307 402.838125 \nL 129.419034 402.838125 \nz\n\" style=\"fill:#1f77b4;\"/>\n   </g>\n   <g id=\"patch_5\">\n    <path clip-path=\"url(#p1d3ba3d718)\" d=\"M 180.146307 402.838125 \nL 230.87358 402.838125 \nL 230.87358 40.438125 \nL 180.146307 40.438125 \nz\n\" style=\"fill:#1f77b4;\"/>\n   </g>\n   <g id=\"patch_6\">\n    <path clip-path=\"url(#p1d3ba3d718)\" d=\"M 230.87358 402.838125 \nL 281.600852 402.838125 \nL 281.600852 402.838125 \nL 230.87358 402.838125 \nz\n\" style=\"fill:#1f77b4;\"/>\n   </g>\n   <g id=\"patch_7\">\n    <path clip-path=\"url(#p1d3ba3d718)\" d=\"M 281.600852 402.838125 \nL 332.328125 402.838125 \nL 332.328125 345.085556 \nL 281.600852 345.085556 \nz\n\" style=\"fill:#1f77b4;\"/>\n   </g>\n   <g id=\"patch_8\">\n    <path clip-path=\"url(#p1d3ba3d718)\" d=\"M 332.328125 402.838125 \nL 383.055398 402.838125 \nL 383.055398 402.838125 \nL 332.328125 402.838125 \nz\n\" style=\"fill:#1f77b4;\"/>\n   </g>\n   <g id=\"patch_9\">\n    <path clip-path=\"url(#p1d3ba3d718)\" d=\"M 383.055398 402.838125 \nL 433.78267 402.838125 \nL 433.78267 391.792552 \nL 383.055398 391.792552 \nz\n\" style=\"fill:#1f77b4;\"/>\n   </g>\n   <g id=\"patch_10\">\n    <path clip-path=\"url(#p1d3ba3d718)\" d=\"M 433.78267 402.838125 \nL 484.509943 402.838125 \nL 484.509943 402.838125 \nL 433.78267 402.838125 \nz\n\" style=\"fill:#1f77b4;\"/>\n   </g>\n   <g id=\"patch_11\">\n    <path clip-path=\"url(#p1d3ba3d718)\" d=\"M 484.509943 402.838125 \nL 535.237216 402.838125 \nL 535.237216 400.944598 \nL 484.509943 400.944598 \nz\n\" style=\"fill:#1f77b4;\"/>\n   </g>\n   <g id=\"patch_12\">\n    <path clip-path=\"url(#p1d3ba3d718)\" d=\"M 535.237216 402.838125 \nL 585.964489 402.838125 \nL 585.964489 402.206949 \nL 535.237216 402.206949 \nz\n\" style=\"fill:#1f77b4;\"/>\n   </g>\n   <g id=\"matplotlib.axis_1\">\n    <g id=\"xtick_1\">\n     <g id=\"line2d_1\">\n      <defs>\n       <path d=\"M 0 0 \nL 0 3.5 \n\" id=\"mc8009360d4\" style=\"stroke:#000000;stroke-width:0.8;\"/>\n      </defs>\n      <g>\n       <use style=\"stroke:#000000;stroke-width:0.8;\" x=\"78.691761\" xlink:href=\"#mc8009360d4\" y=\"402.838125\"/>\n      </g>\n     </g>\n     <g id=\"text_1\">\n      <!-- 0 -->\n      <g transform=\"translate(75.510511 417.436562)scale(0.1 -0.1)\">\n       <defs>\n        <path d=\"M 31.78125 66.40625 \nQ 24.171875 66.40625 20.328125 58.90625 \nQ 16.5 51.421875 16.5 36.375 \nQ 16.5 21.390625 20.328125 13.890625 \nQ 24.171875 6.390625 31.78125 6.390625 \nQ 39.453125 6.390625 43.28125 13.890625 \nQ 47.125 21.390625 47.125 36.375 \nQ 47.125 51.421875 43.28125 58.90625 \nQ 39.453125 66.40625 31.78125 66.40625 \nz\nM 31.78125 74.21875 \nQ 44.046875 74.21875 50.515625 64.515625 \nQ 56.984375 54.828125 56.984375 36.375 \nQ 56.984375 17.96875 50.515625 8.265625 \nQ 44.046875 -1.421875 31.78125 -1.421875 \nQ 19.53125 -1.421875 13.0625 8.265625 \nQ 6.59375 17.96875 6.59375 36.375 \nQ 6.59375 54.828125 13.0625 64.515625 \nQ 19.53125 74.21875 31.78125 74.21875 \nz\n\" id=\"DejaVuSans-48\"/>\n       </defs>\n       <use xlink:href=\"#DejaVuSans-48\"/>\n      </g>\n     </g>\n    </g>\n    <g id=\"xtick_2\">\n     <g id=\"line2d_2\">\n      <g>\n       <use style=\"stroke:#000000;stroke-width:0.8;\" x=\"180.146307\" xlink:href=\"#mc8009360d4\" y=\"402.838125\"/>\n      </g>\n     </g>\n     <g id=\"text_2\">\n      <!-- 1 -->\n      <g transform=\"translate(176.965057 417.436562)scale(0.1 -0.1)\">\n       <defs>\n        <path d=\"M 12.40625 8.296875 \nL 28.515625 8.296875 \nL 28.515625 63.921875 \nL 10.984375 60.40625 \nL 10.984375 69.390625 \nL 28.421875 72.90625 \nL 38.28125 72.90625 \nL 38.28125 8.296875 \nL 54.390625 8.296875 \nL 54.390625 0 \nL 12.40625 0 \nz\n\" id=\"DejaVuSans-49\"/>\n       </defs>\n       <use xlink:href=\"#DejaVuSans-49\"/>\n      </g>\n     </g>\n    </g>\n    <g id=\"xtick_3\">\n     <g id=\"line2d_3\">\n      <g>\n       <use style=\"stroke:#000000;stroke-width:0.8;\" x=\"281.600852\" xlink:href=\"#mc8009360d4\" y=\"402.838125\"/>\n      </g>\n     </g>\n     <g id=\"text_3\">\n      <!-- 2 -->\n      <g transform=\"translate(278.419602 417.436562)scale(0.1 -0.1)\">\n       <defs>\n        <path d=\"M 19.1875 8.296875 \nL 53.609375 8.296875 \nL 53.609375 0 \nL 7.328125 0 \nL 7.328125 8.296875 \nQ 12.9375 14.109375 22.625 23.890625 \nQ 32.328125 33.6875 34.8125 36.53125 \nQ 39.546875 41.84375 41.421875 45.53125 \nQ 43.3125 49.21875 43.3125 52.78125 \nQ 43.3125 58.59375 39.234375 62.25 \nQ 35.15625 65.921875 28.609375 65.921875 \nQ 23.96875 65.921875 18.8125 64.3125 \nQ 13.671875 62.703125 7.8125 59.421875 \nL 7.8125 69.390625 \nQ 13.765625 71.78125 18.9375 73 \nQ 24.125 74.21875 28.421875 74.21875 \nQ 39.75 74.21875 46.484375 68.546875 \nQ 53.21875 62.890625 53.21875 53.421875 \nQ 53.21875 48.921875 51.53125 44.890625 \nQ 49.859375 40.875 45.40625 35.40625 \nQ 44.1875 33.984375 37.640625 27.21875 \nQ 31.109375 20.453125 19.1875 8.296875 \nz\n\" id=\"DejaVuSans-50\"/>\n       </defs>\n       <use xlink:href=\"#DejaVuSans-50\"/>\n      </g>\n     </g>\n    </g>\n    <g id=\"xtick_4\">\n     <g id=\"line2d_4\">\n      <g>\n       <use style=\"stroke:#000000;stroke-width:0.8;\" x=\"383.055398\" xlink:href=\"#mc8009360d4\" y=\"402.838125\"/>\n      </g>\n     </g>\n     <g id=\"text_4\">\n      <!-- 3 -->\n      <g transform=\"translate(379.874148 417.436562)scale(0.1 -0.1)\">\n       <defs>\n        <path d=\"M 40.578125 39.3125 \nQ 47.65625 37.796875 51.625 33 \nQ 55.609375 28.21875 55.609375 21.1875 \nQ 55.609375 10.40625 48.1875 4.484375 \nQ 40.765625 -1.421875 27.09375 -1.421875 \nQ 22.515625 -1.421875 17.65625 -0.515625 \nQ 12.796875 0.390625 7.625 2.203125 \nL 7.625 11.71875 \nQ 11.71875 9.328125 16.59375 8.109375 \nQ 21.484375 6.890625 26.8125 6.890625 \nQ 36.078125 6.890625 40.9375 10.546875 \nQ 45.796875 14.203125 45.796875 21.1875 \nQ 45.796875 27.640625 41.28125 31.265625 \nQ 36.765625 34.90625 28.71875 34.90625 \nL 20.21875 34.90625 \nL 20.21875 43.015625 \nL 29.109375 43.015625 \nQ 36.375 43.015625 40.234375 45.921875 \nQ 44.09375 48.828125 44.09375 54.296875 \nQ 44.09375 59.90625 40.109375 62.90625 \nQ 36.140625 65.921875 28.71875 65.921875 \nQ 24.65625 65.921875 20.015625 65.03125 \nQ 15.375 64.15625 9.8125 62.3125 \nL 9.8125 71.09375 \nQ 15.4375 72.65625 20.34375 73.4375 \nQ 25.25 74.21875 29.59375 74.21875 \nQ 40.828125 74.21875 47.359375 69.109375 \nQ 53.90625 64.015625 53.90625 55.328125 \nQ 53.90625 49.265625 50.4375 45.09375 \nQ 46.96875 40.921875 40.578125 39.3125 \nz\n\" id=\"DejaVuSans-51\"/>\n       </defs>\n       <use xlink:href=\"#DejaVuSans-51\"/>\n      </g>\n     </g>\n    </g>\n    <g id=\"xtick_5\">\n     <g id=\"line2d_5\">\n      <g>\n       <use style=\"stroke:#000000;stroke-width:0.8;\" x=\"484.509943\" xlink:href=\"#mc8009360d4\" y=\"402.838125\"/>\n      </g>\n     </g>\n     <g id=\"text_5\">\n      <!-- 4 -->\n      <g transform=\"translate(481.328693 417.436562)scale(0.1 -0.1)\">\n       <defs>\n        <path d=\"M 37.796875 64.3125 \nL 12.890625 25.390625 \nL 37.796875 25.390625 \nz\nM 35.203125 72.90625 \nL 47.609375 72.90625 \nL 47.609375 25.390625 \nL 58.015625 25.390625 \nL 58.015625 17.1875 \nL 47.609375 17.1875 \nL 47.609375 0 \nL 37.796875 0 \nL 37.796875 17.1875 \nL 4.890625 17.1875 \nL 4.890625 26.703125 \nz\n\" id=\"DejaVuSans-52\"/>\n       </defs>\n       <use xlink:href=\"#DejaVuSans-52\"/>\n      </g>\n     </g>\n    </g>\n    <g id=\"xtick_6\">\n     <g id=\"line2d_6\">\n      <g>\n       <use style=\"stroke:#000000;stroke-width:0.8;\" x=\"585.964489\" xlink:href=\"#mc8009360d4\" y=\"402.838125\"/>\n      </g>\n     </g>\n     <g id=\"text_6\">\n      <!-- 5 -->\n      <g transform=\"translate(582.783239 417.436562)scale(0.1 -0.1)\">\n       <defs>\n        <path d=\"M 10.796875 72.90625 \nL 49.515625 72.90625 \nL 49.515625 64.59375 \nL 19.828125 64.59375 \nL 19.828125 46.734375 \nQ 21.96875 47.46875 24.109375 47.828125 \nQ 26.265625 48.1875 28.421875 48.1875 \nQ 40.625 48.1875 47.75 41.5 \nQ 54.890625 34.8125 54.890625 23.390625 \nQ 54.890625 11.625 47.5625 5.09375 \nQ 40.234375 -1.421875 26.90625 -1.421875 \nQ 22.3125 -1.421875 17.546875 -0.640625 \nQ 12.796875 0.140625 7.71875 1.703125 \nL 7.71875 11.625 \nQ 12.109375 9.234375 16.796875 8.0625 \nQ 21.484375 6.890625 26.703125 6.890625 \nQ 35.15625 6.890625 40.078125 11.328125 \nQ 45.015625 15.765625 45.015625 23.390625 \nQ 45.015625 31 40.078125 35.4375 \nQ 35.15625 39.890625 26.703125 39.890625 \nQ 22.75 39.890625 18.8125 39.015625 \nQ 14.890625 38.140625 10.796875 36.28125 \nz\n\" id=\"DejaVuSans-53\"/>\n       </defs>\n       <use xlink:href=\"#DejaVuSans-53\"/>\n      </g>\n     </g>\n    </g>\n    <g id=\"text_7\">\n     <!-- Extubations -->\n     <g transform=\"translate(302.660156 431.114687)scale(0.1 -0.1)\">\n      <defs>\n       <path d=\"M 9.8125 72.90625 \nL 55.90625 72.90625 \nL 55.90625 64.59375 \nL 19.671875 64.59375 \nL 19.671875 43.015625 \nL 54.390625 43.015625 \nL 54.390625 34.71875 \nL 19.671875 34.71875 \nL 19.671875 8.296875 \nL 56.78125 8.296875 \nL 56.78125 0 \nL 9.8125 0 \nz\n\" id=\"DejaVuSans-69\"/>\n       <path d=\"M 54.890625 54.6875 \nL 35.109375 28.078125 \nL 55.90625 0 \nL 45.3125 0 \nL 29.390625 21.484375 \nL 13.484375 0 \nL 2.875 0 \nL 24.125 28.609375 \nL 4.6875 54.6875 \nL 15.28125 54.6875 \nL 29.78125 35.203125 \nL 44.28125 54.6875 \nz\n\" id=\"DejaVuSans-120\"/>\n       <path d=\"M 18.3125 70.21875 \nL 18.3125 54.6875 \nL 36.8125 54.6875 \nL 36.8125 47.703125 \nL 18.3125 47.703125 \nL 18.3125 18.015625 \nQ 18.3125 11.328125 20.140625 9.421875 \nQ 21.96875 7.515625 27.59375 7.515625 \nL 36.8125 7.515625 \nL 36.8125 0 \nL 27.59375 0 \nQ 17.1875 0 13.234375 3.875 \nQ 9.28125 7.765625 9.28125 18.015625 \nL 9.28125 47.703125 \nL 2.6875 47.703125 \nL 2.6875 54.6875 \nL 9.28125 54.6875 \nL 9.28125 70.21875 \nz\n\" id=\"DejaVuSans-116\"/>\n       <path d=\"M 8.5 21.578125 \nL 8.5 54.6875 \nL 17.484375 54.6875 \nL 17.484375 21.921875 \nQ 17.484375 14.15625 20.5 10.265625 \nQ 23.53125 6.390625 29.59375 6.390625 \nQ 36.859375 6.390625 41.078125 11.03125 \nQ 45.3125 15.671875 45.3125 23.6875 \nL 45.3125 54.6875 \nL 54.296875 54.6875 \nL 54.296875 0 \nL 45.3125 0 \nL 45.3125 8.40625 \nQ 42.046875 3.421875 37.71875 1 \nQ 33.40625 -1.421875 27.6875 -1.421875 \nQ 18.265625 -1.421875 13.375 4.4375 \nQ 8.5 10.296875 8.5 21.578125 \nz\nM 31.109375 56 \nz\n\" id=\"DejaVuSans-117\"/>\n       <path d=\"M 48.6875 27.296875 \nQ 48.6875 37.203125 44.609375 42.84375 \nQ 40.53125 48.484375 33.40625 48.484375 \nQ 26.265625 48.484375 22.1875 42.84375 \nQ 18.109375 37.203125 18.109375 27.296875 \nQ 18.109375 17.390625 22.1875 11.75 \nQ 26.265625 6.109375 33.40625 6.109375 \nQ 40.53125 6.109375 44.609375 11.75 \nQ 48.6875 17.390625 48.6875 27.296875 \nz\nM 18.109375 46.390625 \nQ 20.953125 51.265625 25.265625 53.625 \nQ 29.59375 56 35.59375 56 \nQ 45.5625 56 51.78125 48.09375 \nQ 58.015625 40.1875 58.015625 27.296875 \nQ 58.015625 14.40625 51.78125 6.484375 \nQ 45.5625 -1.421875 35.59375 -1.421875 \nQ 29.59375 -1.421875 25.265625 0.953125 \nQ 20.953125 3.328125 18.109375 8.203125 \nL 18.109375 0 \nL 9.078125 0 \nL 9.078125 75.984375 \nL 18.109375 75.984375 \nz\n\" id=\"DejaVuSans-98\"/>\n       <path d=\"M 34.28125 27.484375 \nQ 23.390625 27.484375 19.1875 25 \nQ 14.984375 22.515625 14.984375 16.5 \nQ 14.984375 11.71875 18.140625 8.90625 \nQ 21.296875 6.109375 26.703125 6.109375 \nQ 34.1875 6.109375 38.703125 11.40625 \nQ 43.21875 16.703125 43.21875 25.484375 \nL 43.21875 27.484375 \nz\nM 52.203125 31.203125 \nL 52.203125 0 \nL 43.21875 0 \nL 43.21875 8.296875 \nQ 40.140625 3.328125 35.546875 0.953125 \nQ 30.953125 -1.421875 24.3125 -1.421875 \nQ 15.921875 -1.421875 10.953125 3.296875 \nQ 6 8.015625 6 15.921875 \nQ 6 25.140625 12.171875 29.828125 \nQ 18.359375 34.515625 30.609375 34.515625 \nL 43.21875 34.515625 \nL 43.21875 35.40625 \nQ 43.21875 41.609375 39.140625 45 \nQ 35.0625 48.390625 27.6875 48.390625 \nQ 23 48.390625 18.546875 47.265625 \nQ 14.109375 46.140625 10.015625 43.890625 \nL 10.015625 52.203125 \nQ 14.9375 54.109375 19.578125 55.046875 \nQ 24.21875 56 28.609375 56 \nQ 40.484375 56 46.34375 49.84375 \nQ 52.203125 43.703125 52.203125 31.203125 \nz\n\" id=\"DejaVuSans-97\"/>\n       <path d=\"M 9.421875 54.6875 \nL 18.40625 54.6875 \nL 18.40625 0 \nL 9.421875 0 \nz\nM 9.421875 75.984375 \nL 18.40625 75.984375 \nL 18.40625 64.59375 \nL 9.421875 64.59375 \nz\n\" id=\"DejaVuSans-105\"/>\n       <path d=\"M 30.609375 48.390625 \nQ 23.390625 48.390625 19.1875 42.75 \nQ 14.984375 37.109375 14.984375 27.296875 \nQ 14.984375 17.484375 19.15625 11.84375 \nQ 23.34375 6.203125 30.609375 6.203125 \nQ 37.796875 6.203125 41.984375 11.859375 \nQ 46.1875 17.53125 46.1875 27.296875 \nQ 46.1875 37.015625 41.984375 42.703125 \nQ 37.796875 48.390625 30.609375 48.390625 \nz\nM 30.609375 56 \nQ 42.328125 56 49.015625 48.375 \nQ 55.71875 40.765625 55.71875 27.296875 \nQ 55.71875 13.875 49.015625 6.21875 \nQ 42.328125 -1.421875 30.609375 -1.421875 \nQ 18.84375 -1.421875 12.171875 6.21875 \nQ 5.515625 13.875 5.515625 27.296875 \nQ 5.515625 40.765625 12.171875 48.375 \nQ 18.84375 56 30.609375 56 \nz\n\" id=\"DejaVuSans-111\"/>\n       <path d=\"M 54.890625 33.015625 \nL 54.890625 0 \nL 45.90625 0 \nL 45.90625 32.71875 \nQ 45.90625 40.484375 42.875 44.328125 \nQ 39.84375 48.1875 33.796875 48.1875 \nQ 26.515625 48.1875 22.3125 43.546875 \nQ 18.109375 38.921875 18.109375 30.90625 \nL 18.109375 0 \nL 9.078125 0 \nL 9.078125 54.6875 \nL 18.109375 54.6875 \nL 18.109375 46.1875 \nQ 21.34375 51.125 25.703125 53.5625 \nQ 30.078125 56 35.796875 56 \nQ 45.21875 56 50.046875 50.171875 \nQ 54.890625 44.34375 54.890625 33.015625 \nz\n\" id=\"DejaVuSans-110\"/>\n       <path d=\"M 44.28125 53.078125 \nL 44.28125 44.578125 \nQ 40.484375 46.53125 36.375 47.5 \nQ 32.28125 48.484375 27.875 48.484375 \nQ 21.1875 48.484375 17.84375 46.4375 \nQ 14.5 44.390625 14.5 40.28125 \nQ 14.5 37.15625 16.890625 35.375 \nQ 19.28125 33.59375 26.515625 31.984375 \nL 29.59375 31.296875 \nQ 39.15625 29.25 43.1875 25.515625 \nQ 47.21875 21.78125 47.21875 15.09375 \nQ 47.21875 7.46875 41.1875 3.015625 \nQ 35.15625 -1.421875 24.609375 -1.421875 \nQ 20.21875 -1.421875 15.453125 -0.5625 \nQ 10.6875 0.296875 5.421875 2 \nL 5.421875 11.28125 \nQ 10.40625 8.6875 15.234375 7.390625 \nQ 20.0625 6.109375 24.8125 6.109375 \nQ 31.15625 6.109375 34.5625 8.28125 \nQ 37.984375 10.453125 37.984375 14.40625 \nQ 37.984375 18.0625 35.515625 20.015625 \nQ 33.0625 21.96875 24.703125 23.78125 \nL 21.578125 24.515625 \nQ 13.234375 26.265625 9.515625 29.90625 \nQ 5.8125 33.546875 5.8125 39.890625 \nQ 5.8125 47.609375 11.28125 51.796875 \nQ 16.75 56 26.8125 56 \nQ 31.78125 56 36.171875 55.265625 \nQ 40.578125 54.546875 44.28125 53.078125 \nz\n\" id=\"DejaVuSans-115\"/>\n      </defs>\n      <use xlink:href=\"#DejaVuSans-69\"/>\n      <use x=\"63.183594\" xlink:href=\"#DejaVuSans-120\"/>\n      <use x=\"122.363281\" xlink:href=\"#DejaVuSans-116\"/>\n      <use x=\"161.572266\" xlink:href=\"#DejaVuSans-117\"/>\n      <use x=\"224.951172\" xlink:href=\"#DejaVuSans-98\"/>\n      <use x=\"288.427734\" xlink:href=\"#DejaVuSans-97\"/>\n      <use x=\"349.707031\" xlink:href=\"#DejaVuSans-116\"/>\n      <use x=\"388.916016\" xlink:href=\"#DejaVuSans-105\"/>\n      <use x=\"416.699219\" xlink:href=\"#DejaVuSans-111\"/>\n      <use x=\"477.880859\" xlink:href=\"#DejaVuSans-110\"/>\n      <use x=\"541.259766\" xlink:href=\"#DejaVuSans-115\"/>\n     </g>\n    </g>\n   </g>\n   <g id=\"matplotlib.axis_2\">\n    <g id=\"ytick_1\">\n     <g id=\"line2d_7\">\n      <defs>\n       <path d=\"M 0 0 \nL -3.5 0 \n\" id=\"m7f475870c9\" style=\"stroke:#000000;stroke-width:0.8;\"/>\n      </defs>\n      <g>\n       <use style=\"stroke:#000000;stroke-width:0.8;\" x=\"53.328125\" xlink:href=\"#m7f475870c9\" y=\"402.838125\"/>\n      </g>\n     </g>\n     <g id=\"text_8\">\n      <!-- 0 -->\n      <g transform=\"translate(39.965625 406.637344)scale(0.1 -0.1)\">\n       <use xlink:href=\"#DejaVuSans-48\"/>\n      </g>\n     </g>\n    </g>\n    <g id=\"ytick_2\">\n     <g id=\"line2d_8\">\n      <g>\n       <use style=\"stroke:#000000;stroke-width:0.8;\" x=\"53.328125\" xlink:href=\"#m7f475870c9\" y=\"350.240157\"/>\n      </g>\n     </g>\n     <g id=\"text_9\">\n      <!-- 500 -->\n      <g transform=\"translate(27.240625 354.039376)scale(0.1 -0.1)\">\n       <use xlink:href=\"#DejaVuSans-53\"/>\n       <use x=\"63.623047\" xlink:href=\"#DejaVuSans-48\"/>\n       <use x=\"127.246094\" xlink:href=\"#DejaVuSans-48\"/>\n      </g>\n     </g>\n    </g>\n    <g id=\"ytick_3\">\n     <g id=\"line2d_9\">\n      <g>\n       <use style=\"stroke:#000000;stroke-width:0.8;\" x=\"53.328125\" xlink:href=\"#m7f475870c9\" y=\"297.642189\"/>\n      </g>\n     </g>\n     <g id=\"text_10\">\n      <!-- 1000 -->\n      <g transform=\"translate(20.878125 301.441408)scale(0.1 -0.1)\">\n       <use xlink:href=\"#DejaVuSans-49\"/>\n       <use x=\"63.623047\" xlink:href=\"#DejaVuSans-48\"/>\n       <use x=\"127.246094\" xlink:href=\"#DejaVuSans-48\"/>\n       <use x=\"190.869141\" xlink:href=\"#DejaVuSans-48\"/>\n      </g>\n     </g>\n    </g>\n    <g id=\"ytick_4\">\n     <g id=\"line2d_10\">\n      <g>\n       <use style=\"stroke:#000000;stroke-width:0.8;\" x=\"53.328125\" xlink:href=\"#m7f475870c9\" y=\"245.044221\"/>\n      </g>\n     </g>\n     <g id=\"text_11\">\n      <!-- 1500 -->\n      <g transform=\"translate(20.878125 248.84344)scale(0.1 -0.1)\">\n       <use xlink:href=\"#DejaVuSans-49\"/>\n       <use x=\"63.623047\" xlink:href=\"#DejaVuSans-53\"/>\n       <use x=\"127.246094\" xlink:href=\"#DejaVuSans-48\"/>\n       <use x=\"190.869141\" xlink:href=\"#DejaVuSans-48\"/>\n      </g>\n     </g>\n    </g>\n    <g id=\"ytick_5\">\n     <g id=\"line2d_11\">\n      <g>\n       <use style=\"stroke:#000000;stroke-width:0.8;\" x=\"53.328125\" xlink:href=\"#m7f475870c9\" y=\"192.446253\"/>\n      </g>\n     </g>\n     <g id=\"text_12\">\n      <!-- 2000 -->\n      <g transform=\"translate(20.878125 196.245471)scale(0.1 -0.1)\">\n       <use xlink:href=\"#DejaVuSans-50\"/>\n       <use x=\"63.623047\" xlink:href=\"#DejaVuSans-48\"/>\n       <use x=\"127.246094\" xlink:href=\"#DejaVuSans-48\"/>\n       <use x=\"190.869141\" xlink:href=\"#DejaVuSans-48\"/>\n      </g>\n     </g>\n    </g>\n    <g id=\"ytick_6\">\n     <g id=\"line2d_12\">\n      <g>\n       <use style=\"stroke:#000000;stroke-width:0.8;\" x=\"53.328125\" xlink:href=\"#m7f475870c9\" y=\"139.848285\"/>\n      </g>\n     </g>\n     <g id=\"text_13\">\n      <!-- 2500 -->\n      <g transform=\"translate(20.878125 143.647503)scale(0.1 -0.1)\">\n       <use xlink:href=\"#DejaVuSans-50\"/>\n       <use x=\"63.623047\" xlink:href=\"#DejaVuSans-53\"/>\n       <use x=\"127.246094\" xlink:href=\"#DejaVuSans-48\"/>\n       <use x=\"190.869141\" xlink:href=\"#DejaVuSans-48\"/>\n      </g>\n     </g>\n    </g>\n    <g id=\"ytick_7\">\n     <g id=\"line2d_13\">\n      <g>\n       <use style=\"stroke:#000000;stroke-width:0.8;\" x=\"53.328125\" xlink:href=\"#m7f475870c9\" y=\"87.250317\"/>\n      </g>\n     </g>\n     <g id=\"text_14\">\n      <!-- 3000 -->\n      <g transform=\"translate(20.878125 91.049535)scale(0.1 -0.1)\">\n       <use xlink:href=\"#DejaVuSans-51\"/>\n       <use x=\"63.623047\" xlink:href=\"#DejaVuSans-48\"/>\n       <use x=\"127.246094\" xlink:href=\"#DejaVuSans-48\"/>\n       <use x=\"190.869141\" xlink:href=\"#DejaVuSans-48\"/>\n      </g>\n     </g>\n    </g>\n    <g id=\"ytick_8\">\n     <g id=\"line2d_14\">\n      <g>\n       <use style=\"stroke:#000000;stroke-width:0.8;\" x=\"53.328125\" xlink:href=\"#m7f475870c9\" y=\"34.652349\"/>\n      </g>\n     </g>\n     <g id=\"text_15\">\n      <!-- 3500 -->\n      <g transform=\"translate(20.878125 38.451567)scale(0.1 -0.1)\">\n       <use xlink:href=\"#DejaVuSans-51\"/>\n       <use x=\"63.623047\" xlink:href=\"#DejaVuSans-53\"/>\n       <use x=\"127.246094\" xlink:href=\"#DejaVuSans-48\"/>\n       <use x=\"190.869141\" xlink:href=\"#DejaVuSans-48\"/>\n      </g>\n     </g>\n    </g>\n    <g id=\"text_16\">\n     <!-- Amount of ICU-stays -->\n     <g transform=\"translate(14.798438 263.846094)rotate(-90)scale(0.1 -0.1)\">\n      <defs>\n       <path d=\"M 34.1875 63.1875 \nL 20.796875 26.90625 \nL 47.609375 26.90625 \nz\nM 28.609375 72.90625 \nL 39.796875 72.90625 \nL 67.578125 0 \nL 57.328125 0 \nL 50.6875 18.703125 \nL 17.828125 18.703125 \nL 11.1875 0 \nL 0.78125 0 \nz\n\" id=\"DejaVuSans-65\"/>\n       <path d=\"M 52 44.1875 \nQ 55.375 50.25 60.0625 53.125 \nQ 64.75 56 71.09375 56 \nQ 79.640625 56 84.28125 50.015625 \nQ 88.921875 44.046875 88.921875 33.015625 \nL 88.921875 0 \nL 79.890625 0 \nL 79.890625 32.71875 \nQ 79.890625 40.578125 77.09375 44.375 \nQ 74.3125 48.1875 68.609375 48.1875 \nQ 61.625 48.1875 57.5625 43.546875 \nQ 53.515625 38.921875 53.515625 30.90625 \nL 53.515625 0 \nL 44.484375 0 \nL 44.484375 32.71875 \nQ 44.484375 40.625 41.703125 44.40625 \nQ 38.921875 48.1875 33.109375 48.1875 \nQ 26.21875 48.1875 22.15625 43.53125 \nQ 18.109375 38.875 18.109375 30.90625 \nL 18.109375 0 \nL 9.078125 0 \nL 9.078125 54.6875 \nL 18.109375 54.6875 \nL 18.109375 46.1875 \nQ 21.1875 51.21875 25.484375 53.609375 \nQ 29.78125 56 35.6875 56 \nQ 41.65625 56 45.828125 52.96875 \nQ 50 49.953125 52 44.1875 \nz\n\" id=\"DejaVuSans-109\"/>\n       <path id=\"DejaVuSans-32\"/>\n       <path d=\"M 37.109375 75.984375 \nL 37.109375 68.5 \nL 28.515625 68.5 \nQ 23.6875 68.5 21.796875 66.546875 \nQ 19.921875 64.59375 19.921875 59.515625 \nL 19.921875 54.6875 \nL 34.71875 54.6875 \nL 34.71875 47.703125 \nL 19.921875 47.703125 \nL 19.921875 0 \nL 10.890625 0 \nL 10.890625 47.703125 \nL 2.296875 47.703125 \nL 2.296875 54.6875 \nL 10.890625 54.6875 \nL 10.890625 58.5 \nQ 10.890625 67.625 15.140625 71.796875 \nQ 19.390625 75.984375 28.609375 75.984375 \nz\n\" id=\"DejaVuSans-102\"/>\n       <path d=\"M 9.8125 72.90625 \nL 19.671875 72.90625 \nL 19.671875 0 \nL 9.8125 0 \nz\n\" id=\"DejaVuSans-73\"/>\n       <path d=\"M 64.40625 67.28125 \nL 64.40625 56.890625 \nQ 59.421875 61.53125 53.78125 63.8125 \nQ 48.140625 66.109375 41.796875 66.109375 \nQ 29.296875 66.109375 22.65625 58.46875 \nQ 16.015625 50.828125 16.015625 36.375 \nQ 16.015625 21.96875 22.65625 14.328125 \nQ 29.296875 6.6875 41.796875 6.6875 \nQ 48.140625 6.6875 53.78125 8.984375 \nQ 59.421875 11.28125 64.40625 15.921875 \nL 64.40625 5.609375 \nQ 59.234375 2.09375 53.4375 0.328125 \nQ 47.65625 -1.421875 41.21875 -1.421875 \nQ 24.65625 -1.421875 15.125 8.703125 \nQ 5.609375 18.84375 5.609375 36.375 \nQ 5.609375 53.953125 15.125 64.078125 \nQ 24.65625 74.21875 41.21875 74.21875 \nQ 47.75 74.21875 53.53125 72.484375 \nQ 59.328125 70.75 64.40625 67.28125 \nz\n\" id=\"DejaVuSans-67\"/>\n       <path d=\"M 8.6875 72.90625 \nL 18.609375 72.90625 \nL 18.609375 28.609375 \nQ 18.609375 16.890625 22.84375 11.734375 \nQ 27.09375 6.59375 36.625 6.59375 \nQ 46.09375 6.59375 50.34375 11.734375 \nQ 54.59375 16.890625 54.59375 28.609375 \nL 54.59375 72.90625 \nL 64.5 72.90625 \nL 64.5 27.390625 \nQ 64.5 13.140625 57.4375 5.859375 \nQ 50.390625 -1.421875 36.625 -1.421875 \nQ 22.796875 -1.421875 15.734375 5.859375 \nQ 8.6875 13.140625 8.6875 27.390625 \nz\n\" id=\"DejaVuSans-85\"/>\n       <path d=\"M 4.890625 31.390625 \nL 31.203125 31.390625 \nL 31.203125 23.390625 \nL 4.890625 23.390625 \nz\n\" id=\"DejaVuSans-45\"/>\n       <path d=\"M 32.171875 -5.078125 \nQ 28.375 -14.84375 24.75 -17.8125 \nQ 21.140625 -20.796875 15.09375 -20.796875 \nL 7.90625 -20.796875 \nL 7.90625 -13.28125 \nL 13.1875 -13.28125 \nQ 16.890625 -13.28125 18.9375 -11.515625 \nQ 21 -9.765625 23.484375 -3.21875 \nL 25.09375 0.875 \nL 2.984375 54.6875 \nL 12.5 54.6875 \nL 29.59375 11.921875 \nL 46.6875 54.6875 \nL 56.203125 54.6875 \nz\n\" id=\"DejaVuSans-121\"/>\n      </defs>\n      <use xlink:href=\"#DejaVuSans-65\"/>\n      <use x=\"68.408203\" xlink:href=\"#DejaVuSans-109\"/>\n      <use x=\"165.820312\" xlink:href=\"#DejaVuSans-111\"/>\n      <use x=\"227.001953\" xlink:href=\"#DejaVuSans-117\"/>\n      <use x=\"290.380859\" xlink:href=\"#DejaVuSans-110\"/>\n      <use x=\"353.759766\" xlink:href=\"#DejaVuSans-116\"/>\n      <use x=\"392.96875\" xlink:href=\"#DejaVuSans-32\"/>\n      <use x=\"424.755859\" xlink:href=\"#DejaVuSans-111\"/>\n      <use x=\"485.9375\" xlink:href=\"#DejaVuSans-102\"/>\n      <use x=\"521.142578\" xlink:href=\"#DejaVuSans-32\"/>\n      <use x=\"552.929688\" xlink:href=\"#DejaVuSans-73\"/>\n      <use x=\"582.421875\" xlink:href=\"#DejaVuSans-67\"/>\n      <use x=\"652.246094\" xlink:href=\"#DejaVuSans-85\"/>\n      <use x=\"725.439453\" xlink:href=\"#DejaVuSans-45\"/>\n      <use x=\"761.523438\" xlink:href=\"#DejaVuSans-115\"/>\n      <use x=\"813.623047\" xlink:href=\"#DejaVuSans-116\"/>\n      <use x=\"852.832031\" xlink:href=\"#DejaVuSans-97\"/>\n      <use x=\"914.111328\" xlink:href=\"#DejaVuSans-121\"/>\n      <use x=\"973.291016\" xlink:href=\"#DejaVuSans-115\"/>\n     </g>\n    </g>\n   </g>\n   <g id=\"patch_13\">\n    <path d=\"M 53.328125 402.838125 \nL 53.328125 22.318125 \n\" style=\"fill:none;stroke:#000000;stroke-linecap:square;stroke-linejoin:miter;stroke-width:0.8;\"/>\n   </g>\n   <g id=\"patch_14\">\n    <path d=\"M 611.328125 402.838125 \nL 611.328125 22.318125 \n\" style=\"fill:none;stroke:#000000;stroke-linecap:square;stroke-linejoin:miter;stroke-width:0.8;\"/>\n   </g>\n   <g id=\"patch_15\">\n    <path d=\"M 53.328125 402.838125 \nL 611.328125 402.838125 \n\" style=\"fill:none;stroke:#000000;stroke-linecap:square;stroke-linejoin:miter;stroke-width:0.8;\"/>\n   </g>\n   <g id=\"patch_16\">\n    <path d=\"M 53.328125 22.318125 \nL 611.328125 22.318125 \n\" style=\"fill:none;stroke:#000000;stroke-linecap:square;stroke-linejoin:miter;stroke-width:0.8;\"/>\n   </g>\n   <g id=\"text_17\">\n    <!-- Histrogram of the extubations -->\n    <g transform=\"translate(242.12375 16.318125)scale(0.12 -0.12)\">\n     <defs>\n      <path d=\"M 9.8125 72.90625 \nL 19.671875 72.90625 \nL 19.671875 43.015625 \nL 55.515625 43.015625 \nL 55.515625 72.90625 \nL 65.375 72.90625 \nL 65.375 0 \nL 55.515625 0 \nL 55.515625 34.71875 \nL 19.671875 34.71875 \nL 19.671875 0 \nL 9.8125 0 \nz\n\" id=\"DejaVuSans-72\"/>\n      <path d=\"M 41.109375 46.296875 \nQ 39.59375 47.171875 37.8125 47.578125 \nQ 36.03125 48 33.890625 48 \nQ 26.265625 48 22.1875 43.046875 \nQ 18.109375 38.09375 18.109375 28.8125 \nL 18.109375 0 \nL 9.078125 0 \nL 9.078125 54.6875 \nL 18.109375 54.6875 \nL 18.109375 46.1875 \nQ 20.953125 51.171875 25.484375 53.578125 \nQ 30.03125 56 36.53125 56 \nQ 37.453125 56 38.578125 55.875 \nQ 39.703125 55.765625 41.0625 55.515625 \nz\n\" id=\"DejaVuSans-114\"/>\n      <path d=\"M 45.40625 27.984375 \nQ 45.40625 37.75 41.375 43.109375 \nQ 37.359375 48.484375 30.078125 48.484375 \nQ 22.859375 48.484375 18.828125 43.109375 \nQ 14.796875 37.75 14.796875 27.984375 \nQ 14.796875 18.265625 18.828125 12.890625 \nQ 22.859375 7.515625 30.078125 7.515625 \nQ 37.359375 7.515625 41.375 12.890625 \nQ 45.40625 18.265625 45.40625 27.984375 \nz\nM 54.390625 6.78125 \nQ 54.390625 -7.171875 48.1875 -13.984375 \nQ 42 -20.796875 29.203125 -20.796875 \nQ 24.46875 -20.796875 20.265625 -20.09375 \nQ 16.0625 -19.390625 12.109375 -17.921875 \nL 12.109375 -9.1875 \nQ 16.0625 -11.328125 19.921875 -12.34375 \nQ 23.78125 -13.375 27.78125 -13.375 \nQ 36.625 -13.375 41.015625 -8.765625 \nQ 45.40625 -4.15625 45.40625 5.171875 \nL 45.40625 9.625 \nQ 42.625 4.78125 38.28125 2.390625 \nQ 33.9375 0 27.875 0 \nQ 17.828125 0 11.671875 7.65625 \nQ 5.515625 15.328125 5.515625 27.984375 \nQ 5.515625 40.671875 11.671875 48.328125 \nQ 17.828125 56 27.875 56 \nQ 33.9375 56 38.28125 53.609375 \nQ 42.625 51.21875 45.40625 46.390625 \nL 45.40625 54.6875 \nL 54.390625 54.6875 \nz\n\" id=\"DejaVuSans-103\"/>\n      <path d=\"M 54.890625 33.015625 \nL 54.890625 0 \nL 45.90625 0 \nL 45.90625 32.71875 \nQ 45.90625 40.484375 42.875 44.328125 \nQ 39.84375 48.1875 33.796875 48.1875 \nQ 26.515625 48.1875 22.3125 43.546875 \nQ 18.109375 38.921875 18.109375 30.90625 \nL 18.109375 0 \nL 9.078125 0 \nL 9.078125 75.984375 \nL 18.109375 75.984375 \nL 18.109375 46.1875 \nQ 21.34375 51.125 25.703125 53.5625 \nQ 30.078125 56 35.796875 56 \nQ 45.21875 56 50.046875 50.171875 \nQ 54.890625 44.34375 54.890625 33.015625 \nz\n\" id=\"DejaVuSans-104\"/>\n      <path d=\"M 56.203125 29.59375 \nL 56.203125 25.203125 \nL 14.890625 25.203125 \nQ 15.484375 15.921875 20.484375 11.0625 \nQ 25.484375 6.203125 34.421875 6.203125 \nQ 39.59375 6.203125 44.453125 7.46875 \nQ 49.3125 8.734375 54.109375 11.28125 \nL 54.109375 2.78125 \nQ 49.265625 0.734375 44.1875 -0.34375 \nQ 39.109375 -1.421875 33.890625 -1.421875 \nQ 20.796875 -1.421875 13.15625 6.1875 \nQ 5.515625 13.8125 5.515625 26.8125 \nQ 5.515625 40.234375 12.765625 48.109375 \nQ 20.015625 56 32.328125 56 \nQ 43.359375 56 49.78125 48.890625 \nQ 56.203125 41.796875 56.203125 29.59375 \nz\nM 47.21875 32.234375 \nQ 47.125 39.59375 43.09375 43.984375 \nQ 39.0625 48.390625 32.421875 48.390625 \nQ 24.90625 48.390625 20.390625 44.140625 \nQ 15.875 39.890625 15.1875 32.171875 \nz\n\" id=\"DejaVuSans-101\"/>\n     </defs>\n     <use xlink:href=\"#DejaVuSans-72\"/>\n     <use x=\"75.195312\" xlink:href=\"#DejaVuSans-105\"/>\n     <use x=\"102.978516\" xlink:href=\"#DejaVuSans-115\"/>\n     <use x=\"155.078125\" xlink:href=\"#DejaVuSans-116\"/>\n     <use x=\"194.287109\" xlink:href=\"#DejaVuSans-114\"/>\n     <use x=\"233.150391\" xlink:href=\"#DejaVuSans-111\"/>\n     <use x=\"294.332031\" xlink:href=\"#DejaVuSans-103\"/>\n     <use x=\"357.808594\" xlink:href=\"#DejaVuSans-114\"/>\n     <use x=\"398.921875\" xlink:href=\"#DejaVuSans-97\"/>\n     <use x=\"460.201172\" xlink:href=\"#DejaVuSans-109\"/>\n     <use x=\"557.613281\" xlink:href=\"#DejaVuSans-32\"/>\n     <use x=\"589.400391\" xlink:href=\"#DejaVuSans-111\"/>\n     <use x=\"650.582031\" xlink:href=\"#DejaVuSans-102\"/>\n     <use x=\"685.787109\" xlink:href=\"#DejaVuSans-32\"/>\n     <use x=\"717.574219\" xlink:href=\"#DejaVuSans-116\"/>\n     <use x=\"756.783203\" xlink:href=\"#DejaVuSans-104\"/>\n     <use x=\"820.162109\" xlink:href=\"#DejaVuSans-101\"/>\n     <use x=\"881.685547\" xlink:href=\"#DejaVuSans-32\"/>\n     <use x=\"913.472656\" xlink:href=\"#DejaVuSans-101\"/>\n     <use x=\"973.246094\" xlink:href=\"#DejaVuSans-120\"/>\n     <use x=\"1032.425781\" xlink:href=\"#DejaVuSans-116\"/>\n     <use x=\"1071.634766\" xlink:href=\"#DejaVuSans-117\"/>\n     <use x=\"1135.013672\" xlink:href=\"#DejaVuSans-98\"/>\n     <use x=\"1198.490234\" xlink:href=\"#DejaVuSans-97\"/>\n     <use x=\"1259.769531\" xlink:href=\"#DejaVuSans-116\"/>\n     <use x=\"1298.978516\" xlink:href=\"#DejaVuSans-105\"/>\n     <use x=\"1326.761719\" xlink:href=\"#DejaVuSans-111\"/>\n     <use x=\"1387.943359\" xlink:href=\"#DejaVuSans-110\"/>\n     <use x=\"1451.322266\" xlink:href=\"#DejaVuSans-115\"/>\n    </g>\n   </g>\n  </g>\n </g>\n <defs>\n  <clipPath id=\"p1d3ba3d718\">\n   <rect height=\"380.52\" width=\"558\" x=\"53.328125\" y=\"22.318125\"/>\n  </clipPath>\n </defs>\n</svg>\n",
      "image/png": "[encoded data removed]"
     },
     "metadata": {
      "needs_background": "light"
     }
    }
   ],
   "source": [
    "fig = plt.figure(figsize=(10,7))\n",
    "ax = fig.add_subplot(1, 1, 1)\n",
    "ax.hist(df_count_ex)\n",
    "plt.ylabel('Amount of ICU-stays')\n",
    "plt.xlabel('Extubations')\n",
    "plt.title('Histrogram of the extubations')\n",
    "plt.savefig('./images/hist_extubations_per_icustay.png')\n",
    "plt.show();"
   ]
  },
  {
   "cell_type": "code",
   "execution_count": 11,
   "metadata": {},
   "outputs": [],
   "source": [
    "icustay_ids = df['icustay_id'].unique()"
   ]
  },
  {
   "cell_type": "code",
   "execution_count": 12,
   "metadata": {},
   "outputs": [],
   "source": [
    "sql = \"\"\"select distinct icustay_id \n",
    "        from vw_extubations ve \n",
    "        where extubated = 1\"\"\"\n",
    "df_icu_ext = pd.read_sql(sql, conn)"
   ]
  },
  {
   "cell_type": "code",
   "execution_count": 47,
   "metadata": {},
   "outputs": [
    {
     "output_type": "stream",
     "name": "stdout",
     "text": [
      "Documentation of extubations: 54.9 %\n"
     ]
    }
   ],
   "source": [
    "print(f'Documentation of extubations: {df_icu_ext.shape[0] / len(icustay_ids) * 100:.1f} %')"
   ]
  },
  {
   "cell_type": "markdown",
   "metadata": {},
   "source": [
    "Many ICU stays have no explicit documented extubation. We need to extract the id's and find another way."
   ]
  },
  {
   "cell_type": "code",
   "execution_count": 25,
   "metadata": {},
   "outputs": [],
   "source": [
    "# Building the difference for each row in 'mechvent' to get \n",
    "sql = \"\"\"SELECT i2.hadm_id,\n",
    "            v.icustay_id,\n",
    "            v.charttime,\n",
    "            v.mechvent,\n",
    "            v.oxygentherapy,\n",
    "            v.extubated,\n",
    "            v.selfextubated,\n",
    "            v.mechvent - lag(v.mechvent, 1) OVER (PARTITION BY v.icustay_id ORDER BY v.icustay_id, v.charttime) AS ex\n",
    "          FROM ventsettings v\n",
    "          JOIN icustays i2 ON i2.icustay_id::numeric = v.icustay_id\n",
    "          WHERE (v.mechvent + v.oxygentherapy + v.extubated + v.selfextubated) > 0 \n",
    "              AND (i2.hadm_id IN ( SELECT hadm_overview.hadm_id FROM hadm_overview))\"\"\"\n",
    "df_extub = pd.read_sql(sql, conn)"
   ]
  },
  {
   "cell_type": "code",
   "execution_count": 26,
   "metadata": {},
   "outputs": [
    {
     "output_type": "execute_result",
     "data": {
      "text/plain": [
       "(592571, 8)"
      ]
     },
     "metadata": {},
     "execution_count": 26
    }
   ],
   "source": [
    "df_extub.shape"
   ]
  },
  {
   "cell_type": "code",
   "execution_count": 27,
   "metadata": {},
   "outputs": [
    {
     "output_type": "execute_result",
     "data": {
      "text/plain": [
       "   hadm_id  icustay_id           charttime  mechvent  oxygentherapy  \\\n",
       "0   189514   200,006.0 2159-09-03 13:00:00         1              0   \n",
       "1   189514   200,006.0 2159-09-03 16:50:00         1              0   \n",
       "2   189514   200,006.0 2159-09-03 20:00:00         1              0   \n",
       "3   189514   200,006.0 2159-09-03 23:30:00         1              0   \n",
       "4   189514   200,006.0 2159-09-04 03:50:00         1              0   \n",
       "\n",
       "   extubated  selfextubated  ex  \n",
       "0          0              0 nan  \n",
       "1          0              0 0.0  \n",
       "2          0              0 0.0  \n",
       "3          0              0 0.0  \n",
       "4          0              0 0.0  "
      ],
      "text/html": "<div>\n<style scoped>\n    .dataframe tbody tr th:only-of-type {\n        vertical-align: middle;\n    }\n\n    .dataframe tbody tr th {\n        vertical-align: top;\n    }\n\n    .dataframe thead th {\n        text-align: right;\n    }\n</style>\n<table border=\"1\" class=\"dataframe\">\n  <thead>\n    <tr style=\"text-align: right;\">\n      <th></th>\n      <th>hadm_id</th>\n      <th>icustay_id</th>\n      <th>charttime</th>\n      <th>mechvent</th>\n      <th>oxygentherapy</th>\n      <th>extubated</th>\n      <th>selfextubated</th>\n      <th>ex</th>\n    </tr>\n  </thead>\n  <tbody>\n    <tr>\n      <th>0</th>\n      <td>189514</td>\n      <td>200,006.0</td>\n      <td>2159-09-03 13:00:00</td>\n      <td>1</td>\n      <td>0</td>\n      <td>0</td>\n      <td>0</td>\n      <td>nan</td>\n    </tr>\n    <tr>\n      <th>1</th>\n      <td>189514</td>\n      <td>200,006.0</td>\n      <td>2159-09-03 16:50:00</td>\n      <td>1</td>\n      <td>0</td>\n      <td>0</td>\n      <td>0</td>\n      <td>0.0</td>\n    </tr>\n    <tr>\n      <th>2</th>\n      <td>189514</td>\n      <td>200,006.0</td>\n      <td>2159-09-03 20:00:00</td>\n      <td>1</td>\n      <td>0</td>\n      <td>0</td>\n      <td>0</td>\n      <td>0.0</td>\n    </tr>\n    <tr>\n      <th>3</th>\n      <td>189514</td>\n      <td>200,006.0</td>\n      <td>2159-09-03 23:30:00</td>\n      <td>1</td>\n      <td>0</td>\n      <td>0</td>\n      <td>0</td>\n      <td>0.0</td>\n    </tr>\n    <tr>\n      <th>4</th>\n      <td>189514</td>\n      <td>200,006.0</td>\n      <td>2159-09-04 03:50:00</td>\n      <td>1</td>\n      <td>0</td>\n      <td>0</td>\n      <td>0</td>\n      <td>0.0</td>\n    </tr>\n  </tbody>\n</table>\n</div>"
     },
     "metadata": {},
     "execution_count": 27
    }
   ],
   "source": [
    "df_extub.head()"
   ]
  },
  {
   "cell_type": "markdown",
   "metadata": {},
   "source": [
    "Now we have a new column 'ex'. If the value of 'mechvent' fall from 1 to 0, we get a -1, otherwise we get a +1. Now we can use the timestamp where ex is -1 as our extubation timestamp.\n",
    "\n",
    "Saving that query as view: `vw_extubations`. <br>\n",
    "[vw_extubations]('data/04_changes_mechvent.sql)"
   ]
  },
  {
   "cell_type": "code",
   "execution_count": 28,
   "metadata": {},
   "outputs": [],
   "source": [
    "# Check the new column versus the documented extubations.\n",
    "sql = \"\"\"select * \n",
    "        from vw_extubations ve\n",
    "        where ve.icustay_id in (select distinct icustay_id \n",
    "                                from vw_extubations ve \n",
    "                                where extubated = 1)\n",
    "            and ve.extubated = 1\n",
    "            and ve.ex <> -1\n",
    "        order by ve.icustay_id, ve.charttime\"\"\"\n",
    "df_check_ext1 = pd.read_sql(sql, conn)"
   ]
  },
  {
   "cell_type": "code",
   "execution_count": 29,
   "metadata": {},
   "outputs": [
    {
     "output_type": "execute_result",
     "data": {
      "text/plain": [
       "   hadm_id  icustay_id           charttime  mechvent  oxygentherapy  \\\n",
       "0   129142   200,063.0 2141-03-24 17:30:00         0              0   \n",
       "1   159163   200,203.0 2140-04-07 13:27:00         0              0   \n",
       "2   142755   200,240.0 2147-10-28 08:00:00         0              0   \n",
       "3   176395   200,282.0 2164-05-15 10:05:00         0              0   \n",
       "4   199655   200,647.0 2116-07-02 11:08:00         0              0   \n",
       "\n",
       "   extubated  selfextubated  ex  \n",
       "0          1              0   0  \n",
       "1          1              0   0  \n",
       "2          1              0   0  \n",
       "3          1              0   0  \n",
       "4          1              0   0  "
      ],
      "text/html": "<div>\n<style scoped>\n    .dataframe tbody tr th:only-of-type {\n        vertical-align: middle;\n    }\n\n    .dataframe tbody tr th {\n        vertical-align: top;\n    }\n\n    .dataframe thead th {\n        text-align: right;\n    }\n</style>\n<table border=\"1\" class=\"dataframe\">\n  <thead>\n    <tr style=\"text-align: right;\">\n      <th></th>\n      <th>hadm_id</th>\n      <th>icustay_id</th>\n      <th>charttime</th>\n      <th>mechvent</th>\n      <th>oxygentherapy</th>\n      <th>extubated</th>\n      <th>selfextubated</th>\n      <th>ex</th>\n    </tr>\n  </thead>\n  <tbody>\n    <tr>\n      <th>0</th>\n      <td>129142</td>\n      <td>200,063.0</td>\n      <td>2141-03-24 17:30:00</td>\n      <td>0</td>\n      <td>0</td>\n      <td>1</td>\n      <td>0</td>\n      <td>0</td>\n    </tr>\n    <tr>\n      <th>1</th>\n      <td>159163</td>\n      <td>200,203.0</td>\n      <td>2140-04-07 13:27:00</td>\n      <td>0</td>\n      <td>0</td>\n      <td>1</td>\n      <td>0</td>\n      <td>0</td>\n    </tr>\n    <tr>\n      <th>2</th>\n      <td>142755</td>\n      <td>200,240.0</td>\n      <td>2147-10-28 08:00:00</td>\n      <td>0</td>\n      <td>0</td>\n      <td>1</td>\n      <td>0</td>\n      <td>0</td>\n    </tr>\n    <tr>\n      <th>3</th>\n      <td>176395</td>\n      <td>200,282.0</td>\n      <td>2164-05-15 10:05:00</td>\n      <td>0</td>\n      <td>0</td>\n      <td>1</td>\n      <td>0</td>\n      <td>0</td>\n    </tr>\n    <tr>\n      <th>4</th>\n      <td>199655</td>\n      <td>200,647.0</td>\n      <td>2116-07-02 11:08:00</td>\n      <td>0</td>\n      <td>0</td>\n      <td>1</td>\n      <td>0</td>\n      <td>0</td>\n    </tr>\n  </tbody>\n</table>\n</div>"
     },
     "metadata": {},
     "execution_count": 29
    }
   ],
   "source": [
    "df_check_ext1.head(5)"
   ]
  },
  {
   "cell_type": "code",
   "execution_count": 30,
   "metadata": {},
   "outputs": [
    {
     "output_type": "execute_result",
     "data": {
      "text/plain": [
       "(1244, 8)"
      ]
     },
     "metadata": {},
     "execution_count": 30
    }
   ],
   "source": [
    "df_check_ext1.shape"
   ]
  },
  {
   "cell_type": "markdown",
   "metadata": {},
   "source": [
    "Of 4,960 documented extubations, we cannot determine the expected flag by 1,244 entries as expected. For a better understanding we get a closer look to some single icustay_id."
   ]
  },
  {
   "cell_type": "code",
   "execution_count": 31,
   "metadata": {},
   "outputs": [
    {
     "output_type": "execute_result",
     "data": {
      "text/plain": [
       "      hadm_id  icustay_id           charttime  mechvent  oxygentherapy  \\\n",
       "1162   159163   200,203.0 2140-04-06 22:00:00         1              0   \n",
       "1163   159163   200,203.0 2140-04-07 00:00:00         1              0   \n",
       "1164   159163   200,203.0 2140-04-07 04:00:00         1              0   \n",
       "1165   159163   200,203.0 2140-04-07 04:07:00         1              0   \n",
       "1166   159163   200,203.0 2140-04-07 08:00:00         1              0   \n",
       "1167   159163   200,203.0 2140-04-07 12:00:00         1              0   \n",
       "1168   159163   200,203.0 2140-04-07 13:03:00         0              1   \n",
       "1169   159163   200,203.0 2140-04-07 13:27:00         0              0   \n",
       "1170   159163   200,203.0 2140-04-07 16:00:00         0              1   \n",
       "1171   159163   200,203.0 2140-04-08 00:00:00         0              1   \n",
       "\n",
       "      extubated  selfextubated   ex  \n",
       "1162          0              0  nan  \n",
       "1163          0              0  0.0  \n",
       "1164          0              0  0.0  \n",
       "1165          0              0  0.0  \n",
       "1166          0              0  0.0  \n",
       "1167          0              0  0.0  \n",
       "1168          0              0 -1.0  \n",
       "1169          1              0  0.0  \n",
       "1170          0              0  0.0  \n",
       "1171          0              0  0.0  "
      ],
      "text/html": "<div>\n<style scoped>\n    .dataframe tbody tr th:only-of-type {\n        vertical-align: middle;\n    }\n\n    .dataframe tbody tr th {\n        vertical-align: top;\n    }\n\n    .dataframe thead th {\n        text-align: right;\n    }\n</style>\n<table border=\"1\" class=\"dataframe\">\n  <thead>\n    <tr style=\"text-align: right;\">\n      <th></th>\n      <th>hadm_id</th>\n      <th>icustay_id</th>\n      <th>charttime</th>\n      <th>mechvent</th>\n      <th>oxygentherapy</th>\n      <th>extubated</th>\n      <th>selfextubated</th>\n      <th>ex</th>\n    </tr>\n  </thead>\n  <tbody>\n    <tr>\n      <th>1162</th>\n      <td>159163</td>\n      <td>200,203.0</td>\n      <td>2140-04-06 22:00:00</td>\n      <td>1</td>\n      <td>0</td>\n      <td>0</td>\n      <td>0</td>\n      <td>nan</td>\n    </tr>\n    <tr>\n      <th>1163</th>\n      <td>159163</td>\n      <td>200,203.0</td>\n      <td>2140-04-07 00:00:00</td>\n      <td>1</td>\n      <td>0</td>\n      <td>0</td>\n      <td>0</td>\n      <td>0.0</td>\n    </tr>\n    <tr>\n      <th>1164</th>\n      <td>159163</td>\n      <td>200,203.0</td>\n      <td>2140-04-07 04:00:00</td>\n      <td>1</td>\n      <td>0</td>\n      <td>0</td>\n      <td>0</td>\n      <td>0.0</td>\n    </tr>\n    <tr>\n      <th>1165</th>\n      <td>159163</td>\n      <td>200,203.0</td>\n      <td>2140-04-07 04:07:00</td>\n      <td>1</td>\n      <td>0</td>\n      <td>0</td>\n      <td>0</td>\n      <td>0.0</td>\n    </tr>\n    <tr>\n      <th>1166</th>\n      <td>159163</td>\n      <td>200,203.0</td>\n      <td>2140-04-07 08:00:00</td>\n      <td>1</td>\n      <td>0</td>\n      <td>0</td>\n      <td>0</td>\n      <td>0.0</td>\n    </tr>\n    <tr>\n      <th>1167</th>\n      <td>159163</td>\n      <td>200,203.0</td>\n      <td>2140-04-07 12:00:00</td>\n      <td>1</td>\n      <td>0</td>\n      <td>0</td>\n      <td>0</td>\n      <td>0.0</td>\n    </tr>\n    <tr>\n      <th>1168</th>\n      <td>159163</td>\n      <td>200,203.0</td>\n      <td>2140-04-07 13:03:00</td>\n      <td>0</td>\n      <td>1</td>\n      <td>0</td>\n      <td>0</td>\n      <td>-1.0</td>\n    </tr>\n    <tr>\n      <th>1169</th>\n      <td>159163</td>\n      <td>200,203.0</td>\n      <td>2140-04-07 13:27:00</td>\n      <td>0</td>\n      <td>0</td>\n      <td>1</td>\n      <td>0</td>\n      <td>0.0</td>\n    </tr>\n    <tr>\n      <th>1170</th>\n      <td>159163</td>\n      <td>200,203.0</td>\n      <td>2140-04-07 16:00:00</td>\n      <td>0</td>\n      <td>1</td>\n      <td>0</td>\n      <td>0</td>\n      <td>0.0</td>\n    </tr>\n    <tr>\n      <th>1171</th>\n      <td>159163</td>\n      <td>200,203.0</td>\n      <td>2140-04-08 00:00:00</td>\n      <td>0</td>\n      <td>1</td>\n      <td>0</td>\n      <td>0</td>\n      <td>0.0</td>\n    </tr>\n  </tbody>\n</table>\n</div>"
     },
     "metadata": {},
     "execution_count": 31
    }
   ],
   "source": [
    "df_extub[(df.icustay_id == 200203)].sort_values(by='charttime')"
   ]
  },
  {
   "cell_type": "markdown",
   "metadata": {},
   "source": [
    "As you can see, the oxygentherapy has been documented here first and then the extubation. Due to the temporal proximity and the presumably dynamic documentation of an intensive care unit, the end of mechanical ventilation is determined as extubation. The time is needed to extract the last data before the extubation from the table chartevents. Therefore, a very precise time is not decisive here."
   ]
  },
  {
   "cell_type": "code",
   "execution_count": 32,
   "metadata": {},
   "outputs": [
    {
     "output_type": "execute_result",
     "data": {
      "text/plain": [
       "   hadm_id  icustay_id           charttime  mechvent  oxygentherapy  \\\n",
       "0   189514   200,006.0 2159-09-03 13:00:00         1              0   \n",
       "1   189514   200,006.0 2159-09-03 16:50:00         1              0   \n",
       "2   189514   200,006.0 2159-09-03 20:00:00         1              0   \n",
       "3   189514   200,006.0 2159-09-03 23:30:00         1              0   \n",
       "4   189514   200,006.0 2159-09-04 03:50:00         1              0   \n",
       "5   189514   200,006.0 2159-09-04 07:00:00         0              1   \n",
       "6   189514   200,006.0 2159-09-04 11:00:00         0              1   \n",
       "7   189514   200,006.0 2159-09-04 17:00:00         0              1   \n",
       "\n",
       "   extubated  selfextubated   ex  \n",
       "0          0              0  nan  \n",
       "1          0              0  0.0  \n",
       "2          0              0  0.0  \n",
       "3          0              0  0.0  \n",
       "4          0              0  0.0  \n",
       "5          0              0 -1.0  \n",
       "6          0              0  0.0  \n",
       "7          0              0  0.0  "
      ],
      "text/html": "<div>\n<style scoped>\n    .dataframe tbody tr th:only-of-type {\n        vertical-align: middle;\n    }\n\n    .dataframe tbody tr th {\n        vertical-align: top;\n    }\n\n    .dataframe thead th {\n        text-align: right;\n    }\n</style>\n<table border=\"1\" class=\"dataframe\">\n  <thead>\n    <tr style=\"text-align: right;\">\n      <th></th>\n      <th>hadm_id</th>\n      <th>icustay_id</th>\n      <th>charttime</th>\n      <th>mechvent</th>\n      <th>oxygentherapy</th>\n      <th>extubated</th>\n      <th>selfextubated</th>\n      <th>ex</th>\n    </tr>\n  </thead>\n  <tbody>\n    <tr>\n      <th>0</th>\n      <td>189514</td>\n      <td>200,006.0</td>\n      <td>2159-09-03 13:00:00</td>\n      <td>1</td>\n      <td>0</td>\n      <td>0</td>\n      <td>0</td>\n      <td>nan</td>\n    </tr>\n    <tr>\n      <th>1</th>\n      <td>189514</td>\n      <td>200,006.0</td>\n      <td>2159-09-03 16:50:00</td>\n      <td>1</td>\n      <td>0</td>\n      <td>0</td>\n      <td>0</td>\n      <td>0.0</td>\n    </tr>\n    <tr>\n      <th>2</th>\n      <td>189514</td>\n      <td>200,006.0</td>\n      <td>2159-09-03 20:00:00</td>\n      <td>1</td>\n      <td>0</td>\n      <td>0</td>\n      <td>0</td>\n      <td>0.0</td>\n    </tr>\n    <tr>\n      <th>3</th>\n      <td>189514</td>\n      <td>200,006.0</td>\n      <td>2159-09-03 23:30:00</td>\n      <td>1</td>\n      <td>0</td>\n      <td>0</td>\n      <td>0</td>\n      <td>0.0</td>\n    </tr>\n    <tr>\n      <th>4</th>\n      <td>189514</td>\n      <td>200,006.0</td>\n      <td>2159-09-04 03:50:00</td>\n      <td>1</td>\n      <td>0</td>\n      <td>0</td>\n      <td>0</td>\n      <td>0.0</td>\n    </tr>\n    <tr>\n      <th>5</th>\n      <td>189514</td>\n      <td>200,006.0</td>\n      <td>2159-09-04 07:00:00</td>\n      <td>0</td>\n      <td>1</td>\n      <td>0</td>\n      <td>0</td>\n      <td>-1.0</td>\n    </tr>\n    <tr>\n      <th>6</th>\n      <td>189514</td>\n      <td>200,006.0</td>\n      <td>2159-09-04 11:00:00</td>\n      <td>0</td>\n      <td>1</td>\n      <td>0</td>\n      <td>0</td>\n      <td>0.0</td>\n    </tr>\n    <tr>\n      <th>7</th>\n      <td>189514</td>\n      <td>200,006.0</td>\n      <td>2159-09-04 17:00:00</td>\n      <td>0</td>\n      <td>1</td>\n      <td>0</td>\n      <td>0</td>\n      <td>0.0</td>\n    </tr>\n  </tbody>\n</table>\n</div>"
     },
     "metadata": {},
     "execution_count": 32
    }
   ],
   "source": [
    "df_extub[(df.icustay_id == 200006)].sort_values(by='charttime')"
   ]
  },
  {
   "cell_type": "markdown",
   "metadata": {},
   "source": [
    "Considering the creation of the table 'vent_settings', which indicates the beginning of oxygen therapy the ventilation has ended, the column 'extubated' is not complete."
   ]
  },
  {
   "cell_type": "code",
   "execution_count": 33,
   "metadata": {},
   "outputs": [],
   "source": [
    "# Creating query for extubation timestamps\n",
    "sql = \"\"\"select distinct i2.hadm_id, ve.icustay_id, ve.charttime\n",
    "        from vw_extubations ve \n",
    "        inner JOIN icustays i2 ON i2.icustay_id::numeric = ve.icustay_id\n",
    "        where ve.ex = -1\n",
    "        group by i2.hadm_id, ve.icustay_id, ve.charttime\n",
    "        order by ve.icustay_id\"\"\"\n",
    "df_extub_time = pd.read_sql(sql, conn)"
   ]
  },
  {
   "cell_type": "code",
   "execution_count": 34,
   "metadata": {},
   "outputs": [
    {
     "output_type": "execute_result",
     "data": {
      "text/plain": [
       "   hadm_id  icustay_id           charttime\n",
       "0   189514   200,006.0 2159-09-04 07:00:00\n",
       "1   199133   200,059.0 2198-02-17 14:30:00\n",
       "2   199133   200,059.0 2198-02-17 19:00:00\n",
       "3   199133   200,059.0 2198-02-18 11:15:00\n",
       "4   199133   200,059.0 2198-02-19 07:32:00"
      ],
      "text/html": "<div>\n<style scoped>\n    .dataframe tbody tr th:only-of-type {\n        vertical-align: middle;\n    }\n\n    .dataframe tbody tr th {\n        vertical-align: top;\n    }\n\n    .dataframe thead th {\n        text-align: right;\n    }\n</style>\n<table border=\"1\" class=\"dataframe\">\n  <thead>\n    <tr style=\"text-align: right;\">\n      <th></th>\n      <th>hadm_id</th>\n      <th>icustay_id</th>\n      <th>charttime</th>\n    </tr>\n  </thead>\n  <tbody>\n    <tr>\n      <th>0</th>\n      <td>189514</td>\n      <td>200,006.0</td>\n      <td>2159-09-04 07:00:00</td>\n    </tr>\n    <tr>\n      <th>1</th>\n      <td>199133</td>\n      <td>200,059.0</td>\n      <td>2198-02-17 14:30:00</td>\n    </tr>\n    <tr>\n      <th>2</th>\n      <td>199133</td>\n      <td>200,059.0</td>\n      <td>2198-02-17 19:00:00</td>\n    </tr>\n    <tr>\n      <th>3</th>\n      <td>199133</td>\n      <td>200,059.0</td>\n      <td>2198-02-18 11:15:00</td>\n    </tr>\n    <tr>\n      <th>4</th>\n      <td>199133</td>\n      <td>200,059.0</td>\n      <td>2198-02-19 07:32:00</td>\n    </tr>\n  </tbody>\n</table>\n</div>"
     },
     "metadata": {},
     "execution_count": 34
    }
   ],
   "source": [
    "df_extub_time.head()"
   ]
  },
  {
   "cell_type": "markdown",
   "metadata": {},
   "source": [
    "Some icustay's includes more than one extubation. Saving that query as: `vw_timestamp_extubation`"
   ]
  },
  {
   "cell_type": "markdown",
   "metadata": {},
   "source": [
    "## Create the label"
   ]
  },
  {
   "cell_type": "markdown",
   "metadata": {},
   "source": [
    "In order to determine the success of the first extubation, we need its time and, if available, also the first intubation. For the classification we also need the time between ex- and intubation. "
   ]
  },
  {
   "cell_type": "code",
   "execution_count": 50,
   "metadata": {},
   "outputs": [],
   "source": [
    "# Calculated the time between extubation and the next possible intubation in hours\n",
    "# and axtract the first changes of mechanical ventilation\n",
    "sql = \"\"\"SELECT ve.hadm_id, ve.icustay_id, intub.ts_intubation, min(ve.charttime) AS ts_extubation,\n",
    "\tround(date_part('epoch', (min(ve.charttime) - intub.ts_intubation) / 3600)::numeric,2) as hour_mechvent,\n",
    "\tre_intub.ts_re_intubation,\n",
    "\tround(date_part('epoch', (re_intub.ts_re_intubation - min(ve.charttime)) / 3600)::numeric,2) as hour_to_reintub\n",
    "FROM vw_extubations ve\n",
    "Left join (SELECT ve.icustay_id, min(ve.charttime) AS ts_intubation\n",
    "\t\t\tFROM vw_extubations ve\n",
    "\t\t\twhere ve.mechvent = 1\n",
    "\t\t\tGROUP BY ve.icustay_id) intub on ve.icustay_id = intub.icustay_id\n",
    "left join (SELECT ve.icustay_id, min(ve.charttime) AS ts_re_intubation\n",
    "\t\t\tFROM vw_extubations ve\n",
    "\t\t\tLEFT join (SELECT ve.icustay_id, min(ve.charttime) AS ts_extubation\n",
    "\t\t\t\t\t\tFROM vw_extubations ve\n",
    "\t\t\t\t\t\tLeft join (SELECT ve.icustay_id, min(ve.charttime) AS ts_intubation\n",
    "\t\t\t\t\t\t\tFROM vw_extubations ve\n",
    "\t\t\t\t\t\t\twhere ve.mechvent = 1\n",
    "\t\t\t\t\t\t\tGROUP BY ve.icustay_id) intub on ve.icustay_id = intub.icustay_id\n",
    "\t\t\t\t\t\twhere ve.mechvent = 0 and ve.ex = -1\n",
    "\t\t\t\t\t\tGROUP BY ve.icustay_id, intub.ts_intubation) ext on ve.icustay_id = ext.icustay_id\n",
    "\t\t\twhere ve.mechvent = 1 and ve.charttime > ext.ts_extubation\n",
    "\t\t\tGROUP BY ve.icustay_id) re_intub on ve.icustay_id = re_intub.icustay_id\n",
    "where ve.mechvent = 0 and ve.ex = -1\n",
    "GROUP BY ve.hadm_id, ve.icustay_id, intub.ts_intubation, re_intub.ts_re_intubation\n",
    "order by ve.icustay_id \"\"\"\n",
    "df_ex_ts = pd.read_sql(sql, conn)"
   ]
  },
  {
   "cell_type": "code",
   "execution_count": 51,
   "metadata": {},
   "outputs": [
    {
     "output_type": "execute_result",
     "data": {
      "text/plain": [
       "   hadm_id  icustay_id       ts_intubation       ts_extubation  hour_mechvent  \\\n",
       "0   189514   200,006.0 2159-09-03 13:00:00 2159-09-04 07:00:00           18.0   \n",
       "1   199133   200,059.0 2198-02-10 06:00:00 2198-02-17 14:30:00          176.5   \n",
       "2   129142   200,063.0 2141-03-10 07:00:00 2141-03-15 14:09:00         127.15   \n",
       "3   112840   200,065.0 2120-03-22 22:30:00 2120-04-01 10:30:00          228.0   \n",
       "4   113580   200,077.0 2163-04-12 08:00:00 2163-04-12 08:30:00            0.5   \n",
       "\n",
       "     ts_re_intubation  hour_to_reintub  \n",
       "0                 NaT              nan  \n",
       "1 2198-02-17 15:00:00              0.5  \n",
       "2 2141-03-16 09:00:00            18.85  \n",
       "3                 NaT              nan  \n",
       "4 2163-04-12 13:00:00              4.5  "
      ],
      "text/html": "<div>\n<style scoped>\n    .dataframe tbody tr th:only-of-type {\n        vertical-align: middle;\n    }\n\n    .dataframe tbody tr th {\n        vertical-align: top;\n    }\n\n    .dataframe thead th {\n        text-align: right;\n    }\n</style>\n<table border=\"1\" class=\"dataframe\">\n  <thead>\n    <tr style=\"text-align: right;\">\n      <th></th>\n      <th>hadm_id</th>\n      <th>icustay_id</th>\n      <th>ts_intubation</th>\n      <th>ts_extubation</th>\n      <th>hour_mechvent</th>\n      <th>ts_re_intubation</th>\n      <th>hour_to_reintub</th>\n    </tr>\n  </thead>\n  <tbody>\n    <tr>\n      <th>0</th>\n      <td>189514</td>\n      <td>200,006.0</td>\n      <td>2159-09-03 13:00:00</td>\n      <td>2159-09-04 07:00:00</td>\n      <td>18.0</td>\n      <td>NaT</td>\n      <td>nan</td>\n    </tr>\n    <tr>\n      <th>1</th>\n      <td>199133</td>\n      <td>200,059.0</td>\n      <td>2198-02-10 06:00:00</td>\n      <td>2198-02-17 14:30:00</td>\n      <td>176.5</td>\n      <td>2198-02-17 15:00:00</td>\n      <td>0.5</td>\n    </tr>\n    <tr>\n      <th>2</th>\n      <td>129142</td>\n      <td>200,063.0</td>\n      <td>2141-03-10 07:00:00</td>\n      <td>2141-03-15 14:09:00</td>\n      <td>127.15</td>\n      <td>2141-03-16 09:00:00</td>\n      <td>18.85</td>\n    </tr>\n    <tr>\n      <th>3</th>\n      <td>112840</td>\n      <td>200,065.0</td>\n      <td>2120-03-22 22:30:00</td>\n      <td>2120-04-01 10:30:00</td>\n      <td>228.0</td>\n      <td>NaT</td>\n      <td>nan</td>\n    </tr>\n    <tr>\n      <th>4</th>\n      <td>113580</td>\n      <td>200,077.0</td>\n      <td>2163-04-12 08:00:00</td>\n      <td>2163-04-12 08:30:00</td>\n      <td>0.5</td>\n      <td>2163-04-12 13:00:00</td>\n      <td>4.5</td>\n    </tr>\n  </tbody>\n</table>\n</div>"
     },
     "metadata": {},
     "execution_count": 51
    }
   ],
   "source": [
    "df_ex_ts.head()"
   ]
  },
  {
   "cell_type": "code",
   "execution_count": 52,
   "metadata": {},
   "outputs": [],
   "source": [
    "# Add the label: \n",
    "# duration betwenn in- or extubation is greater then 48h or nan, then 1\n",
    "# else 1\n",
    "sql = \"\"\"SELECT vte.hadm_id, vte.icustay_id, vte.hour_to_reintub,\n",
    "\tCASE\n",
    "        WHEN vte.hour_to_reintub IS NULL THEN 1\n",
    "        WHEN vte.hour_to_reintub > 48::double precision THEN 1\n",
    "        ELSE 0\n",
    "    END AS label\n",
    "FROM vw_ts_extubations vte \"\"\"\n",
    "df_label_ex = pd.read_sql(sql, conn)"
   ]
  },
  {
   "cell_type": "code",
   "execution_count": 53,
   "metadata": {},
   "outputs": [
    {
     "output_type": "execute_result",
     "data": {
      "text/plain": [
       "   hadm_id  icustay_id  hour_to_reintub  label\n",
       "0   189514   200,006.0              nan      1\n",
       "1   199133   200,059.0              0.5      0\n",
       "2   129142   200,063.0            18.85      0\n",
       "3   112840   200,065.0              nan      1\n",
       "4   113580   200,077.0              4.5      0"
      ],
      "text/html": "<div>\n<style scoped>\n    .dataframe tbody tr th:only-of-type {\n        vertical-align: middle;\n    }\n\n    .dataframe tbody tr th {\n        vertical-align: top;\n    }\n\n    .dataframe thead th {\n        text-align: right;\n    }\n</style>\n<table border=\"1\" class=\"dataframe\">\n  <thead>\n    <tr style=\"text-align: right;\">\n      <th></th>\n      <th>hadm_id</th>\n      <th>icustay_id</th>\n      <th>hour_to_reintub</th>\n      <th>label</th>\n    </tr>\n  </thead>\n  <tbody>\n    <tr>\n      <th>0</th>\n      <td>189514</td>\n      <td>200,006.0</td>\n      <td>nan</td>\n      <td>1</td>\n    </tr>\n    <tr>\n      <th>1</th>\n      <td>199133</td>\n      <td>200,059.0</td>\n      <td>0.5</td>\n      <td>0</td>\n    </tr>\n    <tr>\n      <th>2</th>\n      <td>129142</td>\n      <td>200,063.0</td>\n      <td>18.85</td>\n      <td>0</td>\n    </tr>\n    <tr>\n      <th>3</th>\n      <td>112840</td>\n      <td>200,065.0</td>\n      <td>nan</td>\n      <td>1</td>\n    </tr>\n    <tr>\n      <th>4</th>\n      <td>113580</td>\n      <td>200,077.0</td>\n      <td>4.5</td>\n      <td>0</td>\n    </tr>\n  </tbody>\n</table>\n</div>"
     },
     "metadata": {},
     "execution_count": 53
    }
   ],
   "source": [
    "df_label_ex.head()"
   ]
  },
  {
   "cell_type": "markdown",
   "metadata": {},
   "source": [
    "Saving this query as `vw_label_extubations`"
   ]
  },
  {
   "cell_type": "code",
   "execution_count": 54,
   "metadata": {},
   "outputs": [
    {
     "output_type": "execute_result",
     "data": {
      "text/plain": [
       "257"
      ]
     },
     "metadata": {},
     "execution_count": 54
    }
   ],
   "source": [
    "df_label_ex[(df_label_ex.hour_to_reintub > 48)].hadm_id.count()"
   ]
  },
  {
   "cell_type": "code",
   "execution_count": 55,
   "metadata": {},
   "outputs": [
    {
     "output_type": "execute_result",
     "data": {
      "text/plain": [
       "3732"
      ]
     },
     "metadata": {},
     "execution_count": 55
    }
   ],
   "source": [
    "df_label_ex[(df_label_ex.hour_to_reintub.isna())].hadm_id.count()"
   ]
  },
  {
   "cell_type": "code",
   "execution_count": 56,
   "metadata": {},
   "outputs": [
    {
     "output_type": "execute_result",
     "data": {
      "text/plain": [
       "1963"
      ]
     },
     "metadata": {},
     "execution_count": 56
    }
   ],
   "source": [
    "df_label_ex[(df_label_ex.label == 0)].hadm_id.count()"
   ]
  },
  {
   "cell_type": "code",
   "execution_count": 57,
   "metadata": {},
   "outputs": [
    {
     "output_type": "execute_result",
     "data": {
      "text/plain": [
       "(5952, 4)"
      ]
     },
     "metadata": {},
     "execution_count": 57
    }
   ],
   "source": [
    "df_label_ex.shape"
   ]
  },
  {
   "cell_type": "code",
   "execution_count": 58,
   "metadata": {},
   "outputs": [
    {
     "output_type": "execute_result",
     "data": {
      "text/plain": [
       "label\n",
       "0    1963\n",
       "1    3989\n",
       "Name: icustay_id, dtype: int64"
      ]
     },
     "metadata": {},
     "execution_count": 58
    }
   ],
   "source": [
    "df_label_ex.groupby('label').icustay_id.count()"
   ]
  },
  {
   "cell_type": "code",
   "execution_count": 59,
   "metadata": {},
   "outputs": [
    {
     "output_type": "display_data",
     "data": {
      "text/plain": "<Figure size 1152x936 with 2 Axes>",
      "image/svg+xml": "<?xml version=\"1.0\" encoding=\"utf-8\" standalone=\"no\"?>\n<!DOCTYPE svg PUBLIC \"-//W3C//DTD SVG 1.1//EN\"\n  \"http://www.w3.org/Graphics/SVG/1.1/DTD/svg11.dtd\">\n<!-- Created with matplotlib (https://matplotlib.org/) -->\n<svg height=\"381.092557pt\" version=\"1.1\" viewBox=\"0 0 953.328125 381.092557\" width=\"953.328125pt\" xmlns=\"http://www.w3.org/2000/svg\" xmlns:xlink=\"http://www.w3.org/1999/xlink\">\n <metadata>\n  <rdf:RDF xmlns:cc=\"http://creativecommons.org/ns#\" xmlns:dc=\"http://purl.org/dc/elements/1.1/\" xmlns:rdf=\"http://www.w3.org/1999/02/22-rdf-syntax-ns#\">\n   <cc:Work>\n    <dc:type rdf:resource=\"http://purl.org/dc/dcmitype/StillImage\"/>\n    <dc:date>2020-11-23T13:31:58.693745</dc:date>\n    <dc:format>image/svg+xml</dc:format>\n    <dc:creator>\n     <cc:Agent>\n      <dc:title>Matplotlib v3.3.1, https://matplotlib.org/</dc:title>\n     </cc:Agent>\n    </dc:creator>\n   </cc:Work>\n  </rdf:RDF>\n </metadata>\n <defs>\n  <style type=\"text/css\">*{stroke-linecap:butt;stroke-linejoin:round;}</style>\n </defs>\n <g id=\"figure_1\">\n  <g id=\"patch_1\">\n   <path d=\"M 0 381.092557 \nL 953.328125 381.092557 \nL 953.328125 0 \nL 0 0 \nz\n\" style=\"fill:none;\"/>\n  </g>\n  <g id=\"axes_1\">\n   <g id=\"patch_2\">\n    <path d=\"M 53.328125 343.536307 \nL 459.146307 343.536307 \nL 459.146307 22.318125 \nL 53.328125 22.318125 \nz\n\" style=\"fill:#ffffff;\"/>\n   </g>\n   <g id=\"patch_3\">\n    <path clip-path=\"url(#p5357af2cbb)\" d=\"M 71.774406 343.536307 \nL 235.741348 343.536307 \nL 235.741348 192.991048 \nL 71.774406 192.991048 \nz\n\" style=\"fill:#1f77b4;\"/>\n   </g>\n   <g id=\"patch_4\">\n    <path clip-path=\"url(#p5357af2cbb)\" d=\"M 276.733084 343.536307 \nL 440.700026 343.536307 \nL 440.700026 37.614229 \nL 276.733084 37.614229 \nz\n\" style=\"fill:#1f77b4;\"/>\n   </g>\n   <g id=\"matplotlib.axis_1\">\n    <g id=\"xtick_1\">\n     <g id=\"line2d_1\">\n      <defs>\n       <path d=\"M 0 0 \nL 0 3.5 \n\" id=\"m8cdd600d02\" style=\"stroke:#000000;stroke-width:0.8;\"/>\n      </defs>\n      <g>\n       <use style=\"stroke:#000000;stroke-width:0.8;\" x=\"153.757877\" xlink:href=\"#m8cdd600d02\" y=\"343.536307\"/>\n      </g>\n     </g>\n     <g id=\"text_1\">\n      <!-- failed -->\n      <g transform=\"translate(139.904752 358.134744)scale(0.1 -0.1)\">\n       <defs>\n        <path d=\"M 37.109375 75.984375 \nL 37.109375 68.5 \nL 28.515625 68.5 \nQ 23.6875 68.5 21.796875 66.546875 \nQ 19.921875 64.59375 19.921875 59.515625 \nL 19.921875 54.6875 \nL 34.71875 54.6875 \nL 34.71875 47.703125 \nL 19.921875 47.703125 \nL 19.921875 0 \nL 10.890625 0 \nL 10.890625 47.703125 \nL 2.296875 47.703125 \nL 2.296875 54.6875 \nL 10.890625 54.6875 \nL 10.890625 58.5 \nQ 10.890625 67.625 15.140625 71.796875 \nQ 19.390625 75.984375 28.609375 75.984375 \nz\n\" id=\"DejaVuSans-102\"/>\n        <path d=\"M 34.28125 27.484375 \nQ 23.390625 27.484375 19.1875 25 \nQ 14.984375 22.515625 14.984375 16.5 \nQ 14.984375 11.71875 18.140625 8.90625 \nQ 21.296875 6.109375 26.703125 6.109375 \nQ 34.1875 6.109375 38.703125 11.40625 \nQ 43.21875 16.703125 43.21875 25.484375 \nL 43.21875 27.484375 \nz\nM 52.203125 31.203125 \nL 52.203125 0 \nL 43.21875 0 \nL 43.21875 8.296875 \nQ 40.140625 3.328125 35.546875 0.953125 \nQ 30.953125 -1.421875 24.3125 -1.421875 \nQ 15.921875 -1.421875 10.953125 3.296875 \nQ 6 8.015625 6 15.921875 \nQ 6 25.140625 12.171875 29.828125 \nQ 18.359375 34.515625 30.609375 34.515625 \nL 43.21875 34.515625 \nL 43.21875 35.40625 \nQ 43.21875 41.609375 39.140625 45 \nQ 35.0625 48.390625 27.6875 48.390625 \nQ 23 48.390625 18.546875 47.265625 \nQ 14.109375 46.140625 10.015625 43.890625 \nL 10.015625 52.203125 \nQ 14.9375 54.109375 19.578125 55.046875 \nQ 24.21875 56 28.609375 56 \nQ 40.484375 56 46.34375 49.84375 \nQ 52.203125 43.703125 52.203125 31.203125 \nz\n\" id=\"DejaVuSans-97\"/>\n        <path d=\"M 9.421875 54.6875 \nL 18.40625 54.6875 \nL 18.40625 0 \nL 9.421875 0 \nz\nM 9.421875 75.984375 \nL 18.40625 75.984375 \nL 18.40625 64.59375 \nL 9.421875 64.59375 \nz\n\" id=\"DejaVuSans-105\"/>\n        <path d=\"M 9.421875 75.984375 \nL 18.40625 75.984375 \nL 18.40625 0 \nL 9.421875 0 \nz\n\" id=\"DejaVuSans-108\"/>\n        <path d=\"M 56.203125 29.59375 \nL 56.203125 25.203125 \nL 14.890625 25.203125 \nQ 15.484375 15.921875 20.484375 11.0625 \nQ 25.484375 6.203125 34.421875 6.203125 \nQ 39.59375 6.203125 44.453125 7.46875 \nQ 49.3125 8.734375 54.109375 11.28125 \nL 54.109375 2.78125 \nQ 49.265625 0.734375 44.1875 -0.34375 \nQ 39.109375 -1.421875 33.890625 -1.421875 \nQ 20.796875 -1.421875 13.15625 6.1875 \nQ 5.515625 13.8125 5.515625 26.8125 \nQ 5.515625 40.234375 12.765625 48.109375 \nQ 20.015625 56 32.328125 56 \nQ 43.359375 56 49.78125 48.890625 \nQ 56.203125 41.796875 56.203125 29.59375 \nz\nM 47.21875 32.234375 \nQ 47.125 39.59375 43.09375 43.984375 \nQ 39.0625 48.390625 32.421875 48.390625 \nQ 24.90625 48.390625 20.390625 44.140625 \nQ 15.875 39.890625 15.1875 32.171875 \nz\n\" id=\"DejaVuSans-101\"/>\n        <path d=\"M 45.40625 46.390625 \nL 45.40625 75.984375 \nL 54.390625 75.984375 \nL 54.390625 0 \nL 45.40625 0 \nL 45.40625 8.203125 \nQ 42.578125 3.328125 38.25 0.953125 \nQ 33.9375 -1.421875 27.875 -1.421875 \nQ 17.96875 -1.421875 11.734375 6.484375 \nQ 5.515625 14.40625 5.515625 27.296875 \nQ 5.515625 40.1875 11.734375 48.09375 \nQ 17.96875 56 27.875 56 \nQ 33.9375 56 38.25 53.625 \nQ 42.578125 51.265625 45.40625 46.390625 \nz\nM 14.796875 27.296875 \nQ 14.796875 17.390625 18.875 11.75 \nQ 22.953125 6.109375 30.078125 6.109375 \nQ 37.203125 6.109375 41.296875 11.75 \nQ 45.40625 17.390625 45.40625 27.296875 \nQ 45.40625 37.203125 41.296875 42.84375 \nQ 37.203125 48.484375 30.078125 48.484375 \nQ 22.953125 48.484375 18.875 42.84375 \nQ 14.796875 37.203125 14.796875 27.296875 \nz\n\" id=\"DejaVuSans-100\"/>\n       </defs>\n       <use xlink:href=\"#DejaVuSans-102\"/>\n       <use x=\"35.205078\" xlink:href=\"#DejaVuSans-97\"/>\n       <use x=\"96.484375\" xlink:href=\"#DejaVuSans-105\"/>\n       <use x=\"124.267578\" xlink:href=\"#DejaVuSans-108\"/>\n       <use x=\"152.050781\" xlink:href=\"#DejaVuSans-101\"/>\n       <use x=\"213.574219\" xlink:href=\"#DejaVuSans-100\"/>\n      </g>\n     </g>\n    </g>\n    <g id=\"xtick_2\">\n     <g id=\"line2d_2\">\n      <g>\n       <use style=\"stroke:#000000;stroke-width:0.8;\" x=\"358.716555\" xlink:href=\"#m8cdd600d02\" y=\"343.536307\"/>\n      </g>\n     </g>\n     <g id=\"text_2\">\n      <!-- success -->\n      <g transform=\"translate(339.158742 358.134744)scale(0.1 -0.1)\">\n       <defs>\n        <path d=\"M 44.28125 53.078125 \nL 44.28125 44.578125 \nQ 40.484375 46.53125 36.375 47.5 \nQ 32.28125 48.484375 27.875 48.484375 \nQ 21.1875 48.484375 17.84375 46.4375 \nQ 14.5 44.390625 14.5 40.28125 \nQ 14.5 37.15625 16.890625 35.375 \nQ 19.28125 33.59375 26.515625 31.984375 \nL 29.59375 31.296875 \nQ 39.15625 29.25 43.1875 25.515625 \nQ 47.21875 21.78125 47.21875 15.09375 \nQ 47.21875 7.46875 41.1875 3.015625 \nQ 35.15625 -1.421875 24.609375 -1.421875 \nQ 20.21875 -1.421875 15.453125 -0.5625 \nQ 10.6875 0.296875 5.421875 2 \nL 5.421875 11.28125 \nQ 10.40625 8.6875 15.234375 7.390625 \nQ 20.0625 6.109375 24.8125 6.109375 \nQ 31.15625 6.109375 34.5625 8.28125 \nQ 37.984375 10.453125 37.984375 14.40625 \nQ 37.984375 18.0625 35.515625 20.015625 \nQ 33.0625 21.96875 24.703125 23.78125 \nL 21.578125 24.515625 \nQ 13.234375 26.265625 9.515625 29.90625 \nQ 5.8125 33.546875 5.8125 39.890625 \nQ 5.8125 47.609375 11.28125 51.796875 \nQ 16.75 56 26.8125 56 \nQ 31.78125 56 36.171875 55.265625 \nQ 40.578125 54.546875 44.28125 53.078125 \nz\n\" id=\"DejaVuSans-115\"/>\n        <path d=\"M 8.5 21.578125 \nL 8.5 54.6875 \nL 17.484375 54.6875 \nL 17.484375 21.921875 \nQ 17.484375 14.15625 20.5 10.265625 \nQ 23.53125 6.390625 29.59375 6.390625 \nQ 36.859375 6.390625 41.078125 11.03125 \nQ 45.3125 15.671875 45.3125 23.6875 \nL 45.3125 54.6875 \nL 54.296875 54.6875 \nL 54.296875 0 \nL 45.3125 0 \nL 45.3125 8.40625 \nQ 42.046875 3.421875 37.71875 1 \nQ 33.40625 -1.421875 27.6875 -1.421875 \nQ 18.265625 -1.421875 13.375 4.4375 \nQ 8.5 10.296875 8.5 21.578125 \nz\nM 31.109375 56 \nz\n\" id=\"DejaVuSans-117\"/>\n        <path d=\"M 48.78125 52.59375 \nL 48.78125 44.1875 \nQ 44.96875 46.296875 41.140625 47.34375 \nQ 37.3125 48.390625 33.40625 48.390625 \nQ 24.65625 48.390625 19.8125 42.84375 \nQ 14.984375 37.3125 14.984375 27.296875 \nQ 14.984375 17.28125 19.8125 11.734375 \nQ 24.65625 6.203125 33.40625 6.203125 \nQ 37.3125 6.203125 41.140625 7.25 \nQ 44.96875 8.296875 48.78125 10.40625 \nL 48.78125 2.09375 \nQ 45.015625 0.34375 40.984375 -0.53125 \nQ 36.96875 -1.421875 32.421875 -1.421875 \nQ 20.0625 -1.421875 12.78125 6.34375 \nQ 5.515625 14.109375 5.515625 27.296875 \nQ 5.515625 40.671875 12.859375 48.328125 \nQ 20.21875 56 33.015625 56 \nQ 37.15625 56 41.109375 55.140625 \nQ 45.0625 54.296875 48.78125 52.59375 \nz\n\" id=\"DejaVuSans-99\"/>\n       </defs>\n       <use xlink:href=\"#DejaVuSans-115\"/>\n       <use x=\"52.099609\" xlink:href=\"#DejaVuSans-117\"/>\n       <use x=\"115.478516\" xlink:href=\"#DejaVuSans-99\"/>\n       <use x=\"170.458984\" xlink:href=\"#DejaVuSans-99\"/>\n       <use x=\"225.439453\" xlink:href=\"#DejaVuSans-101\"/>\n       <use x=\"286.962891\" xlink:href=\"#DejaVuSans-115\"/>\n       <use x=\"339.0625\" xlink:href=\"#DejaVuSans-115\"/>\n      </g>\n     </g>\n    </g>\n    <g id=\"text_3\">\n     <!-- Extubations -->\n     <g transform=\"translate(226.569247 371.812869)scale(0.1 -0.1)\">\n      <defs>\n       <path d=\"M 9.8125 72.90625 \nL 55.90625 72.90625 \nL 55.90625 64.59375 \nL 19.671875 64.59375 \nL 19.671875 43.015625 \nL 54.390625 43.015625 \nL 54.390625 34.71875 \nL 19.671875 34.71875 \nL 19.671875 8.296875 \nL 56.78125 8.296875 \nL 56.78125 0 \nL 9.8125 0 \nz\n\" id=\"DejaVuSans-69\"/>\n       <path d=\"M 54.890625 54.6875 \nL 35.109375 28.078125 \nL 55.90625 0 \nL 45.3125 0 \nL 29.390625 21.484375 \nL 13.484375 0 \nL 2.875 0 \nL 24.125 28.609375 \nL 4.6875 54.6875 \nL 15.28125 54.6875 \nL 29.78125 35.203125 \nL 44.28125 54.6875 \nz\n\" id=\"DejaVuSans-120\"/>\n       <path d=\"M 18.3125 70.21875 \nL 18.3125 54.6875 \nL 36.8125 54.6875 \nL 36.8125 47.703125 \nL 18.3125 47.703125 \nL 18.3125 18.015625 \nQ 18.3125 11.328125 20.140625 9.421875 \nQ 21.96875 7.515625 27.59375 7.515625 \nL 36.8125 7.515625 \nL 36.8125 0 \nL 27.59375 0 \nQ 17.1875 0 13.234375 3.875 \nQ 9.28125 7.765625 9.28125 18.015625 \nL 9.28125 47.703125 \nL 2.6875 47.703125 \nL 2.6875 54.6875 \nL 9.28125 54.6875 \nL 9.28125 70.21875 \nz\n\" id=\"DejaVuSans-116\"/>\n       <path d=\"M 48.6875 27.296875 \nQ 48.6875 37.203125 44.609375 42.84375 \nQ 40.53125 48.484375 33.40625 48.484375 \nQ 26.265625 48.484375 22.1875 42.84375 \nQ 18.109375 37.203125 18.109375 27.296875 \nQ 18.109375 17.390625 22.1875 11.75 \nQ 26.265625 6.109375 33.40625 6.109375 \nQ 40.53125 6.109375 44.609375 11.75 \nQ 48.6875 17.390625 48.6875 27.296875 \nz\nM 18.109375 46.390625 \nQ 20.953125 51.265625 25.265625 53.625 \nQ 29.59375 56 35.59375 56 \nQ 45.5625 56 51.78125 48.09375 \nQ 58.015625 40.1875 58.015625 27.296875 \nQ 58.015625 14.40625 51.78125 6.484375 \nQ 45.5625 -1.421875 35.59375 -1.421875 \nQ 29.59375 -1.421875 25.265625 0.953125 \nQ 20.953125 3.328125 18.109375 8.203125 \nL 18.109375 0 \nL 9.078125 0 \nL 9.078125 75.984375 \nL 18.109375 75.984375 \nz\n\" id=\"DejaVuSans-98\"/>\n       <path d=\"M 30.609375 48.390625 \nQ 23.390625 48.390625 19.1875 42.75 \nQ 14.984375 37.109375 14.984375 27.296875 \nQ 14.984375 17.484375 19.15625 11.84375 \nQ 23.34375 6.203125 30.609375 6.203125 \nQ 37.796875 6.203125 41.984375 11.859375 \nQ 46.1875 17.53125 46.1875 27.296875 \nQ 46.1875 37.015625 41.984375 42.703125 \nQ 37.796875 48.390625 30.609375 48.390625 \nz\nM 30.609375 56 \nQ 42.328125 56 49.015625 48.375 \nQ 55.71875 40.765625 55.71875 27.296875 \nQ 55.71875 13.875 49.015625 6.21875 \nQ 42.328125 -1.421875 30.609375 -1.421875 \nQ 18.84375 -1.421875 12.171875 6.21875 \nQ 5.515625 13.875 5.515625 27.296875 \nQ 5.515625 40.765625 12.171875 48.375 \nQ 18.84375 56 30.609375 56 \nz\n\" id=\"DejaVuSans-111\"/>\n       <path d=\"M 54.890625 33.015625 \nL 54.890625 0 \nL 45.90625 0 \nL 45.90625 32.71875 \nQ 45.90625 40.484375 42.875 44.328125 \nQ 39.84375 48.1875 33.796875 48.1875 \nQ 26.515625 48.1875 22.3125 43.546875 \nQ 18.109375 38.921875 18.109375 30.90625 \nL 18.109375 0 \nL 9.078125 0 \nL 9.078125 54.6875 \nL 18.109375 54.6875 \nL 18.109375 46.1875 \nQ 21.34375 51.125 25.703125 53.5625 \nQ 30.078125 56 35.796875 56 \nQ 45.21875 56 50.046875 50.171875 \nQ 54.890625 44.34375 54.890625 33.015625 \nz\n\" id=\"DejaVuSans-110\"/>\n      </defs>\n      <use xlink:href=\"#DejaVuSans-69\"/>\n      <use x=\"63.183594\" xlink:href=\"#DejaVuSans-120\"/>\n      <use x=\"122.363281\" xlink:href=\"#DejaVuSans-116\"/>\n      <use x=\"161.572266\" xlink:href=\"#DejaVuSans-117\"/>\n      <use x=\"224.951172\" xlink:href=\"#DejaVuSans-98\"/>\n      <use x=\"288.427734\" xlink:href=\"#DejaVuSans-97\"/>\n      <use x=\"349.707031\" xlink:href=\"#DejaVuSans-116\"/>\n      <use x=\"388.916016\" xlink:href=\"#DejaVuSans-105\"/>\n      <use x=\"416.699219\" xlink:href=\"#DejaVuSans-111\"/>\n      <use x=\"477.880859\" xlink:href=\"#DejaVuSans-110\"/>\n      <use x=\"541.259766\" xlink:href=\"#DejaVuSans-115\"/>\n     </g>\n    </g>\n   </g>\n   <g id=\"matplotlib.axis_2\">\n    <g id=\"ytick_1\">\n     <g id=\"line2d_3\">\n      <defs>\n       <path d=\"M 0 0 \nL -3.5 0 \n\" id=\"m53e03b653a\" style=\"stroke:#000000;stroke-width:0.8;\"/>\n      </defs>\n      <g>\n       <use style=\"stroke:#000000;stroke-width:0.8;\" x=\"53.328125\" xlink:href=\"#m53e03b653a\" y=\"343.536307\"/>\n      </g>\n     </g>\n     <g id=\"text_4\">\n      <!-- 0 -->\n      <g transform=\"translate(39.965625 347.335526)scale(0.1 -0.1)\">\n       <defs>\n        <path d=\"M 31.78125 66.40625 \nQ 24.171875 66.40625 20.328125 58.90625 \nQ 16.5 51.421875 16.5 36.375 \nQ 16.5 21.390625 20.328125 13.890625 \nQ 24.171875 6.390625 31.78125 6.390625 \nQ 39.453125 6.390625 43.28125 13.890625 \nQ 47.125 21.390625 47.125 36.375 \nQ 47.125 51.421875 43.28125 58.90625 \nQ 39.453125 66.40625 31.78125 66.40625 \nz\nM 31.78125 74.21875 \nQ 44.046875 74.21875 50.515625 64.515625 \nQ 56.984375 54.828125 56.984375 36.375 \nQ 56.984375 17.96875 50.515625 8.265625 \nQ 44.046875 -1.421875 31.78125 -1.421875 \nQ 19.53125 -1.421875 13.0625 8.265625 \nQ 6.59375 17.96875 6.59375 36.375 \nQ 6.59375 54.828125 13.0625 64.515625 \nQ 19.53125 74.21875 31.78125 74.21875 \nz\n\" id=\"DejaVuSans-48\"/>\n       </defs>\n       <use xlink:href=\"#DejaVuSans-48\"/>\n      </g>\n     </g>\n    </g>\n    <g id=\"ytick_2\">\n     <g id=\"line2d_4\">\n      <g>\n       <use style=\"stroke:#000000;stroke-width:0.8;\" x=\"53.328125\" xlink:href=\"#m53e03b653a\" y=\"305.190596\"/>\n      </g>\n     </g>\n     <g id=\"text_5\">\n      <!-- 500 -->\n      <g transform=\"translate(27.240625 308.989815)scale(0.1 -0.1)\">\n       <defs>\n        <path d=\"M 10.796875 72.90625 \nL 49.515625 72.90625 \nL 49.515625 64.59375 \nL 19.828125 64.59375 \nL 19.828125 46.734375 \nQ 21.96875 47.46875 24.109375 47.828125 \nQ 26.265625 48.1875 28.421875 48.1875 \nQ 40.625 48.1875 47.75 41.5 \nQ 54.890625 34.8125 54.890625 23.390625 \nQ 54.890625 11.625 47.5625 5.09375 \nQ 40.234375 -1.421875 26.90625 -1.421875 \nQ 22.3125 -1.421875 17.546875 -0.640625 \nQ 12.796875 0.140625 7.71875 1.703125 \nL 7.71875 11.625 \nQ 12.109375 9.234375 16.796875 8.0625 \nQ 21.484375 6.890625 26.703125 6.890625 \nQ 35.15625 6.890625 40.078125 11.328125 \nQ 45.015625 15.765625 45.015625 23.390625 \nQ 45.015625 31 40.078125 35.4375 \nQ 35.15625 39.890625 26.703125 39.890625 \nQ 22.75 39.890625 18.8125 39.015625 \nQ 14.890625 38.140625 10.796875 36.28125 \nz\n\" id=\"DejaVuSans-53\"/>\n       </defs>\n       <use xlink:href=\"#DejaVuSans-53\"/>\n       <use x=\"63.623047\" xlink:href=\"#DejaVuSans-48\"/>\n       <use x=\"127.246094\" xlink:href=\"#DejaVuSans-48\"/>\n      </g>\n     </g>\n    </g>\n    <g id=\"ytick_3\">\n     <g id=\"line2d_5\">\n      <g>\n       <use style=\"stroke:#000000;stroke-width:0.8;\" x=\"53.328125\" xlink:href=\"#m53e03b653a\" y=\"266.844886\"/>\n      </g>\n     </g>\n     <g id=\"text_6\">\n      <!-- 1000 -->\n      <g transform=\"translate(20.878125 270.644105)scale(0.1 -0.1)\">\n       <defs>\n        <path d=\"M 12.40625 8.296875 \nL 28.515625 8.296875 \nL 28.515625 63.921875 \nL 10.984375 60.40625 \nL 10.984375 69.390625 \nL 28.421875 72.90625 \nL 38.28125 72.90625 \nL 38.28125 8.296875 \nL 54.390625 8.296875 \nL 54.390625 0 \nL 12.40625 0 \nz\n\" id=\"DejaVuSans-49\"/>\n       </defs>\n       <use xlink:href=\"#DejaVuSans-49\"/>\n       <use x=\"63.623047\" xlink:href=\"#DejaVuSans-48\"/>\n       <use x=\"127.246094\" xlink:href=\"#DejaVuSans-48\"/>\n       <use x=\"190.869141\" xlink:href=\"#DejaVuSans-48\"/>\n      </g>\n     </g>\n    </g>\n    <g id=\"ytick_4\">\n     <g id=\"line2d_6\">\n      <g>\n       <use style=\"stroke:#000000;stroke-width:0.8;\" x=\"53.328125\" xlink:href=\"#m53e03b653a\" y=\"228.499175\"/>\n      </g>\n     </g>\n     <g id=\"text_7\">\n      <!-- 1500 -->\n      <g transform=\"translate(20.878125 232.298394)scale(0.1 -0.1)\">\n       <use xlink:href=\"#DejaVuSans-49\"/>\n       <use x=\"63.623047\" xlink:href=\"#DejaVuSans-53\"/>\n       <use x=\"127.246094\" xlink:href=\"#DejaVuSans-48\"/>\n       <use x=\"190.869141\" xlink:href=\"#DejaVuSans-48\"/>\n      </g>\n     </g>\n    </g>\n    <g id=\"ytick_5\">\n     <g id=\"line2d_7\">\n      <g>\n       <use style=\"stroke:#000000;stroke-width:0.8;\" x=\"53.328125\" xlink:href=\"#m53e03b653a\" y=\"190.153465\"/>\n      </g>\n     </g>\n     <g id=\"text_8\">\n      <!-- 2000 -->\n      <g transform=\"translate(20.878125 193.952684)scale(0.1 -0.1)\">\n       <defs>\n        <path d=\"M 19.1875 8.296875 \nL 53.609375 8.296875 \nL 53.609375 0 \nL 7.328125 0 \nL 7.328125 8.296875 \nQ 12.9375 14.109375 22.625 23.890625 \nQ 32.328125 33.6875 34.8125 36.53125 \nQ 39.546875 41.84375 41.421875 45.53125 \nQ 43.3125 49.21875 43.3125 52.78125 \nQ 43.3125 58.59375 39.234375 62.25 \nQ 35.15625 65.921875 28.609375 65.921875 \nQ 23.96875 65.921875 18.8125 64.3125 \nQ 13.671875 62.703125 7.8125 59.421875 \nL 7.8125 69.390625 \nQ 13.765625 71.78125 18.9375 73 \nQ 24.125 74.21875 28.421875 74.21875 \nQ 39.75 74.21875 46.484375 68.546875 \nQ 53.21875 62.890625 53.21875 53.421875 \nQ 53.21875 48.921875 51.53125 44.890625 \nQ 49.859375 40.875 45.40625 35.40625 \nQ 44.1875 33.984375 37.640625 27.21875 \nQ 31.109375 20.453125 19.1875 8.296875 \nz\n\" id=\"DejaVuSans-50\"/>\n       </defs>\n       <use xlink:href=\"#DejaVuSans-50\"/>\n       <use x=\"63.623047\" xlink:href=\"#DejaVuSans-48\"/>\n       <use x=\"127.246094\" xlink:href=\"#DejaVuSans-48\"/>\n       <use x=\"190.869141\" xlink:href=\"#DejaVuSans-48\"/>\n      </g>\n     </g>\n    </g>\n    <g id=\"ytick_6\">\n     <g id=\"line2d_8\">\n      <g>\n       <use style=\"stroke:#000000;stroke-width:0.8;\" x=\"53.328125\" xlink:href=\"#m53e03b653a\" y=\"151.807755\"/>\n      </g>\n     </g>\n     <g id=\"text_9\">\n      <!-- 2500 -->\n      <g transform=\"translate(20.878125 155.606973)scale(0.1 -0.1)\">\n       <use xlink:href=\"#DejaVuSans-50\"/>\n       <use x=\"63.623047\" xlink:href=\"#DejaVuSans-53\"/>\n       <use x=\"127.246094\" xlink:href=\"#DejaVuSans-48\"/>\n       <use x=\"190.869141\" xlink:href=\"#DejaVuSans-48\"/>\n      </g>\n     </g>\n    </g>\n    <g id=\"ytick_7\">\n     <g id=\"line2d_9\">\n      <g>\n       <use style=\"stroke:#000000;stroke-width:0.8;\" x=\"53.328125\" xlink:href=\"#m53e03b653a\" y=\"113.462044\"/>\n      </g>\n     </g>\n     <g id=\"text_10\">\n      <!-- 3000 -->\n      <g transform=\"translate(20.878125 117.261263)scale(0.1 -0.1)\">\n       <defs>\n        <path d=\"M 40.578125 39.3125 \nQ 47.65625 37.796875 51.625 33 \nQ 55.609375 28.21875 55.609375 21.1875 \nQ 55.609375 10.40625 48.1875 4.484375 \nQ 40.765625 -1.421875 27.09375 -1.421875 \nQ 22.515625 -1.421875 17.65625 -0.515625 \nQ 12.796875 0.390625 7.625 2.203125 \nL 7.625 11.71875 \nQ 11.71875 9.328125 16.59375 8.109375 \nQ 21.484375 6.890625 26.8125 6.890625 \nQ 36.078125 6.890625 40.9375 10.546875 \nQ 45.796875 14.203125 45.796875 21.1875 \nQ 45.796875 27.640625 41.28125 31.265625 \nQ 36.765625 34.90625 28.71875 34.90625 \nL 20.21875 34.90625 \nL 20.21875 43.015625 \nL 29.109375 43.015625 \nQ 36.375 43.015625 40.234375 45.921875 \nQ 44.09375 48.828125 44.09375 54.296875 \nQ 44.09375 59.90625 40.109375 62.90625 \nQ 36.140625 65.921875 28.71875 65.921875 \nQ 24.65625 65.921875 20.015625 65.03125 \nQ 15.375 64.15625 9.8125 62.3125 \nL 9.8125 71.09375 \nQ 15.4375 72.65625 20.34375 73.4375 \nQ 25.25 74.21875 29.59375 74.21875 \nQ 40.828125 74.21875 47.359375 69.109375 \nQ 53.90625 64.015625 53.90625 55.328125 \nQ 53.90625 49.265625 50.4375 45.09375 \nQ 46.96875 40.921875 40.578125 39.3125 \nz\n\" id=\"DejaVuSans-51\"/>\n       </defs>\n       <use xlink:href=\"#DejaVuSans-51\"/>\n       <use x=\"63.623047\" xlink:href=\"#DejaVuSans-48\"/>\n       <use x=\"127.246094\" xlink:href=\"#DejaVuSans-48\"/>\n       <use x=\"190.869141\" xlink:href=\"#DejaVuSans-48\"/>\n      </g>\n     </g>\n    </g>\n    <g id=\"ytick_8\">\n     <g id=\"line2d_10\">\n      <g>\n       <use style=\"stroke:#000000;stroke-width:0.8;\" x=\"53.328125\" xlink:href=\"#m53e03b653a\" y=\"75.116334\"/>\n      </g>\n     </g>\n     <g id=\"text_11\">\n      <!-- 3500 -->\n      <g transform=\"translate(20.878125 78.915552)scale(0.1 -0.1)\">\n       <use xlink:href=\"#DejaVuSans-51\"/>\n       <use x=\"63.623047\" xlink:href=\"#DejaVuSans-53\"/>\n       <use x=\"127.246094\" xlink:href=\"#DejaVuSans-48\"/>\n       <use x=\"190.869141\" xlink:href=\"#DejaVuSans-48\"/>\n      </g>\n     </g>\n    </g>\n    <g id=\"ytick_9\">\n     <g id=\"line2d_11\">\n      <g>\n       <use style=\"stroke:#000000;stroke-width:0.8;\" x=\"53.328125\" xlink:href=\"#m53e03b653a\" y=\"36.770623\"/>\n      </g>\n     </g>\n     <g id=\"text_12\">\n      <!-- 4000 -->\n      <g transform=\"translate(20.878125 40.569842)scale(0.1 -0.1)\">\n       <defs>\n        <path d=\"M 37.796875 64.3125 \nL 12.890625 25.390625 \nL 37.796875 25.390625 \nz\nM 35.203125 72.90625 \nL 47.609375 72.90625 \nL 47.609375 25.390625 \nL 58.015625 25.390625 \nL 58.015625 17.1875 \nL 47.609375 17.1875 \nL 47.609375 0 \nL 37.796875 0 \nL 37.796875 17.1875 \nL 4.890625 17.1875 \nL 4.890625 26.703125 \nz\n\" id=\"DejaVuSans-52\"/>\n       </defs>\n       <use xlink:href=\"#DejaVuSans-52\"/>\n       <use x=\"63.623047\" xlink:href=\"#DejaVuSans-48\"/>\n       <use x=\"127.246094\" xlink:href=\"#DejaVuSans-48\"/>\n       <use x=\"190.869141\" xlink:href=\"#DejaVuSans-48\"/>\n      </g>\n     </g>\n    </g>\n    <g id=\"text_13\">\n     <!-- Amount of ICU-stays -->\n     <g transform=\"translate(14.798438 234.195185)rotate(-90)scale(0.1 -0.1)\">\n      <defs>\n       <path d=\"M 34.1875 63.1875 \nL 20.796875 26.90625 \nL 47.609375 26.90625 \nz\nM 28.609375 72.90625 \nL 39.796875 72.90625 \nL 67.578125 0 \nL 57.328125 0 \nL 50.6875 18.703125 \nL 17.828125 18.703125 \nL 11.1875 0 \nL 0.78125 0 \nz\n\" id=\"DejaVuSans-65\"/>\n       <path d=\"M 52 44.1875 \nQ 55.375 50.25 60.0625 53.125 \nQ 64.75 56 71.09375 56 \nQ 79.640625 56 84.28125 50.015625 \nQ 88.921875 44.046875 88.921875 33.015625 \nL 88.921875 0 \nL 79.890625 0 \nL 79.890625 32.71875 \nQ 79.890625 40.578125 77.09375 44.375 \nQ 74.3125 48.1875 68.609375 48.1875 \nQ 61.625 48.1875 57.5625 43.546875 \nQ 53.515625 38.921875 53.515625 30.90625 \nL 53.515625 0 \nL 44.484375 0 \nL 44.484375 32.71875 \nQ 44.484375 40.625 41.703125 44.40625 \nQ 38.921875 48.1875 33.109375 48.1875 \nQ 26.21875 48.1875 22.15625 43.53125 \nQ 18.109375 38.875 18.109375 30.90625 \nL 18.109375 0 \nL 9.078125 0 \nL 9.078125 54.6875 \nL 18.109375 54.6875 \nL 18.109375 46.1875 \nQ 21.1875 51.21875 25.484375 53.609375 \nQ 29.78125 56 35.6875 56 \nQ 41.65625 56 45.828125 52.96875 \nQ 50 49.953125 52 44.1875 \nz\n\" id=\"DejaVuSans-109\"/>\n       <path id=\"DejaVuSans-32\"/>\n       <path d=\"M 9.8125 72.90625 \nL 19.671875 72.90625 \nL 19.671875 0 \nL 9.8125 0 \nz\n\" id=\"DejaVuSans-73\"/>\n       <path d=\"M 64.40625 67.28125 \nL 64.40625 56.890625 \nQ 59.421875 61.53125 53.78125 63.8125 \nQ 48.140625 66.109375 41.796875 66.109375 \nQ 29.296875 66.109375 22.65625 58.46875 \nQ 16.015625 50.828125 16.015625 36.375 \nQ 16.015625 21.96875 22.65625 14.328125 \nQ 29.296875 6.6875 41.796875 6.6875 \nQ 48.140625 6.6875 53.78125 8.984375 \nQ 59.421875 11.28125 64.40625 15.921875 \nL 64.40625 5.609375 \nQ 59.234375 2.09375 53.4375 0.328125 \nQ 47.65625 -1.421875 41.21875 -1.421875 \nQ 24.65625 -1.421875 15.125 8.703125 \nQ 5.609375 18.84375 5.609375 36.375 \nQ 5.609375 53.953125 15.125 64.078125 \nQ 24.65625 74.21875 41.21875 74.21875 \nQ 47.75 74.21875 53.53125 72.484375 \nQ 59.328125 70.75 64.40625 67.28125 \nz\n\" id=\"DejaVuSans-67\"/>\n       <path d=\"M 8.6875 72.90625 \nL 18.609375 72.90625 \nL 18.609375 28.609375 \nQ 18.609375 16.890625 22.84375 11.734375 \nQ 27.09375 6.59375 36.625 6.59375 \nQ 46.09375 6.59375 50.34375 11.734375 \nQ 54.59375 16.890625 54.59375 28.609375 \nL 54.59375 72.90625 \nL 64.5 72.90625 \nL 64.5 27.390625 \nQ 64.5 13.140625 57.4375 5.859375 \nQ 50.390625 -1.421875 36.625 -1.421875 \nQ 22.796875 -1.421875 15.734375 5.859375 \nQ 8.6875 13.140625 8.6875 27.390625 \nz\n\" id=\"DejaVuSans-85\"/>\n       <path d=\"M 4.890625 31.390625 \nL 31.203125 31.390625 \nL 31.203125 23.390625 \nL 4.890625 23.390625 \nz\n\" id=\"DejaVuSans-45\"/>\n       <path d=\"M 32.171875 -5.078125 \nQ 28.375 -14.84375 24.75 -17.8125 \nQ 21.140625 -20.796875 15.09375 -20.796875 \nL 7.90625 -20.796875 \nL 7.90625 -13.28125 \nL 13.1875 -13.28125 \nQ 16.890625 -13.28125 18.9375 -11.515625 \nQ 21 -9.765625 23.484375 -3.21875 \nL 25.09375 0.875 \nL 2.984375 54.6875 \nL 12.5 54.6875 \nL 29.59375 11.921875 \nL 46.6875 54.6875 \nL 56.203125 54.6875 \nz\n\" id=\"DejaVuSans-121\"/>\n      </defs>\n      <use xlink:href=\"#DejaVuSans-65\"/>\n      <use x=\"68.408203\" xlink:href=\"#DejaVuSans-109\"/>\n      <use x=\"165.820312\" xlink:href=\"#DejaVuSans-111\"/>\n      <use x=\"227.001953\" xlink:href=\"#DejaVuSans-117\"/>\n      <use x=\"290.380859\" xlink:href=\"#DejaVuSans-110\"/>\n      <use x=\"353.759766\" xlink:href=\"#DejaVuSans-116\"/>\n      <use x=\"392.96875\" xlink:href=\"#DejaVuSans-32\"/>\n      <use x=\"424.755859\" xlink:href=\"#DejaVuSans-111\"/>\n      <use x=\"485.9375\" xlink:href=\"#DejaVuSans-102\"/>\n      <use x=\"521.142578\" xlink:href=\"#DejaVuSans-32\"/>\n      <use x=\"552.929688\" xlink:href=\"#DejaVuSans-73\"/>\n      <use x=\"582.421875\" xlink:href=\"#DejaVuSans-67\"/>\n      <use x=\"652.246094\" xlink:href=\"#DejaVuSans-85\"/>\n      <use x=\"725.439453\" xlink:href=\"#DejaVuSans-45\"/>\n      <use x=\"761.523438\" xlink:href=\"#DejaVuSans-115\"/>\n      <use x=\"813.623047\" xlink:href=\"#DejaVuSans-116\"/>\n      <use x=\"852.832031\" xlink:href=\"#DejaVuSans-97\"/>\n      <use x=\"914.111328\" xlink:href=\"#DejaVuSans-121\"/>\n      <use x=\"973.291016\" xlink:href=\"#DejaVuSans-115\"/>\n     </g>\n    </g>\n   </g>\n   <g id=\"patch_5\">\n    <path d=\"M 53.328125 343.536307 \nL 53.328125 22.318125 \n\" style=\"fill:none;stroke:#000000;stroke-linecap:square;stroke-linejoin:miter;stroke-width:0.8;\"/>\n   </g>\n   <g id=\"patch_6\">\n    <path d=\"M 459.146307 343.536307 \nL 459.146307 22.318125 \n\" style=\"fill:none;stroke:#000000;stroke-linecap:square;stroke-linejoin:miter;stroke-width:0.8;\"/>\n   </g>\n   <g id=\"patch_7\">\n    <path d=\"M 53.328125 343.536307 \nL 459.146307 343.536307 \n\" style=\"fill:none;stroke:#000000;stroke-linecap:square;stroke-linejoin:miter;stroke-width:0.8;\"/>\n   </g>\n   <g id=\"patch_8\">\n    <path d=\"M 53.328125 22.318125 \nL 459.146307 22.318125 \n\" style=\"fill:none;stroke:#000000;stroke-linecap:square;stroke-linejoin:miter;stroke-width:0.8;\"/>\n   </g>\n   <g id=\"text_14\">\n    <!-- 1963 -->\n    <g transform=\"translate(135.942877 190.079485)scale(0.14 -0.14)\">\n     <defs>\n      <path d=\"M 10.984375 1.515625 \nL 10.984375 10.5 \nQ 14.703125 8.734375 18.5 7.8125 \nQ 22.3125 6.890625 25.984375 6.890625 \nQ 35.75 6.890625 40.890625 13.453125 \nQ 46.046875 20.015625 46.78125 33.40625 \nQ 43.953125 29.203125 39.59375 26.953125 \nQ 35.25 24.703125 29.984375 24.703125 \nQ 19.046875 24.703125 12.671875 31.3125 \nQ 6.296875 37.9375 6.296875 49.421875 \nQ 6.296875 60.640625 12.9375 67.421875 \nQ 19.578125 74.21875 30.609375 74.21875 \nQ 43.265625 74.21875 49.921875 64.515625 \nQ 56.59375 54.828125 56.59375 36.375 \nQ 56.59375 19.140625 48.40625 8.859375 \nQ 40.234375 -1.421875 26.421875 -1.421875 \nQ 22.703125 -1.421875 18.890625 -0.6875 \nQ 15.09375 0.046875 10.984375 1.515625 \nz\nM 30.609375 32.421875 \nQ 37.25 32.421875 41.125 36.953125 \nQ 45.015625 41.5 45.015625 49.421875 \nQ 45.015625 57.28125 41.125 61.84375 \nQ 37.25 66.40625 30.609375 66.40625 \nQ 23.96875 66.40625 20.09375 61.84375 \nQ 16.21875 57.28125 16.21875 49.421875 \nQ 16.21875 41.5 20.09375 36.953125 \nQ 23.96875 32.421875 30.609375 32.421875 \nz\n\" id=\"DejaVuSans-57\"/>\n      <path d=\"M 33.015625 40.375 \nQ 26.375 40.375 22.484375 35.828125 \nQ 18.609375 31.296875 18.609375 23.390625 \nQ 18.609375 15.53125 22.484375 10.953125 \nQ 26.375 6.390625 33.015625 6.390625 \nQ 39.65625 6.390625 43.53125 10.953125 \nQ 47.40625 15.53125 47.40625 23.390625 \nQ 47.40625 31.296875 43.53125 35.828125 \nQ 39.65625 40.375 33.015625 40.375 \nz\nM 52.59375 71.296875 \nL 52.59375 62.3125 \nQ 48.875 64.0625 45.09375 64.984375 \nQ 41.3125 65.921875 37.59375 65.921875 \nQ 27.828125 65.921875 22.671875 59.328125 \nQ 17.53125 52.734375 16.796875 39.40625 \nQ 19.671875 43.65625 24.015625 45.921875 \nQ 28.375 48.1875 33.59375 48.1875 \nQ 44.578125 48.1875 50.953125 41.515625 \nQ 57.328125 34.859375 57.328125 23.390625 \nQ 57.328125 12.15625 50.6875 5.359375 \nQ 44.046875 -1.421875 33.015625 -1.421875 \nQ 20.359375 -1.421875 13.671875 8.265625 \nQ 6.984375 17.96875 6.984375 36.375 \nQ 6.984375 53.65625 15.1875 63.9375 \nQ 23.390625 74.21875 37.203125 74.21875 \nQ 40.921875 74.21875 44.703125 73.484375 \nQ 48.484375 72.75 52.59375 71.296875 \nz\n\" id=\"DejaVuSans-54\"/>\n     </defs>\n     <use xlink:href=\"#DejaVuSans-49\"/>\n     <use x=\"63.623047\" xlink:href=\"#DejaVuSans-57\"/>\n     <use x=\"127.246094\" xlink:href=\"#DejaVuSans-54\"/>\n     <use x=\"190.869141\" xlink:href=\"#DejaVuSans-51\"/>\n    </g>\n   </g>\n   <g id=\"text_15\">\n    <!-- 3989 -->\n    <g transform=\"translate(340.901555 34.702666)scale(0.14 -0.14)\">\n     <defs>\n      <path d=\"M 31.78125 34.625 \nQ 24.75 34.625 20.71875 30.859375 \nQ 16.703125 27.09375 16.703125 20.515625 \nQ 16.703125 13.921875 20.71875 10.15625 \nQ 24.75 6.390625 31.78125 6.390625 \nQ 38.8125 6.390625 42.859375 10.171875 \nQ 46.921875 13.96875 46.921875 20.515625 \nQ 46.921875 27.09375 42.890625 30.859375 \nQ 38.875 34.625 31.78125 34.625 \nz\nM 21.921875 38.8125 \nQ 15.578125 40.375 12.03125 44.71875 \nQ 8.5 49.078125 8.5 55.328125 \nQ 8.5 64.0625 14.71875 69.140625 \nQ 20.953125 74.21875 31.78125 74.21875 \nQ 42.671875 74.21875 48.875 69.140625 \nQ 55.078125 64.0625 55.078125 55.328125 \nQ 55.078125 49.078125 51.53125 44.71875 \nQ 48 40.375 41.703125 38.8125 \nQ 48.828125 37.15625 52.796875 32.3125 \nQ 56.78125 27.484375 56.78125 20.515625 \nQ 56.78125 9.90625 50.3125 4.234375 \nQ 43.84375 -1.421875 31.78125 -1.421875 \nQ 19.734375 -1.421875 13.25 4.234375 \nQ 6.78125 9.90625 6.78125 20.515625 \nQ 6.78125 27.484375 10.78125 32.3125 \nQ 14.796875 37.15625 21.921875 38.8125 \nz\nM 18.3125 54.390625 \nQ 18.3125 48.734375 21.84375 45.5625 \nQ 25.390625 42.390625 31.78125 42.390625 \nQ 38.140625 42.390625 41.71875 45.5625 \nQ 45.3125 48.734375 45.3125 54.390625 \nQ 45.3125 60.0625 41.71875 63.234375 \nQ 38.140625 66.40625 31.78125 66.40625 \nQ 25.390625 66.40625 21.84375 63.234375 \nQ 18.3125 60.0625 18.3125 54.390625 \nz\n\" id=\"DejaVuSans-56\"/>\n     </defs>\n     <use xlink:href=\"#DejaVuSans-51\"/>\n     <use x=\"63.623047\" xlink:href=\"#DejaVuSans-57\"/>\n     <use x=\"127.246094\" xlink:href=\"#DejaVuSans-56\"/>\n     <use x=\"190.869141\" xlink:href=\"#DejaVuSans-57\"/>\n    </g>\n   </g>\n   <g id=\"text_16\">\n    <!-- Counting the extubations of an ICU stay -->\n    <g transform=\"translate(136.135966 16.318125)scale(0.12 -0.12)\">\n     <defs>\n      <path d=\"M 45.40625 27.984375 \nQ 45.40625 37.75 41.375 43.109375 \nQ 37.359375 48.484375 30.078125 48.484375 \nQ 22.859375 48.484375 18.828125 43.109375 \nQ 14.796875 37.75 14.796875 27.984375 \nQ 14.796875 18.265625 18.828125 12.890625 \nQ 22.859375 7.515625 30.078125 7.515625 \nQ 37.359375 7.515625 41.375 12.890625 \nQ 45.40625 18.265625 45.40625 27.984375 \nz\nM 54.390625 6.78125 \nQ 54.390625 -7.171875 48.1875 -13.984375 \nQ 42 -20.796875 29.203125 -20.796875 \nQ 24.46875 -20.796875 20.265625 -20.09375 \nQ 16.0625 -19.390625 12.109375 -17.921875 \nL 12.109375 -9.1875 \nQ 16.0625 -11.328125 19.921875 -12.34375 \nQ 23.78125 -13.375 27.78125 -13.375 \nQ 36.625 -13.375 41.015625 -8.765625 \nQ 45.40625 -4.15625 45.40625 5.171875 \nL 45.40625 9.625 \nQ 42.625 4.78125 38.28125 2.390625 \nQ 33.9375 0 27.875 0 \nQ 17.828125 0 11.671875 7.65625 \nQ 5.515625 15.328125 5.515625 27.984375 \nQ 5.515625 40.671875 11.671875 48.328125 \nQ 17.828125 56 27.875 56 \nQ 33.9375 56 38.28125 53.609375 \nQ 42.625 51.21875 45.40625 46.390625 \nL 45.40625 54.6875 \nL 54.390625 54.6875 \nz\n\" id=\"DejaVuSans-103\"/>\n      <path d=\"M 54.890625 33.015625 \nL 54.890625 0 \nL 45.90625 0 \nL 45.90625 32.71875 \nQ 45.90625 40.484375 42.875 44.328125 \nQ 39.84375 48.1875 33.796875 48.1875 \nQ 26.515625 48.1875 22.3125 43.546875 \nQ 18.109375 38.921875 18.109375 30.90625 \nL 18.109375 0 \nL 9.078125 0 \nL 9.078125 75.984375 \nL 18.109375 75.984375 \nL 18.109375 46.1875 \nQ 21.34375 51.125 25.703125 53.5625 \nQ 30.078125 56 35.796875 56 \nQ 45.21875 56 50.046875 50.171875 \nQ 54.890625 44.34375 54.890625 33.015625 \nz\n\" id=\"DejaVuSans-104\"/>\n     </defs>\n     <use xlink:href=\"#DejaVuSans-67\"/>\n     <use x=\"69.824219\" xlink:href=\"#DejaVuSans-111\"/>\n     <use x=\"131.005859\" xlink:href=\"#DejaVuSans-117\"/>\n     <use x=\"194.384766\" xlink:href=\"#DejaVuSans-110\"/>\n     <use x=\"257.763672\" xlink:href=\"#DejaVuSans-116\"/>\n     <use x=\"296.972656\" xlink:href=\"#DejaVuSans-105\"/>\n     <use x=\"324.755859\" xlink:href=\"#DejaVuSans-110\"/>\n     <use x=\"388.134766\" xlink:href=\"#DejaVuSans-103\"/>\n     <use x=\"451.611328\" xlink:href=\"#DejaVuSans-32\"/>\n     <use x=\"483.398438\" xlink:href=\"#DejaVuSans-116\"/>\n     <use x=\"522.607422\" xlink:href=\"#DejaVuSans-104\"/>\n     <use x=\"585.986328\" xlink:href=\"#DejaVuSans-101\"/>\n     <use x=\"647.509766\" xlink:href=\"#DejaVuSans-32\"/>\n     <use x=\"679.296875\" xlink:href=\"#DejaVuSans-101\"/>\n     <use x=\"739.070312\" xlink:href=\"#DejaVuSans-120\"/>\n     <use x=\"798.25\" xlink:href=\"#DejaVuSans-116\"/>\n     <use x=\"837.458984\" xlink:href=\"#DejaVuSans-117\"/>\n     <use x=\"900.837891\" xlink:href=\"#DejaVuSans-98\"/>\n     <use x=\"964.314453\" xlink:href=\"#DejaVuSans-97\"/>\n     <use x=\"1025.59375\" xlink:href=\"#DejaVuSans-116\"/>\n     <use x=\"1064.802734\" xlink:href=\"#DejaVuSans-105\"/>\n     <use x=\"1092.585938\" xlink:href=\"#DejaVuSans-111\"/>\n     <use x=\"1153.767578\" xlink:href=\"#DejaVuSans-110\"/>\n     <use x=\"1217.146484\" xlink:href=\"#DejaVuSans-115\"/>\n     <use x=\"1269.246094\" xlink:href=\"#DejaVuSans-32\"/>\n     <use x=\"1301.033203\" xlink:href=\"#DejaVuSans-111\"/>\n     <use x=\"1362.214844\" xlink:href=\"#DejaVuSans-102\"/>\n     <use x=\"1397.419922\" xlink:href=\"#DejaVuSans-32\"/>\n     <use x=\"1429.207031\" xlink:href=\"#DejaVuSans-97\"/>\n     <use x=\"1490.486328\" xlink:href=\"#DejaVuSans-110\"/>\n     <use x=\"1553.865234\" xlink:href=\"#DejaVuSans-32\"/>\n     <use x=\"1585.652344\" xlink:href=\"#DejaVuSans-73\"/>\n     <use x=\"1615.144531\" xlink:href=\"#DejaVuSans-67\"/>\n     <use x=\"1684.96875\" xlink:href=\"#DejaVuSans-85\"/>\n     <use x=\"1758.162109\" xlink:href=\"#DejaVuSans-32\"/>\n     <use x=\"1789.949219\" xlink:href=\"#DejaVuSans-115\"/>\n     <use x=\"1842.048828\" xlink:href=\"#DejaVuSans-116\"/>\n     <use x=\"1881.257812\" xlink:href=\"#DejaVuSans-97\"/>\n     <use x=\"1942.537109\" xlink:href=\"#DejaVuSans-121\"/>\n    </g>\n   </g>\n  </g>\n  <g id=\"axes_2\">\n   <g id=\"patch_9\">\n    <path d=\"M 540.309943 343.536307 \nL 946.128125 343.536307 \nL 946.128125 22.318125 \nL 540.309943 22.318125 \nz\n\" style=\"fill:#ffffff;\"/>\n   </g>\n   <g id=\"patch_10\">\n    <path clip-path=\"url(#p1a40d0ad48)\" d=\"M 558.756224 343.536307 \nL 664.163544 343.536307 \nL 664.163544 37.614229 \nL 558.756224 37.614229 \nz\n\" style=\"fill:#1f77b4;\"/>\n   </g>\n   <g id=\"patch_11\">\n    <path clip-path=\"url(#p1a40d0ad48)\" d=\"M 690.515374 343.536307 \nL 795.922694 343.536307 \nL 795.922694 322.469326 \nL 690.515374 322.469326 \nz\n\" style=\"fill:#1f77b4;\"/>\n   </g>\n   <g id=\"patch_12\">\n    <path clip-path=\"url(#p1a40d0ad48)\" d=\"M 822.274524 343.536307 \nL 927.681844 343.536307 \nL 927.681844 182.623917 \nL 822.274524 182.623917 \nz\n\" style=\"fill:#1f77b4;\"/>\n   </g>\n   <g id=\"matplotlib.axis_3\">\n    <g id=\"xtick_3\">\n     <g id=\"line2d_12\">\n      <g>\n       <use style=\"stroke:#000000;stroke-width:0.8;\" x=\"611.459884\" xlink:href=\"#m8cdd600d02\" y=\"343.536307\"/>\n      </g>\n     </g>\n     <g id=\"text_17\">\n      <!-- extubed once -->\n      <g transform=\"translate(577.314572 358.134744)scale(0.1 -0.1)\">\n       <use xlink:href=\"#DejaVuSans-101\"/>\n       <use x=\"59.773438\" xlink:href=\"#DejaVuSans-120\"/>\n       <use x=\"118.953125\" xlink:href=\"#DejaVuSans-116\"/>\n       <use x=\"158.162109\" xlink:href=\"#DejaVuSans-117\"/>\n       <use x=\"221.541016\" xlink:href=\"#DejaVuSans-98\"/>\n       <use x=\"285.017578\" xlink:href=\"#DejaVuSans-101\"/>\n       <use x=\"346.541016\" xlink:href=\"#DejaVuSans-100\"/>\n       <use x=\"410.017578\" xlink:href=\"#DejaVuSans-32\"/>\n       <use x=\"441.804688\" xlink:href=\"#DejaVuSans-111\"/>\n       <use x=\"502.986328\" xlink:href=\"#DejaVuSans-110\"/>\n       <use x=\"566.365234\" xlink:href=\"#DejaVuSans-99\"/>\n       <use x=\"621.345703\" xlink:href=\"#DejaVuSans-101\"/>\n      </g>\n     </g>\n    </g>\n    <g id=\"xtick_4\">\n     <g id=\"line2d_13\">\n      <g>\n       <use style=\"stroke:#000000;stroke-width:0.8;\" x=\"743.219034\" xlink:href=\"#m8cdd600d02\" y=\"343.536307\"/>\n      </g>\n     </g>\n     <g id=\"text_18\">\n      <!-- extubed multiple times -->\n      <g transform=\"translate(685.220597 358.134744)scale(0.1 -0.1)\">\n       <defs>\n        <path d=\"M 18.109375 8.203125 \nL 18.109375 -20.796875 \nL 9.078125 -20.796875 \nL 9.078125 54.6875 \nL 18.109375 54.6875 \nL 18.109375 46.390625 \nQ 20.953125 51.265625 25.265625 53.625 \nQ 29.59375 56 35.59375 56 \nQ 45.5625 56 51.78125 48.09375 \nQ 58.015625 40.1875 58.015625 27.296875 \nQ 58.015625 14.40625 51.78125 6.484375 \nQ 45.5625 -1.421875 35.59375 -1.421875 \nQ 29.59375 -1.421875 25.265625 0.953125 \nQ 20.953125 3.328125 18.109375 8.203125 \nz\nM 48.6875 27.296875 \nQ 48.6875 37.203125 44.609375 42.84375 \nQ 40.53125 48.484375 33.40625 48.484375 \nQ 26.265625 48.484375 22.1875 42.84375 \nQ 18.109375 37.203125 18.109375 27.296875 \nQ 18.109375 17.390625 22.1875 11.75 \nQ 26.265625 6.109375 33.40625 6.109375 \nQ 40.53125 6.109375 44.609375 11.75 \nQ 48.6875 17.390625 48.6875 27.296875 \nz\n\" id=\"DejaVuSans-112\"/>\n       </defs>\n       <use xlink:href=\"#DejaVuSans-101\"/>\n       <use x=\"59.773438\" xlink:href=\"#DejaVuSans-120\"/>\n       <use x=\"118.953125\" xlink:href=\"#DejaVuSans-116\"/>\n       <use x=\"158.162109\" xlink:href=\"#DejaVuSans-117\"/>\n       <use x=\"221.541016\" xlink:href=\"#DejaVuSans-98\"/>\n       <use x=\"285.017578\" xlink:href=\"#DejaVuSans-101\"/>\n       <use x=\"346.541016\" xlink:href=\"#DejaVuSans-100\"/>\n       <use x=\"410.017578\" xlink:href=\"#DejaVuSans-32\"/>\n       <use x=\"441.804688\" xlink:href=\"#DejaVuSans-109\"/>\n       <use x=\"539.216797\" xlink:href=\"#DejaVuSans-117\"/>\n       <use x=\"602.595703\" xlink:href=\"#DejaVuSans-108\"/>\n       <use x=\"630.378906\" xlink:href=\"#DejaVuSans-116\"/>\n       <use x=\"669.587891\" xlink:href=\"#DejaVuSans-105\"/>\n       <use x=\"697.371094\" xlink:href=\"#DejaVuSans-112\"/>\n       <use x=\"760.847656\" xlink:href=\"#DejaVuSans-108\"/>\n       <use x=\"788.630859\" xlink:href=\"#DejaVuSans-101\"/>\n       <use x=\"850.154297\" xlink:href=\"#DejaVuSans-32\"/>\n       <use x=\"881.941406\" xlink:href=\"#DejaVuSans-116\"/>\n       <use x=\"921.150391\" xlink:href=\"#DejaVuSans-105\"/>\n       <use x=\"948.933594\" xlink:href=\"#DejaVuSans-109\"/>\n       <use x=\"1046.345703\" xlink:href=\"#DejaVuSans-101\"/>\n       <use x=\"1107.869141\" xlink:href=\"#DejaVuSans-115\"/>\n      </g>\n     </g>\n    </g>\n    <g id=\"xtick_5\">\n     <g id=\"line2d_14\">\n      <g>\n       <use style=\"stroke:#000000;stroke-width:0.8;\" x=\"874.978184\" xlink:href=\"#m8cdd600d02\" y=\"343.536307\"/>\n      </g>\n     </g>\n     <g id=\"text_19\">\n      <!-- failed -->\n      <g transform=\"translate(861.125059 358.134744)scale(0.1 -0.1)\">\n       <use xlink:href=\"#DejaVuSans-102\"/>\n       <use x=\"35.205078\" xlink:href=\"#DejaVuSans-97\"/>\n       <use x=\"96.484375\" xlink:href=\"#DejaVuSans-105\"/>\n       <use x=\"124.267578\" xlink:href=\"#DejaVuSans-108\"/>\n       <use x=\"152.050781\" xlink:href=\"#DejaVuSans-101\"/>\n       <use x=\"213.574219\" xlink:href=\"#DejaVuSans-100\"/>\n      </g>\n     </g>\n    </g>\n    <g id=\"text_20\">\n     <!-- Extubations -->\n     <g transform=\"translate(713.551065 371.812869)scale(0.1 -0.1)\">\n      <use xlink:href=\"#DejaVuSans-69\"/>\n      <use x=\"63.183594\" xlink:href=\"#DejaVuSans-120\"/>\n      <use x=\"122.363281\" xlink:href=\"#DejaVuSans-116\"/>\n      <use x=\"161.572266\" xlink:href=\"#DejaVuSans-117\"/>\n      <use x=\"224.951172\" xlink:href=\"#DejaVuSans-98\"/>\n      <use x=\"288.427734\" xlink:href=\"#DejaVuSans-97\"/>\n      <use x=\"349.707031\" xlink:href=\"#DejaVuSans-116\"/>\n      <use x=\"388.916016\" xlink:href=\"#DejaVuSans-105\"/>\n      <use x=\"416.699219\" xlink:href=\"#DejaVuSans-111\"/>\n      <use x=\"477.880859\" xlink:href=\"#DejaVuSans-110\"/>\n      <use x=\"541.259766\" xlink:href=\"#DejaVuSans-115\"/>\n     </g>\n    </g>\n   </g>\n   <g id=\"matplotlib.axis_4\">\n    <g id=\"ytick_10\">\n     <g id=\"line2d_15\">\n      <g>\n       <use style=\"stroke:#000000;stroke-width:0.8;\" x=\"540.309943\" xlink:href=\"#m53e03b653a\" y=\"343.536307\"/>\n      </g>\n     </g>\n     <g id=\"text_21\">\n      <!-- 0 -->\n      <g transform=\"translate(526.947443 347.335526)scale(0.1 -0.1)\">\n       <use xlink:href=\"#DejaVuSans-48\"/>\n      </g>\n     </g>\n    </g>\n    <g id=\"ytick_11\">\n     <g id=\"line2d_16\">\n      <g>\n       <use style=\"stroke:#000000;stroke-width:0.8;\" x=\"540.309943\" xlink:href=\"#m53e03b653a\" y=\"302.549962\"/>\n      </g>\n     </g>\n     <g id=\"text_22\">\n      <!-- 500 -->\n      <g transform=\"translate(514.222443 306.349181)scale(0.1 -0.1)\">\n       <use xlink:href=\"#DejaVuSans-53\"/>\n       <use x=\"63.623047\" xlink:href=\"#DejaVuSans-48\"/>\n       <use x=\"127.246094\" xlink:href=\"#DejaVuSans-48\"/>\n      </g>\n     </g>\n    </g>\n    <g id=\"ytick_12\">\n     <g id=\"line2d_17\">\n      <g>\n       <use style=\"stroke:#000000;stroke-width:0.8;\" x=\"540.309943\" xlink:href=\"#m53e03b653a\" y=\"261.563617\"/>\n      </g>\n     </g>\n     <g id=\"text_23\">\n      <!-- 1000 -->\n      <g transform=\"translate(507.859943 265.362836)scale(0.1 -0.1)\">\n       <use xlink:href=\"#DejaVuSans-49\"/>\n       <use x=\"63.623047\" xlink:href=\"#DejaVuSans-48\"/>\n       <use x=\"127.246094\" xlink:href=\"#DejaVuSans-48\"/>\n       <use x=\"190.869141\" xlink:href=\"#DejaVuSans-48\"/>\n      </g>\n     </g>\n    </g>\n    <g id=\"ytick_13\">\n     <g id=\"line2d_18\">\n      <g>\n       <use style=\"stroke:#000000;stroke-width:0.8;\" x=\"540.309943\" xlink:href=\"#m53e03b653a\" y=\"220.577272\"/>\n      </g>\n     </g>\n     <g id=\"text_24\">\n      <!-- 1500 -->\n      <g transform=\"translate(507.859943 224.376491)scale(0.1 -0.1)\">\n       <use xlink:href=\"#DejaVuSans-49\"/>\n       <use x=\"63.623047\" xlink:href=\"#DejaVuSans-53\"/>\n       <use x=\"127.246094\" xlink:href=\"#DejaVuSans-48\"/>\n       <use x=\"190.869141\" xlink:href=\"#DejaVuSans-48\"/>\n      </g>\n     </g>\n    </g>\n    <g id=\"ytick_14\">\n     <g id=\"line2d_19\">\n      <g>\n       <use style=\"stroke:#000000;stroke-width:0.8;\" x=\"540.309943\" xlink:href=\"#m53e03b653a\" y=\"179.590927\"/>\n      </g>\n     </g>\n     <g id=\"text_25\">\n      <!-- 2000 -->\n      <g transform=\"translate(507.859943 183.390146)scale(0.1 -0.1)\">\n       <use xlink:href=\"#DejaVuSans-50\"/>\n       <use x=\"63.623047\" xlink:href=\"#DejaVuSans-48\"/>\n       <use x=\"127.246094\" xlink:href=\"#DejaVuSans-48\"/>\n       <use x=\"190.869141\" xlink:href=\"#DejaVuSans-48\"/>\n      </g>\n     </g>\n    </g>\n    <g id=\"ytick_15\">\n     <g id=\"line2d_20\">\n      <g>\n       <use style=\"stroke:#000000;stroke-width:0.8;\" x=\"540.309943\" xlink:href=\"#m53e03b653a\" y=\"138.604583\"/>\n      </g>\n     </g>\n     <g id=\"text_26\">\n      <!-- 2500 -->\n      <g transform=\"translate(507.859943 142.403801)scale(0.1 -0.1)\">\n       <use xlink:href=\"#DejaVuSans-50\"/>\n       <use x=\"63.623047\" xlink:href=\"#DejaVuSans-53\"/>\n       <use x=\"127.246094\" xlink:href=\"#DejaVuSans-48\"/>\n       <use x=\"190.869141\" xlink:href=\"#DejaVuSans-48\"/>\n      </g>\n     </g>\n    </g>\n    <g id=\"ytick_16\">\n     <g id=\"line2d_21\">\n      <g>\n       <use style=\"stroke:#000000;stroke-width:0.8;\" x=\"540.309943\" xlink:href=\"#m53e03b653a\" y=\"97.618238\"/>\n      </g>\n     </g>\n     <g id=\"text_27\">\n      <!-- 3000 -->\n      <g transform=\"translate(507.859943 101.417456)scale(0.1 -0.1)\">\n       <use xlink:href=\"#DejaVuSans-51\"/>\n       <use x=\"63.623047\" xlink:href=\"#DejaVuSans-48\"/>\n       <use x=\"127.246094\" xlink:href=\"#DejaVuSans-48\"/>\n       <use x=\"190.869141\" xlink:href=\"#DejaVuSans-48\"/>\n      </g>\n     </g>\n    </g>\n    <g id=\"ytick_17\">\n     <g id=\"line2d_22\">\n      <g>\n       <use style=\"stroke:#000000;stroke-width:0.8;\" x=\"540.309943\" xlink:href=\"#m53e03b653a\" y=\"56.631893\"/>\n      </g>\n     </g>\n     <g id=\"text_28\">\n      <!-- 3500 -->\n      <g transform=\"translate(507.859943 60.431112)scale(0.1 -0.1)\">\n       <use xlink:href=\"#DejaVuSans-51\"/>\n       <use x=\"63.623047\" xlink:href=\"#DejaVuSans-53\"/>\n       <use x=\"127.246094\" xlink:href=\"#DejaVuSans-48\"/>\n       <use x=\"190.869141\" xlink:href=\"#DejaVuSans-48\"/>\n      </g>\n     </g>\n    </g>\n    <g id=\"text_29\">\n     <!-- Amount of ICU-stays -->\n     <g transform=\"translate(501.780256 234.195185)rotate(-90)scale(0.1 -0.1)\">\n      <use xlink:href=\"#DejaVuSans-65\"/>\n      <use x=\"68.408203\" xlink:href=\"#DejaVuSans-109\"/>\n      <use x=\"165.820312\" xlink:href=\"#DejaVuSans-111\"/>\n      <use x=\"227.001953\" xlink:href=\"#DejaVuSans-117\"/>\n      <use x=\"290.380859\" xlink:href=\"#DejaVuSans-110\"/>\n      <use x=\"353.759766\" xlink:href=\"#DejaVuSans-116\"/>\n      <use x=\"392.96875\" xlink:href=\"#DejaVuSans-32\"/>\n      <use x=\"424.755859\" xlink:href=\"#DejaVuSans-111\"/>\n      <use x=\"485.9375\" xlink:href=\"#DejaVuSans-102\"/>\n      <use x=\"521.142578\" xlink:href=\"#DejaVuSans-32\"/>\n      <use x=\"552.929688\" xlink:href=\"#DejaVuSans-73\"/>\n      <use x=\"582.421875\" xlink:href=\"#DejaVuSans-67\"/>\n      <use x=\"652.246094\" xlink:href=\"#DejaVuSans-85\"/>\n      <use x=\"725.439453\" xlink:href=\"#DejaVuSans-45\"/>\n      <use x=\"761.523438\" xlink:href=\"#DejaVuSans-115\"/>\n      <use x=\"813.623047\" xlink:href=\"#DejaVuSans-116\"/>\n      <use x=\"852.832031\" xlink:href=\"#DejaVuSans-97\"/>\n      <use x=\"914.111328\" xlink:href=\"#DejaVuSans-121\"/>\n      <use x=\"973.291016\" xlink:href=\"#DejaVuSans-115\"/>\n     </g>\n    </g>\n   </g>\n   <g id=\"patch_13\">\n    <path d=\"M 540.309943 343.536307 \nL 540.309943 22.318125 \n\" style=\"fill:none;stroke:#000000;stroke-linecap:square;stroke-linejoin:miter;stroke-width:0.8;\"/>\n   </g>\n   <g id=\"patch_14\">\n    <path d=\"M 946.128125 343.536307 \nL 946.128125 22.318125 \n\" style=\"fill:none;stroke:#000000;stroke-linecap:square;stroke-linejoin:miter;stroke-width:0.8;\"/>\n   </g>\n   <g id=\"patch_15\">\n    <path d=\"M 540.309943 343.536307 \nL 946.128125 343.536307 \n\" style=\"fill:none;stroke:#000000;stroke-linecap:square;stroke-linejoin:miter;stroke-width:0.8;\"/>\n   </g>\n   <g id=\"patch_16\">\n    <path d=\"M 540.309943 22.318125 \nL 946.128125 22.318125 \n\" style=\"fill:none;stroke:#000000;stroke-linecap:square;stroke-linejoin:miter;stroke-width:0.8;\"/>\n   </g>\n   <g id=\"text_30\">\n    <!-- 3732 -->\n    <g transform=\"translate(593.644884 34.702666)scale(0.14 -0.14)\">\n     <defs>\n      <path d=\"M 8.203125 72.90625 \nL 55.078125 72.90625 \nL 55.078125 68.703125 \nL 28.609375 0 \nL 18.3125 0 \nL 43.21875 64.59375 \nL 8.203125 64.59375 \nz\n\" id=\"DejaVuSans-55\"/>\n     </defs>\n     <use xlink:href=\"#DejaVuSans-51\"/>\n     <use x=\"63.623047\" xlink:href=\"#DejaVuSans-55\"/>\n     <use x=\"127.246094\" xlink:href=\"#DejaVuSans-51\"/>\n     <use x=\"190.869141\" xlink:href=\"#DejaVuSans-50\"/>\n    </g>\n   </g>\n   <g id=\"text_31\">\n    <!-- 257 -->\n    <g transform=\"translate(729.857784 319.557763)scale(0.14 -0.14)\">\n     <use xlink:href=\"#DejaVuSans-50\"/>\n     <use x=\"63.623047\" xlink:href=\"#DejaVuSans-53\"/>\n     <use x=\"127.246094\" xlink:href=\"#DejaVuSans-55\"/>\n    </g>\n   </g>\n   <g id=\"text_32\">\n    <!-- 1963 -->\n    <g transform=\"translate(857.163184 179.712354)scale(0.14 -0.14)\">\n     <use xlink:href=\"#DejaVuSans-49\"/>\n     <use x=\"63.623047\" xlink:href=\"#DejaVuSans-57\"/>\n     <use x=\"127.246094\" xlink:href=\"#DejaVuSans-54\"/>\n     <use x=\"190.869141\" xlink:href=\"#DejaVuSans-51\"/>\n    </g>\n   </g>\n   <g id=\"text_33\">\n    <!-- Counting the extubations of an ICU stay -->\n    <g transform=\"translate(623.117784 16.318125)scale(0.12 -0.12)\">\n     <use xlink:href=\"#DejaVuSans-67\"/>\n     <use x=\"69.824219\" xlink:href=\"#DejaVuSans-111\"/>\n     <use x=\"131.005859\" xlink:href=\"#DejaVuSans-117\"/>\n     <use x=\"194.384766\" xlink:href=\"#DejaVuSans-110\"/>\n     <use x=\"257.763672\" xlink:href=\"#DejaVuSans-116\"/>\n     <use x=\"296.972656\" xlink:href=\"#DejaVuSans-105\"/>\n     <use x=\"324.755859\" xlink:href=\"#DejaVuSans-110\"/>\n     <use x=\"388.134766\" xlink:href=\"#DejaVuSans-103\"/>\n     <use x=\"451.611328\" xlink:href=\"#DejaVuSans-32\"/>\n     <use x=\"483.398438\" xlink:href=\"#DejaVuSans-116\"/>\n     <use x=\"522.607422\" xlink:href=\"#DejaVuSans-104\"/>\n     <use x=\"585.986328\" xlink:href=\"#DejaVuSans-101\"/>\n     <use x=\"647.509766\" xlink:href=\"#DejaVuSans-32\"/>\n     <use x=\"679.296875\" xlink:href=\"#DejaVuSans-101\"/>\n     <use x=\"739.070312\" xlink:href=\"#DejaVuSans-120\"/>\n     <use x=\"798.25\" xlink:href=\"#DejaVuSans-116\"/>\n     <use x=\"837.458984\" xlink:href=\"#DejaVuSans-117\"/>\n     <use x=\"900.837891\" xlink:href=\"#DejaVuSans-98\"/>\n     <use x=\"964.314453\" xlink:href=\"#DejaVuSans-97\"/>\n     <use x=\"1025.59375\" xlink:href=\"#DejaVuSans-116\"/>\n     <use x=\"1064.802734\" xlink:href=\"#DejaVuSans-105\"/>\n     <use x=\"1092.585938\" xlink:href=\"#DejaVuSans-111\"/>\n     <use x=\"1153.767578\" xlink:href=\"#DejaVuSans-110\"/>\n     <use x=\"1217.146484\" xlink:href=\"#DejaVuSans-115\"/>\n     <use x=\"1269.246094\" xlink:href=\"#DejaVuSans-32\"/>\n     <use x=\"1301.033203\" xlink:href=\"#DejaVuSans-111\"/>\n     <use x=\"1362.214844\" xlink:href=\"#DejaVuSans-102\"/>\n     <use x=\"1397.419922\" xlink:href=\"#DejaVuSans-32\"/>\n     <use x=\"1429.207031\" xlink:href=\"#DejaVuSans-97\"/>\n     <use x=\"1490.486328\" xlink:href=\"#DejaVuSans-110\"/>\n     <use x=\"1553.865234\" xlink:href=\"#DejaVuSans-32\"/>\n     <use x=\"1585.652344\" xlink:href=\"#DejaVuSans-73\"/>\n     <use x=\"1615.144531\" xlink:href=\"#DejaVuSans-67\"/>\n     <use x=\"1684.96875\" xlink:href=\"#DejaVuSans-85\"/>\n     <use x=\"1758.162109\" xlink:href=\"#DejaVuSans-32\"/>\n     <use x=\"1789.949219\" xlink:href=\"#DejaVuSans-115\"/>\n     <use x=\"1842.048828\" xlink:href=\"#DejaVuSans-116\"/>\n     <use x=\"1881.257812\" xlink:href=\"#DejaVuSans-97\"/>\n     <use x=\"1942.537109\" xlink:href=\"#DejaVuSans-121\"/>\n    </g>\n   </g>\n  </g>\n </g>\n <defs>\n  <clipPath id=\"p5357af2cbb\">\n   <rect height=\"321.218182\" width=\"405.818182\" x=\"53.328125\" y=\"22.318125\"/>\n  </clipPath>\n  <clipPath id=\"p1a40d0ad48\">\n   <rect height=\"321.218182\" width=\"405.818182\" x=\"540.309943\" y=\"22.318125\"/>\n  </clipPath>\n </defs>\n</svg>\n",
      "image/png": "[encoded data removed]"
     },
     "metadata": {
      "needs_background": "light"
     }
    }
   ],
   "source": [
    "fig = plt.figure(figsize=(16,13))\n",
    "ax1 = fig.add_subplot(2, 2, 1)\n",
    "x_val1 = ['failed', 'success']\n",
    "y_val1 = df_label_ex.groupby('label').icustay_id.count()\n",
    "ax1.bar(x= x_val1, height=y_val1)\n",
    "for _, value in enumerate(y_val1):\n",
    "    plt.text(x_val1[_], value, str(value), fontsize=14,\n",
    "            horizontalalignment='center', va='bottom')\n",
    "plt.ylabel('Amount of ICU-stays')\n",
    "plt.xlabel('Extubations')\n",
    "plt.title('Counting the extubations of an ICU stay')\n",
    "\n",
    "ax2 = fig.add_subplot(2, 2, 2)\n",
    "x_val2 = ['extubed once', 'extubed multiple times', 'failed']\n",
    "y_val2 = [df_label_ex[(df_label_ex.hour_to_reintub.isna())].hadm_id.count(),\n",
    "         df_label_ex[(df_label_ex.hour_to_reintub > 48)].hadm_id.count(),\n",
    "         df_label_ex[(df_label_ex.label == 0)].hadm_id.count()]\n",
    "ax2.bar(x= x_val2, height=y_val2)\n",
    "\n",
    "for _, value in enumerate(y_val2):\n",
    "    plt.text(x_val2[_], value, str(value), fontsize=14,\n",
    "            horizontalalignment='center', va='bottom')\n",
    "\n",
    "plt.ylabel('Amount of ICU-stays')\n",
    "plt.xlabel('Extubations')\n",
    "plt.title('Counting the extubations of an ICU stay')\n",
    "plt.savefig('./images/label_extubations.png')\n",
    "plt.show();"
   ]
  },
  {
   "cell_type": "code",
   "execution_count": 60,
   "metadata": {},
   "outputs": [
    {
     "output_type": "execute_result",
     "data": {
      "text/plain": [
       "5590"
      ]
     },
     "metadata": {},
     "execution_count": 60
    }
   ],
   "source": [
    "df_label_ex.hadm_id.nunique()"
   ]
  },
  {
   "cell_type": "code",
   "execution_count": 61,
   "metadata": {},
   "outputs": [
    {
     "output_type": "execute_result",
     "data": {
      "text/plain": [
       "5952"
      ]
     },
     "metadata": {},
     "execution_count": 61
    }
   ],
   "source": [
    "df_label_ex.icustay_id.nunique()"
   ]
  },
  {
   "cell_type": "markdown",
   "metadata": {},
   "source": [
    "Some patients have been successfully extubated more often during their stay in hospital."
   ]
  },
  {
   "cell_type": "markdown",
   "metadata": {},
   "source": [
    "# Creating the final queries"
   ]
  },
  {
   "cell_type": "markdown",
   "metadata": {},
   "source": [
    "## Patient_Group"
   ]
  },
  {
   "cell_type": "markdown",
   "metadata": {},
   "source": [
    "Create the query to get the static features of entries already found in hadm_overview "
   ]
  },
  {
   "cell_type": "code",
   "execution_count": 62,
   "metadata": {},
   "outputs": [],
   "source": [
    "sql = \"\"\"select * from vw_patient_group\"\"\"\n",
    "df_goal = pd.read_sql(sql, conn)"
   ]
  },
  {
   "cell_type": "markdown",
   "metadata": {},
   "source": [
    "Saving the query ('.sql/06_view_patients_group.sql') as `vw_patient_group` "
   ]
  },
  {
   "cell_type": "code",
   "execution_count": 63,
   "metadata": {},
   "outputs": [
    {
     "output_type": "execute_result",
     "data": {
      "text/plain": [
       "(5897, 13)"
      ]
     },
     "metadata": {},
     "execution_count": 63
    }
   ],
   "source": [
    "df_goal.shape"
   ]
  },
  {
   "cell_type": "code",
   "execution_count": null,
   "metadata": {},
   "outputs": [],
   "source": [
    "df_goal.to_csv('data/patient_group.csv', encoding='UTF-8', index=False)"
   ]
  },
  {
   "cell_type": "code",
   "execution_count": null,
   "metadata": {},
   "outputs": [],
   "source": []
  },
  {
   "cell_type": "markdown",
   "metadata": {},
   "source": [
    "## Events from labevents"
   ]
  },
  {
   "cell_type": "code",
   "execution_count": 64,
   "metadata": {},
   "outputs": [],
   "source": [
    "sql = \"\"\"SELECT l.hadm_id,\n",
    "    last_val.icustay_id,\n",
    "    l.itemid,\n",
    "    l.value,\n",
    "    last_val.ts,\n",
    "        CASE\n",
    "            WHEN l.itemid = 50821 THEN 'Pa02'::text\n",
    "            WHEN l.itemid = 50802 THEN 'base_excess'::text\n",
    "            WHEN l.itemid = 50820 THEN 'pH'::text\n",
    "            WHEN l.itemid = 51222 THEN 'hb'::text\n",
    "            WHEN l.itemid = 51221 THEN 'hct'::text\n",
    "            WHEN l.itemid = 50912 THEN 'creatinin'::text\n",
    "            ELSE NULL::text\n",
    "        END AS item\n",
    "   FROM labevents l\n",
    "     JOIN ( SELECT last_events.hadm_id,\n",
    "            last_events.icustay_id,\n",
    "            last_events.itemid,\n",
    "            max(last_events.charttime) AS ts\n",
    "           FROM ( SELECT l2.hadm_id,\n",
    "                    l2.itemid,\n",
    "                    min_ts.icustay_id,\n",
    "                    l2.charttime,\n",
    "                    l2.value\n",
    "                   FROM labevents l2\n",
    "                   JOIN ( SELECT vte.hadm_id,\n",
    "                            vte.icustay_id,\n",
    "                            min(vte.charttime) AS ext_ts\n",
    "                           FROM vw_timestamp_extubation vte\n",
    "                          GROUP BY vte.hadm_id, vte.icustay_id) min_ts ON min_ts.hadm_id = l2.hadm_id AND min_ts.ext_ts > l2.charttime\n",
    "                  WHERE l2.itemid = ANY (ARRAY[50821, 50802, 50820, 51222, 51221, 50912])) last_events\n",
    "          GROUP BY last_events.hadm_id, last_events.icustay_id, last_events.itemid) last_val ON last_val.hadm_id = l.hadm_id AND last_val.itemid = l.itemid AND last_val.ts = l.charttime\n",
    "  ORDER BY l.hadm_id, last_val.icustay_id, l.itemid\"\"\"\n",
    "\n",
    "df_lab = pd.read_sql(sql, conn)"
   ]
  },
  {
   "source": [
    "Saving this query under .sql/07_labevents_pre_ext.sql"
   ],
   "cell_type": "markdown",
   "metadata": {}
  },
  {
   "cell_type": "code",
   "execution_count": 65,
   "metadata": {},
   "outputs": [
    {
     "output_type": "execute_result",
     "data": {
      "text/plain": [
       "    hadm_id  icustay_id  itemid value                  ts         item\n",
       "0    100016   217,590.0   50802     2 2188-05-24 17:24:00  base_excess\n",
       "1    100016   217,590.0   50820  7.43 2188-05-24 17:24:00           pH\n",
       "2    100016   217,590.0   50821    86 2188-05-24 17:24:00         Pa02\n",
       "3    100016   217,590.0   50912   1.1 2188-05-28 04:16:00    creatinin\n",
       "4    100016   217,590.0   51221  31.1 2188-05-28 04:16:00          hct\n",
       "5    100016   217,590.0   51222  10.3 2188-05-28 04:16:00           hb\n",
       "6    100017   258,320.0   50802     4 2103-03-11 05:10:00  base_excess\n",
       "7    100017   258,320.0   50820  7.52 2103-03-11 05:10:00           pH\n",
       "8    100017   258,320.0   50821   171 2103-03-11 05:10:00         Pa02\n",
       "9    100017   258,320.0   50912   0.8 2103-03-11 03:05:00    creatinin\n",
       "10   100017   258,320.0   51221  41.4 2103-03-11 03:05:00          hct\n",
       "11   100017   258,320.0   51222  14.3 2103-03-11 03:05:00           hb\n",
       "12   100035   245,719.0   50802    10 2115-03-01 16:45:00  base_excess"
      ],
      "text/html": "<div>\n<style scoped>\n    .dataframe tbody tr th:only-of-type {\n        vertical-align: middle;\n    }\n\n    .dataframe tbody tr th {\n        vertical-align: top;\n    }\n\n    .dataframe thead th {\n        text-align: right;\n    }\n</style>\n<table border=\"1\" class=\"dataframe\">\n  <thead>\n    <tr style=\"text-align: right;\">\n      <th></th>\n      <th>hadm_id</th>\n      <th>icustay_id</th>\n      <th>itemid</th>\n      <th>value</th>\n      <th>ts</th>\n      <th>item</th>\n    </tr>\n  </thead>\n  <tbody>\n    <tr>\n      <th>0</th>\n      <td>100016</td>\n      <td>217,590.0</td>\n      <td>50802</td>\n      <td>2</td>\n      <td>2188-05-24 17:24:00</td>\n      <td>base_excess</td>\n    </tr>\n    <tr>\n      <th>1</th>\n      <td>100016</td>\n      <td>217,590.0</td>\n      <td>50820</td>\n      <td>7.43</td>\n      <td>2188-05-24 17:24:00</td>\n      <td>pH</td>\n    </tr>\n    <tr>\n      <th>2</th>\n      <td>100016</td>\n      <td>217,590.0</td>\n      <td>50821</td>\n      <td>86</td>\n      <td>2188-05-24 17:24:00</td>\n      <td>Pa02</td>\n    </tr>\n    <tr>\n      <th>3</th>\n      <td>100016</td>\n      <td>217,590.0</td>\n      <td>50912</td>\n      <td>1.1</td>\n      <td>2188-05-28 04:16:00</td>\n      <td>creatinin</td>\n    </tr>\n    <tr>\n      <th>4</th>\n      <td>100016</td>\n      <td>217,590.0</td>\n      <td>51221</td>\n      <td>31.1</td>\n      <td>2188-05-28 04:16:00</td>\n      <td>hct</td>\n    </tr>\n    <tr>\n      <th>5</th>\n      <td>100016</td>\n      <td>217,590.0</td>\n      <td>51222</td>\n      <td>10.3</td>\n      <td>2188-05-28 04:16:00</td>\n      <td>hb</td>\n    </tr>\n    <tr>\n      <th>6</th>\n      <td>100017</td>\n      <td>258,320.0</td>\n      <td>50802</td>\n      <td>4</td>\n      <td>2103-03-11 05:10:00</td>\n      <td>base_excess</td>\n    </tr>\n    <tr>\n      <th>7</th>\n      <td>100017</td>\n      <td>258,320.0</td>\n      <td>50820</td>\n      <td>7.52</td>\n      <td>2103-03-11 05:10:00</td>\n      <td>pH</td>\n    </tr>\n    <tr>\n      <th>8</th>\n      <td>100017</td>\n      <td>258,320.0</td>\n      <td>50821</td>\n      <td>171</td>\n      <td>2103-03-11 05:10:00</td>\n      <td>Pa02</td>\n    </tr>\n    <tr>\n      <th>9</th>\n      <td>100017</td>\n      <td>258,320.0</td>\n      <td>50912</td>\n      <td>0.8</td>\n      <td>2103-03-11 03:05:00</td>\n      <td>creatinin</td>\n    </tr>\n    <tr>\n      <th>10</th>\n      <td>100017</td>\n      <td>258,320.0</td>\n      <td>51221</td>\n      <td>41.4</td>\n      <td>2103-03-11 03:05:00</td>\n      <td>hct</td>\n    </tr>\n    <tr>\n      <th>11</th>\n      <td>100017</td>\n      <td>258,320.0</td>\n      <td>51222</td>\n      <td>14.3</td>\n      <td>2103-03-11 03:05:00</td>\n      <td>hb</td>\n    </tr>\n    <tr>\n      <th>12</th>\n      <td>100035</td>\n      <td>245,719.0</td>\n      <td>50802</td>\n      <td>10</td>\n      <td>2115-03-01 16:45:00</td>\n      <td>base_excess</td>\n    </tr>\n  </tbody>\n</table>\n</div>"
     },
     "metadata": {},
     "execution_count": 65
    }
   ],
   "source": [
    "df_lab.head(13)"
   ]
  },
  {
   "cell_type": "code",
   "execution_count": 66,
   "metadata": {
    "scrolled": true
   },
   "outputs": [
    {
     "output_type": "stream",
     "name": "stdout",
     "text": [
      "<class 'pandas.core.frame.DataFrame'>\nRangeIndex: 35188 entries, 0 to 35187\nData columns (total 6 columns):\nhadm_id       35188 non-null int64\nicustay_id    35188 non-null float64\nitemid        35188 non-null int64\nvalue         35188 non-null object\nts            35188 non-null datetime64[ns]\nitem          35188 non-null object\ndtypes: datetime64[ns](1), float64(1), int64(2), object(2)\nmemory usage: 1.6+ MB\n"
     ]
    }
   ],
   "source": [
    "df_lab.info()"
   ]
  },
  {
   "cell_type": "code",
   "execution_count": null,
   "metadata": {},
   "outputs": [],
   "source": [
    "df_lab.to_csv('data/labevents_pre_extub.csv', encoding='UTF-8', index=False)"
   ]
  },
  {
   "cell_type": "markdown",
   "metadata": {},
   "source": [
    "## Events from chartevents"
   ]
  },
  {
   "cell_type": "markdown",
   "metadata": {},
   "source": [
    "Shrink the size of chartevents and an item-name as additioal information. "
   ]
  },
  {
   "cell_type": "code",
   "execution_count": 67,
   "metadata": {},
   "outputs": [],
   "source": [
    "sql = \"\"\"SELECT c.hadm_id, c.icustay_id, c.itemid, c.charttime,\n",
    "            c.value, c.valuenum, c.valueuom,\n",
    "            case \n",
    "                when c.itemid in (211, 220045) then 'hr' \n",
    "                when c.itemid in (52, 456, 225312, 220181, 220052) then 'blood_pr'\n",
    "                when c.itemid in (676,  677, 223762) then 'temp'\n",
    "                when c.itemid in (646, 834, 220277, 220227) then 'SaO2'\n",
    "                when c.itemid in (618 ,  220210 , 224688) then 'resp_rat'\n",
    "                when c.itemid in (445, 448, 449, 224687, 1340, 1486, 1600) then 'breath_min_vol'\n",
    "                when c.itemid in (189, 190, 3420, 3422, 223835) then 'FiO2'\n",
    "                when c.itemid in (681, 682, 683, 684, 224685, 224684, 224686) then 'tidal_vol'\n",
    "                when c.itemid in (444, 224697) then 'mean_insp_pressure'\n",
    "                when c.itemid in (506, 220339) then 'PEEP'\n",
    "                when c.itemid in (1127, 861, 1542, 220546) then 'leuko'\n",
    "                when c.itemid in (225668, 1531, 818) then 'lactic_acid'\n",
    "            end as item,\n",
    "            c.storetime, c.cgid, c.warning , c.error , c.resultstatus , c.stopped \n",
    "           FROM chartevents c\n",
    "          WHERE (c.hadm_id IN (SELECT hadm_overview.hadm_id FROM hadm_overview))\n",
    "            and c.itemid in (211, 220045,\n",
    "                            52, 456, 225312, 220181, 220052,\n",
    "                            676,  677, 223762,\n",
    "                            646, 834, 220277, 220227,\n",
    "                            618 ,  220210 , 224688,\n",
    "                            445, 448, 449, 224687, 1340, 1486, 1600,\n",
    "                            189, 190, 3420, 3422, 223835,\n",
    "                            681, 682, 683, 684, 224685, 224684, 224686,\n",
    "                            444, 224697,\n",
    "                            506, 220339,\n",
    "                            1127, 861, 1542, 220546,\n",
    "                            225668, 1531, 818)\"\"\"\n",
    "df_ce_1 = pd.read_sql(sql, conn)"
   ]
  },
  {
   "cell_type": "code",
   "execution_count": null,
   "metadata": {},
   "outputs": [],
   "source": [
    "df_ce_1.head(10)"
   ]
  },
  {
   "cell_type": "markdown",
   "metadata": {},
   "source": [
    "Save this query as view `vw_ce_filtered` "
   ]
  },
  {
   "cell_type": "markdown",
   "metadata": {},
   "source": [
    "Only entries before extubation je icustay_id are of interest for us, so that the entries are filtered out afterwards."
   ]
  },
  {
   "cell_type": "code",
   "execution_count": null,
   "metadata": {},
   "outputs": [],
   "source": [
    "sql = \"\"\"select ce.*\n",
    "            from vw_ce_filtered ce\n",
    "            inner join (select hadm_id, icustay_id, min(charttime) as ext_ts\n",
    "                        from vw_timestamp_extubation vte\n",
    "                        group by hadm_id, icustay_id) min_ts \n",
    "                on (min_ts.icustay_id = ce.icustay_id and min_ts.ext_ts > ce.charttime)\n",
    "            order by ce.icustay_id, ce.charttime desc\"\"\"\n",
    "df_ce_2 = pd.read_sql(sql, conn)"
   ]
  },
  {
   "cell_type": "code",
   "execution_count": null,
   "metadata": {},
   "outputs": [],
   "source": [
    "df_ce_2.head(10)"
   ]
  },
  {
   "cell_type": "markdown",
   "metadata": {},
   "source": [
    "From the entries before extubation, we needed for each item the entry that is closest to extubation. Since in a grouping the column value would destroy the grouping, we grab only the columns icustay_id, charttime and item and then connect this result to the view vw_ce_filtered to get the value."
   ]
  },
  {
   "cell_type": "code",
   "execution_count": null,
   "metadata": {},
   "outputs": [],
   "source": [
    "sql = \"\"\"select ce.icustay_id, ce.item, max(ce.charttime) as last_ts\n",
    "            from vw_ce_filtered ce\n",
    "            inner join (select hadm_id, icustay_id, min(charttime) as ext_ts\n",
    "                        from vw_timestamp_extubation vte\n",
    "                        group by hadm_id, icustay_id) min_ts \n",
    "                on (min_ts.icustay_id = ce.icustay_id and min_ts.ext_ts > ce.charttime)\n",
    "            where ce.icustay_id in (245719, 217590)\n",
    "            group by ce.icustay_id, ce.item \n",
    "            order by ce.icustay_id, ce.item\"\"\"\n",
    "df_ce_3 = pd.read_sql(sql, conn)"
   ]
  },
  {
   "cell_type": "code",
   "execution_count": null,
   "metadata": {},
   "outputs": [],
   "source": [
    "df_ce_3.head(13)"
   ]
  },
  {
   "cell_type": "markdown",
   "metadata": {},
   "source": [
    "From the df_ce_3 result the value matching icustay_id, item and last_ts must now be determined."
   ]
  },
  {
   "cell_type": "code",
   "execution_count": null,
   "metadata": {},
   "outputs": [],
   "source": [
    "sql = \"\"\"select distinct vcf.* \n",
    "        from vw_ce_filtered vcf \n",
    "        inner join (select distinct ce.icustay_id, ce.item, max(ce.charttime) as last_ts\n",
    "                    from vw_ce_filtered ce\n",
    "                    inner join (select hadm_id, icustay_id, min(charttime) as ext_ts\n",
    "                                from vw_timestamp_extubation vte\n",
    "                                group by hadm_id, icustay_id) min_ts \n",
    "                        on (min_ts.icustay_id = ce.icustay_id and min_ts.ext_ts > ce.charttime)\n",
    "                    group by ce.icustay_id, ce.item) last_events\n",
    "            on (last_events.icustay_id = vcf.icustay_id and last_events.item = vcf.item and last_events.last_ts = vcf.charttime)\n",
    "        order by vcf.hadm_id , vcf.icustay_id\"\"\"\n",
    "df_ce = pd.read_sql(sql, conn)"
   ]
  },
  {
   "cell_type": "code",
   "execution_count": null,
   "metadata": {},
   "outputs": [],
   "source": [
    "df_ce.head()"
   ]
  },
  {
   "cell_type": "code",
   "execution_count": null,
   "metadata": {},
   "outputs": [],
   "source": [
    "df_ce.info()"
   ]
  },
  {
   "cell_type": "markdown",
   "metadata": {},
   "source": [
    "So that the result can be retrieved quickly and repeatedly in the future, we create a new table with the name chartev_values."
   ]
  },
  {
   "cell_type": "code",
   "execution_count": null,
   "metadata": {},
   "outputs": [],
   "source": [
    "sql = \"\"\"select * from chartev_values\"\"\"\n",
    "df_ce = pd.read_sql(sql, conn)"
   ]
  },
  {
   "cell_type": "code",
   "execution_count": null,
   "metadata": {},
   "outputs": [],
   "source": [
    "df_ce.to_csv('data/chartevents_pre_extub.csv', encoding='UTF-8', index=False)"
   ]
  },
  {
   "cell_type": "code",
   "execution_count": null,
   "metadata": {},
   "outputs": [],
   "source": [
    "conn.close()"
   ]
  },
  {
   "cell_type": "code",
   "execution_count": null,
   "metadata": {},
   "outputs": [],
   "source": []
  }
 ],
 "metadata": {
  "kernelspec": {
   "display_name": "Python 3.6.10 64-bit ('nf')",
   "language": "python",
   "name": "python361064bitnf8add1acfca654b1ab4527881e7fa8184"
  },
  "language_info": {
   "codemirror_mode": {
    "name": "ipython",
    "version": 3
   },
   "file_extension": ".py",
   "mimetype": "text/x-python",
   "name": "python",
   "nbconvert_exporter": "python",
   "pygments_lexer": "ipython3",
   "version": "3.6.10-final"
  },
  "toc": {
   "base_numbering": 1,
   "nav_menu": {},
   "number_sections": true,
   "sideBar": true,
   "skip_h1_title": false,
   "title_cell": "Table of Contents",
   "title_sidebar": "Contents",
   "toc_cell": false,
   "toc_position": {
    "height": "calc(100% - 180px)",
    "left": "10px",
    "top": "150px",
    "width": "288px"
   },
   "toc_section_display": true,
   "toc_window_display": true
  },
  "varInspector": {
   "cols": {
    "lenName": 16,
    "lenType": 16,
    "lenVar": 40
   },
   "kernels_config": {
    "python": {
     "delete_cmd_postfix": "",
     "delete_cmd_prefix": "del ",
     "library": "var_list.py",
     "varRefreshCmd": "print(var_dic_list())"
    },
    "r": {
     "delete_cmd_postfix": ") ",
     "delete_cmd_prefix": "rm(",
     "library": "var_list.r",
     "varRefreshCmd": "cat(var_dic_list()) "
    }
   },
   "types_to_exclude": [
    "module",
    "function",
    "builtin_function_or_method",
    "instance",
    "_Feature"
   ],
   "window_display": false
  }
 },
 "nbformat": 4,
 "nbformat_minor": 4
}