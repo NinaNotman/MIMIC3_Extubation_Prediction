{
 "cells": [
  {
   "cell_type": "code",
   "execution_count": 6,
   "metadata": {},
   "outputs": [],
   "source": [
    "# basic modules\n",
    "import pandas as pd\n",
    "import seaborn as sns\n",
    "import numpy as np\n",
    "import matplotlib.pyplot as plt\n",
    "import warnings\n",
    "import itertools\n",
    "from pprint import pprint\n",
    "\n",
    "# scikit-learn\n",
    "from sklearn.model_selection import train_test_split\n",
    "from sklearn import preprocessing\n",
    "from sklearn.dummy import DummyClassifier\n",
    "from sklearn.metrics import classification_report, confusion_matrix, fbeta_score \n",
    "from sklearn.metrics import roc_curve, roc_auc_score, make_scorer\n",
    "from sklearn.metrics import accuracy_score, f1_score, recall_score, precision_score\n",
    "from sklearn.model_selection import RandomizedSearchCV, GridSearchCV\n",
    "from sklearn.model_selection import StratifiedKFold, KFold, RepeatedStratifiedKFold, cross_val_score\n",
    "from sklearn.metrics import plot_confusion_matrix\n",
    "\n",
    "# models\n",
    "import xgboost as xgb\n",
    "from sklearn.linear_model import LogisticRegression\n",
    "from sklearn.svm import SVC\n",
    "from sklearn.naive_bayes import GaussianNB\n",
    "from sklearn.neighbors import KNeighborsClassifier\n",
    "from sklearn.ensemble import RandomForestClassifier\n",
    "from sklearn.tree import DecisionTreeClassifier\n",
    "from xgboost import XGBClassifier\n",
    "from sklearn.ensemble import AdaBoostClassifier, StackingClassifier\n",
    "\n",
    "#settings\n",
    "warnings.filterwarnings('ignore')\n",
    "rs = 42\n",
    "fhalf_scorer = make_scorer(fbeta_score, beta=0.5)\n",
    "c = StratifiedKFold(n_splits=3)\n",
    "pd.set_option('display.max_columns', None)\n"
   ]
  },
  {
   "cell_type": "code",
   "execution_count": 7,
   "metadata": {},
   "outputs": [
    {
     "ename": "FileNotFoundError",
     "evalue": "[Errno 2] File b'./data/mimic_premodel.csv' does not exist: b'./data/mimic_premodel.csv'",
     "output_type": "error",
     "traceback": [
      "\u001b[0;31m---------------------------------------------------------------------------\u001b[0m",
      "\u001b[0;31mFileNotFoundError\u001b[0m                         Traceback (most recent call last)",
      "\u001b[0;32m<ipython-input-7-7d2c10fb7ebc>\u001b[0m in \u001b[0;36m<module>\u001b[0;34m\u001b[0m\n\u001b[0;32m----> 1\u001b[0;31m \u001b[0mdf\u001b[0m \u001b[0;34m=\u001b[0m \u001b[0mpd\u001b[0m\u001b[0;34m.\u001b[0m\u001b[0mread_csv\u001b[0m\u001b[0;34m(\u001b[0m\u001b[0;34m'./data/mimic_premodel.csv'\u001b[0m\u001b[0;34m)\u001b[0m\u001b[0;34m\u001b[0m\u001b[0;34m\u001b[0m\u001b[0m\n\u001b[0m",
      "\u001b[0;32m~/opt/anaconda3/envs/nf/lib/python3.6/site-packages/pandas/io/parsers.py\u001b[0m in \u001b[0;36mparser_f\u001b[0;34m(filepath_or_buffer, sep, delimiter, header, names, index_col, usecols, squeeze, prefix, mangle_dupe_cols, dtype, engine, converters, true_values, false_values, skipinitialspace, skiprows, skipfooter, nrows, na_values, keep_default_na, na_filter, verbose, skip_blank_lines, parse_dates, infer_datetime_format, keep_date_col, date_parser, dayfirst, iterator, chunksize, compression, thousands, decimal, lineterminator, quotechar, quoting, doublequote, escapechar, comment, encoding, dialect, tupleize_cols, error_bad_lines, warn_bad_lines, delim_whitespace, low_memory, memory_map, float_precision)\u001b[0m\n\u001b[1;32m    700\u001b[0m                     skip_blank_lines=skip_blank_lines)\n\u001b[1;32m    701\u001b[0m \u001b[0;34m\u001b[0m\u001b[0m\n\u001b[0;32m--> 702\u001b[0;31m         \u001b[0;32mreturn\u001b[0m \u001b[0m_read\u001b[0m\u001b[0;34m(\u001b[0m\u001b[0mfilepath_or_buffer\u001b[0m\u001b[0;34m,\u001b[0m \u001b[0mkwds\u001b[0m\u001b[0;34m)\u001b[0m\u001b[0;34m\u001b[0m\u001b[0;34m\u001b[0m\u001b[0m\n\u001b[0m\u001b[1;32m    703\u001b[0m \u001b[0;34m\u001b[0m\u001b[0m\n\u001b[1;32m    704\u001b[0m     \u001b[0mparser_f\u001b[0m\u001b[0;34m.\u001b[0m\u001b[0m__name__\u001b[0m \u001b[0;34m=\u001b[0m \u001b[0mname\u001b[0m\u001b[0;34m\u001b[0m\u001b[0;34m\u001b[0m\u001b[0m\n",
      "\u001b[0;32m~/opt/anaconda3/envs/nf/lib/python3.6/site-packages/pandas/io/parsers.py\u001b[0m in \u001b[0;36m_read\u001b[0;34m(filepath_or_buffer, kwds)\u001b[0m\n\u001b[1;32m    427\u001b[0m \u001b[0;34m\u001b[0m\u001b[0m\n\u001b[1;32m    428\u001b[0m     \u001b[0;31m# Create the parser.\u001b[0m\u001b[0;34m\u001b[0m\u001b[0;34m\u001b[0m\u001b[0;34m\u001b[0m\u001b[0m\n\u001b[0;32m--> 429\u001b[0;31m     \u001b[0mparser\u001b[0m \u001b[0;34m=\u001b[0m \u001b[0mTextFileReader\u001b[0m\u001b[0;34m(\u001b[0m\u001b[0mfilepath_or_buffer\u001b[0m\u001b[0;34m,\u001b[0m \u001b[0;34m**\u001b[0m\u001b[0mkwds\u001b[0m\u001b[0;34m)\u001b[0m\u001b[0;34m\u001b[0m\u001b[0;34m\u001b[0m\u001b[0m\n\u001b[0m\u001b[1;32m    430\u001b[0m \u001b[0;34m\u001b[0m\u001b[0m\n\u001b[1;32m    431\u001b[0m     \u001b[0;32mif\u001b[0m \u001b[0mchunksize\u001b[0m \u001b[0;32mor\u001b[0m \u001b[0miterator\u001b[0m\u001b[0;34m:\u001b[0m\u001b[0;34m\u001b[0m\u001b[0;34m\u001b[0m\u001b[0m\n",
      "\u001b[0;32m~/opt/anaconda3/envs/nf/lib/python3.6/site-packages/pandas/io/parsers.py\u001b[0m in \u001b[0;36m__init__\u001b[0;34m(self, f, engine, **kwds)\u001b[0m\n\u001b[1;32m    893\u001b[0m             \u001b[0mself\u001b[0m\u001b[0;34m.\u001b[0m\u001b[0moptions\u001b[0m\u001b[0;34m[\u001b[0m\u001b[0;34m'has_index_names'\u001b[0m\u001b[0;34m]\u001b[0m \u001b[0;34m=\u001b[0m \u001b[0mkwds\u001b[0m\u001b[0;34m[\u001b[0m\u001b[0;34m'has_index_names'\u001b[0m\u001b[0;34m]\u001b[0m\u001b[0;34m\u001b[0m\u001b[0;34m\u001b[0m\u001b[0m\n\u001b[1;32m    894\u001b[0m \u001b[0;34m\u001b[0m\u001b[0m\n\u001b[0;32m--> 895\u001b[0;31m         \u001b[0mself\u001b[0m\u001b[0;34m.\u001b[0m\u001b[0m_make_engine\u001b[0m\u001b[0;34m(\u001b[0m\u001b[0mself\u001b[0m\u001b[0;34m.\u001b[0m\u001b[0mengine\u001b[0m\u001b[0;34m)\u001b[0m\u001b[0;34m\u001b[0m\u001b[0;34m\u001b[0m\u001b[0m\n\u001b[0m\u001b[1;32m    896\u001b[0m \u001b[0;34m\u001b[0m\u001b[0m\n\u001b[1;32m    897\u001b[0m     \u001b[0;32mdef\u001b[0m \u001b[0mclose\u001b[0m\u001b[0;34m(\u001b[0m\u001b[0mself\u001b[0m\u001b[0;34m)\u001b[0m\u001b[0;34m:\u001b[0m\u001b[0;34m\u001b[0m\u001b[0;34m\u001b[0m\u001b[0m\n",
      "\u001b[0;32m~/opt/anaconda3/envs/nf/lib/python3.6/site-packages/pandas/io/parsers.py\u001b[0m in \u001b[0;36m_make_engine\u001b[0;34m(self, engine)\u001b[0m\n\u001b[1;32m   1120\u001b[0m     \u001b[0;32mdef\u001b[0m \u001b[0m_make_engine\u001b[0m\u001b[0;34m(\u001b[0m\u001b[0mself\u001b[0m\u001b[0;34m,\u001b[0m \u001b[0mengine\u001b[0m\u001b[0;34m=\u001b[0m\u001b[0;34m'c'\u001b[0m\u001b[0;34m)\u001b[0m\u001b[0;34m:\u001b[0m\u001b[0;34m\u001b[0m\u001b[0;34m\u001b[0m\u001b[0m\n\u001b[1;32m   1121\u001b[0m         \u001b[0;32mif\u001b[0m \u001b[0mengine\u001b[0m \u001b[0;34m==\u001b[0m \u001b[0;34m'c'\u001b[0m\u001b[0;34m:\u001b[0m\u001b[0;34m\u001b[0m\u001b[0;34m\u001b[0m\u001b[0m\n\u001b[0;32m-> 1122\u001b[0;31m             \u001b[0mself\u001b[0m\u001b[0;34m.\u001b[0m\u001b[0m_engine\u001b[0m \u001b[0;34m=\u001b[0m \u001b[0mCParserWrapper\u001b[0m\u001b[0;34m(\u001b[0m\u001b[0mself\u001b[0m\u001b[0;34m.\u001b[0m\u001b[0mf\u001b[0m\u001b[0;34m,\u001b[0m \u001b[0;34m**\u001b[0m\u001b[0mself\u001b[0m\u001b[0;34m.\u001b[0m\u001b[0moptions\u001b[0m\u001b[0;34m)\u001b[0m\u001b[0;34m\u001b[0m\u001b[0;34m\u001b[0m\u001b[0m\n\u001b[0m\u001b[1;32m   1123\u001b[0m         \u001b[0;32melse\u001b[0m\u001b[0;34m:\u001b[0m\u001b[0;34m\u001b[0m\u001b[0;34m\u001b[0m\u001b[0m\n\u001b[1;32m   1124\u001b[0m             \u001b[0;32mif\u001b[0m \u001b[0mengine\u001b[0m \u001b[0;34m==\u001b[0m \u001b[0;34m'python'\u001b[0m\u001b[0;34m:\u001b[0m\u001b[0;34m\u001b[0m\u001b[0;34m\u001b[0m\u001b[0m\n",
      "\u001b[0;32m~/opt/anaconda3/envs/nf/lib/python3.6/site-packages/pandas/io/parsers.py\u001b[0m in \u001b[0;36m__init__\u001b[0;34m(self, src, **kwds)\u001b[0m\n\u001b[1;32m   1851\u001b[0m         \u001b[0mkwds\u001b[0m\u001b[0;34m[\u001b[0m\u001b[0;34m'usecols'\u001b[0m\u001b[0;34m]\u001b[0m \u001b[0;34m=\u001b[0m \u001b[0mself\u001b[0m\u001b[0;34m.\u001b[0m\u001b[0musecols\u001b[0m\u001b[0;34m\u001b[0m\u001b[0;34m\u001b[0m\u001b[0m\n\u001b[1;32m   1852\u001b[0m \u001b[0;34m\u001b[0m\u001b[0m\n\u001b[0;32m-> 1853\u001b[0;31m         \u001b[0mself\u001b[0m\u001b[0;34m.\u001b[0m\u001b[0m_reader\u001b[0m \u001b[0;34m=\u001b[0m \u001b[0mparsers\u001b[0m\u001b[0;34m.\u001b[0m\u001b[0mTextReader\u001b[0m\u001b[0;34m(\u001b[0m\u001b[0msrc\u001b[0m\u001b[0;34m,\u001b[0m \u001b[0;34m**\u001b[0m\u001b[0mkwds\u001b[0m\u001b[0;34m)\u001b[0m\u001b[0;34m\u001b[0m\u001b[0;34m\u001b[0m\u001b[0m\n\u001b[0m\u001b[1;32m   1854\u001b[0m         \u001b[0mself\u001b[0m\u001b[0;34m.\u001b[0m\u001b[0munnamed_cols\u001b[0m \u001b[0;34m=\u001b[0m \u001b[0mself\u001b[0m\u001b[0;34m.\u001b[0m\u001b[0m_reader\u001b[0m\u001b[0;34m.\u001b[0m\u001b[0munnamed_cols\u001b[0m\u001b[0;34m\u001b[0m\u001b[0;34m\u001b[0m\u001b[0m\n\u001b[1;32m   1855\u001b[0m \u001b[0;34m\u001b[0m\u001b[0m\n",
      "\u001b[0;32mpandas/_libs/parsers.pyx\u001b[0m in \u001b[0;36mpandas._libs.parsers.TextReader.__cinit__\u001b[0;34m()\u001b[0m\n",
      "\u001b[0;32mpandas/_libs/parsers.pyx\u001b[0m in \u001b[0;36mpandas._libs.parsers.TextReader._setup_parser_source\u001b[0;34m()\u001b[0m\n",
      "\u001b[0;31mFileNotFoundError\u001b[0m: [Errno 2] File b'./data/mimic_premodel.csv' does not exist: b'./data/mimic_premodel.csv'"
     ]
    }
   ],
   "source": [
    "df = pd.read_csv('./data/mimic_premodel.csv')"
   ]
  },
  {
   "cell_type": "code",
   "execution_count": 3,
   "metadata": {},
   "outputs": [
    {
     "data": {
      "text/html": [
       "<div>\n",
       "<style scoped>\n",
       "    .dataframe tbody tr th:only-of-type {\n",
       "        vertical-align: middle;\n",
       "    }\n",
       "\n",
       "    .dataframe tbody tr th {\n",
       "        vertical-align: top;\n",
       "    }\n",
       "\n",
       "    .dataframe thead th {\n",
       "        text-align: right;\n",
       "    }\n",
       "</style>\n",
       "<table border=\"1\" class=\"dataframe\">\n",
       "  <thead>\n",
       "    <tr style=\"text-align: right;\">\n",
       "      <th></th>\n",
       "      <th>label</th>\n",
       "      <th>hadm_id</th>\n",
       "      <th>icustay_id</th>\n",
       "      <th>age</th>\n",
       "      <th>numb_diagn</th>\n",
       "      <th>los</th>\n",
       "      <th>tracheo</th>\n",
       "      <th>PaO2</th>\n",
       "      <th>base_excess</th>\n",
       "      <th>creatinin</th>\n",
       "      <th>...</th>\n",
       "      <th>leuko</th>\n",
       "      <th>mean_insp_pr</th>\n",
       "      <th>resp_rat</th>\n",
       "      <th>tidal_vol</th>\n",
       "      <th>breath_min_vol</th>\n",
       "      <th>ismale</th>\n",
       "      <th>icu_CSRU</th>\n",
       "      <th>icu_MICU</th>\n",
       "      <th>icu_SICU</th>\n",
       "      <th>icu_TSICU</th>\n",
       "    </tr>\n",
       "  </thead>\n",
       "  <tbody>\n",
       "    <tr>\n",
       "      <th>0</th>\n",
       "      <td>1</td>\n",
       "      <td>100016</td>\n",
       "      <td>217590</td>\n",
       "      <td>56.0</td>\n",
       "      <td>11</td>\n",
       "      <td>6.1731</td>\n",
       "      <td>1</td>\n",
       "      <td>86.0</td>\n",
       "      <td>2.0</td>\n",
       "      <td>1.1</td>\n",
       "      <td>...</td>\n",
       "      <td>10.7</td>\n",
       "      <td>6.0</td>\n",
       "      <td>18.0</td>\n",
       "      <td>653.0</td>\n",
       "      <td>11.754</td>\n",
       "      <td>1</td>\n",
       "      <td>0</td>\n",
       "      <td>1</td>\n",
       "      <td>0</td>\n",
       "      <td>0</td>\n",
       "    </tr>\n",
       "    <tr>\n",
       "      <th>1</th>\n",
       "      <td>1</td>\n",
       "      <td>100017</td>\n",
       "      <td>258320</td>\n",
       "      <td>28.0</td>\n",
       "      <td>8</td>\n",
       "      <td>0.6924</td>\n",
       "      <td>0</td>\n",
       "      <td>171.0</td>\n",
       "      <td>4.0</td>\n",
       "      <td>0.8</td>\n",
       "      <td>...</td>\n",
       "      <td>9.3</td>\n",
       "      <td>6.4</td>\n",
       "      <td>20.0</td>\n",
       "      <td>430.0</td>\n",
       "      <td>8.600</td>\n",
       "      <td>1</td>\n",
       "      <td>0</td>\n",
       "      <td>1</td>\n",
       "      <td>0</td>\n",
       "      <td>0</td>\n",
       "    </tr>\n",
       "    <tr>\n",
       "      <th>2</th>\n",
       "      <td>1</td>\n",
       "      <td>100035</td>\n",
       "      <td>245719</td>\n",
       "      <td>37.0</td>\n",
       "      <td>26</td>\n",
       "      <td>10.5061</td>\n",
       "      <td>0</td>\n",
       "      <td>39.0</td>\n",
       "      <td>10.0</td>\n",
       "      <td>1.1</td>\n",
       "      <td>...</td>\n",
       "      <td>17.2</td>\n",
       "      <td>6.0</td>\n",
       "      <td>16.0</td>\n",
       "      <td>151.0</td>\n",
       "      <td>2.416</td>\n",
       "      <td>1</td>\n",
       "      <td>0</td>\n",
       "      <td>1</td>\n",
       "      <td>0</td>\n",
       "      <td>0</td>\n",
       "    </tr>\n",
       "    <tr>\n",
       "      <th>3</th>\n",
       "      <td>1</td>\n",
       "      <td>100063</td>\n",
       "      <td>241782</td>\n",
       "      <td>46.0</td>\n",
       "      <td>11</td>\n",
       "      <td>1.6501</td>\n",
       "      <td>0</td>\n",
       "      <td>365.0</td>\n",
       "      <td>2.0</td>\n",
       "      <td>1.0</td>\n",
       "      <td>...</td>\n",
       "      <td>8.4</td>\n",
       "      <td>1.0</td>\n",
       "      <td>18.0</td>\n",
       "      <td>441.0</td>\n",
       "      <td>7.938</td>\n",
       "      <td>1</td>\n",
       "      <td>0</td>\n",
       "      <td>1</td>\n",
       "      <td>0</td>\n",
       "      <td>0</td>\n",
       "    </tr>\n",
       "    <tr>\n",
       "      <th>4</th>\n",
       "      <td>1</td>\n",
       "      <td>100087</td>\n",
       "      <td>294404</td>\n",
       "      <td>57.0</td>\n",
       "      <td>18</td>\n",
       "      <td>3.7287</td>\n",
       "      <td>0</td>\n",
       "      <td>143.0</td>\n",
       "      <td>5.0</td>\n",
       "      <td>0.7</td>\n",
       "      <td>...</td>\n",
       "      <td>8.5</td>\n",
       "      <td>7.0</td>\n",
       "      <td>17.0</td>\n",
       "      <td>481.0</td>\n",
       "      <td>8.177</td>\n",
       "      <td>1</td>\n",
       "      <td>0</td>\n",
       "      <td>0</td>\n",
       "      <td>0</td>\n",
       "      <td>0</td>\n",
       "    </tr>\n",
       "  </tbody>\n",
       "</table>\n",
       "<p>5 rows × 28 columns</p>\n",
       "</div>"
      ],
      "text/plain": [
       "   label  hadm_id  icustay_id   age  numb_diagn      los  tracheo   PaO2  \\\n",
       "0      1   100016      217590  56.0          11   6.1731        1   86.0   \n",
       "1      1   100017      258320  28.0           8   0.6924        0  171.0   \n",
       "2      1   100035      245719  37.0          26  10.5061        0   39.0   \n",
       "3      1   100063      241782  46.0          11   1.6501        0  365.0   \n",
       "4      1   100087      294404  57.0          18   3.7287        0  143.0   \n",
       "\n",
       "   base_excess  creatinin  ...  leuko  mean_insp_pr  resp_rat  tidal_vol  \\\n",
       "0          2.0        1.1  ...   10.7           6.0      18.0      653.0   \n",
       "1          4.0        0.8  ...    9.3           6.4      20.0      430.0   \n",
       "2         10.0        1.1  ...   17.2           6.0      16.0      151.0   \n",
       "3          2.0        1.0  ...    8.4           1.0      18.0      441.0   \n",
       "4          5.0        0.7  ...    8.5           7.0      17.0      481.0   \n",
       "\n",
       "   breath_min_vol  ismale  icu_CSRU  icu_MICU  icu_SICU  icu_TSICU  \n",
       "0          11.754       1         0         1         0          0  \n",
       "1           8.600       1         0         1         0          0  \n",
       "2           2.416       1         0         1         0          0  \n",
       "3           7.938       1         0         1         0          0  \n",
       "4           8.177       1         0         0         0          0  \n",
       "\n",
       "[5 rows x 28 columns]"
      ]
     },
     "execution_count": 3,
     "metadata": {},
     "output_type": "execute_result"
    }
   ],
   "source": [
    "df.head()"
   ]
  },
  {
   "cell_type": "markdown",
   "metadata": {},
   "source": [
    "# New features"
   ]
  },
  {
   "cell_type": "code",
   "execution_count": 4,
   "metadata": {},
   "outputs": [],
   "source": [
    "def cleaning(x, check_num=False):\n",
    "    \"\"\"Checking a dataframe column:\n",
    "    - unique values\n",
    "    - numbers as strings\n",
    "    - Missing values\"\"\"\n",
    "\n",
    "    print(f'Amount of unique values: {x.nunique()}')\n",
    "    if x.nunique() < 20:\n",
    "        print(f'Unique Values: {x.unique()}')\n",
    "        print(f'Value counts: {x.value_counts()}\\n')\n",
    "    else:\n",
    "        print('More than 20 unique values. No printing of details.\\n')\n",
    "    \n",
    "    if check_num==True and x.dtype=='object':\n",
    "        errors = []\n",
    "        for i in x.index:\n",
    "            try:\n",
    "                float(x.loc[i])\n",
    "            except:\n",
    "                errors.append([i, x.loc[i]])\n",
    "        if len(errors) > 0:\n",
    "            print(\"\"\"Replace the non numeric entries by numeric entries or NaN. Restart the cleaning function, after replacement.\"\"\")\n",
    "            print(errors, '\\n')\n",
    "    \n",
    "    print(f'Missing in {x.name}: {round(x.isnull().sum()/len(x)*100,2)}%')\n",
    "    print(f'Null-Values: {x.isnull().sum()}\\n')\n",
    "\n",
    "def replacement(x, nan_repl):\n",
    "    \"\"\"Getting a column from a dataframe with numbers as string. Replace strings with NaN\n",
    "    and replace the NaN-values with median or mean (nan_repl)\"\"\"\n",
    "    x = pd.to_numeric(x, errors='coerce')\n",
    "    \n",
    "    if nan_repl=='median':\n",
    "        x.fillna(x.median(), inplace=True)\n",
    "    if nan_repl=='mean':\n",
    "        x.fillna(x.mean(), inplace=True)\n",
    "        \n",
    "    cleaning(x, True)\n",
    "    return x"
   ]
  },
  {
   "cell_type": "markdown",
   "metadata": {},
   "source": [
    "## Weight"
   ]
  },
  {
   "cell_type": "markdown",
   "metadata": {},
   "source": [
    "We want to calculate the BMI (Body Mass Index) from weight and height."
   ]
  },
  {
   "cell_type": "markdown",
   "metadata": {},
   "source": [
    "Last weight measurement before extubation."
   ]
  },
  {
   "cell_type": "code",
   "execution_count": 5,
   "metadata": {},
   "outputs": [],
   "source": [
    "df_weight = pd.read_csv('./data/weight_feature.csv')"
   ]
  },
  {
   "cell_type": "code",
   "execution_count": 6,
   "metadata": {},
   "outputs": [
    {
     "data": {
      "text/html": [
       "<div>\n",
       "<style scoped>\n",
       "    .dataframe tbody tr th:only-of-type {\n",
       "        vertical-align: middle;\n",
       "    }\n",
       "\n",
       "    .dataframe tbody tr th {\n",
       "        vertical-align: top;\n",
       "    }\n",
       "\n",
       "    .dataframe thead th {\n",
       "        text-align: right;\n",
       "    }\n",
       "</style>\n",
       "<table border=\"1\" class=\"dataframe\">\n",
       "  <thead>\n",
       "    <tr style=\"text-align: right;\">\n",
       "      <th></th>\n",
       "      <th>hadm_id</th>\n",
       "      <th>value</th>\n",
       "      <th>valueuom</th>\n",
       "      <th>charttime</th>\n",
       "    </tr>\n",
       "  </thead>\n",
       "  <tbody>\n",
       "    <tr>\n",
       "      <th>0</th>\n",
       "      <td>100017</td>\n",
       "      <td>83.699997</td>\n",
       "      <td>kg</td>\n",
       "      <td>2103-03-11 09:04:00</td>\n",
       "    </tr>\n",
       "    <tr>\n",
       "      <th>1</th>\n",
       "      <td>100154</td>\n",
       "      <td>78.599998</td>\n",
       "      <td>kg</td>\n",
       "      <td>2120-12-18 12:59:00</td>\n",
       "    </tr>\n",
       "    <tr>\n",
       "      <th>2</th>\n",
       "      <td>100179</td>\n",
       "      <td>55.400002</td>\n",
       "      <td>kg</td>\n",
       "      <td>2135-12-27 14:33:00</td>\n",
       "    </tr>\n",
       "    <tr>\n",
       "      <th>3</th>\n",
       "      <td>100237</td>\n",
       "      <td>45.799999</td>\n",
       "      <td>kg</td>\n",
       "      <td>2165-01-11 20:30:00</td>\n",
       "    </tr>\n",
       "    <tr>\n",
       "      <th>4</th>\n",
       "      <td>100267</td>\n",
       "      <td>61.200001</td>\n",
       "      <td>kg</td>\n",
       "      <td>2102-06-03 15:07:00</td>\n",
       "    </tr>\n",
       "  </tbody>\n",
       "</table>\n",
       "</div>"
      ],
      "text/plain": [
       "   hadm_id      value valueuom            charttime\n",
       "0   100017  83.699997       kg  2103-03-11 09:04:00\n",
       "1   100154  78.599998       kg  2120-12-18 12:59:00\n",
       "2   100179  55.400002       kg  2135-12-27 14:33:00\n",
       "3   100237  45.799999       kg  2165-01-11 20:30:00\n",
       "4   100267  61.200001       kg  2102-06-03 15:07:00"
      ]
     },
     "execution_count": 6,
     "metadata": {},
     "output_type": "execute_result"
    }
   ],
   "source": [
    "df_weight.head()"
   ]
  },
  {
   "cell_type": "code",
   "execution_count": 7,
   "metadata": {},
   "outputs": [],
   "source": [
    "df_weight.drop_duplicates(subset='hadm_id', inplace=True)"
   ]
  },
  {
   "cell_type": "code",
   "execution_count": 8,
   "metadata": {},
   "outputs": [
    {
     "data": {
      "text/plain": [
       "2749"
      ]
     },
     "execution_count": 8,
     "metadata": {},
     "output_type": "execute_result"
    }
   ],
   "source": [
    "df_weight.hadm_id.nunique()"
   ]
  },
  {
   "cell_type": "code",
   "execution_count": 9,
   "metadata": {},
   "outputs": [
    {
     "data": {
      "text/plain": [
       "(2749, 4)"
      ]
     },
     "execution_count": 9,
     "metadata": {},
     "output_type": "execute_result"
    }
   ],
   "source": [
    "df_weight.shape"
   ]
  },
  {
   "cell_type": "code",
   "execution_count": 10,
   "metadata": {},
   "outputs": [],
   "source": [
    "df_height = pd.read_csv('./data/height_feature.csv')"
   ]
  },
  {
   "cell_type": "code",
   "execution_count": 11,
   "metadata": {},
   "outputs": [
    {
     "data": {
      "text/html": [
       "<div>\n",
       "<style scoped>\n",
       "    .dataframe tbody tr th:only-of-type {\n",
       "        vertical-align: middle;\n",
       "    }\n",
       "\n",
       "    .dataframe tbody tr th {\n",
       "        vertical-align: top;\n",
       "    }\n",
       "\n",
       "    .dataframe thead th {\n",
       "        text-align: right;\n",
       "    }\n",
       "</style>\n",
       "<table border=\"1\" class=\"dataframe\">\n",
       "  <thead>\n",
       "    <tr style=\"text-align: right;\">\n",
       "      <th></th>\n",
       "      <th>hadm_id</th>\n",
       "      <th>value</th>\n",
       "      <th>valueuom</th>\n",
       "    </tr>\n",
       "  </thead>\n",
       "  <tbody>\n",
       "    <tr>\n",
       "      <th>0</th>\n",
       "      <td>100016</td>\n",
       "      <td>54.0</td>\n",
       "      <td>Inch</td>\n",
       "    </tr>\n",
       "    <tr>\n",
       "      <th>1</th>\n",
       "      <td>100016</td>\n",
       "      <td>137.0</td>\n",
       "      <td>cm</td>\n",
       "    </tr>\n",
       "    <tr>\n",
       "      <th>2</th>\n",
       "      <td>100017</td>\n",
       "      <td>68.0</td>\n",
       "      <td>inches</td>\n",
       "    </tr>\n",
       "    <tr>\n",
       "      <th>3</th>\n",
       "      <td>100035</td>\n",
       "      <td>70.0</td>\n",
       "      <td>Inch</td>\n",
       "    </tr>\n",
       "    <tr>\n",
       "      <th>4</th>\n",
       "      <td>100035</td>\n",
       "      <td>178.0</td>\n",
       "      <td>cm</td>\n",
       "    </tr>\n",
       "  </tbody>\n",
       "</table>\n",
       "</div>"
      ],
      "text/plain": [
       "   hadm_id  value valueuom\n",
       "0   100016   54.0     Inch\n",
       "1   100016  137.0       cm\n",
       "2   100017   68.0   inches\n",
       "3   100035   70.0     Inch\n",
       "4   100035  178.0       cm"
      ]
     },
     "execution_count": 11,
     "metadata": {},
     "output_type": "execute_result"
    }
   ],
   "source": [
    "df_height.head()"
   ]
  },
  {
   "cell_type": "code",
   "execution_count": 12,
   "metadata": {},
   "outputs": [
    {
     "data": {
      "text/plain": [
       "3566"
      ]
     },
     "execution_count": 12,
     "metadata": {},
     "output_type": "execute_result"
    }
   ],
   "source": [
    "df_height.hadm_id.nunique()"
   ]
  },
  {
   "cell_type": "code",
   "execution_count": 13,
   "metadata": {},
   "outputs": [
    {
     "data": {
      "text/plain": [
       "array(['Inch', 'cm', 'inches', 'In'], dtype=object)"
      ]
     },
     "execution_count": 13,
     "metadata": {},
     "output_type": "execute_result"
    }
   ],
   "source": [
    "df_height.valueuom.unique()"
   ]
  },
  {
   "cell_type": "code",
   "execution_count": 14,
   "metadata": {},
   "outputs": [],
   "source": [
    "# unit transformation inch -> cm\n",
    "\n",
    "df_height.value = np.where(df_height.valueuom =='Inch', 2.54 * df_height.value, df_height.value)\n",
    "df_height.value = np.where(df_height.valueuom =='In', 2.54 * df_height.value, df_height.value)\n",
    "df_height.value = np.where(df_height.valueuom =='inches', 2.54 * df_height.value, df_height.value)\n"
   ]
  },
  {
   "cell_type": "code",
   "execution_count": 15,
   "metadata": {},
   "outputs": [
    {
     "data": {
      "text/html": [
       "<div>\n",
       "<style scoped>\n",
       "    .dataframe tbody tr th:only-of-type {\n",
       "        vertical-align: middle;\n",
       "    }\n",
       "\n",
       "    .dataframe tbody tr th {\n",
       "        vertical-align: top;\n",
       "    }\n",
       "\n",
       "    .dataframe thead th {\n",
       "        text-align: right;\n",
       "    }\n",
       "</style>\n",
       "<table border=\"1\" class=\"dataframe\">\n",
       "  <thead>\n",
       "    <tr style=\"text-align: right;\">\n",
       "      <th></th>\n",
       "      <th>hadm_id</th>\n",
       "      <th>value</th>\n",
       "      <th>valueuom</th>\n",
       "    </tr>\n",
       "  </thead>\n",
       "  <tbody>\n",
       "    <tr>\n",
       "      <th>0</th>\n",
       "      <td>100016</td>\n",
       "      <td>137.16</td>\n",
       "      <td>Inch</td>\n",
       "    </tr>\n",
       "    <tr>\n",
       "      <th>1</th>\n",
       "      <td>100016</td>\n",
       "      <td>137.00</td>\n",
       "      <td>cm</td>\n",
       "    </tr>\n",
       "    <tr>\n",
       "      <th>2</th>\n",
       "      <td>100017</td>\n",
       "      <td>172.72</td>\n",
       "      <td>inches</td>\n",
       "    </tr>\n",
       "    <tr>\n",
       "      <th>3</th>\n",
       "      <td>100035</td>\n",
       "      <td>177.80</td>\n",
       "      <td>Inch</td>\n",
       "    </tr>\n",
       "    <tr>\n",
       "      <th>4</th>\n",
       "      <td>100035</td>\n",
       "      <td>178.00</td>\n",
       "      <td>cm</td>\n",
       "    </tr>\n",
       "  </tbody>\n",
       "</table>\n",
       "</div>"
      ],
      "text/plain": [
       "   hadm_id   value valueuom\n",
       "0   100016  137.16     Inch\n",
       "1   100016  137.00       cm\n",
       "2   100017  172.72   inches\n",
       "3   100035  177.80     Inch\n",
       "4   100035  178.00       cm"
      ]
     },
     "execution_count": 15,
     "metadata": {},
     "output_type": "execute_result"
    }
   ],
   "source": [
    "df_height.head()"
   ]
  },
  {
   "cell_type": "code",
   "execution_count": 16,
   "metadata": {},
   "outputs": [],
   "source": [
    "df_height.drop_duplicates(subset='hadm_id', inplace=True)"
   ]
  },
  {
   "cell_type": "code",
   "execution_count": 17,
   "metadata": {},
   "outputs": [
    {
     "data": {
      "text/html": [
       "<div>\n",
       "<style scoped>\n",
       "    .dataframe tbody tr th:only-of-type {\n",
       "        vertical-align: middle;\n",
       "    }\n",
       "\n",
       "    .dataframe tbody tr th {\n",
       "        vertical-align: top;\n",
       "    }\n",
       "\n",
       "    .dataframe thead th {\n",
       "        text-align: right;\n",
       "    }\n",
       "</style>\n",
       "<table border=\"1\" class=\"dataframe\">\n",
       "  <thead>\n",
       "    <tr style=\"text-align: right;\">\n",
       "      <th></th>\n",
       "      <th>hadm_id</th>\n",
       "      <th>value</th>\n",
       "      <th>valueuom</th>\n",
       "    </tr>\n",
       "  </thead>\n",
       "  <tbody>\n",
       "    <tr>\n",
       "      <th>0</th>\n",
       "      <td>100016</td>\n",
       "      <td>137.16</td>\n",
       "      <td>Inch</td>\n",
       "    </tr>\n",
       "    <tr>\n",
       "      <th>2</th>\n",
       "      <td>100017</td>\n",
       "      <td>172.72</td>\n",
       "      <td>inches</td>\n",
       "    </tr>\n",
       "    <tr>\n",
       "      <th>3</th>\n",
       "      <td>100035</td>\n",
       "      <td>177.80</td>\n",
       "      <td>Inch</td>\n",
       "    </tr>\n",
       "    <tr>\n",
       "      <th>5</th>\n",
       "      <td>100063</td>\n",
       "      <td>165.10</td>\n",
       "      <td>Inch</td>\n",
       "    </tr>\n",
       "    <tr>\n",
       "      <th>7</th>\n",
       "      <td>100074</td>\n",
       "      <td>162.56</td>\n",
       "      <td>inches</td>\n",
       "    </tr>\n",
       "  </tbody>\n",
       "</table>\n",
       "</div>"
      ],
      "text/plain": [
       "   hadm_id   value valueuom\n",
       "0   100016  137.16     Inch\n",
       "2   100017  172.72   inches\n",
       "3   100035  177.80     Inch\n",
       "5   100063  165.10     Inch\n",
       "7   100074  162.56   inches"
      ]
     },
     "execution_count": 17,
     "metadata": {},
     "output_type": "execute_result"
    }
   ],
   "source": [
    "df_height.head()"
   ]
  },
  {
   "cell_type": "code",
   "execution_count": 18,
   "metadata": {},
   "outputs": [
    {
     "data": {
      "text/plain": [
       "3566"
      ]
     },
     "execution_count": 18,
     "metadata": {},
     "output_type": "execute_result"
    }
   ],
   "source": [
    "df_height.hadm_id.nunique()"
   ]
  },
  {
   "cell_type": "code",
   "execution_count": 19,
   "metadata": {},
   "outputs": [
    {
     "data": {
      "text/plain": [
       "(3566, 3)"
      ]
     },
     "execution_count": 19,
     "metadata": {},
     "output_type": "execute_result"
    }
   ],
   "source": [
    "df_height.shape"
   ]
  },
  {
   "cell_type": "code",
   "execution_count": 20,
   "metadata": {},
   "outputs": [],
   "source": [
    "df_weight_height= df_weight.merge(right=df_height, how= 'inner' , on='hadm_id', suffixes=('_w', '_h'))"
   ]
  },
  {
   "cell_type": "code",
   "execution_count": 21,
   "metadata": {},
   "outputs": [
    {
     "data": {
      "text/html": [
       "<div>\n",
       "<style scoped>\n",
       "    .dataframe tbody tr th:only-of-type {\n",
       "        vertical-align: middle;\n",
       "    }\n",
       "\n",
       "    .dataframe tbody tr th {\n",
       "        vertical-align: top;\n",
       "    }\n",
       "\n",
       "    .dataframe thead th {\n",
       "        text-align: right;\n",
       "    }\n",
       "</style>\n",
       "<table border=\"1\" class=\"dataframe\">\n",
       "  <thead>\n",
       "    <tr style=\"text-align: right;\">\n",
       "      <th></th>\n",
       "      <th>hadm_id</th>\n",
       "      <th>value_w</th>\n",
       "      <th>valueuom_w</th>\n",
       "      <th>charttime</th>\n",
       "      <th>value_h</th>\n",
       "      <th>valueuom_h</th>\n",
       "    </tr>\n",
       "  </thead>\n",
       "  <tbody>\n",
       "    <tr>\n",
       "      <th>0</th>\n",
       "      <td>100017</td>\n",
       "      <td>83.699997</td>\n",
       "      <td>kg</td>\n",
       "      <td>2103-03-11 09:04:00</td>\n",
       "      <td>172.72</td>\n",
       "      <td>inches</td>\n",
       "    </tr>\n",
       "    <tr>\n",
       "      <th>1</th>\n",
       "      <td>100154</td>\n",
       "      <td>78.599998</td>\n",
       "      <td>kg</td>\n",
       "      <td>2120-12-18 12:59:00</td>\n",
       "      <td>154.94</td>\n",
       "      <td>inches</td>\n",
       "    </tr>\n",
       "    <tr>\n",
       "      <th>2</th>\n",
       "      <td>100267</td>\n",
       "      <td>61.200001</td>\n",
       "      <td>kg</td>\n",
       "      <td>2102-06-03 15:07:00</td>\n",
       "      <td>152.40</td>\n",
       "      <td>inches</td>\n",
       "    </tr>\n",
       "    <tr>\n",
       "      <th>3</th>\n",
       "      <td>100283</td>\n",
       "      <td>84.000000</td>\n",
       "      <td>kg</td>\n",
       "      <td>2168-12-06 22:19:00</td>\n",
       "      <td>170.18</td>\n",
       "      <td>inches</td>\n",
       "    </tr>\n",
       "    <tr>\n",
       "      <th>4</th>\n",
       "      <td>100319</td>\n",
       "      <td>74.300003</td>\n",
       "      <td>kg</td>\n",
       "      <td>2187-08-14 08:43:00</td>\n",
       "      <td>182.88</td>\n",
       "      <td>inches</td>\n",
       "    </tr>\n",
       "  </tbody>\n",
       "</table>\n",
       "</div>"
      ],
      "text/plain": [
       "   hadm_id    value_w valueuom_w            charttime  value_h valueuom_h\n",
       "0   100017  83.699997         kg  2103-03-11 09:04:00   172.72     inches\n",
       "1   100154  78.599998         kg  2120-12-18 12:59:00   154.94     inches\n",
       "2   100267  61.200001         kg  2102-06-03 15:07:00   152.40     inches\n",
       "3   100283  84.000000         kg  2168-12-06 22:19:00   170.18     inches\n",
       "4   100319  74.300003         kg  2187-08-14 08:43:00   182.88     inches"
      ]
     },
     "execution_count": 21,
     "metadata": {},
     "output_type": "execute_result"
    }
   ],
   "source": [
    "df_weight_height.head()"
   ]
  },
  {
   "cell_type": "code",
   "execution_count": 22,
   "metadata": {},
   "outputs": [
    {
     "data": {
      "text/plain": [
       "(1195, 6)"
      ]
     },
     "execution_count": 22,
     "metadata": {},
     "output_type": "execute_result"
    }
   ],
   "source": [
    "df_weight_height.shape"
   ]
  },
  {
   "cell_type": "markdown",
   "metadata": {},
   "source": [
    "Due to the small amount of available data on height and weight in our patients, we will no longer pursue the idea of calculating a BMI."
   ]
  },
  {
   "cell_type": "markdown",
   "metadata": {},
   "source": [
    "\n",
    "## Work of Breathing"
   ]
  },
  {
   "cell_type": "markdown",
   "metadata": {},
   "source": [
    "Work of breathing (WOB) is the energy expended to inhale and exhale a breathing gas. \n",
    "Work of breathing is the product of pressure and volume for each breath."
   ]
  },
  {
   "cell_type": "code",
   "execution_count": 23,
   "metadata": {},
   "outputs": [],
   "source": [
    "df.eval('wob = mean_insp_pr * tidal_vol* 0.000133', inplace=True)"
   ]
  },
  {
   "cell_type": "code",
   "execution_count": 24,
   "metadata": {},
   "outputs": [
    {
     "data": {
      "image/png": "[encoded data removed]",
      "text/plain": [
       "<Figure size 1080x360 with 1 Axes>"
      ]
     },
     "metadata": {
      "needs_background": "light"
     },
     "output_type": "display_data"
    }
   ],
   "source": [
    "plt.figure(figsize=(15,5))\n",
    "ax = sns.histplot(df.wob, bins=30)\n",
    "ax.set_title(\"Work of Breathing distribution\", fontsize=15, fontweight=\"bold\")\n",
    "ax.set_ylabel('Count', fontsize=15)\n",
    "ax.set_xlabel('Work of Breathing in J', fontsize=15);"
   ]
  },
  {
   "cell_type": "code",
   "execution_count": 25,
   "metadata": {},
   "outputs": [
    {
     "data": {
      "image/png": "[encoded data removed]",
      "text/plain": [
       "<Figure size 504x288 with 1 Axes>"
      ]
     },
     "metadata": {
      "needs_background": "light"
     },
     "output_type": "display_data"
    }
   ],
   "source": [
    "df.boxplot(\"wob\",by= \"label\",figsize=(7,4),fontsize=14)\n",
    "plt.title(\"{}\\n\".format('Work of Breathing'),fontsize=16)\n",
    "plt.xlabel(\"Extubation Success\", fontsize=16);"
   ]
  },
  {
   "cell_type": "markdown",
   "metadata": {},
   "source": [
    "## Rapid Shallow Breathing Index"
   ]
  },
  {
   "cell_type": "markdown",
   "metadata": {},
   "source": [
    "The rapid shallow breathing index (RSBI) is a tool that is used in the weaning of mechanical ventilation on intensive care units.\n",
    "The RSBI is defined as the ratio of respiratory frequency to tidal volume."
   ]
  },
  {
   "cell_type": "code",
   "execution_count": 26,
   "metadata": {},
   "outputs": [],
   "source": [
    "df.eval('rsbi = resp_rat / tidal_vol * 1000', inplace=True)"
   ]
  },
  {
   "cell_type": "code",
   "execution_count": 27,
   "metadata": {},
   "outputs": [
    {
     "data": {
      "image/png": "[encoded data removed]",
      "text/plain": [
       "<Figure size 1080x360 with 1 Axes>"
      ]
     },
     "metadata": {
      "needs_background": "light"
     },
     "output_type": "display_data"
    }
   ],
   "source": [
    "plt.figure(figsize=(15,5))\n",
    "ax = sns.histplot(df.rsbi[df.rsbi < 400], bins=20)\n",
    "ax.set_title(\"Rapid Shallow Breathing Index distribution\", fontsize=15, fontweight=\"bold\")\n",
    "ax.set_ylabel('Count', fontsize=15)\n",
    "ax.set_xlabel('RSBI in Breaths/min/L', fontsize=15);"
   ]
  },
  {
   "cell_type": "code",
   "execution_count": 28,
   "metadata": {},
   "outputs": [
    {
     "data": {
      "text/plain": [
       "25"
      ]
     },
     "execution_count": 28,
     "metadata": {},
     "output_type": "execute_result"
    }
   ],
   "source": [
    "len(df[df.rsbi>400])"
   ]
  },
  {
   "cell_type": "code",
   "execution_count": 29,
   "metadata": {},
   "outputs": [
    {
     "data": {
      "image/png": "[encoded data removed]",
      "text/plain": [
       "<Figure size 504x288 with 1 Axes>"
      ]
     },
     "metadata": {
      "needs_background": "light"
     },
     "output_type": "display_data"
    }
   ],
   "source": [
    "df[df.rsbi<400].boxplot(\"rsbi\",by= \"label\",figsize=(7,4),fontsize=14)\n",
    "plt.title(\"{}\\n\".format('Rapid Shallow Breathing Index'),fontsize=16)\n",
    "plt.xlabel(\"Extubation Success\", fontsize=16);"
   ]
  },
  {
   "cell_type": "markdown",
   "metadata": {},
   "source": [
    "## Duration of Ventilation"
   ]
  },
  {
   "cell_type": "code",
   "execution_count": 30,
   "metadata": {},
   "outputs": [],
   "source": [
    "df_lomv =pd.read_csv('./data/duration_mechvent.csv')"
   ]
  },
  {
   "cell_type": "code",
   "execution_count": 31,
   "metadata": {},
   "outputs": [
    {
     "data": {
      "text/html": [
       "<div>\n",
       "<style scoped>\n",
       "    .dataframe tbody tr th:only-of-type {\n",
       "        vertical-align: middle;\n",
       "    }\n",
       "\n",
       "    .dataframe tbody tr th {\n",
       "        vertical-align: top;\n",
       "    }\n",
       "\n",
       "    .dataframe thead th {\n",
       "        text-align: right;\n",
       "    }\n",
       "</style>\n",
       "<table border=\"1\" class=\"dataframe\">\n",
       "  <thead>\n",
       "    <tr style=\"text-align: right;\">\n",
       "      <th></th>\n",
       "      <th>icustay_id</th>\n",
       "      <th>hour_mechvent</th>\n",
       "    </tr>\n",
       "  </thead>\n",
       "  <tbody>\n",
       "    <tr>\n",
       "      <th>0</th>\n",
       "      <td>200006</td>\n",
       "      <td>18.00</td>\n",
       "    </tr>\n",
       "    <tr>\n",
       "      <th>1</th>\n",
       "      <td>200059</td>\n",
       "      <td>176.50</td>\n",
       "    </tr>\n",
       "    <tr>\n",
       "      <th>2</th>\n",
       "      <td>200063</td>\n",
       "      <td>127.15</td>\n",
       "    </tr>\n",
       "    <tr>\n",
       "      <th>3</th>\n",
       "      <td>200065</td>\n",
       "      <td>228.00</td>\n",
       "    </tr>\n",
       "    <tr>\n",
       "      <th>4</th>\n",
       "      <td>200077</td>\n",
       "      <td>0.50</td>\n",
       "    </tr>\n",
       "  </tbody>\n",
       "</table>\n",
       "</div>"
      ],
      "text/plain": [
       "   icustay_id  hour_mechvent\n",
       "0      200006          18.00\n",
       "1      200059         176.50\n",
       "2      200063         127.15\n",
       "3      200065         228.00\n",
       "4      200077           0.50"
      ]
     },
     "execution_count": 31,
     "metadata": {},
     "output_type": "execute_result"
    }
   ],
   "source": [
    "df_lomv.head()"
   ]
  },
  {
   "cell_type": "code",
   "execution_count": 32,
   "metadata": {},
   "outputs": [],
   "source": [
    "df= df.merge(right=df_lomv, how= 'inner' , on='icustay_id')"
   ]
  },
  {
   "cell_type": "code",
   "execution_count": 33,
   "metadata": {},
   "outputs": [
    {
     "data": {
      "text/html": [
       "<div>\n",
       "<style scoped>\n",
       "    .dataframe tbody tr th:only-of-type {\n",
       "        vertical-align: middle;\n",
       "    }\n",
       "\n",
       "    .dataframe tbody tr th {\n",
       "        vertical-align: top;\n",
       "    }\n",
       "\n",
       "    .dataframe thead th {\n",
       "        text-align: right;\n",
       "    }\n",
       "</style>\n",
       "<table border=\"1\" class=\"dataframe\">\n",
       "  <thead>\n",
       "    <tr style=\"text-align: right;\">\n",
       "      <th></th>\n",
       "      <th>label</th>\n",
       "      <th>hadm_id</th>\n",
       "      <th>icustay_id</th>\n",
       "      <th>age</th>\n",
       "      <th>numb_diagn</th>\n",
       "      <th>los</th>\n",
       "      <th>tracheo</th>\n",
       "      <th>PaO2</th>\n",
       "      <th>base_excess</th>\n",
       "      <th>creatinin</th>\n",
       "      <th>...</th>\n",
       "      <th>tidal_vol</th>\n",
       "      <th>breath_min_vol</th>\n",
       "      <th>ismale</th>\n",
       "      <th>icu_CSRU</th>\n",
       "      <th>icu_MICU</th>\n",
       "      <th>icu_SICU</th>\n",
       "      <th>icu_TSICU</th>\n",
       "      <th>wob</th>\n",
       "      <th>rsbi</th>\n",
       "      <th>hour_mechvent</th>\n",
       "    </tr>\n",
       "  </thead>\n",
       "  <tbody>\n",
       "    <tr>\n",
       "      <th>0</th>\n",
       "      <td>1</td>\n",
       "      <td>100016</td>\n",
       "      <td>217590</td>\n",
       "      <td>56.0</td>\n",
       "      <td>11</td>\n",
       "      <td>6.1731</td>\n",
       "      <td>1</td>\n",
       "      <td>86.0</td>\n",
       "      <td>2.0</td>\n",
       "      <td>1.1</td>\n",
       "      <td>...</td>\n",
       "      <td>653.0</td>\n",
       "      <td>11.754</td>\n",
       "      <td>1</td>\n",
       "      <td>0</td>\n",
       "      <td>1</td>\n",
       "      <td>0</td>\n",
       "      <td>0</td>\n",
       "      <td>0.521094</td>\n",
       "      <td>27.565084</td>\n",
       "      <td>90.00</td>\n",
       "    </tr>\n",
       "    <tr>\n",
       "      <th>1</th>\n",
       "      <td>1</td>\n",
       "      <td>100017</td>\n",
       "      <td>258320</td>\n",
       "      <td>28.0</td>\n",
       "      <td>8</td>\n",
       "      <td>0.6924</td>\n",
       "      <td>0</td>\n",
       "      <td>171.0</td>\n",
       "      <td>4.0</td>\n",
       "      <td>0.8</td>\n",
       "      <td>...</td>\n",
       "      <td>430.0</td>\n",
       "      <td>8.600</td>\n",
       "      <td>1</td>\n",
       "      <td>0</td>\n",
       "      <td>1</td>\n",
       "      <td>0</td>\n",
       "      <td>0</td>\n",
       "      <td>0.366016</td>\n",
       "      <td>46.511628</td>\n",
       "      <td>5.50</td>\n",
       "    </tr>\n",
       "    <tr>\n",
       "      <th>2</th>\n",
       "      <td>1</td>\n",
       "      <td>100035</td>\n",
       "      <td>245719</td>\n",
       "      <td>37.0</td>\n",
       "      <td>26</td>\n",
       "      <td>10.5061</td>\n",
       "      <td>0</td>\n",
       "      <td>39.0</td>\n",
       "      <td>10.0</td>\n",
       "      <td>1.1</td>\n",
       "      <td>...</td>\n",
       "      <td>151.0</td>\n",
       "      <td>2.416</td>\n",
       "      <td>1</td>\n",
       "      <td>0</td>\n",
       "      <td>1</td>\n",
       "      <td>0</td>\n",
       "      <td>0</td>\n",
       "      <td>0.120498</td>\n",
       "      <td>105.960265</td>\n",
       "      <td>194.48</td>\n",
       "    </tr>\n",
       "    <tr>\n",
       "      <th>3</th>\n",
       "      <td>1</td>\n",
       "      <td>100063</td>\n",
       "      <td>241782</td>\n",
       "      <td>46.0</td>\n",
       "      <td>11</td>\n",
       "      <td>1.6501</td>\n",
       "      <td>0</td>\n",
       "      <td>365.0</td>\n",
       "      <td>2.0</td>\n",
       "      <td>1.0</td>\n",
       "      <td>...</td>\n",
       "      <td>441.0</td>\n",
       "      <td>7.938</td>\n",
       "      <td>1</td>\n",
       "      <td>0</td>\n",
       "      <td>1</td>\n",
       "      <td>0</td>\n",
       "      <td>0</td>\n",
       "      <td>0.058653</td>\n",
       "      <td>40.816327</td>\n",
       "      <td>9.50</td>\n",
       "    </tr>\n",
       "    <tr>\n",
       "      <th>4</th>\n",
       "      <td>1</td>\n",
       "      <td>100087</td>\n",
       "      <td>294404</td>\n",
       "      <td>57.0</td>\n",
       "      <td>18</td>\n",
       "      <td>3.7287</td>\n",
       "      <td>0</td>\n",
       "      <td>143.0</td>\n",
       "      <td>5.0</td>\n",
       "      <td>0.7</td>\n",
       "      <td>...</td>\n",
       "      <td>481.0</td>\n",
       "      <td>8.177</td>\n",
       "      <td>1</td>\n",
       "      <td>0</td>\n",
       "      <td>0</td>\n",
       "      <td>0</td>\n",
       "      <td>0</td>\n",
       "      <td>0.447811</td>\n",
       "      <td>35.343035</td>\n",
       "      <td>71.17</td>\n",
       "    </tr>\n",
       "  </tbody>\n",
       "</table>\n",
       "<p>5 rows × 31 columns</p>\n",
       "</div>"
      ],
      "text/plain": [
       "   label  hadm_id  icustay_id   age  numb_diagn      los  tracheo   PaO2  \\\n",
       "0      1   100016      217590  56.0          11   6.1731        1   86.0   \n",
       "1      1   100017      258320  28.0           8   0.6924        0  171.0   \n",
       "2      1   100035      245719  37.0          26  10.5061        0   39.0   \n",
       "3      1   100063      241782  46.0          11   1.6501        0  365.0   \n",
       "4      1   100087      294404  57.0          18   3.7287        0  143.0   \n",
       "\n",
       "   base_excess  creatinin  ...  tidal_vol  breath_min_vol  ismale  icu_CSRU  \\\n",
       "0          2.0        1.1  ...      653.0          11.754       1         0   \n",
       "1          4.0        0.8  ...      430.0           8.600       1         0   \n",
       "2         10.0        1.1  ...      151.0           2.416       1         0   \n",
       "3          2.0        1.0  ...      441.0           7.938       1         0   \n",
       "4          5.0        0.7  ...      481.0           8.177       1         0   \n",
       "\n",
       "   icu_MICU  icu_SICU  icu_TSICU       wob        rsbi  hour_mechvent  \n",
       "0         1         0          0  0.521094   27.565084          90.00  \n",
       "1         1         0          0  0.366016   46.511628           5.50  \n",
       "2         1         0          0  0.120498  105.960265         194.48  \n",
       "3         1         0          0  0.058653   40.816327           9.50  \n",
       "4         0         0          0  0.447811   35.343035          71.17  \n",
       "\n",
       "[5 rows x 31 columns]"
      ]
     },
     "execution_count": 33,
     "metadata": {},
     "output_type": "execute_result"
    }
   ],
   "source": [
    "df.head()"
   ]
  },
  {
   "cell_type": "code",
   "execution_count": 34,
   "metadata": {},
   "outputs": [
    {
     "data": {
      "text/plain": [
       "(5884, 31)"
      ]
     },
     "execution_count": 34,
     "metadata": {},
     "output_type": "execute_result"
    }
   ],
   "source": [
    "df.shape"
   ]
  },
  {
   "cell_type": "code",
   "execution_count": 35,
   "metadata": {},
   "outputs": [
    {
     "name": "stdout",
     "output_type": "stream",
     "text": [
      "Amount of unique values: 3066\n",
      "More than 20 unique values. No printing of details.\n",
      "\n",
      "Missing in hour_mechvent: 0.0%\n",
      "Null-Values: 0\n",
      "\n"
     ]
    }
   ],
   "source": [
    "cleaning(df.hour_mechvent, True)"
   ]
  },
  {
   "cell_type": "code",
   "execution_count": 36,
   "metadata": {},
   "outputs": [
    {
     "data": {
      "image/png": "[encoded data removed]",
      "text/plain": [
       "<Figure size 1080x360 with 1 Axes>"
      ]
     },
     "metadata": {
      "needs_background": "light"
     },
     "output_type": "display_data"
    }
   ],
   "source": [
    "plt.figure(figsize=(15,5))\n",
    "ax = sns.histplot(df.hour_mechvent[df.hour_mechvent<750], bins=70)\n",
    "ax.set_title(\"Duration of mechanical Ventilation distribution\", fontsize=15, fontweight=\"bold\")\n",
    "ax.set_ylabel('Count', fontsize=15)\n",
    "ax.set_xlabel('duration of mech. Vent. in hours', fontsize=15);"
   ]
  },
  {
   "cell_type": "code",
   "execution_count": 37,
   "metadata": {},
   "outputs": [
    {
     "data": {
      "text/plain": [
       "16"
      ]
     },
     "execution_count": 37,
     "metadata": {},
     "output_type": "execute_result"
    }
   ],
   "source": [
    "len(df[df.hour_mechvent>750])"
   ]
  },
  {
   "cell_type": "code",
   "execution_count": 38,
   "metadata": {},
   "outputs": [
    {
     "data": {
      "image/png": "[encoded data removed]",
      "text/plain": [
       "<Figure size 504x288 with 1 Axes>"
      ]
     },
     "metadata": {
      "needs_background": "light"
     },
     "output_type": "display_data"
    }
   ],
   "source": [
    "df.boxplot(\"hour_mechvent\",by= \"label\",figsize=(7,4),fontsize=14)\n",
    "plt.title(\"{}\\n\".format('Duration of mechanical Ventilation'),fontsize=16)\n",
    "plt.xlabel(\"Extubation Success\", fontsize=16);"
   ]
  },
  {
   "cell_type": "markdown",
   "metadata": {},
   "source": [
    "## Respiratory instability = PF Ratio"
   ]
  },
  {
   "cell_type": "code",
   "execution_count": 39,
   "metadata": {},
   "outputs": [],
   "source": [
    "df.eval('pf_ratio =  PaO2/ FiO2 ', inplace=True)"
   ]
  },
  {
   "cell_type": "code",
   "execution_count": 40,
   "metadata": {},
   "outputs": [
    {
     "data": {
      "image/png": "[encoded data removed]",
      "text/plain": [
       "<Figure size 1080x360 with 1 Axes>"
      ]
     },
     "metadata": {
      "needs_background": "light"
     },
     "output_type": "display_data"
    }
   ],
   "source": [
    "plt.figure(figsize=(15,5))\n",
    "ax = sns.histplot(df.pf_ratio, bins=30)\n",
    "ax.set_title(\"Respiratory instability distribution\", fontsize=15, fontweight=\"bold\")\n",
    "ax.set_ylabel('Count', fontsize=15)\n",
    "ax.set_xlabel('PF Ratio ', fontsize=15);"
   ]
  },
  {
   "cell_type": "code",
   "execution_count": 41,
   "metadata": {},
   "outputs": [
    {
     "data": {
      "image/png": "[encoded data removed]",
      "text/plain": [
       "<Figure size 504x288 with 1 Axes>"
      ]
     },
     "metadata": {
      "needs_background": "light"
     },
     "output_type": "display_data"
    }
   ],
   "source": [
    "df.boxplot(\"pf_ratio\",by= \"label\",figsize=(7,4),fontsize=14)\n",
    "plt.title(\"{}\\n\".format('Respiratory instability'),fontsize=16)\n",
    "plt.xlabel(\"Extubation Success\", fontsize=16);"
   ]
  },
  {
   "cell_type": "markdown",
   "metadata": {},
   "source": [
    "## Product 1"
   ]
  },
  {
   "cell_type": "code",
   "execution_count": 42,
   "metadata": {},
   "outputs": [],
   "source": [
    "df.eval('product1 = leuko*rsbi*FiO2 ', inplace=True)"
   ]
  },
  {
   "cell_type": "code",
   "execution_count": 43,
   "metadata": {},
   "outputs": [
    {
     "data": {
      "image/png": "[encoded data removed]",
      "text/plain": [
       "<Figure size 1080x360 with 1 Axes>"
      ]
     },
     "metadata": {
      "needs_background": "light"
     },
     "output_type": "display_data"
    }
   ],
   "source": [
    "plt.figure(figsize=(15,5))\n",
    "ax = sns.histplot(df.product1[df.product1<200000], bins=30)\n",
    "ax.set_title(\"Product 1 distribution\", fontsize=15, fontweight=\"bold\")\n",
    "ax.set_ylabel('Count', fontsize=15)\n",
    "ax.set_xlabel('Product 1', fontsize=15);"
   ]
  },
  {
   "cell_type": "code",
   "execution_count": 44,
   "metadata": {},
   "outputs": [
    {
     "data": {
      "text/plain": [
       "38"
      ]
     },
     "execution_count": 44,
     "metadata": {},
     "output_type": "execute_result"
    }
   ],
   "source": [
    "len(df[df.product1>200000])"
   ]
  },
  {
   "cell_type": "code",
   "execution_count": 45,
   "metadata": {},
   "outputs": [
    {
     "data": {
      "image/png": "[encoded data removed]",
      "text/plain": [
       "<Figure size 504x288 with 1 Axes>"
      ]
     },
     "metadata": {
      "needs_background": "light"
     },
     "output_type": "display_data"
    }
   ],
   "source": [
    "df[df.product1<200000].boxplot(\"product1\",by= \"label\",figsize=(7,4),fontsize=14)\n",
    "plt.title(\"{}\\n\".format('Leuko * RSBI * FiO2'),fontsize=16)\n",
    "plt.xlabel(\"Extubation Success\", fontsize=16);"
   ]
  },
  {
   "cell_type": "markdown",
   "metadata": {},
   "source": [
    "## Product 2"
   ]
  },
  {
   "cell_type": "code",
   "execution_count": 46,
   "metadata": {},
   "outputs": [],
   "source": [
    "df.eval('product2 = hr * pf_ratio * wob ', inplace=True)"
   ]
  },
  {
   "cell_type": "code",
   "execution_count": 47,
   "metadata": {},
   "outputs": [
    {
     "data": {
      "image/png": "[encoded data removed]",
      "text/plain": [
       "<Figure size 1080x360 with 1 Axes>"
      ]
     },
     "metadata": {
      "needs_background": "light"
     },
     "output_type": "display_data"
    }
   ],
   "source": [
    "plt.figure(figsize=(15,5))\n",
    "ax = sns.histplot(df.product2[df.product2<1000], bins=30)\n",
    "ax.set_title(\"Product 2 distribution\", fontsize=15, fontweight=\"bold\")\n",
    "ax.set_ylabel('Count', fontsize=15)\n",
    "ax.set_xlabel('Product 2', fontsize=15);"
   ]
  },
  {
   "cell_type": "code",
   "execution_count": 48,
   "metadata": {},
   "outputs": [
    {
     "data": {
      "text/plain": [
       "6"
      ]
     },
     "execution_count": 48,
     "metadata": {},
     "output_type": "execute_result"
    }
   ],
   "source": [
    "len(df[df.product2>1000])"
   ]
  },
  {
   "cell_type": "code",
   "execution_count": 49,
   "metadata": {},
   "outputs": [
    {
     "data": {
      "image/png": "[encoded data removed]",
      "text/plain": [
       "<Figure size 504x288 with 1 Axes>"
      ]
     },
     "metadata": {
      "needs_background": "light"
     },
     "output_type": "display_data"
    }
   ],
   "source": [
    "df.boxplot(\"product2\",by= \"label\",figsize=(7,4),fontsize=14)\n",
    "plt.title(\"{}\\n\".format('Heart Rate * Respiratory Instabililty * Work of Breathing'),fontsize=16)\n",
    "plt.xlabel(\"Extubation Success\", fontsize=16);"
   ]
  },
  {
   "cell_type": "markdown",
   "metadata": {},
   "source": [
    "## Certain diseases"
   ]
  },
  {
   "cell_type": "code",
   "execution_count": 50,
   "metadata": {},
   "outputs": [],
   "source": [
    "df_disease = pd.read_csv('./data/Comorbidities_MIMIC_patients.csv')"
   ]
  },
  {
   "cell_type": "code",
   "execution_count": 51,
   "metadata": {},
   "outputs": [
    {
     "data": {
      "text/html": [
       "<div>\n",
       "<style scoped>\n",
       "    .dataframe tbody tr th:only-of-type {\n",
       "        vertical-align: middle;\n",
       "    }\n",
       "\n",
       "    .dataframe tbody tr th {\n",
       "        vertical-align: top;\n",
       "    }\n",
       "\n",
       "    .dataframe thead th {\n",
       "        text-align: right;\n",
       "    }\n",
       "</style>\n",
       "<table border=\"1\" class=\"dataframe\">\n",
       "  <thead>\n",
       "    <tr style=\"text-align: right;\">\n",
       "      <th></th>\n",
       "      <th>hadm_id</th>\n",
       "      <th>diabetes</th>\n",
       "      <th>kidney_failure</th>\n",
       "      <th>pneumonia</th>\n",
       "      <th>heart_failure</th>\n",
       "      <th>embolism</th>\n",
       "    </tr>\n",
       "  </thead>\n",
       "  <tbody>\n",
       "    <tr>\n",
       "      <th>0</th>\n",
       "      <td>100016</td>\n",
       "      <td>0</td>\n",
       "      <td>0</td>\n",
       "      <td>0</td>\n",
       "      <td>0</td>\n",
       "      <td>0</td>\n",
       "    </tr>\n",
       "    <tr>\n",
       "      <th>1</th>\n",
       "      <td>100017</td>\n",
       "      <td>0</td>\n",
       "      <td>0</td>\n",
       "      <td>0</td>\n",
       "      <td>0</td>\n",
       "      <td>0</td>\n",
       "    </tr>\n",
       "    <tr>\n",
       "      <th>2</th>\n",
       "      <td>100035</td>\n",
       "      <td>0</td>\n",
       "      <td>1</td>\n",
       "      <td>0</td>\n",
       "      <td>1</td>\n",
       "      <td>0</td>\n",
       "    </tr>\n",
       "    <tr>\n",
       "      <th>3</th>\n",
       "      <td>100035</td>\n",
       "      <td>0</td>\n",
       "      <td>1</td>\n",
       "      <td>0</td>\n",
       "      <td>1</td>\n",
       "      <td>0</td>\n",
       "    </tr>\n",
       "    <tr>\n",
       "      <th>4</th>\n",
       "      <td>100035</td>\n",
       "      <td>0</td>\n",
       "      <td>1</td>\n",
       "      <td>0</td>\n",
       "      <td>1</td>\n",
       "      <td>0</td>\n",
       "    </tr>\n",
       "  </tbody>\n",
       "</table>\n",
       "</div>"
      ],
      "text/plain": [
       "   hadm_id  diabetes  kidney_failure  pneumonia  heart_failure  embolism\n",
       "0   100016         0               0          0              0         0\n",
       "1   100017         0               0          0              0         0\n",
       "2   100035         0               1          0              1         0\n",
       "3   100035         0               1          0              1         0\n",
       "4   100035         0               1          0              1         0"
      ]
     },
     "execution_count": 51,
     "metadata": {},
     "output_type": "execute_result"
    }
   ],
   "source": [
    "df_disease.head()"
   ]
  },
  {
   "cell_type": "code",
   "execution_count": 52,
   "metadata": {},
   "outputs": [
    {
     "data": {
      "text/plain": [
       "(11096, 6)"
      ]
     },
     "execution_count": 52,
     "metadata": {},
     "output_type": "execute_result"
    }
   ],
   "source": [
    "df_disease.shape"
   ]
  },
  {
   "cell_type": "code",
   "execution_count": 53,
   "metadata": {},
   "outputs": [],
   "source": [
    "df= df.merge(right=df_disease, how= 'inner' , on='hadm_id')"
   ]
  },
  {
   "cell_type": "code",
   "execution_count": 54,
   "metadata": {},
   "outputs": [
    {
     "data": {
      "text/html": [
       "<div>\n",
       "<style scoped>\n",
       "    .dataframe tbody tr th:only-of-type {\n",
       "        vertical-align: middle;\n",
       "    }\n",
       "\n",
       "    .dataframe tbody tr th {\n",
       "        vertical-align: top;\n",
       "    }\n",
       "\n",
       "    .dataframe thead th {\n",
       "        text-align: right;\n",
       "    }\n",
       "</style>\n",
       "<table border=\"1\" class=\"dataframe\">\n",
       "  <thead>\n",
       "    <tr style=\"text-align: right;\">\n",
       "      <th></th>\n",
       "      <th>label</th>\n",
       "      <th>hadm_id</th>\n",
       "      <th>icustay_id</th>\n",
       "      <th>age</th>\n",
       "      <th>numb_diagn</th>\n",
       "      <th>los</th>\n",
       "      <th>tracheo</th>\n",
       "      <th>PaO2</th>\n",
       "      <th>base_excess</th>\n",
       "      <th>creatinin</th>\n",
       "      <th>...</th>\n",
       "      <th>rsbi</th>\n",
       "      <th>hour_mechvent</th>\n",
       "      <th>pf_ratio</th>\n",
       "      <th>product1</th>\n",
       "      <th>product2</th>\n",
       "      <th>diabetes</th>\n",
       "      <th>kidney_failure</th>\n",
       "      <th>pneumonia</th>\n",
       "      <th>heart_failure</th>\n",
       "      <th>embolism</th>\n",
       "    </tr>\n",
       "  </thead>\n",
       "  <tbody>\n",
       "    <tr>\n",
       "      <th>0</th>\n",
       "      <td>1</td>\n",
       "      <td>100016</td>\n",
       "      <td>217590</td>\n",
       "      <td>56.0</td>\n",
       "      <td>11</td>\n",
       "      <td>6.1731</td>\n",
       "      <td>1</td>\n",
       "      <td>86.0</td>\n",
       "      <td>2.0</td>\n",
       "      <td>1.1</td>\n",
       "      <td>...</td>\n",
       "      <td>27.565084</td>\n",
       "      <td>90.00</td>\n",
       "      <td>2.457143</td>\n",
       "      <td>10323.124043</td>\n",
       "      <td>116.516618</td>\n",
       "      <td>0</td>\n",
       "      <td>0</td>\n",
       "      <td>0</td>\n",
       "      <td>0</td>\n",
       "      <td>0</td>\n",
       "    </tr>\n",
       "    <tr>\n",
       "      <th>1</th>\n",
       "      <td>1</td>\n",
       "      <td>100017</td>\n",
       "      <td>258320</td>\n",
       "      <td>28.0</td>\n",
       "      <td>8</td>\n",
       "      <td>0.6924</td>\n",
       "      <td>0</td>\n",
       "      <td>171.0</td>\n",
       "      <td>4.0</td>\n",
       "      <td>0.8</td>\n",
       "      <td>...</td>\n",
       "      <td>46.511628</td>\n",
       "      <td>5.50</td>\n",
       "      <td>4.275000</td>\n",
       "      <td>17302.325839</td>\n",
       "      <td>104.836133</td>\n",
       "      <td>0</td>\n",
       "      <td>0</td>\n",
       "      <td>0</td>\n",
       "      <td>0</td>\n",
       "      <td>0</td>\n",
       "    </tr>\n",
       "    <tr>\n",
       "      <th>2</th>\n",
       "      <td>1</td>\n",
       "      <td>100035</td>\n",
       "      <td>245719</td>\n",
       "      <td>37.0</td>\n",
       "      <td>26</td>\n",
       "      <td>10.5061</td>\n",
       "      <td>0</td>\n",
       "      <td>39.0</td>\n",
       "      <td>10.0</td>\n",
       "      <td>1.1</td>\n",
       "      <td>...</td>\n",
       "      <td>105.960265</td>\n",
       "      <td>194.48</td>\n",
       "      <td>0.557143</td>\n",
       "      <td>127576.158940</td>\n",
       "      <td>5.437903</td>\n",
       "      <td>0</td>\n",
       "      <td>1</td>\n",
       "      <td>0</td>\n",
       "      <td>1</td>\n",
       "      <td>0</td>\n",
       "    </tr>\n",
       "    <tr>\n",
       "      <th>3</th>\n",
       "      <td>1</td>\n",
       "      <td>100035</td>\n",
       "      <td>245719</td>\n",
       "      <td>37.0</td>\n",
       "      <td>26</td>\n",
       "      <td>10.5061</td>\n",
       "      <td>0</td>\n",
       "      <td>39.0</td>\n",
       "      <td>10.0</td>\n",
       "      <td>1.1</td>\n",
       "      <td>...</td>\n",
       "      <td>105.960265</td>\n",
       "      <td>194.48</td>\n",
       "      <td>0.557143</td>\n",
       "      <td>127576.158940</td>\n",
       "      <td>5.437903</td>\n",
       "      <td>0</td>\n",
       "      <td>1</td>\n",
       "      <td>0</td>\n",
       "      <td>1</td>\n",
       "      <td>0</td>\n",
       "    </tr>\n",
       "    <tr>\n",
       "      <th>4</th>\n",
       "      <td>1</td>\n",
       "      <td>100035</td>\n",
       "      <td>245719</td>\n",
       "      <td>37.0</td>\n",
       "      <td>26</td>\n",
       "      <td>10.5061</td>\n",
       "      <td>0</td>\n",
       "      <td>39.0</td>\n",
       "      <td>10.0</td>\n",
       "      <td>1.1</td>\n",
       "      <td>...</td>\n",
       "      <td>105.960265</td>\n",
       "      <td>194.48</td>\n",
       "      <td>0.557143</td>\n",
       "      <td>127576.158940</td>\n",
       "      <td>5.437903</td>\n",
       "      <td>0</td>\n",
       "      <td>1</td>\n",
       "      <td>0</td>\n",
       "      <td>1</td>\n",
       "      <td>0</td>\n",
       "    </tr>\n",
       "  </tbody>\n",
       "</table>\n",
       "<p>5 rows × 39 columns</p>\n",
       "</div>"
      ],
      "text/plain": [
       "   label  hadm_id  icustay_id   age  numb_diagn      los  tracheo   PaO2  \\\n",
       "0      1   100016      217590  56.0          11   6.1731        1   86.0   \n",
       "1      1   100017      258320  28.0           8   0.6924        0  171.0   \n",
       "2      1   100035      245719  37.0          26  10.5061        0   39.0   \n",
       "3      1   100035      245719  37.0          26  10.5061        0   39.0   \n",
       "4      1   100035      245719  37.0          26  10.5061        0   39.0   \n",
       "\n",
       "   base_excess  creatinin  ...        rsbi  hour_mechvent  pf_ratio  \\\n",
       "0          2.0        1.1  ...   27.565084          90.00  2.457143   \n",
       "1          4.0        0.8  ...   46.511628           5.50  4.275000   \n",
       "2         10.0        1.1  ...  105.960265         194.48  0.557143   \n",
       "3         10.0        1.1  ...  105.960265         194.48  0.557143   \n",
       "4         10.0        1.1  ...  105.960265         194.48  0.557143   \n",
       "\n",
       "        product1    product2  diabetes  kidney_failure  pneumonia  \\\n",
       "0   10323.124043  116.516618         0               0          0   \n",
       "1   17302.325839  104.836133         0               0          0   \n",
       "2  127576.158940    5.437903         0               1          0   \n",
       "3  127576.158940    5.437903         0               1          0   \n",
       "4  127576.158940    5.437903         0               1          0   \n",
       "\n",
       "   heart_failure  embolism  \n",
       "0              0         0  \n",
       "1              0         0  \n",
       "2              1         0  \n",
       "3              1         0  \n",
       "4              1         0  \n",
       "\n",
       "[5 rows x 39 columns]"
      ]
     },
     "execution_count": 54,
     "metadata": {},
     "output_type": "execute_result"
    }
   ],
   "source": [
    "df.head()"
   ]
  },
  {
   "cell_type": "code",
   "execution_count": 55,
   "metadata": {},
   "outputs": [
    {
     "data": {
      "text/plain": [
       "(10085, 39)"
      ]
     },
     "execution_count": 55,
     "metadata": {},
     "output_type": "execute_result"
    }
   ],
   "source": [
    "df.shape"
   ]
  },
  {
   "cell_type": "code",
   "execution_count": 56,
   "metadata": {},
   "outputs": [
    {
     "data": {
      "text/plain": [
       "5884"
      ]
     },
     "execution_count": 56,
     "metadata": {},
     "output_type": "execute_result"
    }
   ],
   "source": [
    "df.icustay_id.nunique()"
   ]
  },
  {
   "cell_type": "code",
   "execution_count": 57,
   "metadata": {},
   "outputs": [],
   "source": [
    "df.drop_duplicates(inplace=True)"
   ]
  },
  {
   "cell_type": "code",
   "execution_count": 58,
   "metadata": {},
   "outputs": [
    {
     "name": "stdout",
     "output_type": "stream",
     "text": [
      "Amount of unique values: 2\n",
      "Unique Values: [0 1]\n",
      "Value counts: 0    4155\n",
      "1    1729\n",
      "Name: diabetes, dtype: int64\n",
      "\n",
      "Missing in diabetes: 0.0%\n",
      "Null-Values: 0\n",
      "\n"
     ]
    }
   ],
   "source": [
    "cleaning(df.diabetes, True)"
   ]
  },
  {
   "cell_type": "code",
   "execution_count": 59,
   "metadata": {},
   "outputs": [
    {
     "name": "stdout",
     "output_type": "stream",
     "text": [
      "Amount of unique values: 2\n",
      "Unique Values: [0 1]\n",
      "Value counts: 0    3022\n",
      "1    2862\n",
      "Name: kidney_failure, dtype: int64\n",
      "\n",
      "Missing in kidney_failure: 0.0%\n",
      "Null-Values: 0\n",
      "\n"
     ]
    }
   ],
   "source": [
    "cleaning(df.kidney_failure, True)"
   ]
  },
  {
   "cell_type": "code",
   "execution_count": 60,
   "metadata": {},
   "outputs": [
    {
     "name": "stdout",
     "output_type": "stream",
     "text": [
      "Amount of unique values: 2\n",
      "Unique Values: [0 1]\n",
      "Value counts: 0    4181\n",
      "1    1703\n",
      "Name: pneumonia, dtype: int64\n",
      "\n",
      "Missing in pneumonia: 0.0%\n",
      "Null-Values: 0\n",
      "\n"
     ]
    }
   ],
   "source": [
    "cleaning(df.pneumonia, True)"
   ]
  },
  {
   "cell_type": "code",
   "execution_count": 61,
   "metadata": {},
   "outputs": [
    {
     "name": "stdout",
     "output_type": "stream",
     "text": [
      "Amount of unique values: 2\n",
      "Unique Values: [0 1]\n",
      "Value counts: 0    3487\n",
      "1    2397\n",
      "Name: heart_failure, dtype: int64\n",
      "\n",
      "Missing in heart_failure: 0.0%\n",
      "Null-Values: 0\n",
      "\n"
     ]
    }
   ],
   "source": [
    "cleaning(df.heart_failure, True)"
   ]
  },
  {
   "cell_type": "code",
   "execution_count": 62,
   "metadata": {},
   "outputs": [
    {
     "name": "stdout",
     "output_type": "stream",
     "text": [
      "Amount of unique values: 2\n",
      "Unique Values: [0 1]\n",
      "Value counts: 0    5688\n",
      "1     196\n",
      "Name: embolism, dtype: int64\n",
      "\n",
      "Missing in embolism: 0.0%\n",
      "Null-Values: 0\n",
      "\n"
     ]
    }
   ],
   "source": [
    "cleaning(df.embolism, True)"
   ]
  },
  {
   "cell_type": "code",
   "execution_count": 63,
   "metadata": {},
   "outputs": [
    {
     "data": {
      "image/png": "[encoded data removed]",
      "text/plain": [
       "<Figure size 576x1152 with 5 Axes>"
      ]
     },
     "metadata": {},
     "output_type": "display_data"
    }
   ],
   "source": [
    "liste = ['diabetes', 'kidney_failure', 'pneumonia','heart_failure', 'embolism']\n",
    "sns.set(style=\"darkgrid\")\n",
    "fig, ax =plt.subplots(5,1, figsize=(8,16) ) \n",
    "max_count = max([max(df[i].value_counts()) for i in liste])\n",
    "A=sns.countplot(y=df['diabetes'],ax=ax[0],order=df.diabetes.value_counts().iloc[:2].index)\n",
    "B=sns.countplot(y=df['kidney_failure'],ax=ax[1],order=df.kidney_failure.value_counts().iloc[:2].index)\n",
    "C=sns.countplot(y=df['pneumonia'],ax=ax[2],order=df.pneumonia.value_counts().iloc[:2].index)\n",
    "D=sns.countplot(y=df['heart_failure'],ax=ax[3],order=df.heart_failure.value_counts().iloc[:2].index)\n",
    "E=sns.countplot(y=df['embolism'],ax=ax[4],order=df.embolism.value_counts().iloc[:2].index)\n",
    "ax[0].set_xlim(0,max_count)\n",
    "ax[1].set_xlim(0,max_count)\n",
    "ax[2].set_xlim(0,max_count)\n",
    "ax[3].set_xlim(0,max_count)\n",
    "ax[4].set_xlim(0,max_count)\n",
    "fig.tight_layout()\n",
    "fig.suptitle(\"Comorbidity Distributions\",fontsize=25, fontweight = 'bold', y= 1.03);"
   ]
  },
  {
   "cell_type": "code",
   "execution_count": 64,
   "metadata": {},
   "outputs": [
    {
     "data": {
      "image/png": "[encoded data removed]",
      "text/plain": [
       "<Figure size 576x1152 with 5 Axes>"
      ]
     },
     "metadata": {},
     "output_type": "display_data"
    }
   ],
   "source": [
    "liste = ['diabetes', 'kidney_failure', 'pneumonia','heart_failure', 'embolism']\n",
    "hue = df.label.apply(lambda x: 'succeeded' if x ==1 else 'failed')\n",
    "sns.set(style=\"darkgrid\")\n",
    "fig, ax =plt.subplots(5,1, figsize=(8,16) ) \n",
    "max_count = max([max(df[i].value_counts()) for i in liste])\n",
    "A=sns.countplot(y=df['diabetes'],hue=hue, ax=ax[0],order=df.diabetes.value_counts().iloc[:2].index)\n",
    "B=sns.countplot(y=df['kidney_failure'],hue=hue,ax=ax[1],order=df.kidney_failure.value_counts().iloc[:2].index)\n",
    "C=sns.countplot(y=df['pneumonia'],hue=hue,ax=ax[2],order=df.pneumonia.value_counts().iloc[:2].index)\n",
    "D=sns.countplot(y=df['heart_failure'],hue=hue,ax=ax[3],order=df.heart_failure.value_counts().iloc[:2].index)\n",
    "E=sns.countplot(y=df['embolism'],hue=hue,ax=ax[4],order=df.embolism.value_counts().iloc[:2].index)\n",
    "ax[0].set_xlim(0,max_count)\n",
    "ax[1].set_xlim(0,max_count)\n",
    "ax[2].set_xlim(0,max_count)\n",
    "ax[3].set_xlim(0,max_count)\n",
    "ax[4].set_xlim(0,max_count)\n",
    "fig.tight_layout()\n",
    "fig.suptitle(\"Comorbidity Distributions grouped by Label\",fontsize=25, fontweight = 'bold', y= 1.03);"
   ]
  },
  {
   "cell_type": "markdown",
   "metadata": {},
   "source": [
    "## Course of certain features in the 24 hours prior to extubation"
   ]
  },
  {
   "cell_type": "code",
   "execution_count": 65,
   "metadata": {},
   "outputs": [],
   "source": [
    "df3 = pd.read_csv('./data/labevents_pre_extub_new1.csv')"
   ]
  },
  {
   "cell_type": "code",
   "execution_count": 66,
   "metadata": {},
   "outputs": [
    {
     "data": {
      "text/html": [
       "<div>\n",
       "<style scoped>\n",
       "    .dataframe tbody tr th:only-of-type {\n",
       "        vertical-align: middle;\n",
       "    }\n",
       "\n",
       "    .dataframe tbody tr th {\n",
       "        vertical-align: top;\n",
       "    }\n",
       "\n",
       "    .dataframe thead th {\n",
       "        text-align: right;\n",
       "    }\n",
       "</style>\n",
       "<table border=\"1\" class=\"dataframe\">\n",
       "  <thead>\n",
       "    <tr style=\"text-align: right;\">\n",
       "      <th></th>\n",
       "      <th>hadm_id</th>\n",
       "      <th>icustay_id</th>\n",
       "      <th>charttime</th>\n",
       "      <th>item</th>\n",
       "      <th>value</th>\n",
       "      <th>hours_bevor_ext</th>\n",
       "    </tr>\n",
       "  </thead>\n",
       "  <tbody>\n",
       "    <tr>\n",
       "      <th>0</th>\n",
       "      <td>100017</td>\n",
       "      <td>258320</td>\n",
       "      <td>2103-03-11 05:10:00</td>\n",
       "      <td>pH</td>\n",
       "      <td>7.52</td>\n",
       "      <td>4.33</td>\n",
       "    </tr>\n",
       "    <tr>\n",
       "      <th>1</th>\n",
       "      <td>100017</td>\n",
       "      <td>258320</td>\n",
       "      <td>2103-03-11 05:10:00</td>\n",
       "      <td>Pa02</td>\n",
       "      <td>171</td>\n",
       "      <td>4.33</td>\n",
       "    </tr>\n",
       "    <tr>\n",
       "      <th>2</th>\n",
       "      <td>100035</td>\n",
       "      <td>245719</td>\n",
       "      <td>2115-03-01 09:56:00</td>\n",
       "      <td>pH</td>\n",
       "      <td>7.41</td>\n",
       "      <td>25.55</td>\n",
       "    </tr>\n",
       "    <tr>\n",
       "      <th>3</th>\n",
       "      <td>100035</td>\n",
       "      <td>245719</td>\n",
       "      <td>2115-03-01 14:08:00</td>\n",
       "      <td>pH</td>\n",
       "      <td>7.42</td>\n",
       "      <td>21.35</td>\n",
       "    </tr>\n",
       "    <tr>\n",
       "      <th>4</th>\n",
       "      <td>100035</td>\n",
       "      <td>245719</td>\n",
       "      <td>2115-03-01 16:45:00</td>\n",
       "      <td>pH</td>\n",
       "      <td>7.41</td>\n",
       "      <td>18.73</td>\n",
       "    </tr>\n",
       "    <tr>\n",
       "      <th>5</th>\n",
       "      <td>100035</td>\n",
       "      <td>245719</td>\n",
       "      <td>2115-03-01 09:56:00</td>\n",
       "      <td>Pa02</td>\n",
       "      <td>60</td>\n",
       "      <td>25.55</td>\n",
       "    </tr>\n",
       "    <tr>\n",
       "      <th>6</th>\n",
       "      <td>100035</td>\n",
       "      <td>245719</td>\n",
       "      <td>2115-03-01 14:08:00</td>\n",
       "      <td>Pa02</td>\n",
       "      <td>43</td>\n",
       "      <td>21.35</td>\n",
       "    </tr>\n",
       "    <tr>\n",
       "      <th>7</th>\n",
       "      <td>100035</td>\n",
       "      <td>245719</td>\n",
       "      <td>2115-03-01 16:45:00</td>\n",
       "      <td>Pa02</td>\n",
       "      <td>39</td>\n",
       "      <td>18.73</td>\n",
       "    </tr>\n",
       "    <tr>\n",
       "      <th>8</th>\n",
       "      <td>100063</td>\n",
       "      <td>241782</td>\n",
       "      <td>2181-04-21 00:35:00</td>\n",
       "      <td>pH</td>\n",
       "      <td>7.39</td>\n",
       "      <td>12.92</td>\n",
       "    </tr>\n",
       "    <tr>\n",
       "      <th>9</th>\n",
       "      <td>100063</td>\n",
       "      <td>241782</td>\n",
       "      <td>2181-04-21 00:35:00</td>\n",
       "      <td>Pa02</td>\n",
       "      <td>365</td>\n",
       "      <td>12.92</td>\n",
       "    </tr>\n",
       "    <tr>\n",
       "      <th>10</th>\n",
       "      <td>100087</td>\n",
       "      <td>294404</td>\n",
       "      <td>2126-11-03 04:36:00</td>\n",
       "      <td>pH</td>\n",
       "      <td>7.46</td>\n",
       "      <td>35.57</td>\n",
       "    </tr>\n",
       "    <tr>\n",
       "      <th>11</th>\n",
       "      <td>100087</td>\n",
       "      <td>294404</td>\n",
       "      <td>2126-11-03 04:44:00</td>\n",
       "      <td>pH</td>\n",
       "      <td>7.49</td>\n",
       "      <td>35.43</td>\n",
       "    </tr>\n",
       "    <tr>\n",
       "      <th>12</th>\n",
       "      <td>100087</td>\n",
       "      <td>294404</td>\n",
       "      <td>2126-11-03 05:12:00</td>\n",
       "      <td>pH</td>\n",
       "      <td>7.47</td>\n",
       "      <td>34.97</td>\n",
       "    </tr>\n",
       "    <tr>\n",
       "      <th>13</th>\n",
       "      <td>100087</td>\n",
       "      <td>294404</td>\n",
       "      <td>2126-11-03 04:36:00</td>\n",
       "      <td>Pa02</td>\n",
       "      <td>149</td>\n",
       "      <td>35.57</td>\n",
       "    </tr>\n",
       "    <tr>\n",
       "      <th>14</th>\n",
       "      <td>100087</td>\n",
       "      <td>294404</td>\n",
       "      <td>2126-11-03 04:44:00</td>\n",
       "      <td>Pa02</td>\n",
       "      <td>97</td>\n",
       "      <td>35.43</td>\n",
       "    </tr>\n",
       "  </tbody>\n",
       "</table>\n",
       "</div>"
      ],
      "text/plain": [
       "    hadm_id  icustay_id            charttime  item value  hours_bevor_ext\n",
       "0    100017      258320  2103-03-11 05:10:00    pH  7.52             4.33\n",
       "1    100017      258320  2103-03-11 05:10:00  Pa02   171             4.33\n",
       "2    100035      245719  2115-03-01 09:56:00    pH  7.41            25.55\n",
       "3    100035      245719  2115-03-01 14:08:00    pH  7.42            21.35\n",
       "4    100035      245719  2115-03-01 16:45:00    pH  7.41            18.73\n",
       "5    100035      245719  2115-03-01 09:56:00  Pa02    60            25.55\n",
       "6    100035      245719  2115-03-01 14:08:00  Pa02    43            21.35\n",
       "7    100035      245719  2115-03-01 16:45:00  Pa02    39            18.73\n",
       "8    100063      241782  2181-04-21 00:35:00    pH  7.39            12.92\n",
       "9    100063      241782  2181-04-21 00:35:00  Pa02   365            12.92\n",
       "10   100087      294404  2126-11-03 04:36:00    pH  7.46            35.57\n",
       "11   100087      294404  2126-11-03 04:44:00    pH  7.49            35.43\n",
       "12   100087      294404  2126-11-03 05:12:00    pH  7.47            34.97\n",
       "13   100087      294404  2126-11-03 04:36:00  Pa02   149            35.57\n",
       "14   100087      294404  2126-11-03 04:44:00  Pa02    97            35.43"
      ]
     },
     "execution_count": 66,
     "metadata": {},
     "output_type": "execute_result"
    }
   ],
   "source": [
    "df3.head(15)"
   ]
  },
  {
   "cell_type": "code",
   "execution_count": 67,
   "metadata": {},
   "outputs": [],
   "source": [
    "b = list(df3.icustay_id.unique())"
   ]
  },
  {
   "cell_type": "code",
   "execution_count": 68,
   "metadata": {},
   "outputs": [],
   "source": [
    "# pivotieren\n",
    "pivot_table = df3.pivot_table(index=['icustay_id','charttime'],\n",
    "                                     columns='item', \n",
    "                                     values='value',\n",
    "                                     aggfunc=lambda x: ''.join(str(v) for v in x))"
   ]
  },
  {
   "cell_type": "code",
   "execution_count": 69,
   "metadata": {},
   "outputs": [],
   "source": [
    "pivot_table.Pa02 = pd.to_numeric(pivot_table.Pa02, errors='coerce')\n",
    "pivot_table.pH = pd.to_numeric(pivot_table.pH, errors='coerce')"
   ]
  },
  {
   "cell_type": "code",
   "execution_count": 70,
   "metadata": {},
   "outputs": [],
   "source": [
    "minimum_pH = []\n",
    "maximum_pH = []\n",
    "median_pH = []\n",
    "std_pH = []\n",
    "skew_pH = []\n",
    "kurto_pH = []\n",
    "minimum_PaO2 = []\n",
    "maximum_PaO2 = []\n",
    "median_PaO2 = []\n",
    "std_PaO2 = []\n",
    "skew_PaO2 = []\n",
    "kurto_PaO2 = []\n",
    "for i in b:\n",
    "    a = pivot_table.loc[i, :]\n",
    "    minimum_pH.append(a.pH.min())\n",
    "    maximum_pH.append(a.pH.max()) \n",
    "    median_pH.append(a.pH.median())\n",
    "    std_pH.append(a.pH.std())\n",
    "    skew_pH.append(a.pH.skew())\n",
    "    kurto_pH.append(a.pH.kurtosis())\n",
    "    minimum_PaO2.append(a.Pa02.min())\n",
    "    maximum_PaO2.append(a.Pa02.max()) \n",
    "    median_PaO2.append(a.Pa02.median())\n",
    "    std_PaO2.append(a.Pa02.std())\n",
    "    skew_PaO2.append(a.Pa02.skew())\n",
    "    kurto_PaO2.append(a.Pa02.kurtosis())\n"
   ]
  },
  {
   "cell_type": "code",
   "execution_count": 71,
   "metadata": {},
   "outputs": [],
   "source": [
    "result = pd.DataFrame(list(zip(b,\n",
    "                               minimum_pH, maximum_pH, median_pH, std_pH, skew_pH, kurto_pH,\n",
    "                               minimum_PaO2, maximum_PaO2, median_PaO2, std_PaO2, skew_PaO2, kurto_PaO2)), \n",
    "               columns =['icustay_id','minimum_pH', 'maximum_pH', 'median_pH', 'std_pH', 'skew_pH', 'kurto_pH',\n",
    "                        'minimum_PaO2', 'maximum_PaO2', 'median_PaO2', 'std_PaO2', 'skew_PaO2', 'kurto_PaO2']\n",
    "                     ) "
   ]
  },
  {
   "cell_type": "code",
   "execution_count": 72,
   "metadata": {},
   "outputs": [
    {
     "data": {
      "text/html": [
       "<div>\n",
       "<style scoped>\n",
       "    .dataframe tbody tr th:only-of-type {\n",
       "        vertical-align: middle;\n",
       "    }\n",
       "\n",
       "    .dataframe tbody tr th {\n",
       "        vertical-align: top;\n",
       "    }\n",
       "\n",
       "    .dataframe thead th {\n",
       "        text-align: right;\n",
       "    }\n",
       "</style>\n",
       "<table border=\"1\" class=\"dataframe\">\n",
       "  <thead>\n",
       "    <tr style=\"text-align: right;\">\n",
       "      <th></th>\n",
       "      <th>icustay_id</th>\n",
       "      <th>minimum_pH</th>\n",
       "      <th>maximum_pH</th>\n",
       "      <th>median_pH</th>\n",
       "      <th>std_pH</th>\n",
       "      <th>skew_pH</th>\n",
       "      <th>kurto_pH</th>\n",
       "      <th>minimum_PaO2</th>\n",
       "      <th>maximum_PaO2</th>\n",
       "      <th>median_PaO2</th>\n",
       "      <th>std_PaO2</th>\n",
       "      <th>skew_PaO2</th>\n",
       "      <th>kurto_PaO2</th>\n",
       "    </tr>\n",
       "  </thead>\n",
       "  <tbody>\n",
       "    <tr>\n",
       "      <th>0</th>\n",
       "      <td>258320</td>\n",
       "      <td>7.52</td>\n",
       "      <td>7.52</td>\n",
       "      <td>7.520</td>\n",
       "      <td>NaN</td>\n",
       "      <td>NaN</td>\n",
       "      <td>NaN</td>\n",
       "      <td>171.0</td>\n",
       "      <td>171.0</td>\n",
       "      <td>171.0</td>\n",
       "      <td>NaN</td>\n",
       "      <td>NaN</td>\n",
       "      <td>NaN</td>\n",
       "    </tr>\n",
       "    <tr>\n",
       "      <th>1</th>\n",
       "      <td>245719</td>\n",
       "      <td>7.41</td>\n",
       "      <td>7.42</td>\n",
       "      <td>7.410</td>\n",
       "      <td>0.005774</td>\n",
       "      <td>1.732051</td>\n",
       "      <td>NaN</td>\n",
       "      <td>39.0</td>\n",
       "      <td>60.0</td>\n",
       "      <td>43.0</td>\n",
       "      <td>11.150486</td>\n",
       "      <td>1.484685</td>\n",
       "      <td>NaN</td>\n",
       "    </tr>\n",
       "    <tr>\n",
       "      <th>2</th>\n",
       "      <td>241782</td>\n",
       "      <td>7.39</td>\n",
       "      <td>7.39</td>\n",
       "      <td>7.390</td>\n",
       "      <td>NaN</td>\n",
       "      <td>NaN</td>\n",
       "      <td>NaN</td>\n",
       "      <td>365.0</td>\n",
       "      <td>365.0</td>\n",
       "      <td>365.0</td>\n",
       "      <td>NaN</td>\n",
       "      <td>NaN</td>\n",
       "      <td>NaN</td>\n",
       "    </tr>\n",
       "    <tr>\n",
       "      <th>3</th>\n",
       "      <td>294404</td>\n",
       "      <td>7.46</td>\n",
       "      <td>7.49</td>\n",
       "      <td>7.470</td>\n",
       "      <td>0.015275</td>\n",
       "      <td>0.935220</td>\n",
       "      <td>NaN</td>\n",
       "      <td>97.0</td>\n",
       "      <td>149.0</td>\n",
       "      <td>143.0</td>\n",
       "      <td>28.448784</td>\n",
       "      <td>-1.645780</td>\n",
       "      <td>NaN</td>\n",
       "    </tr>\n",
       "    <tr>\n",
       "      <th>4</th>\n",
       "      <td>243747</td>\n",
       "      <td>7.43</td>\n",
       "      <td>7.48</td>\n",
       "      <td>7.455</td>\n",
       "      <td>0.017512</td>\n",
       "      <td>-0.248278</td>\n",
       "      <td>-0.014178</td>\n",
       "      <td>62.0</td>\n",
       "      <td>102.0</td>\n",
       "      <td>80.5</td>\n",
       "      <td>16.293148</td>\n",
       "      <td>0.104008</td>\n",
       "      <td>-1.792745</td>\n",
       "    </tr>\n",
       "  </tbody>\n",
       "</table>\n",
       "</div>"
      ],
      "text/plain": [
       "   icustay_id  minimum_pH  maximum_pH  median_pH    std_pH   skew_pH  \\\n",
       "0      258320        7.52        7.52      7.520       NaN       NaN   \n",
       "1      245719        7.41        7.42      7.410  0.005774  1.732051   \n",
       "2      241782        7.39        7.39      7.390       NaN       NaN   \n",
       "3      294404        7.46        7.49      7.470  0.015275  0.935220   \n",
       "4      243747        7.43        7.48      7.455  0.017512 -0.248278   \n",
       "\n",
       "   kurto_pH  minimum_PaO2  maximum_PaO2  median_PaO2   std_PaO2  skew_PaO2  \\\n",
       "0       NaN         171.0         171.0        171.0        NaN        NaN   \n",
       "1       NaN          39.0          60.0         43.0  11.150486   1.484685   \n",
       "2       NaN         365.0         365.0        365.0        NaN        NaN   \n",
       "3       NaN          97.0         149.0        143.0  28.448784  -1.645780   \n",
       "4 -0.014178          62.0         102.0         80.5  16.293148   0.104008   \n",
       "\n",
       "   kurto_PaO2  \n",
       "0         NaN  \n",
       "1         NaN  \n",
       "2         NaN  \n",
       "3         NaN  \n",
       "4   -1.792745  "
      ]
     },
     "execution_count": 72,
     "metadata": {},
     "output_type": "execute_result"
    }
   ],
   "source": [
    "result.head()"
   ]
  },
  {
   "cell_type": "code",
   "execution_count": 73,
   "metadata": {},
   "outputs": [],
   "source": [
    "df2 = pd.read_csv('./data/chartevents_pre_extub_new1.csv')"
   ]
  },
  {
   "cell_type": "code",
   "execution_count": 74,
   "metadata": {},
   "outputs": [],
   "source": [
    "c = list(df2.icustay_id.unique())"
   ]
  },
  {
   "cell_type": "code",
   "execution_count": 75,
   "metadata": {},
   "outputs": [],
   "source": [
    "minimum_hr = []\n",
    "maximum_hr = []\n",
    "median_hr = []\n",
    "std_hr = []\n",
    "skew_hr = []\n",
    "kurto_hr = []\n",
    "minimum_blood_pr = []\n",
    "maximum_blood_pr = []\n",
    "median_blood_pr = []\n",
    "std_blood_pr = []\n",
    "skew_blood_pr = []\n",
    "kurto_blood_pr = []\n",
    "minimum_FiO2 = []\n",
    "maximum_FiO2 = []\n",
    "median_FiO2 = []\n",
    "std_FiO2 = []\n",
    "skew_FiO2 = []\n",
    "kurto_FiO2 = []\n",
    "minimum_SaO2 = []\n",
    "maximum_SaO2 = []\n",
    "median_SaO2 = []\n",
    "std_SaO2 = []\n",
    "skew_SaO2 = []\n",
    "kurto_SaO2 = []\n",
    "minimum_leuko = []\n",
    "maximum_leuko = []\n",
    "median_leuko = []\n",
    "std_leuko = []\n",
    "skew_leuko = []\n",
    "kurto_leuko = []"
   ]
  },
  {
   "cell_type": "code",
   "execution_count": 76,
   "metadata": {},
   "outputs": [],
   "source": [
    "pivot_table2 = df2.pivot_table(index=['icustay_id','charttime'],\n",
    "                                     columns='item', \n",
    "                                     values='value',\n",
    "                                     aggfunc=lambda x: ''.join(str(v) for v in x))"
   ]
  },
  {
   "cell_type": "code",
   "execution_count": 77,
   "metadata": {},
   "outputs": [],
   "source": [
    "pivot_table2.hr = pd.to_numeric(pivot_table2.hr, errors='coerce')\n",
    "pivot_table2.blood_pr = pd.to_numeric(pivot_table2.blood_pr, errors='coerce')\n",
    "pivot_table2.SaO2 = pd.to_numeric(pivot_table2.SaO2, errors='coerce')\n",
    "pivot_table2.FiO2 = pd.to_numeric(pivot_table2.FiO2, errors='coerce')\n",
    "pivot_table2.leuko = pd.to_numeric(pivot_table2.leuko, errors='coerce')"
   ]
  },
  {
   "cell_type": "code",
   "execution_count": 78,
   "metadata": {},
   "outputs": [],
   "source": [
    "for i in c:\n",
    "    a = pivot_table2.loc[i, :]\n",
    "    minimum_hr.append(a.hr.min())\n",
    "    maximum_hr.append(a.hr.max()) \n",
    "    median_hr.append(a.hr.median())\n",
    "    std_hr.append(a.hr.std())\n",
    "    skew_hr.append(a.hr.skew())\n",
    "    kurto_hr.append(a.hr.kurtosis())\n",
    "    minimum_blood_pr.append(a.blood_pr.min())\n",
    "    maximum_blood_pr.append(a.blood_pr.max()) \n",
    "    median_blood_pr.append(a.blood_pr.median())\n",
    "    std_blood_pr.append(a.blood_pr.std())\n",
    "    skew_blood_pr.append(a.blood_pr.skew())\n",
    "    kurto_blood_pr.append(a.blood_pr.kurtosis())\n",
    "    minimum_SaO2.append(a.SaO2.min())\n",
    "    maximum_SaO2.append(a.SaO2.max()) \n",
    "    median_SaO2.append(a.SaO2.median())\n",
    "    std_SaO2.append(a.SaO2.std())\n",
    "    skew_SaO2.append(a.SaO2.skew())\n",
    "    kurto_SaO2.append(a.SaO2.kurtosis())\n",
    "    minimum_FiO2.append(a.FiO2.min())\n",
    "    maximum_FiO2.append(a.FiO2.max()) \n",
    "    median_FiO2.append(a.FiO2.median())\n",
    "    std_FiO2.append(a.FiO2.std())\n",
    "    skew_FiO2.append(a.FiO2.skew())\n",
    "    kurto_FiO2.append(a.FiO2.kurtosis())\n",
    "    minimum_leuko.append(a.leuko.min())\n",
    "    maximum_leuko.append(a.leuko.max()) \n",
    "    median_leuko.append(a.leuko.median())\n",
    "    std_leuko.append(a.leuko.std())\n",
    "    skew_leuko.append(a.leuko.skew())\n",
    "    kurto_leuko.append(a.leuko.kurtosis())"
   ]
  },
  {
   "cell_type": "code",
   "execution_count": 79,
   "metadata": {},
   "outputs": [],
   "source": [
    "result2 = pd.DataFrame(list(zip(c,\n",
    "                                minimum_hr, maximum_hr, median_hr, std_hr, skew_hr, kurto_hr,\n",
    "                                minimum_blood_pr, maximum_blood_pr, median_blood_pr, \n",
    "                                std_blood_pr, skew_blood_pr, kurto_blood_pr,\n",
    "                                minimum_FiO2,maximum_FiO2, median_FiO2, std_FiO2, skew_FiO2, kurto_FiO2,\n",
    "                                minimum_SaO2,maximum_SaO2,median_SaO2, std_SaO2,skew_SaO2, kurto_SaO2,\n",
    "                                minimum_leuko, maximum_leuko, median_leuko, std_leuko, skew_leuko, kurto_leuko)), \n",
    "               columns =['icustay_id',\n",
    "                         'minimum_hr', 'maximum_hr', 'median_hr', 'std_hr', 'skew_hr', 'kurto_hr',\n",
    "                         'minimum_blood_pr', 'maximum_blood_pr', 'median_blood_pr','std_blood_pr', 'skew_blood_pr', 'kurto_blood_pr',\n",
    "                         'minimum_FiO2', 'maximum_FiO2', 'median_FiO2', 'std_FiO2', 'skew_FiO2', 'kurto_FiO2',\n",
    "                         'minimum_SaO2','maximum_SaO2','median_SaO2', 'std_SaO2','skew_SaO2', 'kurto_SaO2',\n",
    "                         'minimum_leuko', 'maximum_leuko', 'median_leuko', 'std_leuko', 'skew_leuko', 'kurto_leuko']\n",
    "                )"
   ]
  },
  {
   "cell_type": "code",
   "execution_count": 80,
   "metadata": {},
   "outputs": [],
   "source": [
    "df_describe= result.merge(right=result2, how= 'inner', on='icustay_id')"
   ]
  },
  {
   "cell_type": "code",
   "execution_count": 81,
   "metadata": {},
   "outputs": [
    {
     "data": {
      "text/html": [
       "<div>\n",
       "<style scoped>\n",
       "    .dataframe tbody tr th:only-of-type {\n",
       "        vertical-align: middle;\n",
       "    }\n",
       "\n",
       "    .dataframe tbody tr th {\n",
       "        vertical-align: top;\n",
       "    }\n",
       "\n",
       "    .dataframe thead th {\n",
       "        text-align: right;\n",
       "    }\n",
       "</style>\n",
       "<table border=\"1\" class=\"dataframe\">\n",
       "  <thead>\n",
       "    <tr style=\"text-align: right;\">\n",
       "      <th></th>\n",
       "      <th>icustay_id</th>\n",
       "      <th>minimum_pH</th>\n",
       "      <th>maximum_pH</th>\n",
       "      <th>median_pH</th>\n",
       "      <th>std_pH</th>\n",
       "      <th>skew_pH</th>\n",
       "      <th>kurto_pH</th>\n",
       "      <th>minimum_PaO2</th>\n",
       "      <th>maximum_PaO2</th>\n",
       "      <th>median_PaO2</th>\n",
       "      <th>...</th>\n",
       "      <th>median_SaO2</th>\n",
       "      <th>std_SaO2</th>\n",
       "      <th>skew_SaO2</th>\n",
       "      <th>kurto_SaO2</th>\n",
       "      <th>minimum_leuko</th>\n",
       "      <th>maximum_leuko</th>\n",
       "      <th>median_leuko</th>\n",
       "      <th>std_leuko</th>\n",
       "      <th>skew_leuko</th>\n",
       "      <th>kurto_leuko</th>\n",
       "    </tr>\n",
       "  </thead>\n",
       "  <tbody>\n",
       "    <tr>\n",
       "      <th>0</th>\n",
       "      <td>258320</td>\n",
       "      <td>7.52</td>\n",
       "      <td>7.52</td>\n",
       "      <td>7.520</td>\n",
       "      <td>NaN</td>\n",
       "      <td>NaN</td>\n",
       "      <td>NaN</td>\n",
       "      <td>171.0</td>\n",
       "      <td>171.0</td>\n",
       "      <td>171.0</td>\n",
       "      <td>...</td>\n",
       "      <td>100.0</td>\n",
       "      <td>0.000000</td>\n",
       "      <td>0.000000</td>\n",
       "      <td>0.000000</td>\n",
       "      <td>9.3</td>\n",
       "      <td>9.3</td>\n",
       "      <td>9.30</td>\n",
       "      <td>NaN</td>\n",
       "      <td>NaN</td>\n",
       "      <td>NaN</td>\n",
       "    </tr>\n",
       "    <tr>\n",
       "      <th>1</th>\n",
       "      <td>245719</td>\n",
       "      <td>7.41</td>\n",
       "      <td>7.42</td>\n",
       "      <td>7.410</td>\n",
       "      <td>0.005774</td>\n",
       "      <td>1.732051</td>\n",
       "      <td>NaN</td>\n",
       "      <td>39.0</td>\n",
       "      <td>60.0</td>\n",
       "      <td>43.0</td>\n",
       "      <td>...</td>\n",
       "      <td>96.0</td>\n",
       "      <td>1.778516</td>\n",
       "      <td>0.104363</td>\n",
       "      <td>-0.201570</td>\n",
       "      <td>17.2</td>\n",
       "      <td>17.2</td>\n",
       "      <td>17.20</td>\n",
       "      <td>NaN</td>\n",
       "      <td>NaN</td>\n",
       "      <td>NaN</td>\n",
       "    </tr>\n",
       "    <tr>\n",
       "      <th>2</th>\n",
       "      <td>241782</td>\n",
       "      <td>7.39</td>\n",
       "      <td>7.39</td>\n",
       "      <td>7.390</td>\n",
       "      <td>NaN</td>\n",
       "      <td>NaN</td>\n",
       "      <td>NaN</td>\n",
       "      <td>365.0</td>\n",
       "      <td>365.0</td>\n",
       "      <td>365.0</td>\n",
       "      <td>...</td>\n",
       "      <td>100.0</td>\n",
       "      <td>0.421637</td>\n",
       "      <td>-1.778781</td>\n",
       "      <td>1.406250</td>\n",
       "      <td>8.4</td>\n",
       "      <td>8.4</td>\n",
       "      <td>8.40</td>\n",
       "      <td>NaN</td>\n",
       "      <td>NaN</td>\n",
       "      <td>NaN</td>\n",
       "    </tr>\n",
       "    <tr>\n",
       "      <th>3</th>\n",
       "      <td>294404</td>\n",
       "      <td>7.46</td>\n",
       "      <td>7.49</td>\n",
       "      <td>7.470</td>\n",
       "      <td>0.015275</td>\n",
       "      <td>0.935220</td>\n",
       "      <td>NaN</td>\n",
       "      <td>97.0</td>\n",
       "      <td>149.0</td>\n",
       "      <td>143.0</td>\n",
       "      <td>...</td>\n",
       "      <td>97.0</td>\n",
       "      <td>1.262354</td>\n",
       "      <td>0.717665</td>\n",
       "      <td>0.180998</td>\n",
       "      <td>8.5</td>\n",
       "      <td>8.7</td>\n",
       "      <td>8.60</td>\n",
       "      <td>0.141421</td>\n",
       "      <td>NaN</td>\n",
       "      <td>NaN</td>\n",
       "    </tr>\n",
       "    <tr>\n",
       "      <th>4</th>\n",
       "      <td>243747</td>\n",
       "      <td>7.43</td>\n",
       "      <td>7.48</td>\n",
       "      <td>7.455</td>\n",
       "      <td>0.017512</td>\n",
       "      <td>-0.248278</td>\n",
       "      <td>-0.014178</td>\n",
       "      <td>62.0</td>\n",
       "      <td>102.0</td>\n",
       "      <td>80.5</td>\n",
       "      <td>...</td>\n",
       "      <td>95.0</td>\n",
       "      <td>1.414791</td>\n",
       "      <td>0.514331</td>\n",
       "      <td>1.590646</td>\n",
       "      <td>4.9</td>\n",
       "      <td>5.8</td>\n",
       "      <td>5.35</td>\n",
       "      <td>0.636396</td>\n",
       "      <td>NaN</td>\n",
       "      <td>NaN</td>\n",
       "    </tr>\n",
       "  </tbody>\n",
       "</table>\n",
       "<p>5 rows × 43 columns</p>\n",
       "</div>"
      ],
      "text/plain": [
       "   icustay_id  minimum_pH  maximum_pH  median_pH    std_pH   skew_pH  \\\n",
       "0      258320        7.52        7.52      7.520       NaN       NaN   \n",
       "1      245719        7.41        7.42      7.410  0.005774  1.732051   \n",
       "2      241782        7.39        7.39      7.390       NaN       NaN   \n",
       "3      294404        7.46        7.49      7.470  0.015275  0.935220   \n",
       "4      243747        7.43        7.48      7.455  0.017512 -0.248278   \n",
       "\n",
       "   kurto_pH  minimum_PaO2  maximum_PaO2  median_PaO2  ...  median_SaO2  \\\n",
       "0       NaN         171.0         171.0        171.0  ...        100.0   \n",
       "1       NaN          39.0          60.0         43.0  ...         96.0   \n",
       "2       NaN         365.0         365.0        365.0  ...        100.0   \n",
       "3       NaN          97.0         149.0        143.0  ...         97.0   \n",
       "4 -0.014178          62.0         102.0         80.5  ...         95.0   \n",
       "\n",
       "   std_SaO2  skew_SaO2  kurto_SaO2  minimum_leuko  maximum_leuko  \\\n",
       "0  0.000000   0.000000    0.000000            9.3            9.3   \n",
       "1  1.778516   0.104363   -0.201570           17.2           17.2   \n",
       "2  0.421637  -1.778781    1.406250            8.4            8.4   \n",
       "3  1.262354   0.717665    0.180998            8.5            8.7   \n",
       "4  1.414791   0.514331    1.590646            4.9            5.8   \n",
       "\n",
       "   median_leuko  std_leuko  skew_leuko  kurto_leuko  \n",
       "0          9.30        NaN         NaN          NaN  \n",
       "1         17.20        NaN         NaN          NaN  \n",
       "2          8.40        NaN         NaN          NaN  \n",
       "3          8.60   0.141421         NaN          NaN  \n",
       "4          5.35   0.636396         NaN          NaN  \n",
       "\n",
       "[5 rows x 43 columns]"
      ]
     },
     "execution_count": 81,
     "metadata": {},
     "output_type": "execute_result"
    }
   ],
   "source": [
    "df_describe.head()"
   ]
  },
  {
   "cell_type": "code",
   "execution_count": 82,
   "metadata": {},
   "outputs": [
    {
     "data": {
      "text/plain": [
       "(5472, 43)"
      ]
     },
     "execution_count": 82,
     "metadata": {},
     "output_type": "execute_result"
    }
   ],
   "source": [
    "df_describe.shape"
   ]
  },
  {
   "cell_type": "code",
   "execution_count": 83,
   "metadata": {},
   "outputs": [],
   "source": [
    "df_describe.to_csv('data/mimic_describe_course.csv', index=False)"
   ]
  },
  {
   "cell_type": "code",
   "execution_count": 84,
   "metadata": {},
   "outputs": [],
   "source": [
    "df_describe = pd.read_csv('./data/mimic_describe_course.csv')"
   ]
  },
  {
   "cell_type": "code",
   "execution_count": 85,
   "metadata": {},
   "outputs": [
    {
     "data": {
      "text/html": [
       "<div>\n",
       "<style scoped>\n",
       "    .dataframe tbody tr th:only-of-type {\n",
       "        vertical-align: middle;\n",
       "    }\n",
       "\n",
       "    .dataframe tbody tr th {\n",
       "        vertical-align: top;\n",
       "    }\n",
       "\n",
       "    .dataframe thead th {\n",
       "        text-align: right;\n",
       "    }\n",
       "</style>\n",
       "<table border=\"1\" class=\"dataframe\">\n",
       "  <thead>\n",
       "    <tr style=\"text-align: right;\">\n",
       "      <th></th>\n",
       "      <th>icustay_id</th>\n",
       "      <th>minimum_pH</th>\n",
       "      <th>maximum_pH</th>\n",
       "      <th>median_pH</th>\n",
       "      <th>std_pH</th>\n",
       "      <th>skew_pH</th>\n",
       "      <th>kurto_pH</th>\n",
       "      <th>minimum_PaO2</th>\n",
       "      <th>maximum_PaO2</th>\n",
       "      <th>median_PaO2</th>\n",
       "      <th>...</th>\n",
       "      <th>median_SaO2</th>\n",
       "      <th>std_SaO2</th>\n",
       "      <th>skew_SaO2</th>\n",
       "      <th>kurto_SaO2</th>\n",
       "      <th>minimum_leuko</th>\n",
       "      <th>maximum_leuko</th>\n",
       "      <th>median_leuko</th>\n",
       "      <th>std_leuko</th>\n",
       "      <th>skew_leuko</th>\n",
       "      <th>kurto_leuko</th>\n",
       "    </tr>\n",
       "  </thead>\n",
       "  <tbody>\n",
       "    <tr>\n",
       "      <th>0</th>\n",
       "      <td>258320</td>\n",
       "      <td>7.52</td>\n",
       "      <td>7.52</td>\n",
       "      <td>7.520</td>\n",
       "      <td>NaN</td>\n",
       "      <td>NaN</td>\n",
       "      <td>NaN</td>\n",
       "      <td>171.0</td>\n",
       "      <td>171.0</td>\n",
       "      <td>171.0</td>\n",
       "      <td>...</td>\n",
       "      <td>100.0</td>\n",
       "      <td>0.000000</td>\n",
       "      <td>0.000000</td>\n",
       "      <td>0.000000</td>\n",
       "      <td>9.3</td>\n",
       "      <td>9.3</td>\n",
       "      <td>9.30</td>\n",
       "      <td>NaN</td>\n",
       "      <td>NaN</td>\n",
       "      <td>NaN</td>\n",
       "    </tr>\n",
       "    <tr>\n",
       "      <th>1</th>\n",
       "      <td>245719</td>\n",
       "      <td>7.41</td>\n",
       "      <td>7.42</td>\n",
       "      <td>7.410</td>\n",
       "      <td>0.005774</td>\n",
       "      <td>1.732051</td>\n",
       "      <td>NaN</td>\n",
       "      <td>39.0</td>\n",
       "      <td>60.0</td>\n",
       "      <td>43.0</td>\n",
       "      <td>...</td>\n",
       "      <td>96.0</td>\n",
       "      <td>1.778516</td>\n",
       "      <td>0.104363</td>\n",
       "      <td>-0.201570</td>\n",
       "      <td>17.2</td>\n",
       "      <td>17.2</td>\n",
       "      <td>17.20</td>\n",
       "      <td>NaN</td>\n",
       "      <td>NaN</td>\n",
       "      <td>NaN</td>\n",
       "    </tr>\n",
       "    <tr>\n",
       "      <th>2</th>\n",
       "      <td>241782</td>\n",
       "      <td>7.39</td>\n",
       "      <td>7.39</td>\n",
       "      <td>7.390</td>\n",
       "      <td>NaN</td>\n",
       "      <td>NaN</td>\n",
       "      <td>NaN</td>\n",
       "      <td>365.0</td>\n",
       "      <td>365.0</td>\n",
       "      <td>365.0</td>\n",
       "      <td>...</td>\n",
       "      <td>100.0</td>\n",
       "      <td>0.421637</td>\n",
       "      <td>-1.778781</td>\n",
       "      <td>1.406250</td>\n",
       "      <td>8.4</td>\n",
       "      <td>8.4</td>\n",
       "      <td>8.40</td>\n",
       "      <td>NaN</td>\n",
       "      <td>NaN</td>\n",
       "      <td>NaN</td>\n",
       "    </tr>\n",
       "    <tr>\n",
       "      <th>3</th>\n",
       "      <td>294404</td>\n",
       "      <td>7.46</td>\n",
       "      <td>7.49</td>\n",
       "      <td>7.470</td>\n",
       "      <td>0.015275</td>\n",
       "      <td>0.935220</td>\n",
       "      <td>NaN</td>\n",
       "      <td>97.0</td>\n",
       "      <td>149.0</td>\n",
       "      <td>143.0</td>\n",
       "      <td>...</td>\n",
       "      <td>97.0</td>\n",
       "      <td>1.262354</td>\n",
       "      <td>0.717665</td>\n",
       "      <td>0.180998</td>\n",
       "      <td>8.5</td>\n",
       "      <td>8.7</td>\n",
       "      <td>8.60</td>\n",
       "      <td>0.141421</td>\n",
       "      <td>NaN</td>\n",
       "      <td>NaN</td>\n",
       "    </tr>\n",
       "    <tr>\n",
       "      <th>4</th>\n",
       "      <td>243747</td>\n",
       "      <td>7.43</td>\n",
       "      <td>7.48</td>\n",
       "      <td>7.455</td>\n",
       "      <td>0.017512</td>\n",
       "      <td>-0.248278</td>\n",
       "      <td>-0.014178</td>\n",
       "      <td>62.0</td>\n",
       "      <td>102.0</td>\n",
       "      <td>80.5</td>\n",
       "      <td>...</td>\n",
       "      <td>95.0</td>\n",
       "      <td>1.414791</td>\n",
       "      <td>0.514331</td>\n",
       "      <td>1.590646</td>\n",
       "      <td>4.9</td>\n",
       "      <td>5.8</td>\n",
       "      <td>5.35</td>\n",
       "      <td>0.636396</td>\n",
       "      <td>NaN</td>\n",
       "      <td>NaN</td>\n",
       "    </tr>\n",
       "  </tbody>\n",
       "</table>\n",
       "<p>5 rows × 43 columns</p>\n",
       "</div>"
      ],
      "text/plain": [
       "   icustay_id  minimum_pH  maximum_pH  median_pH    std_pH   skew_pH  \\\n",
       "0      258320        7.52        7.52      7.520       NaN       NaN   \n",
       "1      245719        7.41        7.42      7.410  0.005774  1.732051   \n",
       "2      241782        7.39        7.39      7.390       NaN       NaN   \n",
       "3      294404        7.46        7.49      7.470  0.015275  0.935220   \n",
       "4      243747        7.43        7.48      7.455  0.017512 -0.248278   \n",
       "\n",
       "   kurto_pH  minimum_PaO2  maximum_PaO2  median_PaO2  ...  median_SaO2  \\\n",
       "0       NaN         171.0         171.0        171.0  ...        100.0   \n",
       "1       NaN          39.0          60.0         43.0  ...         96.0   \n",
       "2       NaN         365.0         365.0        365.0  ...        100.0   \n",
       "3       NaN          97.0         149.0        143.0  ...         97.0   \n",
       "4 -0.014178          62.0         102.0         80.5  ...         95.0   \n",
       "\n",
       "   std_SaO2  skew_SaO2  kurto_SaO2  minimum_leuko  maximum_leuko  \\\n",
       "0  0.000000   0.000000    0.000000            9.3            9.3   \n",
       "1  1.778516   0.104363   -0.201570           17.2           17.2   \n",
       "2  0.421637  -1.778781    1.406250            8.4            8.4   \n",
       "3  1.262354   0.717665    0.180998            8.5            8.7   \n",
       "4  1.414791   0.514331    1.590646            4.9            5.8   \n",
       "\n",
       "   median_leuko  std_leuko  skew_leuko  kurto_leuko  \n",
       "0          9.30        NaN         NaN          NaN  \n",
       "1         17.20        NaN         NaN          NaN  \n",
       "2          8.40        NaN         NaN          NaN  \n",
       "3          8.60   0.141421         NaN          NaN  \n",
       "4          5.35   0.636396         NaN          NaN  \n",
       "\n",
       "[5 rows x 43 columns]"
      ]
     },
     "execution_count": 85,
     "metadata": {},
     "output_type": "execute_result"
    }
   ],
   "source": [
    "df_describe.head()"
   ]
  },
  {
   "cell_type": "code",
   "execution_count": 86,
   "metadata": {},
   "outputs": [],
   "source": [
    "df= df.merge(right=df_describe, how= 'inner' , on='icustay_id')"
   ]
  },
  {
   "cell_type": "code",
   "execution_count": 87,
   "metadata": {},
   "outputs": [
    {
     "data": {
      "text/html": [
       "<div>\n",
       "<style scoped>\n",
       "    .dataframe tbody tr th:only-of-type {\n",
       "        vertical-align: middle;\n",
       "    }\n",
       "\n",
       "    .dataframe tbody tr th {\n",
       "        vertical-align: top;\n",
       "    }\n",
       "\n",
       "    .dataframe thead th {\n",
       "        text-align: right;\n",
       "    }\n",
       "</style>\n",
       "<table border=\"1\" class=\"dataframe\">\n",
       "  <thead>\n",
       "    <tr style=\"text-align: right;\">\n",
       "      <th></th>\n",
       "      <th>label</th>\n",
       "      <th>hadm_id</th>\n",
       "      <th>icustay_id</th>\n",
       "      <th>age</th>\n",
       "      <th>numb_diagn</th>\n",
       "      <th>los</th>\n",
       "      <th>tracheo</th>\n",
       "      <th>PaO2</th>\n",
       "      <th>base_excess</th>\n",
       "      <th>creatinin</th>\n",
       "      <th>...</th>\n",
       "      <th>median_SaO2</th>\n",
       "      <th>std_SaO2</th>\n",
       "      <th>skew_SaO2</th>\n",
       "      <th>kurto_SaO2</th>\n",
       "      <th>minimum_leuko</th>\n",
       "      <th>maximum_leuko</th>\n",
       "      <th>median_leuko</th>\n",
       "      <th>std_leuko</th>\n",
       "      <th>skew_leuko</th>\n",
       "      <th>kurto_leuko</th>\n",
       "    </tr>\n",
       "  </thead>\n",
       "  <tbody>\n",
       "    <tr>\n",
       "      <th>0</th>\n",
       "      <td>1</td>\n",
       "      <td>100017</td>\n",
       "      <td>258320</td>\n",
       "      <td>28.0</td>\n",
       "      <td>8</td>\n",
       "      <td>0.6924</td>\n",
       "      <td>0</td>\n",
       "      <td>171.0</td>\n",
       "      <td>4.0</td>\n",
       "      <td>0.8</td>\n",
       "      <td>...</td>\n",
       "      <td>100.0</td>\n",
       "      <td>0.000000</td>\n",
       "      <td>0.000000</td>\n",
       "      <td>0.000000</td>\n",
       "      <td>9.3</td>\n",
       "      <td>9.3</td>\n",
       "      <td>9.30</td>\n",
       "      <td>NaN</td>\n",
       "      <td>NaN</td>\n",
       "      <td>NaN</td>\n",
       "    </tr>\n",
       "    <tr>\n",
       "      <th>1</th>\n",
       "      <td>1</td>\n",
       "      <td>100035</td>\n",
       "      <td>245719</td>\n",
       "      <td>37.0</td>\n",
       "      <td>26</td>\n",
       "      <td>10.5061</td>\n",
       "      <td>0</td>\n",
       "      <td>39.0</td>\n",
       "      <td>10.0</td>\n",
       "      <td>1.1</td>\n",
       "      <td>...</td>\n",
       "      <td>96.0</td>\n",
       "      <td>1.778516</td>\n",
       "      <td>0.104363</td>\n",
       "      <td>-0.201570</td>\n",
       "      <td>17.2</td>\n",
       "      <td>17.2</td>\n",
       "      <td>17.20</td>\n",
       "      <td>NaN</td>\n",
       "      <td>NaN</td>\n",
       "      <td>NaN</td>\n",
       "    </tr>\n",
       "    <tr>\n",
       "      <th>2</th>\n",
       "      <td>1</td>\n",
       "      <td>100063</td>\n",
       "      <td>241782</td>\n",
       "      <td>46.0</td>\n",
       "      <td>11</td>\n",
       "      <td>1.6501</td>\n",
       "      <td>0</td>\n",
       "      <td>365.0</td>\n",
       "      <td>2.0</td>\n",
       "      <td>1.0</td>\n",
       "      <td>...</td>\n",
       "      <td>100.0</td>\n",
       "      <td>0.421637</td>\n",
       "      <td>-1.778781</td>\n",
       "      <td>1.406250</td>\n",
       "      <td>8.4</td>\n",
       "      <td>8.4</td>\n",
       "      <td>8.40</td>\n",
       "      <td>NaN</td>\n",
       "      <td>NaN</td>\n",
       "      <td>NaN</td>\n",
       "    </tr>\n",
       "    <tr>\n",
       "      <th>3</th>\n",
       "      <td>1</td>\n",
       "      <td>100087</td>\n",
       "      <td>294404</td>\n",
       "      <td>57.0</td>\n",
       "      <td>18</td>\n",
       "      <td>3.7287</td>\n",
       "      <td>0</td>\n",
       "      <td>143.0</td>\n",
       "      <td>5.0</td>\n",
       "      <td>0.7</td>\n",
       "      <td>...</td>\n",
       "      <td>97.0</td>\n",
       "      <td>1.262354</td>\n",
       "      <td>0.717665</td>\n",
       "      <td>0.180998</td>\n",
       "      <td>8.5</td>\n",
       "      <td>8.7</td>\n",
       "      <td>8.60</td>\n",
       "      <td>0.141421</td>\n",
       "      <td>NaN</td>\n",
       "      <td>NaN</td>\n",
       "    </tr>\n",
       "    <tr>\n",
       "      <th>4</th>\n",
       "      <td>1</td>\n",
       "      <td>100141</td>\n",
       "      <td>243747</td>\n",
       "      <td>40.0</td>\n",
       "      <td>10</td>\n",
       "      <td>9.5788</td>\n",
       "      <td>0</td>\n",
       "      <td>62.0</td>\n",
       "      <td>6.0</td>\n",
       "      <td>0.8</td>\n",
       "      <td>...</td>\n",
       "      <td>95.0</td>\n",
       "      <td>1.414791</td>\n",
       "      <td>0.514331</td>\n",
       "      <td>1.590646</td>\n",
       "      <td>4.9</td>\n",
       "      <td>5.8</td>\n",
       "      <td>5.35</td>\n",
       "      <td>0.636396</td>\n",
       "      <td>NaN</td>\n",
       "      <td>NaN</td>\n",
       "    </tr>\n",
       "  </tbody>\n",
       "</table>\n",
       "<p>5 rows × 81 columns</p>\n",
       "</div>"
      ],
      "text/plain": [
       "   label  hadm_id  icustay_id   age  numb_diagn      los  tracheo   PaO2  \\\n",
       "0      1   100017      258320  28.0           8   0.6924        0  171.0   \n",
       "1      1   100035      245719  37.0          26  10.5061        0   39.0   \n",
       "2      1   100063      241782  46.0          11   1.6501        0  365.0   \n",
       "3      1   100087      294404  57.0          18   3.7287        0  143.0   \n",
       "4      1   100141      243747  40.0          10   9.5788        0   62.0   \n",
       "\n",
       "   base_excess  creatinin  ...  median_SaO2  std_SaO2  skew_SaO2  kurto_SaO2  \\\n",
       "0          4.0        0.8  ...        100.0  0.000000   0.000000    0.000000   \n",
       "1         10.0        1.1  ...         96.0  1.778516   0.104363   -0.201570   \n",
       "2          2.0        1.0  ...        100.0  0.421637  -1.778781    1.406250   \n",
       "3          5.0        0.7  ...         97.0  1.262354   0.717665    0.180998   \n",
       "4          6.0        0.8  ...         95.0  1.414791   0.514331    1.590646   \n",
       "\n",
       "   minimum_leuko  maximum_leuko  median_leuko  std_leuko  skew_leuko  \\\n",
       "0            9.3            9.3          9.30        NaN         NaN   \n",
       "1           17.2           17.2         17.20        NaN         NaN   \n",
       "2            8.4            8.4          8.40        NaN         NaN   \n",
       "3            8.5            8.7          8.60   0.141421         NaN   \n",
       "4            4.9            5.8          5.35   0.636396         NaN   \n",
       "\n",
       "   kurto_leuko  \n",
       "0          NaN  \n",
       "1          NaN  \n",
       "2          NaN  \n",
       "3          NaN  \n",
       "4          NaN  \n",
       "\n",
       "[5 rows x 81 columns]"
      ]
     },
     "execution_count": 87,
     "metadata": {},
     "output_type": "execute_result"
    }
   ],
   "source": [
    "df.head()"
   ]
  },
  {
   "cell_type": "code",
   "execution_count": 88,
   "metadata": {},
   "outputs": [
    {
     "data": {
      "text/plain": [
       "(5425, 81)"
      ]
     },
     "execution_count": 88,
     "metadata": {},
     "output_type": "execute_result"
    }
   ],
   "source": [
    "df.shape"
   ]
  },
  {
   "cell_type": "code",
   "execution_count": 89,
   "metadata": {},
   "outputs": [],
   "source": [
    "df.drop(columns='los', axis = 1,inplace=True)"
   ]
  },
  {
   "cell_type": "code",
   "execution_count": 90,
   "metadata": {},
   "outputs": [
    {
     "data": {
      "text/plain": [
       "Index(['label', 'hadm_id', 'icustay_id', 'age', 'numb_diagn', 'tracheo',\n",
       "       'PaO2', 'base_excess', 'creatinin', 'hb', 'pH', 'FiO2', 'PEEP', 'SaO2',\n",
       "       'blood_pr', 'hr', 'lactic_acid', 'leuko', 'mean_insp_pr', 'resp_rat',\n",
       "       'tidal_vol', 'breath_min_vol', 'ismale', 'icu_CSRU', 'icu_MICU',\n",
       "       'icu_SICU', 'icu_TSICU', 'wob', 'rsbi', 'hour_mechvent', 'pf_ratio',\n",
       "       'product1', 'product2', 'diabetes', 'kidney_failure', 'pneumonia',\n",
       "       'heart_failure', 'embolism', 'minimum_pH', 'maximum_pH', 'median_pH',\n",
       "       'std_pH', 'skew_pH', 'kurto_pH', 'minimum_PaO2', 'maximum_PaO2',\n",
       "       'median_PaO2', 'std_PaO2', 'skew_PaO2', 'kurto_PaO2', 'minimum_hr',\n",
       "       'maximum_hr', 'median_hr', 'std_hr', 'skew_hr', 'kurto_hr',\n",
       "       'minimum_blood_pr', 'maximum_blood_pr', 'median_blood_pr',\n",
       "       'std_blood_pr', 'skew_blood_pr', 'kurto_blood_pr', 'minimum_FiO2',\n",
       "       'maximum_FiO2', 'median_FiO2', 'std_FiO2', 'skew_FiO2', 'kurto_FiO2',\n",
       "       'minimum_SaO2', 'maximum_SaO2', 'median_SaO2', 'std_SaO2', 'skew_SaO2',\n",
       "       'kurto_SaO2', 'minimum_leuko', 'maximum_leuko', 'median_leuko',\n",
       "       'std_leuko', 'skew_leuko', 'kurto_leuko'],\n",
       "      dtype='object')"
      ]
     },
     "execution_count": 90,
     "metadata": {},
     "output_type": "execute_result"
    }
   ],
   "source": [
    "df.columns"
   ]
  },
  {
   "cell_type": "code",
   "execution_count": 91,
   "metadata": {},
   "outputs": [
    {
     "data": {
      "text/plain": [
       "label               False\n",
       "hadm_id             False\n",
       "icustay_id          False\n",
       "age                 False\n",
       "numb_diagn          False\n",
       "tracheo             False\n",
       "PaO2                False\n",
       "base_excess         False\n",
       "creatinin           False\n",
       "hb                  False\n",
       "pH                  False\n",
       "FiO2                False\n",
       "PEEP                False\n",
       "SaO2                False\n",
       "blood_pr            False\n",
       "hr                  False\n",
       "lactic_acid         False\n",
       "leuko               False\n",
       "mean_insp_pr        False\n",
       "resp_rat            False\n",
       "tidal_vol           False\n",
       "breath_min_vol      False\n",
       "ismale              False\n",
       "icu_CSRU            False\n",
       "icu_MICU            False\n",
       "icu_SICU            False\n",
       "icu_TSICU           False\n",
       "wob                 False\n",
       "rsbi                False\n",
       "hour_mechvent       False\n",
       "                    ...  \n",
       "minimum_hr           True\n",
       "maximum_hr           True\n",
       "median_hr            True\n",
       "std_hr               True\n",
       "skew_hr              True\n",
       "kurto_hr             True\n",
       "minimum_blood_pr     True\n",
       "maximum_blood_pr     True\n",
       "median_blood_pr      True\n",
       "std_blood_pr         True\n",
       "skew_blood_pr        True\n",
       "kurto_blood_pr       True\n",
       "minimum_FiO2         True\n",
       "maximum_FiO2         True\n",
       "median_FiO2          True\n",
       "std_FiO2             True\n",
       "skew_FiO2            True\n",
       "kurto_FiO2           True\n",
       "minimum_SaO2         True\n",
       "maximum_SaO2         True\n",
       "median_SaO2          True\n",
       "std_SaO2             True\n",
       "skew_SaO2            True\n",
       "kurto_SaO2           True\n",
       "minimum_leuko        True\n",
       "maximum_leuko        True\n",
       "median_leuko         True\n",
       "std_leuko            True\n",
       "skew_leuko           True\n",
       "kurto_leuko          True\n",
       "Length: 80, dtype: bool"
      ]
     },
     "execution_count": 91,
     "metadata": {},
     "output_type": "execute_result"
    }
   ],
   "source": [
    "df.isnull().any()"
   ]
  },
  {
   "cell_type": "code",
   "execution_count": 92,
   "metadata": {},
   "outputs": [],
   "source": [
    "from sklearn.impute import SimpleImputer\n",
    "imp = SimpleImputer(missing_values=np.nan, strategy='median')\n",
    "imputed_DF = pd.DataFrame(imp.fit_transform(df))\n",
    "imputed_DF.columns = df.columns\n",
    "imputed_DF.index = df.index"
   ]
  },
  {
   "cell_type": "code",
   "execution_count": 93,
   "metadata": {},
   "outputs": [],
   "source": [
    "df = imputed_DF"
   ]
  },
  {
   "cell_type": "code",
   "execution_count": 94,
   "metadata": {},
   "outputs": [
    {
     "data": {
      "text/plain": [
       "False"
      ]
     },
     "execution_count": 94,
     "metadata": {},
     "output_type": "execute_result"
    }
   ],
   "source": [
    "df.isnull().any().any()"
   ]
  },
  {
   "cell_type": "code",
   "execution_count": 95,
   "metadata": {},
   "outputs": [],
   "source": [
    "df.to_csv('data/mimic_premodel_advanced.csv', index=False)"
   ]
  },
  {
   "cell_type": "code",
   "execution_count": null,
   "metadata": {},
   "outputs": [],
   "source": []
  }
 ],
 "metadata": {
  "kernelspec": {
   "display_name": "Python 3.6.10 64-bit ('nf')",
   "language": "python",
   "name": "python361064bitnf8add1acfca654b1ab4527881e7fa8184"
  },
  "language_info": {
   "codemirror_mode": {
    "name": "ipython",
    "version": 3
   },
   "file_extension": ".py",
   "mimetype": "text/x-python",
   "name": "python",
   "nbconvert_exporter": "python",
   "pygments_lexer": "ipython3",
   "version": "3.6.10"
  },
  "toc": {
   "base_numbering": 1,
   "nav_menu": {},
   "number_sections": true,
   "sideBar": true,
   "skip_h1_title": false,
   "title_cell": "Table of Contents",
   "title_sidebar": "Contents",
   "toc_cell": false,
   "toc_position": {
    "height": "calc(100% - 180px)",
    "left": "10px",
    "top": "150px",
    "width": "230.4px"
   },
   "toc_section_display": true,
   "toc_window_display": false
  },
  "varInspector": {
   "cols": {
    "lenName": 16,
    "lenType": 16,
    "lenVar": 40
   },
   "kernels_config": {
    "python": {
     "delete_cmd_postfix": "",
     "delete_cmd_prefix": "del ",
     "library": "var_list.py",
     "varRefreshCmd": "print(var_dic_list())"
    },
    "r": {
     "delete_cmd_postfix": ") ",
     "delete_cmd_prefix": "rm(",
     "library": "var_list.r",
     "varRefreshCmd": "cat(var_dic_list()) "
    }
   },
   "types_to_exclude": [
    "module",
    "function",
    "builtin_function_or_method",
    "instance",
    "_Feature"
   ],
   "window_display": false
  }
 },
 "nbformat": 4,
 "nbformat_minor": 4
}
