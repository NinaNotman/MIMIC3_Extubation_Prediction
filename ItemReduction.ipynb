{
 "cells": [
  {
   "cell_type": "markdown",
   "metadata": {},
   "source": [
    "# Chartevents ItemID Selection\n",
    " \n",
    "As one phenomenon (e.g. respiratory rate) is liked to multiple item ID's (e.g. 220210, 224688) in the MIMIC dataset, we face the problem of having multiple values for one measurement within one timeframe. As we  continue data analysis with a Pivot Table, we need to decide on a single Item ID to represent a measurement (e.g. respiratory rate). "
   ]
  },
  {
   "cell_type": "markdown",
   "metadata": {},
   "source": [
    "##### Import relevant libraries"
   ]
  },
  {
   "cell_type": "code",
   "execution_count": 1,
   "metadata": {},
   "outputs": [],
   "source": [
    "import pandas as pd\n",
    "import seaborn as sns\n",
    "import matplotlib.pyplot as plt\n",
    "import warnings\n",
    "warnings.filterwarnings('ignore')"
   ]
  },
  {
   "cell_type": "markdown",
   "metadata": {},
   "source": [
    "##### Import relevant table: chartevents"
   ]
  },
  {
   "cell_type": "code",
   "execution_count": 2,
   "metadata": {
    "scrolled": false
   },
   "outputs": [],
   "source": [
    "df_charts = pd.read_csv('data/chartevents_pre_extub.csv')"
   ]
  },
  {
   "cell_type": "code",
   "execution_count": 3,
   "metadata": {
    "scrolled": true
   },
   "outputs": [
    {
     "data": {
      "text/html": [
       "<div>\n",
       "<style scoped>\n",
       "    .dataframe tbody tr th:only-of-type {\n",
       "        vertical-align: middle;\n",
       "    }\n",
       "\n",
       "    .dataframe tbody tr th {\n",
       "        vertical-align: top;\n",
       "    }\n",
       "\n",
       "    .dataframe thead th {\n",
       "        text-align: right;\n",
       "    }\n",
       "</style>\n",
       "<table border=\"1\" class=\"dataframe\">\n",
       "  <thead>\n",
       "    <tr style=\"text-align: right;\">\n",
       "      <th></th>\n",
       "      <th>hadm_id</th>\n",
       "      <th>icustay_id</th>\n",
       "      <th>itemid</th>\n",
       "      <th>charttime</th>\n",
       "      <th>value</th>\n",
       "      <th>valuenum</th>\n",
       "      <th>valueuom</th>\n",
       "      <th>item</th>\n",
       "      <th>storetime</th>\n",
       "      <th>cgid</th>\n",
       "      <th>warning</th>\n",
       "      <th>error</th>\n",
       "      <th>resultstatus</th>\n",
       "      <th>stopped</th>\n",
       "    </tr>\n",
       "  </thead>\n",
       "  <tbody>\n",
       "    <tr>\n",
       "      <th>0</th>\n",
       "      <td>100016.0</td>\n",
       "      <td>217590.0</td>\n",
       "      <td>220045.0</td>\n",
       "      <td>2188-05-28 08:00:00</td>\n",
       "      <td>91</td>\n",
       "      <td>91.0</td>\n",
       "      <td>bpm</td>\n",
       "      <td>hr</td>\n",
       "      <td>2188-05-28 08:02:00</td>\n",
       "      <td>15623.0</td>\n",
       "      <td>0.0</td>\n",
       "      <td>0.0</td>\n",
       "      <td>NaN</td>\n",
       "      <td>NaN</td>\n",
       "    </tr>\n",
       "    <tr>\n",
       "      <th>1</th>\n",
       "      <td>100016.0</td>\n",
       "      <td>217590.0</td>\n",
       "      <td>220181.0</td>\n",
       "      <td>2188-05-28 08:00:00</td>\n",
       "      <td>88</td>\n",
       "      <td>88.0</td>\n",
       "      <td>mmHg</td>\n",
       "      <td>blood_pr</td>\n",
       "      <td>2188-05-28 08:02:00</td>\n",
       "      <td>15623.0</td>\n",
       "      <td>0.0</td>\n",
       "      <td>0.0</td>\n",
       "      <td>NaN</td>\n",
       "      <td>NaN</td>\n",
       "    </tr>\n",
       "    <tr>\n",
       "      <th>2</th>\n",
       "      <td>100016.0</td>\n",
       "      <td>217590.0</td>\n",
       "      <td>220210.0</td>\n",
       "      <td>2188-05-28 08:00:00</td>\n",
       "      <td>18</td>\n",
       "      <td>18.0</td>\n",
       "      <td>insp/min</td>\n",
       "      <td>resp_rat</td>\n",
       "      <td>2188-05-28 08:02:00</td>\n",
       "      <td>15623.0</td>\n",
       "      <td>0.0</td>\n",
       "      <td>0.0</td>\n",
       "      <td>NaN</td>\n",
       "      <td>NaN</td>\n",
       "    </tr>\n",
       "    <tr>\n",
       "      <th>3</th>\n",
       "      <td>100016.0</td>\n",
       "      <td>217590.0</td>\n",
       "      <td>220277.0</td>\n",
       "      <td>2188-05-28 08:00:00</td>\n",
       "      <td>100</td>\n",
       "      <td>100.0</td>\n",
       "      <td>%</td>\n",
       "      <td>SaO2</td>\n",
       "      <td>2188-05-28 08:02:00</td>\n",
       "      <td>15623.0</td>\n",
       "      <td>0.0</td>\n",
       "      <td>0.0</td>\n",
       "      <td>NaN</td>\n",
       "      <td>NaN</td>\n",
       "    </tr>\n",
       "    <tr>\n",
       "      <th>4</th>\n",
       "      <td>100016.0</td>\n",
       "      <td>217590.0</td>\n",
       "      <td>220339.0</td>\n",
       "      <td>2188-05-28 08:00:00</td>\n",
       "      <td>5</td>\n",
       "      <td>5.0</td>\n",
       "      <td>cmH2O</td>\n",
       "      <td>PEEP</td>\n",
       "      <td>2188-05-28 07:36:00</td>\n",
       "      <td>20803.0</td>\n",
       "      <td>0.0</td>\n",
       "      <td>0.0</td>\n",
       "      <td>NaN</td>\n",
       "      <td>NaN</td>\n",
       "    </tr>\n",
       "  </tbody>\n",
       "</table>\n",
       "</div>"
      ],
      "text/plain": [
       "    hadm_id  icustay_id    itemid            charttime value  valuenum  \\\n",
       "0  100016.0    217590.0  220045.0  2188-05-28 08:00:00    91      91.0   \n",
       "1  100016.0    217590.0  220181.0  2188-05-28 08:00:00    88      88.0   \n",
       "2  100016.0    217590.0  220210.0  2188-05-28 08:00:00    18      18.0   \n",
       "3  100016.0    217590.0  220277.0  2188-05-28 08:00:00   100     100.0   \n",
       "4  100016.0    217590.0  220339.0  2188-05-28 08:00:00     5       5.0   \n",
       "\n",
       "   valueuom      item            storetime     cgid  warning  error  \\\n",
       "0       bpm        hr  2188-05-28 08:02:00  15623.0      0.0    0.0   \n",
       "1      mmHg  blood_pr  2188-05-28 08:02:00  15623.0      0.0    0.0   \n",
       "2  insp/min  resp_rat  2188-05-28 08:02:00  15623.0      0.0    0.0   \n",
       "3         %      SaO2  2188-05-28 08:02:00  15623.0      0.0    0.0   \n",
       "4     cmH2O      PEEP  2188-05-28 07:36:00  20803.0      0.0    0.0   \n",
       "\n",
       "  resultstatus stopped  \n",
       "0          NaN     NaN  \n",
       "1          NaN     NaN  \n",
       "2          NaN     NaN  \n",
       "3          NaN     NaN  \n",
       "4          NaN     NaN  "
      ]
     },
     "execution_count": 3,
     "metadata": {},
     "output_type": "execute_result"
    }
   ],
   "source": [
    "df_charts.head()"
   ]
  },
  {
   "cell_type": "code",
   "execution_count": 4,
   "metadata": {
    "scrolled": true
   },
   "outputs": [
    {
     "data": {
      "text/plain": [
       "(74306, 14)"
      ]
     },
     "execution_count": 4,
     "metadata": {},
     "output_type": "execute_result"
    }
   ],
   "source": [
    "first_shape = df_charts.shape\n",
    "first_shape"
   ]
  },
  {
   "cell_type": "code",
   "execution_count": 5,
   "metadata": {},
   "outputs": [
    {
     "data": {
      "text/plain": [
       "44"
      ]
     },
     "execution_count": 5,
     "metadata": {},
     "output_type": "execute_result"
    }
   ],
   "source": [
    "# Number of unique values from itemid\n",
    "first_unique = df_charts.itemid.nunique()\n",
    "first_unique"
   ]
  },
  {
   "cell_type": "markdown",
   "metadata": {},
   "source": [
    "The table contains 44 different measurements. "
   ]
  },
  {
   "cell_type": "code",
   "execution_count": 6,
   "metadata": {},
   "outputs": [
    {
     "name": "stdout",
     "output_type": "stream",
     "text": [
      "<class 'pandas.core.frame.DataFrame'>\n",
      "RangeIndex: 74306 entries, 0 to 74305\n",
      "Data columns (total 14 columns):\n",
      "hadm_id         74306 non-null float64\n",
      "icustay_id      74306 non-null float64\n",
      "itemid          74306 non-null float64\n",
      "charttime       74306 non-null object\n",
      "value           73903 non-null object\n",
      "valuenum        73992 non-null float64\n",
      "valueuom        59637 non-null object\n",
      "item            74306 non-null object\n",
      "storetime       74220 non-null object\n",
      "cgid            74220 non-null float64\n",
      "warning         33854 non-null float64\n",
      "error           33854 non-null float64\n",
      "resultstatus    11633 non-null object\n",
      "stopped         40377 non-null object\n",
      "dtypes: float64(7), object(7)\n",
      "memory usage: 7.9+ MB\n"
     ]
    }
   ],
   "source": [
    "df_charts.info()"
   ]
  },
  {
   "cell_type": "markdown",
   "metadata": {},
   "source": [
    "##### Import dictionary items\n",
    " \n",
    "The dictionary entails the corresponding descriptions to one item ID. "
   ]
  },
  {
   "cell_type": "code",
   "execution_count": 7,
   "metadata": {},
   "outputs": [],
   "source": [
    "df_items = pd.read_csv('data/D_ITEMS.csv.gz', compression='gzip')"
   ]
  },
  {
   "cell_type": "code",
   "execution_count": 8,
   "metadata": {
    "scrolled": true
   },
   "outputs": [
    {
     "data": {
      "text/html": [
       "<div>\n",
       "<style scoped>\n",
       "    .dataframe tbody tr th:only-of-type {\n",
       "        vertical-align: middle;\n",
       "    }\n",
       "\n",
       "    .dataframe tbody tr th {\n",
       "        vertical-align: top;\n",
       "    }\n",
       "\n",
       "    .dataframe thead th {\n",
       "        text-align: right;\n",
       "    }\n",
       "</style>\n",
       "<table border=\"1\" class=\"dataframe\">\n",
       "  <thead>\n",
       "    <tr style=\"text-align: right;\">\n",
       "      <th></th>\n",
       "      <th>ROW_ID</th>\n",
       "      <th>ITEMID</th>\n",
       "      <th>LABEL</th>\n",
       "      <th>ABBREVIATION</th>\n",
       "      <th>DBSOURCE</th>\n",
       "      <th>LINKSTO</th>\n",
       "      <th>CATEGORY</th>\n",
       "      <th>UNITNAME</th>\n",
       "      <th>PARAM_TYPE</th>\n",
       "      <th>CONCEPTID</th>\n",
       "    </tr>\n",
       "  </thead>\n",
       "  <tbody>\n",
       "    <tr>\n",
       "      <th>0</th>\n",
       "      <td>457</td>\n",
       "      <td>497</td>\n",
       "      <td>Patient controlled analgesia (PCA) [Inject]</td>\n",
       "      <td>NaN</td>\n",
       "      <td>carevue</td>\n",
       "      <td>chartevents</td>\n",
       "      <td>NaN</td>\n",
       "      <td>NaN</td>\n",
       "      <td>NaN</td>\n",
       "      <td>NaN</td>\n",
       "    </tr>\n",
       "    <tr>\n",
       "      <th>1</th>\n",
       "      <td>458</td>\n",
       "      <td>498</td>\n",
       "      <td>PCA Lockout (Min)</td>\n",
       "      <td>NaN</td>\n",
       "      <td>carevue</td>\n",
       "      <td>chartevents</td>\n",
       "      <td>NaN</td>\n",
       "      <td>NaN</td>\n",
       "      <td>NaN</td>\n",
       "      <td>NaN</td>\n",
       "    </tr>\n",
       "    <tr>\n",
       "      <th>2</th>\n",
       "      <td>459</td>\n",
       "      <td>499</td>\n",
       "      <td>PCA Medication</td>\n",
       "      <td>NaN</td>\n",
       "      <td>carevue</td>\n",
       "      <td>chartevents</td>\n",
       "      <td>NaN</td>\n",
       "      <td>NaN</td>\n",
       "      <td>NaN</td>\n",
       "      <td>NaN</td>\n",
       "    </tr>\n",
       "    <tr>\n",
       "      <th>3</th>\n",
       "      <td>460</td>\n",
       "      <td>500</td>\n",
       "      <td>PCA Total Dose</td>\n",
       "      <td>NaN</td>\n",
       "      <td>carevue</td>\n",
       "      <td>chartevents</td>\n",
       "      <td>NaN</td>\n",
       "      <td>NaN</td>\n",
       "      <td>NaN</td>\n",
       "      <td>NaN</td>\n",
       "    </tr>\n",
       "    <tr>\n",
       "      <th>4</th>\n",
       "      <td>461</td>\n",
       "      <td>501</td>\n",
       "      <td>PCV Exh Vt (Obser)</td>\n",
       "      <td>NaN</td>\n",
       "      <td>carevue</td>\n",
       "      <td>chartevents</td>\n",
       "      <td>NaN</td>\n",
       "      <td>NaN</td>\n",
       "      <td>NaN</td>\n",
       "      <td>NaN</td>\n",
       "    </tr>\n",
       "  </tbody>\n",
       "</table>\n",
       "</div>"
      ],
      "text/plain": [
       "   ROW_ID  ITEMID                                        LABEL ABBREVIATION  \\\n",
       "0     457     497  Patient controlled analgesia (PCA) [Inject]          NaN   \n",
       "1     458     498                            PCA Lockout (Min)          NaN   \n",
       "2     459     499                               PCA Medication          NaN   \n",
       "3     460     500                               PCA Total Dose          NaN   \n",
       "4     461     501                           PCV Exh Vt (Obser)          NaN   \n",
       "\n",
       "  DBSOURCE      LINKSTO CATEGORY UNITNAME PARAM_TYPE  CONCEPTID  \n",
       "0  carevue  chartevents      NaN      NaN        NaN        NaN  \n",
       "1  carevue  chartevents      NaN      NaN        NaN        NaN  \n",
       "2  carevue  chartevents      NaN      NaN        NaN        NaN  \n",
       "3  carevue  chartevents      NaN      NaN        NaN        NaN  \n",
       "4  carevue  chartevents      NaN      NaN        NaN        NaN  "
      ]
     },
     "execution_count": 8,
     "metadata": {},
     "output_type": "execute_result"
    }
   ],
   "source": [
    "df_items.head()"
   ]
  },
  {
   "cell_type": "markdown",
   "metadata": {},
   "source": [
    "##### Create a function to make the seperations\n",
    " \n",
    "In the following, we will use this function, to select one ItemID and exclude the other ID's without loosing information of the data. The function is structured as follows: \n",
    " \n",
    "1. Print the shape of the original dataframe \n",
    "2. Choose the itemID with the most occurances as priorizized item ID and isolate the unique icu stay ID's \n",
    "3. Choose the itemID with the second most occurances as follow-up item ID and isolate the unique icu stay ID's\n",
    "4. Subtract the unique icu stay ID's of the follow-up item ID from the priorizized item ID (the remainer are icu stay ID's not present in the prioritized ITEM ID). \n",
    "5. Print the common and different icu stay ID's \n",
    "6. Create a new dataframe containing the icu stay ID's of the prioritized item ID and the ones of the follow-up item ID that are not in covered by the prioritized item ID.\n",
    "7. Replace the item ID of the values containing the follow-up item ID with the priorizized item ID to end up with a single item ID for the chosen measurement. \n",
    "8. Delete the rows containing the follow-up item ID in the original dataframe\n",
    "9. Concat the new dataframe to the original dataframe\n",
    "\n",
    "**Things to keep in mind**: \n",
    "* The priorizized item ID and the follow-up item ID need to have the same type of measurement \n",
    "* The priorizized item ID needs to be higher than the follow-up item ID "
   ]
  },
  {
   "cell_type": "code",
   "execution_count": 9,
   "metadata": {},
   "outputs": [],
   "source": [
    "# num1 has to be higher than num2\n",
    "def exclude(num1,num2,df_charts=df_charts):\n",
    "    old_shape = df_charts.shape\n",
    "    print(f'Shape original dataframe:{old_shape}')\n",
    "    set1= set(df_charts[df_charts.itemid==num1].icustay_id.unique())\n",
    "    set2= set(df_charts[df_charts.itemid==num2].icustay_id.unique())\n",
    "    x = set2 - set1\n",
    "    y = set2.intersection(set1)\n",
    "    print(f'Intersection: {len(y)}, Symmetric difference: {len(x)}')\n",
    "    new_df = df_charts[(df_charts.itemid==num2) & (df_charts.icustay_id.isin(list(x)))]\n",
    "    new_df.itemid = new_df.itemid.replace(num2,num1)\n",
    "    df_charts = df_charts[df_charts.itemid!=num2]\n",
    "    df_charts = pd.concat([df_charts, new_df])\n",
    "    print(f'Shape new dataframe:{df_charts.shape}')\n",
    "    print(f'Deleted intersecting rows:{old_shape[0]- df_charts.shape[0]}')\n",
    "    return df_charts"
   ]
  },
  {
   "cell_type": "markdown",
   "metadata": {},
   "source": [
    "# Blood Pressure"
   ]
  },
  {
   "cell_type": "markdown",
   "metadata": {},
   "source": [
    "Source|values\n",
    ":---|:---\n",
    "cv| 52, 456\n",
    "mv |225312, 220181, 220052"
   ]
  },
  {
   "cell_type": "markdown",
   "metadata": {},
   "source": [
    "**Carevue:**"
   ]
  },
  {
   "cell_type": "code",
   "execution_count": 10,
   "metadata": {},
   "outputs": [
    {
     "data": {
      "text/html": [
       "<div>\n",
       "<style scoped>\n",
       "    .dataframe tbody tr th:only-of-type {\n",
       "        vertical-align: middle;\n",
       "    }\n",
       "\n",
       "    .dataframe tbody tr th {\n",
       "        vertical-align: top;\n",
       "    }\n",
       "\n",
       "    .dataframe thead th {\n",
       "        text-align: right;\n",
       "    }\n",
       "</style>\n",
       "<table border=\"1\" class=\"dataframe\">\n",
       "  <thead>\n",
       "    <tr style=\"text-align: right;\">\n",
       "      <th></th>\n",
       "      <th>ROW_ID</th>\n",
       "      <th>ITEMID</th>\n",
       "      <th>LABEL</th>\n",
       "      <th>ABBREVIATION</th>\n",
       "      <th>DBSOURCE</th>\n",
       "      <th>LINKSTO</th>\n",
       "      <th>CATEGORY</th>\n",
       "      <th>UNITNAME</th>\n",
       "      <th>PARAM_TYPE</th>\n",
       "      <th>CONCEPTID</th>\n",
       "    </tr>\n",
       "  </thead>\n",
       "  <tbody>\n",
       "    <tr>\n",
       "      <th>321</th>\n",
       "      <td>58</td>\n",
       "      <td>52</td>\n",
       "      <td>Arterial BP Mean</td>\n",
       "      <td>NaN</td>\n",
       "      <td>carevue</td>\n",
       "      <td>chartevents</td>\n",
       "      <td>NaN</td>\n",
       "      <td>NaN</td>\n",
       "      <td>NaN</td>\n",
       "      <td>NaN</td>\n",
       "    </tr>\n",
       "    <tr>\n",
       "      <th>683</th>\n",
       "      <td>420</td>\n",
       "      <td>456</td>\n",
       "      <td>NBP Mean</td>\n",
       "      <td>NaN</td>\n",
       "      <td>carevue</td>\n",
       "      <td>chartevents</td>\n",
       "      <td>NaN</td>\n",
       "      <td>NaN</td>\n",
       "      <td>NaN</td>\n",
       "      <td>NaN</td>\n",
       "    </tr>\n",
       "  </tbody>\n",
       "</table>\n",
       "</div>"
      ],
      "text/plain": [
       "     ROW_ID  ITEMID             LABEL ABBREVIATION DBSOURCE      LINKSTO  \\\n",
       "321      58      52  Arterial BP Mean          NaN  carevue  chartevents   \n",
       "683     420     456          NBP Mean          NaN  carevue  chartevents   \n",
       "\n",
       "    CATEGORY UNITNAME PARAM_TYPE  CONCEPTID  \n",
       "321      NaN      NaN        NaN        NaN  \n",
       "683      NaN      NaN        NaN        NaN  "
      ]
     },
     "execution_count": 10,
     "metadata": {},
     "output_type": "execute_result"
    }
   ],
   "source": [
    "df_items[(df_items.ITEMID==52) | (df_items.ITEMID==456)]"
   ]
  },
  {
   "cell_type": "code",
   "execution_count": 11,
   "metadata": {
    "scrolled": true
   },
   "outputs": [
    {
     "data": {
      "image/png": "[encoded data removed]",
      "text/plain": [
       "<Figure size 432x288 with 1 Axes>"
      ]
     },
     "metadata": {
      "needs_background": "light"
     },
     "output_type": "display_data"
    }
   ],
   "source": [
    "sns.countplot(x=df_charts[(df_charts.itemid==52) | (df_charts.itemid==456)].itemid);"
   ]
  },
  {
   "cell_type": "code",
   "execution_count": 12,
   "metadata": {},
   "outputs": [
    {
     "name": "stdout",
     "output_type": "stream",
     "text": [
      "Shape original dataframe:(74306, 14)\n",
      "Intersection: 163, Symmetric difference: 1165\n",
      "Shape new dataframe:(74143, 14)\n",
      "Deleted intersecting rows:163\n"
     ]
    }
   ],
   "source": [
    "df_charts= exclude(52,456)"
   ]
  },
  {
   "cell_type": "markdown",
   "metadata": {},
   "source": [
    "**Metavision**"
   ]
  },
  {
   "cell_type": "code",
   "execution_count": 13,
   "metadata": {},
   "outputs": [
    {
     "data": {
      "text/html": [
       "<div>\n",
       "<style scoped>\n",
       "    .dataframe tbody tr th:only-of-type {\n",
       "        vertical-align: middle;\n",
       "    }\n",
       "\n",
       "    .dataframe tbody tr th {\n",
       "        vertical-align: top;\n",
       "    }\n",
       "\n",
       "    .dataframe thead th {\n",
       "        text-align: right;\n",
       "    }\n",
       "</style>\n",
       "<table border=\"1\" class=\"dataframe\">\n",
       "  <thead>\n",
       "    <tr style=\"text-align: right;\">\n",
       "      <th></th>\n",
       "      <th>ROW_ID</th>\n",
       "      <th>ITEMID</th>\n",
       "      <th>LABEL</th>\n",
       "      <th>ABBREVIATION</th>\n",
       "      <th>DBSOURCE</th>\n",
       "      <th>LINKSTO</th>\n",
       "      <th>CATEGORY</th>\n",
       "      <th>UNITNAME</th>\n",
       "      <th>PARAM_TYPE</th>\n",
       "      <th>CONCEPTID</th>\n",
       "    </tr>\n",
       "  </thead>\n",
       "  <tbody>\n",
       "    <tr>\n",
       "      <th>11504</th>\n",
       "      <td>12718</td>\n",
       "      <td>220052</td>\n",
       "      <td>Arterial Blood Pressure mean</td>\n",
       "      <td>ABPm</td>\n",
       "      <td>metavision</td>\n",
       "      <td>chartevents</td>\n",
       "      <td>Routine Vital Signs</td>\n",
       "      <td>mmHg</td>\n",
       "      <td>Numeric</td>\n",
       "      <td>NaN</td>\n",
       "    </tr>\n",
       "    <tr>\n",
       "      <th>11522</th>\n",
       "      <td>12736</td>\n",
       "      <td>220181</td>\n",
       "      <td>Non Invasive Blood Pressure mean</td>\n",
       "      <td>NBPm</td>\n",
       "      <td>metavision</td>\n",
       "      <td>chartevents</td>\n",
       "      <td>Routine Vital Signs</td>\n",
       "      <td>mmHg</td>\n",
       "      <td>Numeric</td>\n",
       "      <td>NaN</td>\n",
       "    </tr>\n",
       "    <tr>\n",
       "      <th>12445</th>\n",
       "      <td>13689</td>\n",
       "      <td>225312</td>\n",
       "      <td>ART BP mean</td>\n",
       "      <td>ART BP mean</td>\n",
       "      <td>metavision</td>\n",
       "      <td>chartevents</td>\n",
       "      <td>Routine Vital Signs</td>\n",
       "      <td>mmHg</td>\n",
       "      <td>Numeric</td>\n",
       "      <td>NaN</td>\n",
       "    </tr>\n",
       "  </tbody>\n",
       "</table>\n",
       "</div>"
      ],
      "text/plain": [
       "       ROW_ID  ITEMID                             LABEL ABBREVIATION  \\\n",
       "11504   12718  220052      Arterial Blood Pressure mean         ABPm   \n",
       "11522   12736  220181  Non Invasive Blood Pressure mean         NBPm   \n",
       "12445   13689  225312                       ART BP mean  ART BP mean   \n",
       "\n",
       "         DBSOURCE      LINKSTO             CATEGORY UNITNAME PARAM_TYPE  \\\n",
       "11504  metavision  chartevents  Routine Vital Signs     mmHg    Numeric   \n",
       "11522  metavision  chartevents  Routine Vital Signs     mmHg    Numeric   \n",
       "12445  metavision  chartevents  Routine Vital Signs     mmHg    Numeric   \n",
       "\n",
       "       CONCEPTID  \n",
       "11504        NaN  \n",
       "11522        NaN  \n",
       "12445        NaN  "
      ]
     },
     "execution_count": 13,
     "metadata": {},
     "output_type": "execute_result"
    }
   ],
   "source": [
    "df_items[(df_items.ITEMID==225312) | (df_items.ITEMID==220181) | (df_items.ITEMID==220052)]"
   ]
  },
  {
   "cell_type": "code",
   "execution_count": 14,
   "metadata": {
    "scrolled": false
   },
   "outputs": [
    {
     "data": {
      "image/png": "[encoded data removed]",
      "text/plain": [
       "<Figure size 432x288 with 1 Axes>"
      ]
     },
     "metadata": {
      "needs_background": "light"
     },
     "output_type": "display_data"
    }
   ],
   "source": [
    "sns.countplot(x=df_charts[(df_charts.itemid==225312) | (df_charts.itemid==220181) | (df_charts.itemid==220052)].itemid);"
   ]
  },
  {
   "cell_type": "code",
   "execution_count": 15,
   "metadata": {
    "scrolled": true
   },
   "outputs": [
    {
     "name": "stdout",
     "output_type": "stream",
     "text": [
      "Shape original dataframe:(74143, 14)\n",
      "Intersection: 3, Symmetric difference: 82\n",
      "Shape new dataframe:(74140, 14)\n",
      "Deleted intersecting rows:3\n"
     ]
    }
   ],
   "source": [
    "df_charts= exclude(220181,225312,df_charts)"
   ]
  },
  {
   "cell_type": "code",
   "execution_count": 16,
   "metadata": {},
   "outputs": [
    {
     "name": "stdout",
     "output_type": "stream",
     "text": [
      "Shape original dataframe:(74140, 14)\n",
      "Intersection: 139, Symmetric difference: 1245\n",
      "Shape new dataframe:(74001, 14)\n",
      "Deleted intersecting rows:139\n"
     ]
    }
   ],
   "source": [
    "df_charts= exclude(220181,220052, df_charts)"
   ]
  },
  {
   "cell_type": "markdown",
   "metadata": {},
   "source": [
    "# Temperature"
   ]
  },
  {
   "cell_type": "markdown",
   "metadata": {},
   "source": [
    "Source|values\n",
    ":---|:---\n",
    "cv| 676,  677\n",
    "mv|  223762"
   ]
  },
  {
   "cell_type": "code",
   "execution_count": 17,
   "metadata": {},
   "outputs": [
    {
     "data": {
      "text/html": [
       "<div>\n",
       "<style scoped>\n",
       "    .dataframe tbody tr th:only-of-type {\n",
       "        vertical-align: middle;\n",
       "    }\n",
       "\n",
       "    .dataframe tbody tr th {\n",
       "        vertical-align: top;\n",
       "    }\n",
       "\n",
       "    .dataframe thead th {\n",
       "        text-align: right;\n",
       "    }\n",
       "</style>\n",
       "<table border=\"1\" class=\"dataframe\">\n",
       "  <thead>\n",
       "    <tr style=\"text-align: right;\">\n",
       "      <th></th>\n",
       "      <th>ROW_ID</th>\n",
       "      <th>ITEMID</th>\n",
       "      <th>LABEL</th>\n",
       "      <th>ABBREVIATION</th>\n",
       "      <th>DBSOURCE</th>\n",
       "      <th>LINKSTO</th>\n",
       "      <th>CATEGORY</th>\n",
       "      <th>UNITNAME</th>\n",
       "      <th>PARAM_TYPE</th>\n",
       "      <th>CONCEPTID</th>\n",
       "    </tr>\n",
       "  </thead>\n",
       "  <tbody>\n",
       "    <tr>\n",
       "      <th>1446</th>\n",
       "      <td>627</td>\n",
       "      <td>676</td>\n",
       "      <td>Temperature C</td>\n",
       "      <td>NaN</td>\n",
       "      <td>carevue</td>\n",
       "      <td>chartevents</td>\n",
       "      <td>NaN</td>\n",
       "      <td>NaN</td>\n",
       "      <td>NaN</td>\n",
       "      <td>NaN</td>\n",
       "    </tr>\n",
       "    <tr>\n",
       "      <th>1447</th>\n",
       "      <td>628</td>\n",
       "      <td>677</td>\n",
       "      <td>Temperature C (calc)</td>\n",
       "      <td>NaN</td>\n",
       "      <td>carevue</td>\n",
       "      <td>chartevents</td>\n",
       "      <td>NaN</td>\n",
       "      <td>NaN</td>\n",
       "      <td>NaN</td>\n",
       "      <td>NaN</td>\n",
       "    </tr>\n",
       "  </tbody>\n",
       "</table>\n",
       "</div>"
      ],
      "text/plain": [
       "      ROW_ID  ITEMID                 LABEL ABBREVIATION DBSOURCE      LINKSTO  \\\n",
       "1446     627     676         Temperature C          NaN  carevue  chartevents   \n",
       "1447     628     677  Temperature C (calc)          NaN  carevue  chartevents   \n",
       "\n",
       "     CATEGORY UNITNAME PARAM_TYPE  CONCEPTID  \n",
       "1446      NaN      NaN        NaN        NaN  \n",
       "1447      NaN      NaN        NaN        NaN  "
      ]
     },
     "execution_count": 17,
     "metadata": {},
     "output_type": "execute_result"
    }
   ],
   "source": [
    "df_items[(df_items.ITEMID==676) | (df_items.ITEMID==677)]"
   ]
  },
  {
   "cell_type": "code",
   "execution_count": 18,
   "metadata": {},
   "outputs": [
    {
     "data": {
      "image/png": "[encoded data removed]",
      "text/plain": [
       "<Figure size 432x288 with 1 Axes>"
      ]
     },
     "metadata": {
      "needs_background": "light"
     },
     "output_type": "display_data"
    }
   ],
   "source": [
    "sns.countplot(x=df_charts[(df_charts.itemid==676) | (df_charts.itemid==677)].itemid);"
   ]
  },
  {
   "cell_type": "code",
   "execution_count": 19,
   "metadata": {},
   "outputs": [
    {
     "name": "stdout",
     "output_type": "stream",
     "text": [
      "Shape original dataframe:(74001, 14)\n",
      "Intersection: 10, Symmetric difference: 148\n",
      "Shape new dataframe:(73991, 14)\n",
      "Deleted intersecting rows:10\n"
     ]
    }
   ],
   "source": [
    "df_charts = exclude(677,676, df_charts)"
   ]
  },
  {
   "cell_type": "markdown",
   "metadata": {},
   "source": [
    "# SaO2"
   ]
  },
  {
   "cell_type": "markdown",
   "metadata": {},
   "source": [
    "Source|values\n",
    ":---|:---\n",
    "cv| 646, 834\n",
    "mv| 220277, 220227"
   ]
  },
  {
   "cell_type": "markdown",
   "metadata": {},
   "source": [
    "**Carevue**"
   ]
  },
  {
   "cell_type": "code",
   "execution_count": 20,
   "metadata": {},
   "outputs": [
    {
     "data": {
      "text/html": [
       "<div>\n",
       "<style scoped>\n",
       "    .dataframe tbody tr th:only-of-type {\n",
       "        vertical-align: middle;\n",
       "    }\n",
       "\n",
       "    .dataframe tbody tr th {\n",
       "        vertical-align: top;\n",
       "    }\n",
       "\n",
       "    .dataframe thead th {\n",
       "        text-align: right;\n",
       "    }\n",
       "</style>\n",
       "<table border=\"1\" class=\"dataframe\">\n",
       "  <thead>\n",
       "    <tr style=\"text-align: right;\">\n",
       "      <th></th>\n",
       "      <th>ROW_ID</th>\n",
       "      <th>ITEMID</th>\n",
       "      <th>LABEL</th>\n",
       "      <th>ABBREVIATION</th>\n",
       "      <th>DBSOURCE</th>\n",
       "      <th>LINKSTO</th>\n",
       "      <th>CATEGORY</th>\n",
       "      <th>UNITNAME</th>\n",
       "      <th>PARAM_TYPE</th>\n",
       "      <th>CONCEPTID</th>\n",
       "    </tr>\n",
       "  </thead>\n",
       "  <tbody>\n",
       "    <tr>\n",
       "      <th>749</th>\n",
       "      <td>1126</td>\n",
       "      <td>834</td>\n",
       "      <td>SaO2</td>\n",
       "      <td>NaN</td>\n",
       "      <td>carevue</td>\n",
       "      <td>chartevents</td>\n",
       "      <td>ABG's</td>\n",
       "      <td>NaN</td>\n",
       "      <td>NaN</td>\n",
       "      <td>NaN</td>\n",
       "    </tr>\n",
       "    <tr>\n",
       "      <th>1418</th>\n",
       "      <td>599</td>\n",
       "      <td>646</td>\n",
       "      <td>SpO2</td>\n",
       "      <td>NaN</td>\n",
       "      <td>carevue</td>\n",
       "      <td>chartevents</td>\n",
       "      <td>NaN</td>\n",
       "      <td>NaN</td>\n",
       "      <td>NaN</td>\n",
       "      <td>NaN</td>\n",
       "    </tr>\n",
       "  </tbody>\n",
       "</table>\n",
       "</div>"
      ],
      "text/plain": [
       "      ROW_ID  ITEMID LABEL ABBREVIATION DBSOURCE      LINKSTO CATEGORY  \\\n",
       "749     1126     834  SaO2          NaN  carevue  chartevents    ABG's   \n",
       "1418     599     646  SpO2          NaN  carevue  chartevents      NaN   \n",
       "\n",
       "     UNITNAME PARAM_TYPE  CONCEPTID  \n",
       "749       NaN        NaN        NaN  \n",
       "1418      NaN        NaN        NaN  "
      ]
     },
     "execution_count": 20,
     "metadata": {},
     "output_type": "execute_result"
    }
   ],
   "source": [
    "df_items[(df_items.ITEMID==646) | (df_items.ITEMID==834)]"
   ]
  },
  {
   "cell_type": "code",
   "execution_count": 21,
   "metadata": {},
   "outputs": [
    {
     "data": {
      "image/png": "[encoded data removed]",
      "text/plain": [
       "<Figure size 432x288 with 1 Axes>"
      ]
     },
     "metadata": {
      "needs_background": "light"
     },
     "output_type": "display_data"
    }
   ],
   "source": [
    "sns.countplot(x=df_charts[(df_charts.itemid==646) | (df_charts.itemid==834)].itemid);"
   ]
  },
  {
   "cell_type": "code",
   "execution_count": 22,
   "metadata": {},
   "outputs": [
    {
     "name": "stdout",
     "output_type": "stream",
     "text": [
      "Shape original dataframe:(73991, 14)\n",
      "Intersection: 5, Symmetric difference: 136\n",
      "Shape new dataframe:(73986, 14)\n",
      "Deleted intersecting rows:5\n"
     ]
    }
   ],
   "source": [
    "df_charts = exclude(646,834, df_charts)"
   ]
  },
  {
   "cell_type": "markdown",
   "metadata": {},
   "source": [
    "**Metavision**"
   ]
  },
  {
   "cell_type": "code",
   "execution_count": 23,
   "metadata": {},
   "outputs": [
    {
     "data": {
      "text/html": [
       "<div>\n",
       "<style scoped>\n",
       "    .dataframe tbody tr th:only-of-type {\n",
       "        vertical-align: middle;\n",
       "    }\n",
       "\n",
       "    .dataframe tbody tr th {\n",
       "        vertical-align: top;\n",
       "    }\n",
       "\n",
       "    .dataframe thead th {\n",
       "        text-align: right;\n",
       "    }\n",
       "</style>\n",
       "<table border=\"1\" class=\"dataframe\">\n",
       "  <thead>\n",
       "    <tr style=\"text-align: right;\">\n",
       "      <th></th>\n",
       "      <th>ROW_ID</th>\n",
       "      <th>ITEMID</th>\n",
       "      <th>LABEL</th>\n",
       "      <th>ABBREVIATION</th>\n",
       "      <th>DBSOURCE</th>\n",
       "      <th>LINKSTO</th>\n",
       "      <th>CATEGORY</th>\n",
       "      <th>UNITNAME</th>\n",
       "      <th>PARAM_TYPE</th>\n",
       "      <th>CONCEPTID</th>\n",
       "    </tr>\n",
       "  </thead>\n",
       "  <tbody>\n",
       "    <tr>\n",
       "      <th>11527</th>\n",
       "      <td>12741</td>\n",
       "      <td>220227</td>\n",
       "      <td>Arterial O2 Saturation</td>\n",
       "      <td>SaO2</td>\n",
       "      <td>metavision</td>\n",
       "      <td>chartevents</td>\n",
       "      <td>Labs</td>\n",
       "      <td>%</td>\n",
       "      <td>Numeric</td>\n",
       "      <td>NaN</td>\n",
       "    </tr>\n",
       "    <tr>\n",
       "      <th>12355</th>\n",
       "      <td>12746</td>\n",
       "      <td>220277</td>\n",
       "      <td>O2 saturation pulseoxymetry</td>\n",
       "      <td>SpO2</td>\n",
       "      <td>metavision</td>\n",
       "      <td>chartevents</td>\n",
       "      <td>Respiratory</td>\n",
       "      <td>%</td>\n",
       "      <td>Numeric</td>\n",
       "      <td>NaN</td>\n",
       "    </tr>\n",
       "  </tbody>\n",
       "</table>\n",
       "</div>"
      ],
      "text/plain": [
       "       ROW_ID  ITEMID                        LABEL ABBREVIATION    DBSOURCE  \\\n",
       "11527   12741  220227       Arterial O2 Saturation         SaO2  metavision   \n",
       "12355   12746  220277  O2 saturation pulseoxymetry         SpO2  metavision   \n",
       "\n",
       "           LINKSTO     CATEGORY UNITNAME PARAM_TYPE  CONCEPTID  \n",
       "11527  chartevents         Labs        %    Numeric        NaN  \n",
       "12355  chartevents  Respiratory        %    Numeric        NaN  "
      ]
     },
     "execution_count": 23,
     "metadata": {},
     "output_type": "execute_result"
    }
   ],
   "source": [
    "df_items[(df_items.ITEMID==220277) | (df_items.ITEMID==220227)]"
   ]
  },
  {
   "cell_type": "code",
   "execution_count": 24,
   "metadata": {},
   "outputs": [
    {
     "data": {
      "image/png": "[encoded data removed]",
      "text/plain": [
       "<Figure size 432x288 with 1 Axes>"
      ]
     },
     "metadata": {
      "needs_background": "light"
     },
     "output_type": "display_data"
    }
   ],
   "source": [
    "sns.countplot(x=df_charts[(df_charts.itemid==220277) | (df_charts.itemid==220227)].itemid);"
   ]
  },
  {
   "cell_type": "code",
   "execution_count": 25,
   "metadata": {},
   "outputs": [
    {
     "name": "stdout",
     "output_type": "stream",
     "text": [
      "Shape original dataframe:(73986, 14)\n",
      "Intersection: 2, Symmetric difference: 2761\n",
      "Shape new dataframe:(73984, 14)\n",
      "Deleted intersecting rows:2\n"
     ]
    }
   ],
   "source": [
    "df_charts = exclude(220227,220277, df_charts)"
   ]
  },
  {
   "cell_type": "markdown",
   "metadata": {},
   "source": [
    "# Respiratory Rate"
   ]
  },
  {
   "cell_type": "markdown",
   "metadata": {},
   "source": [
    "Source|values\n",
    ":---|:---\n",
    "cv|618\n",
    "mv| 220210, 224688"
   ]
  },
  {
   "cell_type": "code",
   "execution_count": 26,
   "metadata": {},
   "outputs": [
    {
     "data": {
      "text/html": [
       "<div>\n",
       "<style scoped>\n",
       "    .dataframe tbody tr th:only-of-type {\n",
       "        vertical-align: middle;\n",
       "    }\n",
       "\n",
       "    .dataframe tbody tr th {\n",
       "        vertical-align: top;\n",
       "    }\n",
       "\n",
       "    .dataframe thead th {\n",
       "        text-align: right;\n",
       "    }\n",
       "</style>\n",
       "<table border=\"1\" class=\"dataframe\">\n",
       "  <thead>\n",
       "    <tr style=\"text-align: right;\">\n",
       "      <th></th>\n",
       "      <th>ROW_ID</th>\n",
       "      <th>ITEMID</th>\n",
       "      <th>LABEL</th>\n",
       "      <th>ABBREVIATION</th>\n",
       "      <th>DBSOURCE</th>\n",
       "      <th>LINKSTO</th>\n",
       "      <th>CATEGORY</th>\n",
       "      <th>UNITNAME</th>\n",
       "      <th>PARAM_TYPE</th>\n",
       "      <th>CONCEPTID</th>\n",
       "    </tr>\n",
       "  </thead>\n",
       "  <tbody>\n",
       "    <tr>\n",
       "      <th>10052</th>\n",
       "      <td>13244</td>\n",
       "      <td>224688</td>\n",
       "      <td>Respiratory Rate (Set)</td>\n",
       "      <td>Respiratory Rate (Set)</td>\n",
       "      <td>metavision</td>\n",
       "      <td>chartevents</td>\n",
       "      <td>Respiratory</td>\n",
       "      <td>insp/min</td>\n",
       "      <td>Numeric</td>\n",
       "      <td>NaN</td>\n",
       "    </tr>\n",
       "    <tr>\n",
       "      <th>11524</th>\n",
       "      <td>12738</td>\n",
       "      <td>220210</td>\n",
       "      <td>Respiratory Rate</td>\n",
       "      <td>RR</td>\n",
       "      <td>metavision</td>\n",
       "      <td>chartevents</td>\n",
       "      <td>Respiratory</td>\n",
       "      <td>insp/min</td>\n",
       "      <td>Numeric</td>\n",
       "      <td>NaN</td>\n",
       "    </tr>\n",
       "  </tbody>\n",
       "</table>\n",
       "</div>"
      ],
      "text/plain": [
       "       ROW_ID  ITEMID                   LABEL            ABBREVIATION  \\\n",
       "10052   13244  224688  Respiratory Rate (Set)  Respiratory Rate (Set)   \n",
       "11524   12738  220210        Respiratory Rate                      RR   \n",
       "\n",
       "         DBSOURCE      LINKSTO     CATEGORY  UNITNAME PARAM_TYPE  CONCEPTID  \n",
       "10052  metavision  chartevents  Respiratory  insp/min    Numeric        NaN  \n",
       "11524  metavision  chartevents  Respiratory  insp/min    Numeric        NaN  "
      ]
     },
     "execution_count": 26,
     "metadata": {},
     "output_type": "execute_result"
    }
   ],
   "source": [
    "df_items[(df_items.ITEMID==220210) | (df_items.ITEMID==224688)]"
   ]
  },
  {
   "cell_type": "code",
   "execution_count": 27,
   "metadata": {},
   "outputs": [
    {
     "data": {
      "image/png": "[encoded data removed]",
      "text/plain": [
       "<Figure size 432x288 with 1 Axes>"
      ]
     },
     "metadata": {
      "needs_background": "light"
     },
     "output_type": "display_data"
    }
   ],
   "source": [
    "sns.countplot(x=df_charts[(df_charts.itemid==220210) | (df_charts.itemid==224688)].itemid);"
   ]
  },
  {
   "cell_type": "code",
   "execution_count": 28,
   "metadata": {},
   "outputs": [
    {
     "name": "stdout",
     "output_type": "stream",
     "text": [
      "Shape original dataframe:(73984, 14)\n",
      "Intersection: 72, Symmetric difference: 20\n",
      "Shape new dataframe:(73912, 14)\n",
      "Deleted intersecting rows:72\n"
     ]
    }
   ],
   "source": [
    "df_charts = exclude(220210,224688, df_charts)"
   ]
  },
  {
   "cell_type": "markdown",
   "metadata": {},
   "source": [
    "# Breath-Minute-Volume"
   ]
  },
  {
   "cell_type": "markdown",
   "metadata": {},
   "source": [
    "Source|values\n",
    ":---|:---\n",
    "Cv|445, 448, 449, \n",
    "MV|224687, 1340, 1486, 1600"
   ]
  },
  {
   "cell_type": "markdown",
   "metadata": {},
   "source": [
    "##### Carevue"
   ]
  },
  {
   "cell_type": "code",
   "execution_count": 29,
   "metadata": {},
   "outputs": [
    {
     "data": {
      "text/html": [
       "<div>\n",
       "<style scoped>\n",
       "    .dataframe tbody tr th:only-of-type {\n",
       "        vertical-align: middle;\n",
       "    }\n",
       "\n",
       "    .dataframe tbody tr th {\n",
       "        vertical-align: top;\n",
       "    }\n",
       "\n",
       "    .dataframe thead th {\n",
       "        text-align: right;\n",
       "    }\n",
       "</style>\n",
       "<table border=\"1\" class=\"dataframe\">\n",
       "  <thead>\n",
       "    <tr style=\"text-align: right;\">\n",
       "      <th></th>\n",
       "      <th>ROW_ID</th>\n",
       "      <th>ITEMID</th>\n",
       "      <th>LABEL</th>\n",
       "      <th>ABBREVIATION</th>\n",
       "      <th>DBSOURCE</th>\n",
       "      <th>LINKSTO</th>\n",
       "      <th>CATEGORY</th>\n",
       "      <th>UNITNAME</th>\n",
       "      <th>PARAM_TYPE</th>\n",
       "      <th>CONCEPTID</th>\n",
       "    </tr>\n",
       "  </thead>\n",
       "  <tbody>\n",
       "    <tr>\n",
       "      <th>674</th>\n",
       "      <td>411</td>\n",
       "      <td>445</td>\n",
       "      <td>Mech. Minute Volume</td>\n",
       "      <td>NaN</td>\n",
       "      <td>carevue</td>\n",
       "      <td>chartevents</td>\n",
       "      <td>NaN</td>\n",
       "      <td>NaN</td>\n",
       "      <td>NaN</td>\n",
       "      <td>NaN</td>\n",
       "    </tr>\n",
       "    <tr>\n",
       "      <th>677</th>\n",
       "      <td>414</td>\n",
       "      <td>448</td>\n",
       "      <td>Minute Volume</td>\n",
       "      <td>NaN</td>\n",
       "      <td>carevue</td>\n",
       "      <td>chartevents</td>\n",
       "      <td>NaN</td>\n",
       "      <td>NaN</td>\n",
       "      <td>NaN</td>\n",
       "      <td>NaN</td>\n",
       "    </tr>\n",
       "    <tr>\n",
       "      <th>678</th>\n",
       "      <td>415</td>\n",
       "      <td>449</td>\n",
       "      <td>Minute Volume (Set)</td>\n",
       "      <td>NaN</td>\n",
       "      <td>carevue</td>\n",
       "      <td>chartevents</td>\n",
       "      <td>NaN</td>\n",
       "      <td>NaN</td>\n",
       "      <td>NaN</td>\n",
       "      <td>NaN</td>\n",
       "    </tr>\n",
       "  </tbody>\n",
       "</table>\n",
       "</div>"
      ],
      "text/plain": [
       "     ROW_ID  ITEMID                LABEL ABBREVIATION DBSOURCE      LINKSTO  \\\n",
       "674     411     445  Mech. Minute Volume          NaN  carevue  chartevents   \n",
       "677     414     448        Minute Volume          NaN  carevue  chartevents   \n",
       "678     415     449  Minute Volume (Set)          NaN  carevue  chartevents   \n",
       "\n",
       "    CATEGORY UNITNAME PARAM_TYPE  CONCEPTID  \n",
       "674      NaN      NaN        NaN        NaN  \n",
       "677      NaN      NaN        NaN        NaN  \n",
       "678      NaN      NaN        NaN        NaN  "
      ]
     },
     "execution_count": 29,
     "metadata": {},
     "output_type": "execute_result"
    }
   ],
   "source": [
    "df_items[(df_items.ITEMID==445) | (df_items.ITEMID==448) | (df_items.ITEMID==449)]"
   ]
  },
  {
   "cell_type": "code",
   "execution_count": 30,
   "metadata": {},
   "outputs": [
    {
     "data": {
      "image/png": "[encoded data removed]",
      "text/plain": [
       "<Figure size 432x288 with 1 Axes>"
      ]
     },
     "metadata": {
      "needs_background": "light"
     },
     "output_type": "display_data"
    }
   ],
   "source": [
    "sns.countplot(x=df_charts[(df_charts.itemid==445) | (df_charts.itemid==448) | (df_charts.itemid==449)].itemid);"
   ]
  },
  {
   "cell_type": "code",
   "execution_count": 31,
   "metadata": {},
   "outputs": [
    {
     "name": "stdout",
     "output_type": "stream",
     "text": [
      "Shape original dataframe:(73912, 14)\n",
      "Intersection: 0, Symmetric difference: 1\n",
      "Shape new dataframe:(73912, 14)\n",
      "Deleted intersecting rows:0\n"
     ]
    }
   ],
   "source": [
    "df_charts = exclude(449,448, df_charts)"
   ]
  },
  {
   "cell_type": "code",
   "execution_count": 32,
   "metadata": {},
   "outputs": [
    {
     "name": "stdout",
     "output_type": "stream",
     "text": [
      "Shape original dataframe:(73912, 14)\n",
      "Intersection: 1, Symmetric difference: 1\n",
      "Shape new dataframe:(73911, 14)\n",
      "Deleted intersecting rows:1\n"
     ]
    }
   ],
   "source": [
    "df_charts = exclude(449,445, df_charts)"
   ]
  },
  {
   "cell_type": "markdown",
   "metadata": {},
   "source": [
    "**Metavision**"
   ]
  },
  {
   "cell_type": "code",
   "execution_count": 33,
   "metadata": {},
   "outputs": [
    {
     "data": {
      "text/html": [
       "<div>\n",
       "<style scoped>\n",
       "    .dataframe tbody tr th:only-of-type {\n",
       "        vertical-align: middle;\n",
       "    }\n",
       "\n",
       "    .dataframe tbody tr th {\n",
       "        vertical-align: top;\n",
       "    }\n",
       "\n",
       "    .dataframe thead th {\n",
       "        text-align: right;\n",
       "    }\n",
       "</style>\n",
       "<table border=\"1\" class=\"dataframe\">\n",
       "  <thead>\n",
       "    <tr style=\"text-align: right;\">\n",
       "      <th></th>\n",
       "      <th>ROW_ID</th>\n",
       "      <th>ITEMID</th>\n",
       "      <th>LABEL</th>\n",
       "      <th>ABBREVIATION</th>\n",
       "      <th>DBSOURCE</th>\n",
       "      <th>LINKSTO</th>\n",
       "      <th>CATEGORY</th>\n",
       "      <th>UNITNAME</th>\n",
       "      <th>PARAM_TYPE</th>\n",
       "      <th>CONCEPTID</th>\n",
       "    </tr>\n",
       "  </thead>\n",
       "  <tbody>\n",
       "    <tr>\n",
       "      <th>1225</th>\n",
       "      <td>1354</td>\n",
       "      <td>1340</td>\n",
       "      <td>high minute volume</td>\n",
       "      <td>NaN</td>\n",
       "      <td>carevue</td>\n",
       "      <td>chartevents</td>\n",
       "      <td>NaN</td>\n",
       "      <td>NaN</td>\n",
       "      <td>NaN</td>\n",
       "      <td>NaN</td>\n",
       "    </tr>\n",
       "    <tr>\n",
       "      <th>2757</th>\n",
       "      <td>2941</td>\n",
       "      <td>1486</td>\n",
       "      <td>High Minute Volume</td>\n",
       "      <td>NaN</td>\n",
       "      <td>carevue</td>\n",
       "      <td>chartevents</td>\n",
       "      <td>NaN</td>\n",
       "      <td>NaN</td>\n",
       "      <td>NaN</td>\n",
       "      <td>NaN</td>\n",
       "    </tr>\n",
       "    <tr>\n",
       "      <th>2867</th>\n",
       "      <td>3051</td>\n",
       "      <td>1600</td>\n",
       "      <td>HIGH MINUTE VOLUME</td>\n",
       "      <td>NaN</td>\n",
       "      <td>carevue</td>\n",
       "      <td>chartevents</td>\n",
       "      <td>NaN</td>\n",
       "      <td>NaN</td>\n",
       "      <td>NaN</td>\n",
       "      <td>NaN</td>\n",
       "    </tr>\n",
       "    <tr>\n",
       "      <th>10051</th>\n",
       "      <td>13243</td>\n",
       "      <td>224687</td>\n",
       "      <td>Minute Volume</td>\n",
       "      <td>Minute Volume</td>\n",
       "      <td>metavision</td>\n",
       "      <td>chartevents</td>\n",
       "      <td>Respiratory</td>\n",
       "      <td>L/min</td>\n",
       "      <td>Numeric</td>\n",
       "      <td>NaN</td>\n",
       "    </tr>\n",
       "  </tbody>\n",
       "</table>\n",
       "</div>"
      ],
      "text/plain": [
       "       ROW_ID  ITEMID               LABEL   ABBREVIATION    DBSOURCE  \\\n",
       "1225     1354    1340  high minute volume            NaN     carevue   \n",
       "2757     2941    1486  High Minute Volume            NaN     carevue   \n",
       "2867     3051    1600  HIGH MINUTE VOLUME            NaN     carevue   \n",
       "10051   13243  224687       Minute Volume  Minute Volume  metavision   \n",
       "\n",
       "           LINKSTO     CATEGORY UNITNAME PARAM_TYPE  CONCEPTID  \n",
       "1225   chartevents          NaN      NaN        NaN        NaN  \n",
       "2757   chartevents          NaN      NaN        NaN        NaN  \n",
       "2867   chartevents          NaN      NaN        NaN        NaN  \n",
       "10051  chartevents  Respiratory    L/min    Numeric        NaN  "
      ]
     },
     "execution_count": 33,
     "metadata": {},
     "output_type": "execute_result"
    }
   ],
   "source": [
    "df_items[(df_items.ITEMID==224687) | (df_items.ITEMID==1340) | (df_items.ITEMID==1486) | (df_items.ITEMID==1600)]"
   ]
  },
  {
   "cell_type": "code",
   "execution_count": 34,
   "metadata": {
    "scrolled": true
   },
   "outputs": [
    {
     "data": {
      "image/png": "[encoded data removed]",
      "text/plain": [
       "<Figure size 432x288 with 1 Axes>"
      ]
     },
     "metadata": {
      "needs_background": "light"
     },
     "output_type": "display_data"
    }
   ],
   "source": [
    "sns.countplot(x=df_charts[(df_charts.itemid==224687) | (df_charts.itemid==1340) | (df_charts.itemid==1486) | (df_charts.itemid==1600)].itemid);"
   ]
  },
  {
   "cell_type": "markdown",
   "metadata": {},
   "source": [
    "they seem to be different measurements "
   ]
  },
  {
   "cell_type": "code",
   "execution_count": 35,
   "metadata": {},
   "outputs": [],
   "source": [
    "df_charts = df_charts[df_charts.itemid != 1340]\n",
    "df_charts = df_charts[df_charts.itemid != 1486]\n",
    "df_charts = df_charts[df_charts.itemid != 1600]"
   ]
  },
  {
   "cell_type": "code",
   "execution_count": 36,
   "metadata": {},
   "outputs": [
    {
     "data": {
      "text/plain": [
       "(73836, 14)"
      ]
     },
     "execution_count": 36,
     "metadata": {},
     "output_type": "execute_result"
    }
   ],
   "source": [
    "df_charts.shape"
   ]
  },
  {
   "cell_type": "markdown",
   "metadata": {},
   "source": [
    "# FiO2"
   ]
  },
  {
   "cell_type": "markdown",
   "metadata": {},
   "source": [
    "Source|values\n",
    ":---|:---\n",
    "cv| 189, 190, 3420, 3422\n",
    "mv|223835"
   ]
  },
  {
   "cell_type": "code",
   "execution_count": 37,
   "metadata": {},
   "outputs": [
    {
     "data": {
      "text/html": [
       "<div>\n",
       "<style scoped>\n",
       "    .dataframe tbody tr th:only-of-type {\n",
       "        vertical-align: middle;\n",
       "    }\n",
       "\n",
       "    .dataframe tbody tr th {\n",
       "        vertical-align: top;\n",
       "    }\n",
       "\n",
       "    .dataframe thead th {\n",
       "        text-align: right;\n",
       "    }\n",
       "</style>\n",
       "<table border=\"1\" class=\"dataframe\">\n",
       "  <thead>\n",
       "    <tr style=\"text-align: right;\">\n",
       "      <th></th>\n",
       "      <th>ROW_ID</th>\n",
       "      <th>ITEMID</th>\n",
       "      <th>LABEL</th>\n",
       "      <th>ABBREVIATION</th>\n",
       "      <th>DBSOURCE</th>\n",
       "      <th>LINKSTO</th>\n",
       "      <th>CATEGORY</th>\n",
       "      <th>UNITNAME</th>\n",
       "      <th>PARAM_TYPE</th>\n",
       "      <th>CONCEPTID</th>\n",
       "    </tr>\n",
       "  </thead>\n",
       "  <tbody>\n",
       "    <tr>\n",
       "      <th>453</th>\n",
       "      <td>190</td>\n",
       "      <td>189</td>\n",
       "      <td>FiO2 (Analyzed)</td>\n",
       "      <td>NaN</td>\n",
       "      <td>carevue</td>\n",
       "      <td>chartevents</td>\n",
       "      <td>NaN</td>\n",
       "      <td>NaN</td>\n",
       "      <td>NaN</td>\n",
       "      <td>NaN</td>\n",
       "    </tr>\n",
       "    <tr>\n",
       "      <th>454</th>\n",
       "      <td>191</td>\n",
       "      <td>190</td>\n",
       "      <td>FiO2 Set</td>\n",
       "      <td>NaN</td>\n",
       "      <td>carevue</td>\n",
       "      <td>chartevents</td>\n",
       "      <td>NaN</td>\n",
       "      <td>NaN</td>\n",
       "      <td>NaN</td>\n",
       "      <td>NaN</td>\n",
       "    </tr>\n",
       "    <tr>\n",
       "      <th>1838</th>\n",
       "      <td>1019</td>\n",
       "      <td>3420</td>\n",
       "      <td>FIO2</td>\n",
       "      <td>NaN</td>\n",
       "      <td>carevue</td>\n",
       "      <td>chartevents</td>\n",
       "      <td>NaN</td>\n",
       "      <td>NaN</td>\n",
       "      <td>NaN</td>\n",
       "      <td>NaN</td>\n",
       "    </tr>\n",
       "    <tr>\n",
       "      <th>1840</th>\n",
       "      <td>1021</td>\n",
       "      <td>3422</td>\n",
       "      <td>FIO2 [Meas]</td>\n",
       "      <td>NaN</td>\n",
       "      <td>carevue</td>\n",
       "      <td>chartevents</td>\n",
       "      <td>NaN</td>\n",
       "      <td>NaN</td>\n",
       "      <td>NaN</td>\n",
       "      <td>NaN</td>\n",
       "    </tr>\n",
       "  </tbody>\n",
       "</table>\n",
       "</div>"
      ],
      "text/plain": [
       "      ROW_ID  ITEMID            LABEL ABBREVIATION DBSOURCE      LINKSTO  \\\n",
       "453      190     189  FiO2 (Analyzed)          NaN  carevue  chartevents   \n",
       "454      191     190         FiO2 Set          NaN  carevue  chartevents   \n",
       "1838    1019    3420             FIO2          NaN  carevue  chartevents   \n",
       "1840    1021    3422      FIO2 [Meas]          NaN  carevue  chartevents   \n",
       "\n",
       "     CATEGORY UNITNAME PARAM_TYPE  CONCEPTID  \n",
       "453       NaN      NaN        NaN        NaN  \n",
       "454       NaN      NaN        NaN        NaN  \n",
       "1838      NaN      NaN        NaN        NaN  \n",
       "1840      NaN      NaN        NaN        NaN  "
      ]
     },
     "execution_count": 37,
     "metadata": {},
     "output_type": "execute_result"
    }
   ],
   "source": [
    "df_items[(df_items.ITEMID==189) | (df_items.ITEMID==190) | (df_items.ITEMID==3420) | (df_items.ITEMID==3422)]"
   ]
  },
  {
   "cell_type": "code",
   "execution_count": 38,
   "metadata": {},
   "outputs": [
    {
     "data": {
      "image/png": "[encoded data removed]",
      "text/plain": [
       "<Figure size 432x288 with 1 Axes>"
      ]
     },
     "metadata": {
      "needs_background": "light"
     },
     "output_type": "display_data"
    }
   ],
   "source": [
    "sns.countplot(x=df_charts[(df_charts.itemid==189) | (df_charts.itemid==190) | (df_charts.itemid==3420) | (df_charts.itemid==3422)].itemid);"
   ]
  },
  {
   "cell_type": "code",
   "execution_count": 39,
   "metadata": {},
   "outputs": [
    {
     "name": "stdout",
     "output_type": "stream",
     "text": [
      "Shape original dataframe:(73836, 14)\n",
      "Intersection: 7, Symmetric difference: 31\n",
      "Shape new dataframe:(73829, 14)\n",
      "Deleted intersecting rows:7\n"
     ]
    }
   ],
   "source": [
    "df_charts = exclude(190,189, df_charts)"
   ]
  },
  {
   "cell_type": "markdown",
   "metadata": {},
   "source": [
    "# Tidal Volume"
   ]
  },
  {
   "cell_type": "markdown",
   "metadata": {},
   "source": [
    "Source|values\n",
    ":---|:---\n",
    "cv|681,682, 683, 684 \n",
    "mv|224685, 224684, 224686"
   ]
  },
  {
   "cell_type": "markdown",
   "metadata": {},
   "source": [
    "**Carevue**"
   ]
  },
  {
   "cell_type": "code",
   "execution_count": 40,
   "metadata": {},
   "outputs": [
    {
     "data": {
      "text/html": [
       "<div>\n",
       "<style scoped>\n",
       "    .dataframe tbody tr th:only-of-type {\n",
       "        vertical-align: middle;\n",
       "    }\n",
       "\n",
       "    .dataframe tbody tr th {\n",
       "        vertical-align: top;\n",
       "    }\n",
       "\n",
       "    .dataframe thead th {\n",
       "        text-align: right;\n",
       "    }\n",
       "</style>\n",
       "<table border=\"1\" class=\"dataframe\">\n",
       "  <thead>\n",
       "    <tr style=\"text-align: right;\">\n",
       "      <th></th>\n",
       "      <th>ROW_ID</th>\n",
       "      <th>ITEMID</th>\n",
       "      <th>LABEL</th>\n",
       "      <th>ABBREVIATION</th>\n",
       "      <th>DBSOURCE</th>\n",
       "      <th>LINKSTO</th>\n",
       "      <th>CATEGORY</th>\n",
       "      <th>UNITNAME</th>\n",
       "      <th>PARAM_TYPE</th>\n",
       "      <th>CONCEPTID</th>\n",
       "    </tr>\n",
       "  </thead>\n",
       "  <tbody>\n",
       "    <tr>\n",
       "      <th>1451</th>\n",
       "      <td>632</td>\n",
       "      <td>681</td>\n",
       "      <td>Tidal Volume</td>\n",
       "      <td>NaN</td>\n",
       "      <td>carevue</td>\n",
       "      <td>chartevents</td>\n",
       "      <td>NaN</td>\n",
       "      <td>NaN</td>\n",
       "      <td>NaN</td>\n",
       "      <td>NaN</td>\n",
       "    </tr>\n",
       "    <tr>\n",
       "      <th>1452</th>\n",
       "      <td>633</td>\n",
       "      <td>682</td>\n",
       "      <td>Tidal Volume (Obser)</td>\n",
       "      <td>NaN</td>\n",
       "      <td>carevue</td>\n",
       "      <td>chartevents</td>\n",
       "      <td>NaN</td>\n",
       "      <td>NaN</td>\n",
       "      <td>NaN</td>\n",
       "      <td>NaN</td>\n",
       "    </tr>\n",
       "    <tr>\n",
       "      <th>1453</th>\n",
       "      <td>634</td>\n",
       "      <td>683</td>\n",
       "      <td>Tidal Volume (Set)</td>\n",
       "      <td>NaN</td>\n",
       "      <td>carevue</td>\n",
       "      <td>chartevents</td>\n",
       "      <td>NaN</td>\n",
       "      <td>NaN</td>\n",
       "      <td>NaN</td>\n",
       "      <td>NaN</td>\n",
       "    </tr>\n",
       "    <tr>\n",
       "      <th>1454</th>\n",
       "      <td>635</td>\n",
       "      <td>684</td>\n",
       "      <td>Tidal Volume (Spont)</td>\n",
       "      <td>NaN</td>\n",
       "      <td>carevue</td>\n",
       "      <td>chartevents</td>\n",
       "      <td>NaN</td>\n",
       "      <td>NaN</td>\n",
       "      <td>NaN</td>\n",
       "      <td>NaN</td>\n",
       "    </tr>\n",
       "  </tbody>\n",
       "</table>\n",
       "</div>"
      ],
      "text/plain": [
       "      ROW_ID  ITEMID                 LABEL ABBREVIATION DBSOURCE      LINKSTO  \\\n",
       "1451     632     681          Tidal Volume          NaN  carevue  chartevents   \n",
       "1452     633     682  Tidal Volume (Obser)          NaN  carevue  chartevents   \n",
       "1453     634     683    Tidal Volume (Set)          NaN  carevue  chartevents   \n",
       "1454     635     684  Tidal Volume (Spont)          NaN  carevue  chartevents   \n",
       "\n",
       "     CATEGORY UNITNAME PARAM_TYPE  CONCEPTID  \n",
       "1451      NaN      NaN        NaN        NaN  \n",
       "1452      NaN      NaN        NaN        NaN  \n",
       "1453      NaN      NaN        NaN        NaN  \n",
       "1454      NaN      NaN        NaN        NaN  "
      ]
     },
     "execution_count": 40,
     "metadata": {},
     "output_type": "execute_result"
    }
   ],
   "source": [
    "df_items[(df_items.ITEMID==681) | (df_items.ITEMID==682) | (df_items.ITEMID==683) | (df_items.ITEMID==684)]"
   ]
  },
  {
   "cell_type": "code",
   "execution_count": 41,
   "metadata": {},
   "outputs": [
    {
     "data": {
      "image/png": "[encoded data removed]",
      "text/plain": [
       "<Figure size 432x288 with 1 Axes>"
      ]
     },
     "metadata": {
      "needs_background": "light"
     },
     "output_type": "display_data"
    }
   ],
   "source": [
    "sns.countplot(x=df_charts[(df_charts.itemid==681) | (df_charts.itemid==682) | (df_charts.itemid==683) | (df_charts.itemid==684)].itemid);"
   ]
  },
  {
   "cell_type": "code",
   "execution_count": 42,
   "metadata": {},
   "outputs": [
    {
     "name": "stdout",
     "output_type": "stream",
     "text": [
      "Shape original dataframe:(73829, 14)\n",
      "Intersection: 119, Symmetric difference: 446\n",
      "Shape new dataframe:(73710, 14)\n",
      "Deleted intersecting rows:119\n"
     ]
    }
   ],
   "source": [
    "df_charts = exclude(684,683, df_charts)"
   ]
  },
  {
   "cell_type": "code",
   "execution_count": 43,
   "metadata": {},
   "outputs": [
    {
     "name": "stdout",
     "output_type": "stream",
     "text": [
      "Shape original dataframe:(73710, 14)\n",
      "Intersection: 511, Symmetric difference: 285\n",
      "Shape new dataframe:(73199, 14)\n",
      "Deleted intersecting rows:511\n"
     ]
    }
   ],
   "source": [
    "df_charts = exclude(684,682, df_charts)"
   ]
  },
  {
   "cell_type": "markdown",
   "metadata": {},
   "source": [
    "**Metavision**"
   ]
  },
  {
   "cell_type": "code",
   "execution_count": 44,
   "metadata": {},
   "outputs": [
    {
     "data": {
      "text/html": [
       "<div>\n",
       "<style scoped>\n",
       "    .dataframe tbody tr th:only-of-type {\n",
       "        vertical-align: middle;\n",
       "    }\n",
       "\n",
       "    .dataframe tbody tr th {\n",
       "        vertical-align: top;\n",
       "    }\n",
       "\n",
       "    .dataframe thead th {\n",
       "        text-align: right;\n",
       "    }\n",
       "</style>\n",
       "<table border=\"1\" class=\"dataframe\">\n",
       "  <thead>\n",
       "    <tr style=\"text-align: right;\">\n",
       "      <th></th>\n",
       "      <th>ROW_ID</th>\n",
       "      <th>ITEMID</th>\n",
       "      <th>LABEL</th>\n",
       "      <th>ABBREVIATION</th>\n",
       "      <th>DBSOURCE</th>\n",
       "      <th>LINKSTO</th>\n",
       "      <th>CATEGORY</th>\n",
       "      <th>UNITNAME</th>\n",
       "      <th>PARAM_TYPE</th>\n",
       "      <th>CONCEPTID</th>\n",
       "    </tr>\n",
       "  </thead>\n",
       "  <tbody>\n",
       "    <tr>\n",
       "      <th>10048</th>\n",
       "      <td>13240</td>\n",
       "      <td>224684</td>\n",
       "      <td>Tidal Volume (set)</td>\n",
       "      <td>Tidal Volume (set)</td>\n",
       "      <td>metavision</td>\n",
       "      <td>chartevents</td>\n",
       "      <td>Respiratory</td>\n",
       "      <td>mL</td>\n",
       "      <td>Numeric</td>\n",
       "      <td>NaN</td>\n",
       "    </tr>\n",
       "    <tr>\n",
       "      <th>10049</th>\n",
       "      <td>13241</td>\n",
       "      <td>224685</td>\n",
       "      <td>Tidal Volume (observed)</td>\n",
       "      <td>Tidal Volume (observed)</td>\n",
       "      <td>metavision</td>\n",
       "      <td>chartevents</td>\n",
       "      <td>Respiratory</td>\n",
       "      <td>mL</td>\n",
       "      <td>Numeric</td>\n",
       "      <td>NaN</td>\n",
       "    </tr>\n",
       "    <tr>\n",
       "      <th>10050</th>\n",
       "      <td>13242</td>\n",
       "      <td>224686</td>\n",
       "      <td>Tidal Volume (spontaneous)</td>\n",
       "      <td>Tidal Volume (spontaneous)</td>\n",
       "      <td>metavision</td>\n",
       "      <td>chartevents</td>\n",
       "      <td>Respiratory</td>\n",
       "      <td>mL</td>\n",
       "      <td>Numeric</td>\n",
       "      <td>NaN</td>\n",
       "    </tr>\n",
       "  </tbody>\n",
       "</table>\n",
       "</div>"
      ],
      "text/plain": [
       "       ROW_ID  ITEMID                       LABEL                ABBREVIATION  \\\n",
       "10048   13240  224684          Tidal Volume (set)          Tidal Volume (set)   \n",
       "10049   13241  224685     Tidal Volume (observed)     Tidal Volume (observed)   \n",
       "10050   13242  224686  Tidal Volume (spontaneous)  Tidal Volume (spontaneous)   \n",
       "\n",
       "         DBSOURCE      LINKSTO     CATEGORY UNITNAME PARAM_TYPE  CONCEPTID  \n",
       "10048  metavision  chartevents  Respiratory       mL    Numeric        NaN  \n",
       "10049  metavision  chartevents  Respiratory       mL    Numeric        NaN  \n",
       "10050  metavision  chartevents  Respiratory       mL    Numeric        NaN  "
      ]
     },
     "execution_count": 44,
     "metadata": {},
     "output_type": "execute_result"
    }
   ],
   "source": [
    "df_items[(df_items.ITEMID==224685) | (df_items.ITEMID==224684) | (df_items.ITEMID==224686)]"
   ]
  },
  {
   "cell_type": "code",
   "execution_count": 45,
   "metadata": {},
   "outputs": [
    {
     "data": {
      "image/png": "[encoded data removed]",
      "text/plain": [
       "<Figure size 432x288 with 1 Axes>"
      ]
     },
     "metadata": {
      "needs_background": "light"
     },
     "output_type": "display_data"
    }
   ],
   "source": [
    "sns.countplot(x=df_charts[(df_charts.itemid==224685) | (df_charts.itemid==224684) | (df_charts.itemid==224686)].itemid);"
   ]
  },
  {
   "cell_type": "code",
   "execution_count": 46,
   "metadata": {},
   "outputs": [
    {
     "name": "stdout",
     "output_type": "stream",
     "text": [
      "Shape original dataframe:(73199, 14)\n",
      "Intersection: 440, Symmetric difference: 48\n",
      "Shape new dataframe:(72759, 14)\n",
      "Deleted intersecting rows:440\n"
     ]
    }
   ],
   "source": [
    "df_charts = exclude(224685,224684, df_charts)"
   ]
  },
  {
   "cell_type": "code",
   "execution_count": 47,
   "metadata": {},
   "outputs": [
    {
     "name": "stdout",
     "output_type": "stream",
     "text": [
      "Shape original dataframe:(72759, 14)\n",
      "Intersection: 1947, Symmetric difference: 336\n",
      "Shape new dataframe:(70812, 14)\n",
      "Deleted intersecting rows:1947\n"
     ]
    }
   ],
   "source": [
    "df_charts = exclude(224685,224686, df_charts)"
   ]
  },
  {
   "cell_type": "markdown",
   "metadata": {},
   "source": [
    "# Leuko"
   ]
  },
  {
   "cell_type": "code",
   "execution_count": 48,
   "metadata": {},
   "outputs": [
    {
     "data": {
      "text/html": [
       "<div>\n",
       "<style scoped>\n",
       "    .dataframe tbody tr th:only-of-type {\n",
       "        vertical-align: middle;\n",
       "    }\n",
       "\n",
       "    .dataframe tbody tr th {\n",
       "        vertical-align: top;\n",
       "    }\n",
       "\n",
       "    .dataframe thead th {\n",
       "        text-align: right;\n",
       "    }\n",
       "</style>\n",
       "<table border=\"1\" class=\"dataframe\">\n",
       "  <thead>\n",
       "    <tr style=\"text-align: right;\">\n",
       "      <th></th>\n",
       "      <th>ROW_ID</th>\n",
       "      <th>ITEMID</th>\n",
       "      <th>LABEL</th>\n",
       "      <th>ABBREVIATION</th>\n",
       "      <th>DBSOURCE</th>\n",
       "      <th>LINKSTO</th>\n",
       "      <th>CATEGORY</th>\n",
       "      <th>UNITNAME</th>\n",
       "      <th>PARAM_TYPE</th>\n",
       "      <th>CONCEPTID</th>\n",
       "    </tr>\n",
       "  </thead>\n",
       "  <tbody>\n",
       "    <tr>\n",
       "      <th>120</th>\n",
       "      <td>1272</td>\n",
       "      <td>1127</td>\n",
       "      <td>WBC   (4-11,000)</td>\n",
       "      <td>NaN</td>\n",
       "      <td>carevue</td>\n",
       "      <td>chartevents</td>\n",
       "      <td>Hematology</td>\n",
       "      <td>NaN</td>\n",
       "      <td>NaN</td>\n",
       "      <td>NaN</td>\n",
       "    </tr>\n",
       "    <tr>\n",
       "      <th>772</th>\n",
       "      <td>1149</td>\n",
       "      <td>861</td>\n",
       "      <td>WBC (4-11,000)</td>\n",
       "      <td>NaN</td>\n",
       "      <td>carevue</td>\n",
       "      <td>chartevents</td>\n",
       "      <td>Hematology</td>\n",
       "      <td>NaN</td>\n",
       "      <td>NaN</td>\n",
       "      <td>NaN</td>\n",
       "    </tr>\n",
       "    <tr>\n",
       "      <th>2810</th>\n",
       "      <td>2994</td>\n",
       "      <td>1542</td>\n",
       "      <td>WBC</td>\n",
       "      <td>NaN</td>\n",
       "      <td>carevue</td>\n",
       "      <td>chartevents</td>\n",
       "      <td>Hematology</td>\n",
       "      <td>NaN</td>\n",
       "      <td>NaN</td>\n",
       "      <td>NaN</td>\n",
       "    </tr>\n",
       "  </tbody>\n",
       "</table>\n",
       "</div>"
      ],
      "text/plain": [
       "      ROW_ID  ITEMID             LABEL ABBREVIATION DBSOURCE      LINKSTO  \\\n",
       "120     1272    1127  WBC   (4-11,000)          NaN  carevue  chartevents   \n",
       "772     1149     861    WBC (4-11,000)          NaN  carevue  chartevents   \n",
       "2810    2994    1542               WBC          NaN  carevue  chartevents   \n",
       "\n",
       "        CATEGORY UNITNAME PARAM_TYPE  CONCEPTID  \n",
       "120   Hematology      NaN        NaN        NaN  \n",
       "772   Hematology      NaN        NaN        NaN  \n",
       "2810  Hematology      NaN        NaN        NaN  "
      ]
     },
     "execution_count": 48,
     "metadata": {},
     "output_type": "execute_result"
    }
   ],
   "source": [
    "df_items[(df_items.ITEMID==1127) | (df_items.ITEMID==861) | (df_items.ITEMID==1542)]"
   ]
  },
  {
   "cell_type": "code",
   "execution_count": 49,
   "metadata": {},
   "outputs": [
    {
     "data": {
      "image/png": "[encoded data removed]",
      "text/plain": [
       "<Figure size 432x288 with 1 Axes>"
      ]
     },
     "metadata": {
      "needs_background": "light"
     },
     "output_type": "display_data"
    }
   ],
   "source": [
    "sns.countplot(x=df_charts[(df_charts.itemid==1127) | (df_charts.itemid==861) | (df_charts.itemid==1542)].itemid);"
   ]
  },
  {
   "cell_type": "code",
   "execution_count": 50,
   "metadata": {},
   "outputs": [
    {
     "name": "stdout",
     "output_type": "stream",
     "text": [
      "Shape original dataframe:(70812, 14)\n",
      "Intersection: 2642, Symmetric difference: 0\n",
      "Shape new dataframe:(68170, 14)\n",
      "Deleted intersecting rows:2642\n"
     ]
    }
   ],
   "source": [
    "df_charts = exclude(861, 1127, df_charts)"
   ]
  },
  {
   "cell_type": "code",
   "execution_count": 51,
   "metadata": {},
   "outputs": [
    {
     "name": "stdout",
     "output_type": "stream",
     "text": [
      "Shape original dataframe:(68170, 14)\n",
      "Intersection: 2181, Symmetric difference: 0\n",
      "Shape new dataframe:(65989, 14)\n",
      "Deleted intersecting rows:2181\n"
     ]
    }
   ],
   "source": [
    "df_charts = exclude(861, 1542, df_charts)"
   ]
  },
  {
   "cell_type": "markdown",
   "metadata": {},
   "source": [
    "# Lactic Acid"
   ]
  },
  {
   "cell_type": "code",
   "execution_count": 52,
   "metadata": {},
   "outputs": [
    {
     "data": {
      "text/html": [
       "<div>\n",
       "<style scoped>\n",
       "    .dataframe tbody tr th:only-of-type {\n",
       "        vertical-align: middle;\n",
       "    }\n",
       "\n",
       "    .dataframe tbody tr th {\n",
       "        vertical-align: top;\n",
       "    }\n",
       "\n",
       "    .dataframe thead th {\n",
       "        text-align: right;\n",
       "    }\n",
       "</style>\n",
       "<table border=\"1\" class=\"dataframe\">\n",
       "  <thead>\n",
       "    <tr style=\"text-align: right;\">\n",
       "      <th></th>\n",
       "      <th>ROW_ID</th>\n",
       "      <th>ITEMID</th>\n",
       "      <th>LABEL</th>\n",
       "      <th>ABBREVIATION</th>\n",
       "      <th>DBSOURCE</th>\n",
       "      <th>LINKSTO</th>\n",
       "      <th>CATEGORY</th>\n",
       "      <th>UNITNAME</th>\n",
       "      <th>PARAM_TYPE</th>\n",
       "      <th>CONCEPTID</th>\n",
       "    </tr>\n",
       "  </thead>\n",
       "  <tbody>\n",
       "    <tr>\n",
       "      <th>1556</th>\n",
       "      <td>737</td>\n",
       "      <td>818</td>\n",
       "      <td>Lactic Acid(0.5-2.0)</td>\n",
       "      <td>NaN</td>\n",
       "      <td>carevue</td>\n",
       "      <td>chartevents</td>\n",
       "      <td>Chemistry</td>\n",
       "      <td>NaN</td>\n",
       "      <td>NaN</td>\n",
       "      <td>NaN</td>\n",
       "    </tr>\n",
       "    <tr>\n",
       "      <th>2799</th>\n",
       "      <td>2983</td>\n",
       "      <td>1531</td>\n",
       "      <td>Lactic Acid</td>\n",
       "      <td>NaN</td>\n",
       "      <td>carevue</td>\n",
       "      <td>chartevents</td>\n",
       "      <td>Chemistry</td>\n",
       "      <td>NaN</td>\n",
       "      <td>NaN</td>\n",
       "      <td>NaN</td>\n",
       "    </tr>\n",
       "  </tbody>\n",
       "</table>\n",
       "</div>"
      ],
      "text/plain": [
       "      ROW_ID  ITEMID                 LABEL ABBREVIATION DBSOURCE      LINKSTO  \\\n",
       "1556     737     818  Lactic Acid(0.5-2.0)          NaN  carevue  chartevents   \n",
       "2799    2983    1531           Lactic Acid          NaN  carevue  chartevents   \n",
       "\n",
       "       CATEGORY UNITNAME PARAM_TYPE  CONCEPTID  \n",
       "1556  Chemistry      NaN        NaN        NaN  \n",
       "2799  Chemistry      NaN        NaN        NaN  "
      ]
     },
     "execution_count": 52,
     "metadata": {},
     "output_type": "execute_result"
    }
   ],
   "source": [
    "df_items[(df_items.ITEMID==1531) | (df_items.ITEMID==818)]"
   ]
  },
  {
   "cell_type": "code",
   "execution_count": 53,
   "metadata": {},
   "outputs": [
    {
     "data": {
      "image/png": "[encoded data removed]",
      "text/plain": [
       "<Figure size 432x288 with 1 Axes>"
      ]
     },
     "metadata": {
      "needs_background": "light"
     },
     "output_type": "display_data"
    }
   ],
   "source": [
    "sns.countplot(x=df_charts[(df_charts.itemid==1531) | (df_charts.itemid==818)].itemid);"
   ]
  },
  {
   "cell_type": "code",
   "execution_count": 54,
   "metadata": {},
   "outputs": [
    {
     "name": "stdout",
     "output_type": "stream",
     "text": [
      "Shape original dataframe:(65989, 14)\n",
      "Intersection: 1795, Symmetric difference: 0\n",
      "Shape new dataframe:(64194, 14)\n",
      "Deleted intersecting rows:1795\n"
     ]
    }
   ],
   "source": [
    "df_charts = exclude(818, 1531, df_charts)"
   ]
  },
  {
   "cell_type": "markdown",
   "metadata": {},
   "source": [
    "# Comparison"
   ]
  },
  {
   "cell_type": "code",
   "execution_count": 55,
   "metadata": {},
   "outputs": [
    {
     "data": {
      "text/plain": [
       "'We have 10112 less rows'"
      ]
     },
     "execution_count": 55,
     "metadata": {},
     "output_type": "execute_result"
    }
   ],
   "source": [
    "f'We have {first_shape[0]-df_charts.shape[0]} less rows'"
   ]
  },
  {
   "cell_type": "code",
   "execution_count": 56,
   "metadata": {},
   "outputs": [
    {
     "data": {
      "text/plain": [
       "'We have 24 instead of  44 unique values'"
      ]
     },
     "execution_count": 56,
     "metadata": {},
     "output_type": "execute_result"
    }
   ],
   "source": [
    "# Number of unique values from itemid\n",
    "f'We have {df_charts.itemid.nunique()} instead of  {first_unique} unique values'"
   ]
  },
  {
   "cell_type": "code",
   "execution_count": 57,
   "metadata": {},
   "outputs": [
    {
     "data": {
      "text/plain": [
       "(64194, 14)"
      ]
     },
     "execution_count": 57,
     "metadata": {},
     "output_type": "execute_result"
    }
   ],
   "source": [
    "df_charts.shape"
   ]
  },
  {
   "cell_type": "code",
   "execution_count": 58,
   "metadata": {
    "scrolled": true
   },
   "outputs": [
    {
     "name": "stdout",
     "output_type": "stream",
     "text": [
      "<class 'pandas.core.frame.DataFrame'>\n",
      "Int64Index: 64194 entries, 0 to 74163\n",
      "Data columns (total 14 columns):\n",
      "hadm_id         64194 non-null float64\n",
      "icustay_id      64194 non-null float64\n",
      "itemid          64194 non-null float64\n",
      "charttime       64194 non-null object\n",
      "value           63893 non-null object\n",
      "valuenum        63972 non-null float64\n",
      "valueuom        56302 non-null object\n",
      "item            64194 non-null object\n",
      "storetime       64114 non-null object\n",
      "cgid            64114 non-null float64\n",
      "warning         31251 non-null float64\n",
      "error           31251 non-null float64\n",
      "resultstatus    5011 non-null object\n",
      "stopped         32943 non-null object\n",
      "dtypes: float64(7), object(7)\n",
      "memory usage: 7.3+ MB\n"
     ]
    }
   ],
   "source": [
    "df_charts.info()"
   ]
  },
  {
   "cell_type": "markdown",
   "metadata": {},
   "source": [
    "## create new csv file"
   ]
  },
  {
   "cell_type": "code",
   "execution_count": 60,
   "metadata": {},
   "outputs": [],
   "source": [
    "df_charts.to_csv('./data/chartevents_new.csv', index = False)"
   ]
  }
 ],
 "metadata": {
  "kernelspec": {
   "display_name": "Python [conda env:nf] *",
   "language": "python",
   "name": "conda-env-nf-py"
  },
  "language_info": {
   "codemirror_mode": {
    "name": "ipython",
    "version": 3
   },
   "file_extension": ".py",
   "mimetype": "text/x-python",
   "name": "python",
   "nbconvert_exporter": "python",
   "pygments_lexer": "ipython3",
   "version": "3.6.10"
  },
  "toc": {
   "base_numbering": 1,
   "nav_menu": {},
   "number_sections": true,
   "sideBar": true,
   "skip_h1_title": false,
   "title_cell": "Table of Contents",
   "title_sidebar": "Contents",
   "toc_cell": false,
   "toc_position": {
    "height": "calc(100% - 180px)",
    "left": "10px",
    "top": "150px",
    "width": "288px"
   },
   "toc_section_display": true,
   "toc_window_display": true
  },
  "varInspector": {
   "cols": {
    "lenName": 16,
    "lenType": 16,
    "lenVar": 40
   },
   "kernels_config": {
    "python": {
     "delete_cmd_postfix": "",
     "delete_cmd_prefix": "del ",
     "library": "var_list.py",
     "varRefreshCmd": "print(var_dic_list())"
    },
    "r": {
     "delete_cmd_postfix": ") ",
     "delete_cmd_prefix": "rm(",
     "library": "var_list.r",
     "varRefreshCmd": "cat(var_dic_list()) "
    }
   },
   "types_to_exclude": [
    "module",
    "function",
    "builtin_function_or_method",
    "instance",
    "_Feature"
   ],
   "window_display": false
  }
 },
 "nbformat": 4,
 "nbformat_minor": 4
}
