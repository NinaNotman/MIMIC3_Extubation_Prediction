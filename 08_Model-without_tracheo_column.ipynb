{
 "cells": [
  {
   "cell_type": "markdown",
   "metadata": {},
   "source": [
    "Because the meaning of the \"tracheo\" column is of outstanding importance in all models, we examine the model performance in this notebook without this column. We want to check whether the meaning of the other features changes."
   ]
  },
  {
   "cell_type": "markdown",
   "metadata": {},
   "source": [
    "**Imports and Settings**"
   ]
  },
  {
   "cell_type": "code",
   "execution_count": 1,
   "metadata": {},
   "outputs": [],
   "source": [
    "# basic modules\n",
    "import pandas as pd\n",
    "import seaborn as sns\n",
    "import numpy as np\n",
    "import matplotlib.pyplot as plt\n",
    "import warnings\n",
    "import itertools\n",
    "from pprint import pprint\n",
    "\n",
    "# scikit-learn\n",
    "from sklearn.model_selection import train_test_split\n",
    "from sklearn import preprocessing\n",
    "from sklearn.dummy import DummyClassifier\n",
    "from sklearn.metrics import classification_report, confusion_matrix, fbeta_score \n",
    "from sklearn.metrics import roc_curve, roc_auc_score, make_scorer\n",
    "from sklearn.metrics import accuracy_score, f1_score, recall_score, precision_score\n",
    "from sklearn.model_selection import RandomizedSearchCV, GridSearchCV\n",
    "from sklearn.model_selection import StratifiedKFold, KFold, RepeatedStratifiedKFold, cross_val_score\n",
    "from sklearn.metrics import plot_confusion_matrix\n",
    "from sklearn.feature_selection import SelectFromModel\n",
    "from sklearn.inspection import permutation_importance\n",
    "\n",
    "# models\n",
    "import xgboost as xgb\n",
    "from sklearn.linear_model import LogisticRegression\n",
    "from sklearn.svm import SVC\n",
    "from sklearn.naive_bayes import GaussianNB\n",
    "from sklearn.neighbors import KNeighborsClassifier\n",
    "from sklearn.ensemble import RandomForestClassifier\n",
    "from sklearn.tree import DecisionTreeClassifier\n",
    "from xgboost import XGBClassifier\n",
    "from sklearn.ensemble import AdaBoostClassifier, StackingClassifier\n",
    "\n",
    "#settings\n",
    "warnings.filterwarnings('ignore')\n",
    "rs = 42\n",
    "fhalf_scorer = make_scorer(fbeta_score, beta=0.5)\n",
    "c = StratifiedKFold(n_splits=3)\n",
    "\n",
    "# Dictionary for overview\n",
    "models = {}"
   ]
  },
  {
   "cell_type": "code",
   "execution_count": 2,
   "metadata": {},
   "outputs": [],
   "source": [
    "# Dataframe with engineered features (for further information notebook 06_Feature_engineering)\n",
    "df = pd.read_csv('./data/mimic_premodel_advanced.csv')"
   ]
  },
  {
   "cell_type": "code",
   "execution_count": 3,
   "metadata": {},
   "outputs": [],
   "source": [
    "# remove the column tracheo\n",
    "df = df.drop(labels='tracheo', axis=1)"
   ]
  },
  {
   "cell_type": "code",
   "execution_count": 4,
   "metadata": {},
   "outputs": [
    {
     "data": {
      "text/html": [
       "<div>\n",
       "<style scoped>\n",
       "    .dataframe tbody tr th:only-of-type {\n",
       "        vertical-align: middle;\n",
       "    }\n",
       "\n",
       "    .dataframe tbody tr th {\n",
       "        vertical-align: top;\n",
       "    }\n",
       "\n",
       "    .dataframe thead th {\n",
       "        text-align: right;\n",
       "    }\n",
       "</style>\n",
       "<table border=\"1\" class=\"dataframe\">\n",
       "  <thead>\n",
       "    <tr style=\"text-align: right;\">\n",
       "      <th></th>\n",
       "      <th>label</th>\n",
       "      <th>hadm_id</th>\n",
       "      <th>icustay_id</th>\n",
       "      <th>age</th>\n",
       "      <th>numb_diagn</th>\n",
       "      <th>PaO2</th>\n",
       "      <th>base_excess</th>\n",
       "      <th>creatinin</th>\n",
       "      <th>hb</th>\n",
       "      <th>pH</th>\n",
       "      <th>...</th>\n",
       "      <th>median_SaO2</th>\n",
       "      <th>std_SaO2</th>\n",
       "      <th>skew_SaO2</th>\n",
       "      <th>kurto_SaO2</th>\n",
       "      <th>minimum_leuko</th>\n",
       "      <th>maximum_leuko</th>\n",
       "      <th>median_leuko</th>\n",
       "      <th>std_leuko</th>\n",
       "      <th>skew_leuko</th>\n",
       "      <th>kurto_leuko</th>\n",
       "    </tr>\n",
       "  </thead>\n",
       "  <tbody>\n",
       "    <tr>\n",
       "      <th>0</th>\n",
       "      <td>1.0</td>\n",
       "      <td>100017.0</td>\n",
       "      <td>258320.0</td>\n",
       "      <td>28.0</td>\n",
       "      <td>8.0</td>\n",
       "      <td>171.0</td>\n",
       "      <td>4.0</td>\n",
       "      <td>0.8</td>\n",
       "      <td>14.3</td>\n",
       "      <td>7.52</td>\n",
       "      <td>...</td>\n",
       "      <td>100.0</td>\n",
       "      <td>0.000000</td>\n",
       "      <td>0.000000</td>\n",
       "      <td>0.000000</td>\n",
       "      <td>9.3</td>\n",
       "      <td>9.3</td>\n",
       "      <td>9.30</td>\n",
       "      <td>1.284338</td>\n",
       "      <td>0.282498</td>\n",
       "      <td>0.424949</td>\n",
       "    </tr>\n",
       "    <tr>\n",
       "      <th>1</th>\n",
       "      <td>1.0</td>\n",
       "      <td>100035.0</td>\n",
       "      <td>245719.0</td>\n",
       "      <td>37.0</td>\n",
       "      <td>26.0</td>\n",
       "      <td>39.0</td>\n",
       "      <td>10.0</td>\n",
       "      <td>1.1</td>\n",
       "      <td>14.0</td>\n",
       "      <td>7.41</td>\n",
       "      <td>...</td>\n",
       "      <td>96.0</td>\n",
       "      <td>1.778516</td>\n",
       "      <td>0.104363</td>\n",
       "      <td>-0.201570</td>\n",
       "      <td>17.2</td>\n",
       "      <td>17.2</td>\n",
       "      <td>17.20</td>\n",
       "      <td>1.284338</td>\n",
       "      <td>0.282498</td>\n",
       "      <td>0.424949</td>\n",
       "    </tr>\n",
       "    <tr>\n",
       "      <th>2</th>\n",
       "      <td>1.0</td>\n",
       "      <td>100063.0</td>\n",
       "      <td>241782.0</td>\n",
       "      <td>46.0</td>\n",
       "      <td>11.0</td>\n",
       "      <td>365.0</td>\n",
       "      <td>2.0</td>\n",
       "      <td>1.0</td>\n",
       "      <td>14.0</td>\n",
       "      <td>7.39</td>\n",
       "      <td>...</td>\n",
       "      <td>100.0</td>\n",
       "      <td>0.421637</td>\n",
       "      <td>-1.778781</td>\n",
       "      <td>1.406250</td>\n",
       "      <td>8.4</td>\n",
       "      <td>8.4</td>\n",
       "      <td>8.40</td>\n",
       "      <td>1.284338</td>\n",
       "      <td>0.282498</td>\n",
       "      <td>0.424949</td>\n",
       "    </tr>\n",
       "    <tr>\n",
       "      <th>3</th>\n",
       "      <td>1.0</td>\n",
       "      <td>100087.0</td>\n",
       "      <td>294404.0</td>\n",
       "      <td>57.0</td>\n",
       "      <td>18.0</td>\n",
       "      <td>143.0</td>\n",
       "      <td>5.0</td>\n",
       "      <td>0.7</td>\n",
       "      <td>15.2</td>\n",
       "      <td>7.47</td>\n",
       "      <td>...</td>\n",
       "      <td>97.0</td>\n",
       "      <td>1.262354</td>\n",
       "      <td>0.717665</td>\n",
       "      <td>0.180998</td>\n",
       "      <td>8.5</td>\n",
       "      <td>8.7</td>\n",
       "      <td>8.60</td>\n",
       "      <td>0.141421</td>\n",
       "      <td>0.282498</td>\n",
       "      <td>0.424949</td>\n",
       "    </tr>\n",
       "    <tr>\n",
       "      <th>4</th>\n",
       "      <td>1.0</td>\n",
       "      <td>100141.0</td>\n",
       "      <td>243747.0</td>\n",
       "      <td>40.0</td>\n",
       "      <td>10.0</td>\n",
       "      <td>62.0</td>\n",
       "      <td>6.0</td>\n",
       "      <td>0.8</td>\n",
       "      <td>7.6</td>\n",
       "      <td>7.48</td>\n",
       "      <td>...</td>\n",
       "      <td>95.0</td>\n",
       "      <td>1.414791</td>\n",
       "      <td>0.514331</td>\n",
       "      <td>1.590646</td>\n",
       "      <td>4.9</td>\n",
       "      <td>5.8</td>\n",
       "      <td>5.35</td>\n",
       "      <td>0.636396</td>\n",
       "      <td>0.282498</td>\n",
       "      <td>0.424949</td>\n",
       "    </tr>\n",
       "  </tbody>\n",
       "</table>\n",
       "<p>5 rows × 79 columns</p>\n",
       "</div>"
      ],
      "text/plain": [
       "   label   hadm_id  icustay_id   age  numb_diagn   PaO2  base_excess  \\\n",
       "0    1.0  100017.0    258320.0  28.0         8.0  171.0          4.0   \n",
       "1    1.0  100035.0    245719.0  37.0        26.0   39.0         10.0   \n",
       "2    1.0  100063.0    241782.0  46.0        11.0  365.0          2.0   \n",
       "3    1.0  100087.0    294404.0  57.0        18.0  143.0          5.0   \n",
       "4    1.0  100141.0    243747.0  40.0        10.0   62.0          6.0   \n",
       "\n",
       "   creatinin    hb    pH  ...  median_SaO2  std_SaO2  skew_SaO2  kurto_SaO2  \\\n",
       "0        0.8  14.3  7.52  ...        100.0  0.000000   0.000000    0.000000   \n",
       "1        1.1  14.0  7.41  ...         96.0  1.778516   0.104363   -0.201570   \n",
       "2        1.0  14.0  7.39  ...        100.0  0.421637  -1.778781    1.406250   \n",
       "3        0.7  15.2  7.47  ...         97.0  1.262354   0.717665    0.180998   \n",
       "4        0.8   7.6  7.48  ...         95.0  1.414791   0.514331    1.590646   \n",
       "\n",
       "   minimum_leuko  maximum_leuko  median_leuko  std_leuko  skew_leuko  \\\n",
       "0            9.3            9.3          9.30   1.284338    0.282498   \n",
       "1           17.2           17.2         17.20   1.284338    0.282498   \n",
       "2            8.4            8.4          8.40   1.284338    0.282498   \n",
       "3            8.5            8.7          8.60   0.141421    0.282498   \n",
       "4            4.9            5.8          5.35   0.636396    0.282498   \n",
       "\n",
       "   kurto_leuko  \n",
       "0     0.424949  \n",
       "1     0.424949  \n",
       "2     0.424949  \n",
       "3     0.424949  \n",
       "4     0.424949  \n",
       "\n",
       "[5 rows x 79 columns]"
      ]
     },
     "execution_count": 4,
     "metadata": {},
     "output_type": "execute_result"
    }
   ],
   "source": [
    "df.head()"
   ]
  },
  {
   "cell_type": "markdown",
   "metadata": {},
   "source": [
    "# Scaling and Train/Test-Split"
   ]
  },
  {
   "cell_type": "markdown",
   "metadata": {},
   "source": [
    "We don't use the IDs (hadm_id, icustay_id) for the training."
   ]
  },
  {
   "cell_type": "code",
   "execution_count": 5,
   "metadata": {},
   "outputs": [],
   "source": [
    "X = df.iloc[:, 3:]\n",
    "y = df.label"
   ]
  },
  {
   "cell_type": "code",
   "execution_count": 6,
   "metadata": {},
   "outputs": [
    {
     "data": {
      "text/html": [
       "<div>\n",
       "<style scoped>\n",
       "    .dataframe tbody tr th:only-of-type {\n",
       "        vertical-align: middle;\n",
       "    }\n",
       "\n",
       "    .dataframe tbody tr th {\n",
       "        vertical-align: top;\n",
       "    }\n",
       "\n",
       "    .dataframe thead th {\n",
       "        text-align: right;\n",
       "    }\n",
       "</style>\n",
       "<table border=\"1\" class=\"dataframe\">\n",
       "  <thead>\n",
       "    <tr style=\"text-align: right;\">\n",
       "      <th></th>\n",
       "      <th>age</th>\n",
       "      <th>numb_diagn</th>\n",
       "      <th>PaO2</th>\n",
       "      <th>base_excess</th>\n",
       "      <th>creatinin</th>\n",
       "      <th>hb</th>\n",
       "      <th>pH</th>\n",
       "      <th>FiO2</th>\n",
       "      <th>PEEP</th>\n",
       "      <th>SaO2</th>\n",
       "      <th>...</th>\n",
       "      <th>median_SaO2</th>\n",
       "      <th>std_SaO2</th>\n",
       "      <th>skew_SaO2</th>\n",
       "      <th>kurto_SaO2</th>\n",
       "      <th>minimum_leuko</th>\n",
       "      <th>maximum_leuko</th>\n",
       "      <th>median_leuko</th>\n",
       "      <th>std_leuko</th>\n",
       "      <th>skew_leuko</th>\n",
       "      <th>kurto_leuko</th>\n",
       "    </tr>\n",
       "  </thead>\n",
       "  <tbody>\n",
       "    <tr>\n",
       "      <th>0</th>\n",
       "      <td>28.0</td>\n",
       "      <td>8.0</td>\n",
       "      <td>171.0</td>\n",
       "      <td>4.0</td>\n",
       "      <td>0.8</td>\n",
       "      <td>14.3</td>\n",
       "      <td>7.52</td>\n",
       "      <td>40.000001</td>\n",
       "      <td>5.0</td>\n",
       "      <td>100.0</td>\n",
       "      <td>...</td>\n",
       "      <td>100.0</td>\n",
       "      <td>0.000000</td>\n",
       "      <td>0.000000</td>\n",
       "      <td>0.000000</td>\n",
       "      <td>9.3</td>\n",
       "      <td>9.3</td>\n",
       "      <td>9.30</td>\n",
       "      <td>1.284338</td>\n",
       "      <td>0.282498</td>\n",
       "      <td>0.424949</td>\n",
       "    </tr>\n",
       "    <tr>\n",
       "      <th>1</th>\n",
       "      <td>37.0</td>\n",
       "      <td>26.0</td>\n",
       "      <td>39.0</td>\n",
       "      <td>10.0</td>\n",
       "      <td>1.1</td>\n",
       "      <td>14.0</td>\n",
       "      <td>7.41</td>\n",
       "      <td>70.000000</td>\n",
       "      <td>5.0</td>\n",
       "      <td>95.0</td>\n",
       "      <td>...</td>\n",
       "      <td>96.0</td>\n",
       "      <td>1.778516</td>\n",
       "      <td>0.104363</td>\n",
       "      <td>-0.201570</td>\n",
       "      <td>17.2</td>\n",
       "      <td>17.2</td>\n",
       "      <td>17.20</td>\n",
       "      <td>1.284338</td>\n",
       "      <td>0.282498</td>\n",
       "      <td>0.424949</td>\n",
       "    </tr>\n",
       "    <tr>\n",
       "      <th>2</th>\n",
       "      <td>46.0</td>\n",
       "      <td>11.0</td>\n",
       "      <td>365.0</td>\n",
       "      <td>2.0</td>\n",
       "      <td>1.0</td>\n",
       "      <td>14.0</td>\n",
       "      <td>7.39</td>\n",
       "      <td>50.000000</td>\n",
       "      <td>0.0</td>\n",
       "      <td>100.0</td>\n",
       "      <td>...</td>\n",
       "      <td>100.0</td>\n",
       "      <td>0.421637</td>\n",
       "      <td>-1.778781</td>\n",
       "      <td>1.406250</td>\n",
       "      <td>8.4</td>\n",
       "      <td>8.4</td>\n",
       "      <td>8.40</td>\n",
       "      <td>1.284338</td>\n",
       "      <td>0.282498</td>\n",
       "      <td>0.424949</td>\n",
       "    </tr>\n",
       "    <tr>\n",
       "      <th>3</th>\n",
       "      <td>57.0</td>\n",
       "      <td>18.0</td>\n",
       "      <td>143.0</td>\n",
       "      <td>5.0</td>\n",
       "      <td>0.7</td>\n",
       "      <td>15.2</td>\n",
       "      <td>7.47</td>\n",
       "      <td>30.000000</td>\n",
       "      <td>5.0</td>\n",
       "      <td>97.0</td>\n",
       "      <td>...</td>\n",
       "      <td>97.0</td>\n",
       "      <td>1.262354</td>\n",
       "      <td>0.717665</td>\n",
       "      <td>0.180998</td>\n",
       "      <td>8.5</td>\n",
       "      <td>8.7</td>\n",
       "      <td>8.60</td>\n",
       "      <td>0.141421</td>\n",
       "      <td>0.282498</td>\n",
       "      <td>0.424949</td>\n",
       "    </tr>\n",
       "    <tr>\n",
       "      <th>4</th>\n",
       "      <td>40.0</td>\n",
       "      <td>10.0</td>\n",
       "      <td>62.0</td>\n",
       "      <td>6.0</td>\n",
       "      <td>0.8</td>\n",
       "      <td>7.6</td>\n",
       "      <td>7.48</td>\n",
       "      <td>50.000000</td>\n",
       "      <td>2.0</td>\n",
       "      <td>95.0</td>\n",
       "      <td>...</td>\n",
       "      <td>95.0</td>\n",
       "      <td>1.414791</td>\n",
       "      <td>0.514331</td>\n",
       "      <td>1.590646</td>\n",
       "      <td>4.9</td>\n",
       "      <td>5.8</td>\n",
       "      <td>5.35</td>\n",
       "      <td>0.636396</td>\n",
       "      <td>0.282498</td>\n",
       "      <td>0.424949</td>\n",
       "    </tr>\n",
       "  </tbody>\n",
       "</table>\n",
       "<p>5 rows × 76 columns</p>\n",
       "</div>"
      ],
      "text/plain": [
       "    age  numb_diagn   PaO2  base_excess  creatinin    hb    pH       FiO2  \\\n",
       "0  28.0         8.0  171.0          4.0        0.8  14.3  7.52  40.000001   \n",
       "1  37.0        26.0   39.0         10.0        1.1  14.0  7.41  70.000000   \n",
       "2  46.0        11.0  365.0          2.0        1.0  14.0  7.39  50.000000   \n",
       "3  57.0        18.0  143.0          5.0        0.7  15.2  7.47  30.000000   \n",
       "4  40.0        10.0   62.0          6.0        0.8   7.6  7.48  50.000000   \n",
       "\n",
       "   PEEP   SaO2  ...  median_SaO2  std_SaO2  skew_SaO2  kurto_SaO2  \\\n",
       "0   5.0  100.0  ...        100.0  0.000000   0.000000    0.000000   \n",
       "1   5.0   95.0  ...         96.0  1.778516   0.104363   -0.201570   \n",
       "2   0.0  100.0  ...        100.0  0.421637  -1.778781    1.406250   \n",
       "3   5.0   97.0  ...         97.0  1.262354   0.717665    0.180998   \n",
       "4   2.0   95.0  ...         95.0  1.414791   0.514331    1.590646   \n",
       "\n",
       "   minimum_leuko  maximum_leuko  median_leuko  std_leuko  skew_leuko  \\\n",
       "0            9.3            9.3          9.30   1.284338    0.282498   \n",
       "1           17.2           17.2         17.20   1.284338    0.282498   \n",
       "2            8.4            8.4          8.40   1.284338    0.282498   \n",
       "3            8.5            8.7          8.60   0.141421    0.282498   \n",
       "4            4.9            5.8          5.35   0.636396    0.282498   \n",
       "\n",
       "   kurto_leuko  \n",
       "0     0.424949  \n",
       "1     0.424949  \n",
       "2     0.424949  \n",
       "3     0.424949  \n",
       "4     0.424949  \n",
       "\n",
       "[5 rows x 76 columns]"
      ]
     },
     "execution_count": 6,
     "metadata": {},
     "output_type": "execute_result"
    }
   ],
   "source": [
    "X.head()"
   ]
  },
  {
   "cell_type": "code",
   "execution_count": 7,
   "metadata": {},
   "outputs": [
    {
     "name": "stdout",
     "output_type": "stream",
     "text": [
      "Training set has 4068 samples.\n",
      "Testing set has 1357 samples.\n"
     ]
    }
   ],
   "source": [
    "X_train, X_test, y_train, y_test = train_test_split(X, y, test_size=0.25, random_state=rs, stratify=y)\n",
    "\n",
    "# Show the results of the split\n",
    "print (\"Training set has {} samples.\".format(X_train.shape[0]))\n",
    "print (\"Testing set has {} samples.\".format(X_test.shape[0]))"
   ]
  },
  {
   "cell_type": "code",
   "execution_count": 8,
   "metadata": {},
   "outputs": [],
   "source": [
    "scaler = preprocessing.StandardScaler().fit(X_train)\n",
    "X_train = scaler.transform(X_train)\n",
    "X_test = scaler.transform(X_test)"
   ]
  },
  {
   "cell_type": "markdown",
   "metadata": {},
   "source": [
    "# Functions"
   ]
  },
  {
   "cell_type": "code",
   "execution_count": 9,
   "metadata": {},
   "outputs": [],
   "source": [
    "def plot_confusion_matrix(cm, classes,\n",
    "                          normalize=False,\n",
    "                          title='Confusion matrix',\n",
    "                          cmap=plt.cm.Blues):\n",
    "    \"\"\"\n",
    "    This function prints and plots the confusion matrix.\n",
    "    Normalization can be applied by setting `normalize=True`.\n",
    "    \"\"\"\n",
    "    if normalize:\n",
    "        cm = cm.astype('float') / cm.sum(axis=1)[:, np.newaxis]\n",
    "        print(\"Normalized confusion matrix\")\n",
    "    else:\n",
    "        print('Confusion matrix, without normalization')\n",
    "\n",
    "    print(cm)\n",
    "\n",
    "    plt.imshow(cm, interpolation='nearest', cmap=cmap)\n",
    "    plt.title(title)\n",
    "    plt.colorbar()\n",
    "    tick_marks = np.arange(len(classes))\n",
    "    plt.xticks(tick_marks, classes, rotation=45)\n",
    "    plt.yticks(tick_marks, classes)\n",
    "\n",
    "    fmt = '.2f' if normalize else 'd'\n",
    "    thresh = cm.max() / 2.\n",
    "    for i, j in itertools.product(range(cm.shape[0]), range(cm.shape[1])):\n",
    "        plt.text(j, i, format(cm[i, j], fmt),\n",
    "                 horizontalalignment=\"center\",\n",
    "                 color=\"white\" if cm[i, j] > thresh else \"black\")\n",
    "\n",
    "    plt.tight_layout()\n",
    "    plt.ylabel('True label')\n",
    "    plt.xlabel('Predicted label')"
   ]
  },
  {
   "cell_type": "markdown",
   "metadata": {},
   "source": [
    "# Logistic Regression"
   ]
  },
  {
   "cell_type": "markdown",
   "metadata": {},
   "source": [
    "## Hyperparameter by default"
   ]
  },
  {
   "cell_type": "code",
   "execution_count": 10,
   "metadata": {},
   "outputs": [
    {
     "data": {
      "text/plain": [
       "LogisticRegression(random_state=42)"
      ]
     },
     "execution_count": 10,
     "metadata": {},
     "output_type": "execute_result"
    }
   ],
   "source": [
    "lr = LogisticRegression(random_state=rs)\n",
    "lr.fit(X_train, y_train)"
   ]
  },
  {
   "cell_type": "code",
   "execution_count": 11,
   "metadata": {},
   "outputs": [
    {
     "name": "stdout",
     "output_type": "stream",
     "text": [
      "              precision    recall  f1-score   support\n",
      "\n",
      "         0.0       0.57      0.21      0.31       442\n",
      "         1.0       0.71      0.92      0.80       915\n",
      "\n",
      "    accuracy                           0.69      1357\n",
      "   macro avg       0.64      0.57      0.55      1357\n",
      "weighted avg       0.66      0.69      0.64      1357\n",
      "\n",
      "F-Beta-Score(0.5) =  0.74\n"
     ]
    }
   ],
   "source": [
    "y_pred_lr = lr.predict(X_test)\n",
    "print(classification_report(y_test, y_pred_lr))\n",
    "print(f'F-Beta-Score(0.5) =  {fbeta_score(y_test, y_pred_lr, beta=0.5 ):.2f}')"
   ]
  },
  {
   "cell_type": "code",
   "execution_count": 12,
   "metadata": {},
   "outputs": [
    {
     "name": "stdout",
     "output_type": "stream",
     "text": [
      "Confusion matrix, without normalization\n",
      "[[ 93 349]\n",
      " [ 70 845]]\n"
     ]
    },
    {
     "data": {
      "image/png": "[encoded data removed]",
      "text/plain": [
       "<Figure size 432x288 with 2 Axes>"
      ]
     },
     "metadata": {
      "needs_background": "light"
     },
     "output_type": "display_data"
    }
   ],
   "source": [
    "# Plot non-normalized confusion matrix\n",
    "cnf_matrix = confusion_matrix(y_test, y_pred_lr)\n",
    "plt.figure()\n",
    "plot_confusion_matrix(cnf_matrix, classes=['Failed','Succeeded'],\n",
    "                      normalize= False,  title='Confusion matrix')"
   ]
  },
  {
   "cell_type": "code",
   "execution_count": 13,
   "metadata": {},
   "outputs": [
    {
     "data": {
      "image/png": "[encoded data removed]",
      "text/plain": [
       "<Figure size 432x288 with 1 Axes>"
      ]
     },
     "metadata": {
      "needs_background": "light"
     },
     "output_type": "display_data"
    },
    {
     "name": "stdout",
     "output_type": "stream",
     "text": [
      "AUC(logReg)= 0.67\n"
     ]
    }
   ],
   "source": [
    "# Plot the ROC curve\n",
    "fpr_lr, tpr_lr, thresholds_lr = roc_curve(y_test, y_pred_lr)\n",
    "plt.plot(fpr_lr, tpr_lr, linestyle='-', label='Logistic Regression') \n",
    "plt.legend()\n",
    "plt.xlabel('False Positive Rate')\n",
    "plt.ylabel('True Positive Rate')\n",
    "plt.title('ROC Curve')\n",
    "plt.show()\n",
    "y_pred_lr_prob = lr.predict_proba(X_test)\n",
    "print(f\"AUC(logReg)= {roc_auc_score(y_test, y_pred_lr_prob[:,1]):.2f}\")"
   ]
  },
  {
   "cell_type": "code",
   "execution_count": 14,
   "metadata": {},
   "outputs": [],
   "source": [
    "models['logReg_simple'] = [precision_score(y_test, y_pred_lr),\n",
    "                    fbeta_score(y_test, y_pred_lr, beta=0.5),\n",
    "                    roc_auc_score(y_test, y_pred_lr_prob[:,1]),\n",
    "                    accuracy_score(y_test, y_pred_lr)]"
   ]
  },
  {
   "cell_type": "markdown",
   "metadata": {},
   "source": [
    "## Hyperparameter tuning"
   ]
  },
  {
   "cell_type": "code",
   "execution_count": 15,
   "metadata": {},
   "outputs": [
    {
     "name": "stdout",
     "output_type": "stream",
     "text": [
      "Fitting 3 folds for each of 20 candidates, totalling 60 fits\n"
     ]
    },
    {
     "name": "stderr",
     "output_type": "stream",
     "text": [
      "[Parallel(n_jobs=-1)]: Using backend LokyBackend with 8 concurrent workers.\n",
      "[Parallel(n_jobs=-1)]: Done  34 tasks      | elapsed:    2.8s\n",
      "[Parallel(n_jobs=-1)]: Done  60 out of  60 | elapsed:    3.0s finished\n"
     ]
    },
    {
     "data": {
      "text/plain": [
       "RandomizedSearchCV(cv=StratifiedKFold(n_splits=3, random_state=None, shuffle=False),\n",
       "                   estimator=LogisticRegression(random_state=42), n_iter=100,\n",
       "                   n_jobs=-1,\n",
       "                   param_distributions={'C': [100, 10, 1, 0.1, 0.01],\n",
       "                                        'penalty': ['l1', 'l2', 'elasticnet',\n",
       "                                                    'none']},\n",
       "                   random_state=42, scoring=make_scorer(fbeta_score, beta=0.5),\n",
       "                   verbose=1)"
      ]
     },
     "execution_count": 15,
     "metadata": {},
     "output_type": "execute_result"
    }
   ],
   "source": [
    "# Hyperparameter grid for RandomSearch for Logistic Regression\n",
    "param_grid = {\n",
    "    'penalty': [\"l1\", \"l2\", \"elasticnet\", \"none\"],\n",
    "    'C': [100, 10, 1, 0.1, 0.01] \n",
    "}\n",
    "\n",
    "# Estimator for use in random search\n",
    "estimator = LogisticRegression(random_state = rs)\n",
    "\n",
    "# Create the random search model\n",
    "lr_rs = RandomizedSearchCV(estimator, param_grid, n_jobs = -1, \n",
    "                        scoring = fhalf_scorer, cv = c, \n",
    "                        n_iter = 100, verbose = 1, random_state=rs)\n",
    "\n",
    "# Fit \n",
    "lr_rs.fit(X_train, y_train)"
   ]
  },
  {
   "cell_type": "code",
   "execution_count": 16,
   "metadata": {},
   "outputs": [
    {
     "data": {
      "text/plain": [
       "{'penalty': 'none', 'C': 100}"
      ]
     },
     "execution_count": 16,
     "metadata": {},
     "output_type": "execute_result"
    }
   ],
   "source": [
    "lr_rs.best_params_"
   ]
  },
  {
   "cell_type": "code",
   "execution_count": 17,
   "metadata": {},
   "outputs": [
    {
     "name": "stdout",
     "output_type": "stream",
     "text": [
      "Fitting 3 folds for each of 64 candidates, totalling 192 fits\n"
     ]
    },
    {
     "name": "stderr",
     "output_type": "stream",
     "text": [
      "[Parallel(n_jobs=-1)]: Using backend LokyBackend with 8 concurrent workers.\n",
      "[Parallel(n_jobs=-1)]: Done  52 tasks      | elapsed:    0.8s\n",
      "[Parallel(n_jobs=-1)]: Done 192 out of 192 | elapsed:    1.8s finished\n"
     ]
    },
    {
     "data": {
      "text/plain": [
       "GridSearchCV(cv=StratifiedKFold(n_splits=3, random_state=None, shuffle=False),\n",
       "             estimator=LogisticRegression(random_state=42), n_jobs=-1,\n",
       "             param_grid={'C': [3, 2, 1, 0.9, 0.8, 0.7, 0.6, 0.5, 0.4, 0.3, 0.2,\n",
       "                               0.1, 0.09, 0.08, 0.07, 0.06],\n",
       "                         'penalty': ['l1', 'l2', 'elasticnet', 'none']},\n",
       "             scoring=make_scorer(fbeta_score, beta=0.5), verbose=1)"
      ]
     },
     "execution_count": 17,
     "metadata": {},
     "output_type": "execute_result"
    }
   ],
   "source": [
    "# Hyperparameter grid for GridSearch for Logistic Regression\n",
    "param_grid = {\n",
    "    'penalty': [\"l1\", \"l2\", \"elasticnet\", \"none\"],\n",
    "    'C': [3, 2, 1 , 0.9, 0.8, 0.7, 0.6, 0.5, 0.4, 0.3, 0.2, 0.1, 0.09, 0.08, 0.07, 0.06] \n",
    "}\n",
    "\n",
    "# Estimator for use in random search\n",
    "estimator = LogisticRegression(random_state = rs)\n",
    "\n",
    "# Create the random search model\n",
    "lr_gs = GridSearchCV(estimator, param_grid, scoring= fhalf_scorer, cv = c,\n",
    "                     n_jobs = -1, verbose = 1)\n",
    "\n",
    "# Fit \n",
    "lr_gs.fit(X_train, y_train)"
   ]
  },
  {
   "cell_type": "code",
   "execution_count": 18,
   "metadata": {},
   "outputs": [
    {
     "data": {
      "text/plain": [
       "{'C': 3, 'penalty': 'none'}"
      ]
     },
     "execution_count": 18,
     "metadata": {},
     "output_type": "execute_result"
    }
   ],
   "source": [
    "lr_gs.best_params_"
   ]
  },
  {
   "cell_type": "code",
   "execution_count": 19,
   "metadata": {},
   "outputs": [],
   "source": [
    "best_model_lr_gs = lr_gs.best_estimator_"
   ]
  },
  {
   "cell_type": "code",
   "execution_count": 20,
   "metadata": {},
   "outputs": [
    {
     "name": "stdout",
     "output_type": "stream",
     "text": [
      "              precision    recall  f1-score   support\n",
      "\n",
      "         0.0       0.58      0.21      0.31       442\n",
      "         1.0       0.71      0.92      0.80       915\n",
      "\n",
      "    accuracy                           0.69      1357\n",
      "   macro avg       0.64      0.57      0.56      1357\n",
      "weighted avg       0.67      0.69      0.64      1357\n",
      "\n",
      "F-Beta-Score(0.5) =  0.74\n"
     ]
    }
   ],
   "source": [
    "y_pred_lr_best = best_model_lr_gs.predict(X_test)\n",
    "print(classification_report(y_test, y_pred_lr_best))\n",
    "print(f'F-Beta-Score(0.5) =  {fbeta_score(y_test, y_pred_lr_best, beta=0.5 ):.2f}')"
   ]
  },
  {
   "cell_type": "code",
   "execution_count": 21,
   "metadata": {},
   "outputs": [
    {
     "name": "stdout",
     "output_type": "stream",
     "text": [
      "Confusion matrix, without normalization\n",
      "[[ 94 348]\n",
      " [ 69 846]]\n"
     ]
    },
    {
     "data": {
      "image/png": "[encoded data removed]",
      "text/plain": [
       "<Figure size 432x288 with 2 Axes>"
      ]
     },
     "metadata": {
      "needs_background": "light"
     },
     "output_type": "display_data"
    }
   ],
   "source": [
    "# Plot non-normalized confusion matrix\n",
    "cnf_matrix = confusion_matrix(y_test, y_pred_lr_best)\n",
    "plt.figure()\n",
    "plot_confusion_matrix(cnf_matrix, classes=['Failed','Succeeded'],\n",
    "                      normalize= False,  title='Confusion matrix')"
   ]
  },
  {
   "cell_type": "code",
   "execution_count": 22,
   "metadata": {},
   "outputs": [
    {
     "data": {
      "image/png": "[encoded data removed]",
      "text/plain": [
       "<Figure size 432x288 with 1 Axes>"
      ]
     },
     "metadata": {
      "needs_background": "light"
     },
     "output_type": "display_data"
    },
    {
     "name": "stdout",
     "output_type": "stream",
     "text": [
      "AUC(logReg)= 0.67\n",
      "AUC(BestlogReg)= 0.67\n"
     ]
    }
   ],
   "source": [
    "# Plot the ROC curve\n",
    "fpr_lr_best, tpr_lr_best, thresholds_lr_best = roc_curve(y_test, y_pred_lr_best)\n",
    "plt.plot(fpr_lr, tpr_lr, linestyle='-', label='Logistic Regression') \n",
    "plt.plot(fpr_lr_best, tpr_lr_best, linestyle=':', label='Best Logistic Regression')\n",
    "plt.legend()\n",
    "plt.xlabel('False Positive Rate')\n",
    "plt.ylabel('True Positive Rate')\n",
    "plt.title('ROC Curve')\n",
    "plt.show()\n",
    "y_pred_lr_best_prob = best_model_lr_gs.predict_proba(X_test)\n",
    "print(f\"AUC(logReg)= {roc_auc_score(y_test, y_pred_lr_prob[:,1]):.2f}\")\n",
    "print(f\"AUC(BestlogReg)= {roc_auc_score(y_test, y_pred_lr_best_prob[:,1]):.2f}\")"
   ]
  },
  {
   "cell_type": "code",
   "execution_count": 23,
   "metadata": {},
   "outputs": [],
   "source": [
    "models['logReg_best'] = [precision_score(y_test, y_pred_lr_best),\n",
    "                    fbeta_score(y_test, y_pred_lr_best, beta=0.5),\n",
    "                    roc_auc_score(y_test, y_pred_lr_best_prob[:,1]),\n",
    "                    accuracy_score(y_test, y_pred_lr_best)]"
   ]
  },
  {
   "cell_type": "markdown",
   "metadata": {},
   "source": [
    "# Random Forest"
   ]
  },
  {
   "cell_type": "markdown",
   "metadata": {},
   "source": [
    "##  Advanced Model"
   ]
  },
  {
   "cell_type": "code",
   "execution_count": 24,
   "metadata": {},
   "outputs": [
    {
     "data": {
      "text/plain": [
       "RandomForestClassifier(random_state=42)"
      ]
     },
     "execution_count": 24,
     "metadata": {},
     "output_type": "execute_result"
    }
   ],
   "source": [
    "rf_clf_base = RandomForestClassifier(random_state=rs)\n",
    "rf_clf_base.fit(X_train, y_train)"
   ]
  },
  {
   "cell_type": "code",
   "execution_count": 25,
   "metadata": {},
   "outputs": [],
   "source": [
    "y_pred_rf_clf_base = rf_clf_base.predict(X_test)"
   ]
  },
  {
   "cell_type": "markdown",
   "metadata": {},
   "source": [
    "### Evaluate Advanced Model"
   ]
  },
  {
   "cell_type": "code",
   "execution_count": 26,
   "metadata": {},
   "outputs": [
    {
     "name": "stdout",
     "output_type": "stream",
     "text": [
      "              precision    recall  f1-score   support\n",
      "\n",
      "         0.0       0.65      0.16      0.26       442\n",
      "         1.0       0.70      0.96      0.81       915\n",
      "\n",
      "    accuracy                           0.70      1357\n",
      "   macro avg       0.68      0.56      0.54      1357\n",
      "weighted avg       0.69      0.70      0.63      1357\n",
      "\n",
      "[[ 72 370]\n",
      " [ 39 876]]\n",
      "F-Beta-Score(0.5) =  0.74\n"
     ]
    }
   ],
   "source": [
    "print(classification_report(y_test, y_pred_rf_clf_base))\n",
    "print(confusion_matrix(y_test, y_pred_rf_clf_base))\n",
    "print(f'F-Beta-Score(0.5) =  {fbeta_score(y_test, y_pred_rf_clf_base, beta=0.5 ):.2f}')"
   ]
  },
  {
   "cell_type": "code",
   "execution_count": 27,
   "metadata": {},
   "outputs": [
    {
     "data": {
      "image/png": "[encoded data removed]",
      "text/plain": [
       "<Figure size 432x288 with 1 Axes>"
      ]
     },
     "metadata": {
      "needs_background": "light"
     },
     "output_type": "display_data"
    },
    {
     "name": "stdout",
     "output_type": "stream",
     "text": [
      "AUC(BaseModel)= 0.67\n"
     ]
    }
   ],
   "source": [
    "# ROC Curve Base Model and Dummy\n",
    "fpr_rf_bm, tpr_rf_bm, thresholds_rf_bm = roc_curve(y_test, y_pred_rf_clf_base)\n",
    "plt.plot(fpr_rf_bm, tpr_rf_bm, linestyle='-', label='RF Base Model')\n",
    "plt.legend()\n",
    "plt.xlabel('False Positive Rate')\n",
    "plt.ylabel('True Positive Rate')\n",
    "plt.title('ROC Curve')\n",
    "plt.show()\n",
    "\n",
    "y_proba_rf_clf_base = rf_clf_base.predict_proba(X_test)\n",
    "print(f\"AUC(BaseModel)= {roc_auc_score(y_test, y_proba_rf_clf_base[:,1]):.2f}\")"
   ]
  },
  {
   "cell_type": "code",
   "execution_count": 28,
   "metadata": {},
   "outputs": [],
   "source": [
    "models['RF_simple'] = [precision_score(y_test, y_pred_rf_clf_base),\n",
    "                    fbeta_score(y_test, y_pred_rf_clf_base, beta=0.5),\n",
    "                    roc_auc_score(y_test, y_proba_rf_clf_base[:,1]),\n",
    "                    accuracy_score(y_test, y_pred_rf_clf_base)]"
   ]
  },
  {
   "cell_type": "code",
   "execution_count": 29,
   "metadata": {},
   "outputs": [
    {
     "name": "stdout",
     "output_type": "stream",
     "text": [
      "Parameters currently in use:\n",
      "\n",
      "{'bootstrap': True,\n",
      " 'ccp_alpha': 0.0,\n",
      " 'class_weight': None,\n",
      " 'criterion': 'gini',\n",
      " 'max_depth': None,\n",
      " 'max_features': 'auto',\n",
      " 'max_leaf_nodes': None,\n",
      " 'max_samples': None,\n",
      " 'min_impurity_decrease': 0.0,\n",
      " 'min_impurity_split': None,\n",
      " 'min_samples_leaf': 1,\n",
      " 'min_samples_split': 2,\n",
      " 'min_weight_fraction_leaf': 0.0,\n",
      " 'n_estimators': 100,\n",
      " 'n_jobs': None,\n",
      " 'oob_score': False,\n",
      " 'random_state': 42,\n",
      " 'verbose': 0,\n",
      " 'warm_start': False}\n"
     ]
    }
   ],
   "source": [
    "# Look at parameters used by our current forest\n",
    "print('Parameters currently in use:\\n')\n",
    "pprint(rf_clf_base.get_params())"
   ]
  },
  {
   "cell_type": "markdown",
   "metadata": {},
   "source": [
    "## Random Search"
   ]
  },
  {
   "cell_type": "code",
   "execution_count": 30,
   "metadata": {},
   "outputs": [],
   "source": [
    "# Set scorer for random search to f-beta 0.5\n",
    "fhalf_scorer = make_scorer(fbeta_score, beta=0.5)\n",
    "# set cross-validation to a stratified split of 3\n",
    "c_strat=StratifiedKFold(n_splits=3)"
   ]
  },
  {
   "cell_type": "code",
   "execution_count": 31,
   "metadata": {},
   "outputs": [
    {
     "name": "stdout",
     "output_type": "stream",
     "text": [
      "{'bootstrap': [True, False],\n",
      " 'max_depth': [10, 20, 30, 40, 50, 60, 70, 80, 90, 100, 110, None],\n",
      " 'max_features': ['auto', 'sqrt'],\n",
      " 'min_samples_leaf': [1, 2, 4],\n",
      " 'min_samples_split': [2, 5, 10],\n",
      " 'n_estimators': [100, 311, 522, 733, 944, 1155, 1366, 1577, 1788, 2000]}\n"
     ]
    }
   ],
   "source": [
    "# Number of trees in random forest\n",
    "n_estimators = [int(x) for x in np.linspace(start = 100, stop = 2000, num = 10)]\n",
    "\n",
    "# Number of features to consider at every split\n",
    "max_features = ['auto', 'sqrt']\n",
    "\n",
    "# Maximum number of levels in tree\n",
    "max_depth = [int(x) for x in np.linspace(10, 110, num = 11)]\n",
    "max_depth.append(None)\n",
    "\n",
    "# Minimum number of samples required to split a node\n",
    "min_samples_split = [2, 5, 10]\n",
    "\n",
    "# Minimum number of samples required at each leaf node\n",
    "min_samples_leaf = [1, 2, 4]\n",
    "\n",
    "# Method of selecting samples for training each tree\n",
    "bootstrap = [True, False]\n",
    "\n",
    "# Create the random grid\n",
    "random_grid = {'n_estimators': n_estimators,\n",
    "               'max_features': max_features,\n",
    "               'max_depth': max_depth,\n",
    "               'min_samples_split': min_samples_split,\n",
    "               'min_samples_leaf': min_samples_leaf,\n",
    "               'bootstrap': bootstrap}\n",
    "pprint(random_grid)"
   ]
  },
  {
   "cell_type": "code",
   "execution_count": 32,
   "metadata": {},
   "outputs": [
    {
     "data": {
      "text/plain": [
       "RandomizedSearchCV(cv=StratifiedKFold(n_splits=3, random_state=None, shuffle=False),\n",
       "                   estimator=RandomForestClassifier(), n_iter=100, n_jobs=-1,\n",
       "                   param_distributions={'bootstrap': [True, False],\n",
       "                                        'max_depth': [10, 20, 30, 40, 50, 60,\n",
       "                                                      70, 80, 90, 100, 110,\n",
       "                                                      None],\n",
       "                                        'max_features': ['auto', 'sqrt'],\n",
       "                                        'min_samples_leaf': [1, 2, 4],\n",
       "                                        'min_samples_split': [2, 5, 10],\n",
       "                                        'n_estimators': [100, 311, 522, 733,\n",
       "                                                         944, 1155, 1366, 1577,\n",
       "                                                         1788, 2000]},\n",
       "                   random_state=42, scoring=make_scorer(fbeta_score, beta=0.5))"
      ]
     },
     "execution_count": 32,
     "metadata": {},
     "output_type": "execute_result"
    }
   ],
   "source": [
    "# Random search of parameters, using 3 fold cross validation \n",
    "rf_random = RandomizedSearchCV(RandomForestClassifier(), param_distributions = random_grid, scoring=fhalf_scorer, \n",
    "                               n_iter = 100, cv = c_strat, random_state=rs, n_jobs = -1)\n",
    "rf_random.fit(X_train, y_train)"
   ]
  },
  {
   "cell_type": "code",
   "execution_count": 33,
   "metadata": {},
   "outputs": [
    {
     "data": {
      "text/plain": [
       "{'n_estimators': 1788,\n",
       " 'min_samples_split': 2,\n",
       " 'min_samples_leaf': 1,\n",
       " 'max_features': 'auto',\n",
       " 'max_depth': 20,\n",
       " 'bootstrap': False}"
      ]
     },
     "execution_count": 33,
     "metadata": {},
     "output_type": "execute_result"
    }
   ],
   "source": [
    "rf_random.best_params_"
   ]
  },
  {
   "cell_type": "markdown",
   "metadata": {},
   "source": [
    "## Grid Search"
   ]
  },
  {
   "cell_type": "code",
   "execution_count": 34,
   "metadata": {},
   "outputs": [],
   "source": [
    "# Create the parameter grid based on the results of random search \n",
    "param_grid = {\n",
    "    'bootstrap': [True, False],\n",
    "    'max_depth': [20, 30, 40],\n",
    "    'max_features': ['sqrt', 'auto'],\n",
    "    'min_samples_leaf': [2, 3, 4, 5, 6],\n",
    "    'min_samples_split': [3, 4, 5, 6, 7],\n",
    "    'n_estimators': [500, 1000, 1500]\n",
    "}"
   ]
  },
  {
   "cell_type": "code",
   "execution_count": 35,
   "metadata": {},
   "outputs": [],
   "source": [
    "# Instantiate the grid search model\n",
    "grid_search_rf_adv = GridSearchCV(RandomForestClassifier(), param_grid = param_grid, scoring=fhalf_scorer, \n",
    "                           cv = c_strat, n_jobs = -1)\n",
    "\n",
    "# Fit the grid search to the data\n",
    "grid_search_rf_adv.fit(X_train, y_train)\n",
    "\n",
    "# Y Predict\n",
    "y_pred_rf_adv = grid_search_rf_adv.predict(X_test)"
   ]
  },
  {
   "cell_type": "code",
   "execution_count": 36,
   "metadata": {},
   "outputs": [
    {
     "data": {
      "text/plain": [
       "{'bootstrap': False,\n",
       " 'max_depth': 40,\n",
       " 'max_features': 'sqrt',\n",
       " 'min_samples_leaf': 2,\n",
       " 'min_samples_split': 7,\n",
       " 'n_estimators': 500}"
      ]
     },
     "execution_count": 36,
     "metadata": {},
     "output_type": "execute_result"
    }
   ],
   "source": [
    "grid_search_rf_adv.best_params_"
   ]
  },
  {
   "cell_type": "code",
   "execution_count": 37,
   "metadata": {},
   "outputs": [],
   "source": [
    "best_model_rf_adv = grid_search_rf_adv.best_estimator_"
   ]
  },
  {
   "cell_type": "markdown",
   "metadata": {},
   "source": [
    "### Evaluate Grid Search"
   ]
  },
  {
   "cell_type": "code",
   "execution_count": 38,
   "metadata": {},
   "outputs": [
    {
     "name": "stdout",
     "output_type": "stream",
     "text": [
      "              precision    recall  f1-score   support\n",
      "\n",
      "         0.0       0.74      0.19      0.31       442\n",
      "         1.0       0.71      0.97      0.82       915\n",
      "\n",
      "    accuracy                           0.71      1357\n",
      "   macro avg       0.73      0.58      0.56      1357\n",
      "weighted avg       0.72      0.71      0.65      1357\n",
      "\n",
      "[[ 85 357]\n",
      " [ 30 885]]\n",
      "F-Beta-Score(0.5) =  0.75\n"
     ]
    }
   ],
   "source": [
    "print(classification_report(y_test, y_pred_rf_adv))\n",
    "print(confusion_matrix(y_test, y_pred_rf_adv))\n",
    "print(f'F-Beta-Score(0.5) =  {fbeta_score(y_test, y_pred_rf_adv, beta=0.5 ):.2f}')"
   ]
  },
  {
   "cell_type": "code",
   "execution_count": 39,
   "metadata": {},
   "outputs": [
    {
     "name": "stdout",
     "output_type": "stream",
     "text": [
      "Confusion matrix, without normalization\n",
      "[[ 85 357]\n",
      " [ 30 885]]\n"
     ]
    },
    {
     "data": {
      "image/png": "[encoded data removed]",
      "text/plain": [
       "<Figure size 432x288 with 2 Axes>"
      ]
     },
     "metadata": {
      "needs_background": "light"
     },
     "output_type": "display_data"
    }
   ],
   "source": [
    "# Plot non-normalized confusion matrix\n",
    "cnf_matrix = confusion_matrix(y_test, y_pred_rf_adv)\n",
    "plt.figure()\n",
    "plot_confusion_matrix(cnf_matrix, classes=['Failed','Succeeded'],\n",
    "                      normalize= False,  title='Confusion matrix')"
   ]
  },
  {
   "cell_type": "code",
   "execution_count": 40,
   "metadata": {},
   "outputs": [
    {
     "data": {
      "image/png": "[encoded data removed]",
      "text/plain": [
       "<Figure size 432x288 with 1 Axes>"
      ]
     },
     "metadata": {
      "needs_background": "light"
     },
     "output_type": "display_data"
    },
    {
     "name": "stdout",
     "output_type": "stream",
     "text": [
      "AUC(BaseModel)= 0.67\n",
      "AUC(GridSearch)= 0.68\n"
     ]
    }
   ],
   "source": [
    "# ROC Curve Random Search Model, Base Model and Dummy\n",
    "fpr_rf_gs, tpr_rf_gs, thresholds_rf_gs = roc_curve(y_test, y_pred_rf_adv)\n",
    "#plt.plot(fpr, tpr, linestyle='--', label='Dummy')\n",
    "plt.plot(fpr_rf_bm, tpr_rf_bm, linestyle='-', label='RF Base Model')\n",
    "plt.plot(fpr_rf_gs, tpr_rf_gs, linestyle='-', label='RF Grid Search Model')\n",
    "plt.legend()\n",
    "plt.xlabel('False Positive Rate')\n",
    "plt.ylabel('True Positive Rate')\n",
    "plt.title('ROC Curve')\n",
    "plt.show()\n",
    "\n",
    "y_proba_rf_adv = best_model_rf_adv.predict_proba(X_test)\n",
    "#print(f\"AUC(Dummy) = {roc_auc_score(y_test, y_pred_dumm_prob[:,1]):.2f}\")\n",
    "print(f\"AUC(BaseModel)= {roc_auc_score(y_test, y_proba_rf_clf_base[:,1]):.2f}\")\n",
    "print(f\"AUC(GridSearch)= {roc_auc_score(y_test, y_proba_rf_adv[:,1]):.2f}\")"
   ]
  },
  {
   "cell_type": "code",
   "execution_count": 41,
   "metadata": {},
   "outputs": [],
   "source": [
    "models['RF_best'] = [precision_score(y_test, y_pred_rf_adv),\n",
    "                    fbeta_score(y_test, y_pred_rf_adv, beta=0.5),\n",
    "                    roc_auc_score(y_test, y_proba_rf_adv[:,1]),\n",
    "                    accuracy_score(y_test, y_pred_rf_adv)]"
   ]
  },
  {
   "cell_type": "markdown",
   "metadata": {},
   "source": [
    "# AdaBoost"
   ]
  },
  {
   "cell_type": "code",
   "execution_count": 42,
   "metadata": {},
   "outputs": [
    {
     "name": "stdout",
     "output_type": "stream",
     "text": [
      "              precision    recall  f1-score   support\n",
      "\n",
      "         0.0       0.59      0.28      0.38       442\n",
      "         1.0       0.72      0.91      0.80       915\n",
      "\n",
      "    accuracy                           0.70      1357\n",
      "   macro avg       0.66      0.59      0.59      1357\n",
      "weighted avg       0.68      0.70      0.66      1357\n",
      "\n"
     ]
    }
   ],
   "source": [
    "ada = AdaBoostClassifier()\n",
    "ada.fit(X_train, y_train)\n",
    "y_pred_ada = ada.predict(X_test)\n",
    "print(classification_report(y_test, y_pred_ada))"
   ]
  },
  {
   "cell_type": "code",
   "execution_count": 43,
   "metadata": {},
   "outputs": [
    {
     "data": {
      "text/plain": [
       "0.7524932003626473"
      ]
     },
     "execution_count": 43,
     "metadata": {},
     "output_type": "execute_result"
    }
   ],
   "source": [
    "fbeta_score(y_test, y_pred_ada, beta=0.5)"
   ]
  },
  {
   "cell_type": "code",
   "execution_count": 44,
   "metadata": {},
   "outputs": [
    {
     "data": {
      "text/plain": [
       "Text(0.5, 1.0, 'Confusion matrix')"
      ]
     },
     "execution_count": 44,
     "metadata": {},
     "output_type": "execute_result"
    },
    {
     "data": {
      "image/png": "[encoded data removed]",
      "text/plain": [
       "<Figure size 432x288 with 2 Axes>"
      ]
     },
     "metadata": {
      "needs_background": "light"
     },
     "output_type": "display_data"
    }
   ],
   "source": [
    "cm = confusion_matrix(y_test, ada.predict(X_test),)\n",
    "cm = cm.astype('float') / cm.sum(axis=1)[:, np.newaxis] # normalize the data\n",
    "# view with a heatmap\n",
    "#plt.figure(i)\n",
    "sns.heatmap(cm, annot=True, annot_kws={\"size\":30}, \n",
    "            cmap='Blues', square=True, fmt='.3f')\n",
    "\n",
    "\n",
    "plt.ylabel('True label', fontsize=15)\n",
    "plt.xlabel('Predicted label', fontsize=15)\n",
    "plt.title('Confusion matrix', fontsize=15, fontweight=\"bold\")"
   ]
  },
  {
   "cell_type": "code",
   "execution_count": 45,
   "metadata": {},
   "outputs": [
    {
     "data": {
      "image/png": "[encoded data removed]",
      "text/plain": [
       "<Figure size 432x288 with 1 Axes>"
      ]
     },
     "metadata": {
      "needs_background": "light"
     },
     "output_type": "display_data"
    },
    {
     "name": "stdout",
     "output_type": "stream",
     "text": [
      "AUC(Adaboost)= 0.66\n"
     ]
    }
   ],
   "source": [
    "# Plot the ROC curve\n",
    "fpr_ada, tpr_ada, thresholds_ada = roc_curve(y_test, y_pred_ada)\n",
    "plt.plot(fpr_ada, tpr_ada, linestyle='-', label='Adaboost')\n",
    "plt.legend()\n",
    "plt.xlabel('False Positive Rate')\n",
    "plt.ylabel('True Positive Rate')\n",
    "plt.title('ROC Curve')\n",
    "plt.show()\n",
    "y_pred_ada_prob = ada.predict_proba(X_test)\n",
    "print(f\"AUC(Adaboost)= {roc_auc_score(y_test, y_pred_ada_prob[:,1]):.2f}\")"
   ]
  },
  {
   "cell_type": "code",
   "execution_count": 46,
   "metadata": {},
   "outputs": [],
   "source": [
    "models['Ada_simple'] = [precision_score(y_test, y_pred_ada),\n",
    "                    fbeta_score(y_test, y_pred_ada, beta=0.5),\n",
    "                    roc_auc_score(y_test, y_pred_ada_prob[:,1]),\n",
    "                    accuracy_score(y_test, y_pred_ada)]"
   ]
  },
  {
   "cell_type": "markdown",
   "metadata": {},
   "source": [
    "## Randomsearch"
   ]
  },
  {
   "cell_type": "code",
   "execution_count": 47,
   "metadata": {},
   "outputs": [
    {
     "name": "stdout",
     "output_type": "stream",
     "text": [
      "Fitting 3 folds for each of 10 candidates, totalling 30 fits\n"
     ]
    },
    {
     "name": "stderr",
     "output_type": "stream",
     "text": [
      "[Parallel(n_jobs=1)]: Using backend SequentialBackend with 1 concurrent workers.\n",
      "[Parallel(n_jobs=1)]: Done  30 out of  30 | elapsed:  1.3min finished\n"
     ]
    }
   ],
   "source": [
    "ada_grid = dict()\n",
    "ada_grid['learning_rate'] = [0.01, 0.05, 0.1, 0.2, 0.4]\n",
    "ada_grid['n_estimators'] = [100, 200, 250, 300, 500]\n",
    "\n",
    "model = AdaBoostClassifier()\n",
    "grid = ada_grid\n",
    "    \n",
    "# run randomized search and optimize for fhalf_scorer\n",
    "ada_rdm = RandomizedSearchCV(estimator=model,param_distributions=grid,n_iter = 10,verbose=1,\n",
    "                         scoring=fhalf_scorer, random_state=rs, cv=c)\n",
    "search = ada_rdm.fit(X_train, y_train)\n",
    "predictions = search.best_estimator_.predict(X_test)"
   ]
  },
  {
   "cell_type": "code",
   "execution_count": 48,
   "metadata": {},
   "outputs": [
    {
     "name": "stdout",
     "output_type": "stream",
     "text": [
      "{'n_estimators': 300, 'learning_rate': 0.1}\n"
     ]
    }
   ],
   "source": [
    "print(search.best_params_)"
   ]
  },
  {
   "cell_type": "code",
   "execution_count": 49,
   "metadata": {},
   "outputs": [],
   "source": [
    "y_pred_ada_rdm = ada_rdm.predict(X_test)"
   ]
  },
  {
   "cell_type": "code",
   "execution_count": 50,
   "metadata": {},
   "outputs": [
    {
     "name": "stdout",
     "output_type": "stream",
     "text": [
      "              precision    recall  f1-score   support\n",
      "\n",
      "         0.0       0.74      0.20      0.32       442\n",
      "         1.0       0.71      0.97      0.82       915\n",
      "\n",
      "    accuracy                           0.72      1357\n",
      "   macro avg       0.73      0.58      0.57      1357\n",
      "weighted avg       0.72      0.72      0.66      1357\n",
      "\n"
     ]
    }
   ],
   "source": [
    "print(classification_report(y_test, y_pred_ada_rdm))"
   ]
  },
  {
   "cell_type": "code",
   "execution_count": 51,
   "metadata": {},
   "outputs": [
    {
     "data": {
      "text/plain": [
       "0.753880266075388"
      ]
     },
     "execution_count": 51,
     "metadata": {},
     "output_type": "execute_result"
    }
   ],
   "source": [
    "fbeta_score(y_test, y_pred_ada_rdm, beta=0.5)"
   ]
  },
  {
   "cell_type": "code",
   "execution_count": 52,
   "metadata": {},
   "outputs": [
    {
     "data": {
      "text/plain": [
       "Text(0.5, 1.0, 'Confusion matrix')"
      ]
     },
     "execution_count": 52,
     "metadata": {},
     "output_type": "execute_result"
    },
    {
     "data": {
      "image/png": "[encoded data removed]",
      "text/plain": [
       "<Figure size 432x288 with 2 Axes>"
      ]
     },
     "metadata": {
      "needs_background": "light"
     },
     "output_type": "display_data"
    }
   ],
   "source": [
    "cm = confusion_matrix(y_test, ada_rdm.predict(X_test),)\n",
    "cm = cm.astype('float') / cm.sum(axis=1)[:, np.newaxis] # normalize the data\n",
    "# view with a heatmap\n",
    "#plt.figure(i)\n",
    "sns.heatmap(cm, annot=True, annot_kws={\"size\":30}, \n",
    "            cmap='Blues', square=True, fmt='.3f')\n",
    "\n",
    "\n",
    "plt.ylabel('True label', fontsize=15)\n",
    "plt.xlabel('Predicted label', fontsize=15)\n",
    "plt.title('Confusion matrix', fontsize=15, fontweight=\"bold\")"
   ]
  },
  {
   "cell_type": "code",
   "execution_count": 53,
   "metadata": {},
   "outputs": [
    {
     "data": {
      "image/png": "[encoded data removed]",
      "text/plain": [
       "<Figure size 432x288 with 1 Axes>"
      ]
     },
     "metadata": {
      "needs_background": "light"
     },
     "output_type": "display_data"
    },
    {
     "name": "stdout",
     "output_type": "stream",
     "text": [
      "AUC(Adaboost)= 0.69\n"
     ]
    }
   ],
   "source": [
    "# Plot the ROC curve\n",
    "fpr_ada, tpr_ada, thresholds_ada = roc_curve(y_test, y_pred_ada_rdm)\n",
    "plt.plot(fpr_ada, tpr_ada, linestyle='-', label='Adaboost')\n",
    "plt.legend()\n",
    "plt.xlabel('False Positive Rate')\n",
    "plt.ylabel('True Positive Rate')\n",
    "plt.title('ROC Curve')\n",
    "plt.show()\n",
    "y_pred_ada_prob = ada_rdm.predict_proba(X_test)\n",
    "print(f\"AUC(Adaboost)= {roc_auc_score(y_test, y_pred_ada_prob[:,1]):.2f}\")"
   ]
  },
  {
   "cell_type": "markdown",
   "metadata": {},
   "source": [
    "## Gridsearch"
   ]
  },
  {
   "cell_type": "code",
   "execution_count": 54,
   "metadata": {},
   "outputs": [
    {
     "name": "stdout",
     "output_type": "stream",
     "text": [
      "Unoptimized model\n",
      "------\n",
      "Accuracy score on testing data: 0.5917\n",
      "F-score on testing data: 0.6957\n",
      "\n",
      "Optimized Model\n",
      "------\n",
      "Final accuracy score on the testing data: 0.7126\n",
      "Final F-score on the testing data: 0.7511\n",
      "AdaBoostClassifier(base_estimator=DecisionTreeClassifier(max_depth=1),\n",
      "                   learning_rate=0.1, n_estimators=200)\n"
     ]
    }
   ],
   "source": [
    "# TODO: Import 'GridSearchCV', 'make_scorer', and any other necessary libraries\n",
    "\n",
    "# TODO: Initialize the classifier\n",
    "ada = AdaBoostClassifier(base_estimator=DecisionTreeClassifier()) \n",
    "\n",
    "# TODO: Create the parameters list you wish to tune\n",
    "parameters = {'n_estimators':[200],                \n",
    "              'learning_rate':[0.1, 0.08, 0.12,],               \n",
    "              'base_estimator__min_samples_split' : np.arange(2, 8, 2),               \n",
    "              'base_estimator__max_depth' : np.arange(1, 4, 1)              \n",
    "             } \n",
    "\n",
    "# TODO: Make an fbeta_score scoring object\n",
    "scorer = fhalf_scorer\n",
    "\n",
    "# TODO: Perform grid search on the classifier using 'scorer' as the scoring method\n",
    "grid_obj = GridSearchCV(ada, parameters,scorer, cv=c) \n",
    "\n",
    "# TODO: Fit the grid search object to the training data and find the optimal parameters\n",
    "grid_fit = grid_obj.fit(X_train,y_train) \n",
    "\n",
    "# Get the estimator\n",
    "best_ada = grid_fit.best_estimator_ \n",
    "\n",
    "# Make predictions using the unoptimized and model\n",
    "predictions = (ada.fit(X_train, y_train)).predict(X_test)\n",
    "best_predictions = best_ada.predict(X_test) \n",
    "\n",
    "# Report the before-and-afterscores\n",
    "print(\"Unoptimized model\\n------\")\n",
    "print(\"Accuracy score on testing data: {:.4f}\".format(accuracy_score(y_test, predictions)))\n",
    "print(\"F-score on testing data: {:.4f}\".format(fbeta_score(y_test, predictions, beta = 0.5)))\n",
    "print(\"\\nOptimized Model\\n------\")\n",
    "print(\"Final accuracy score on the testing data: {:.4f}\".format(accuracy_score(y_test, best_predictions)))\n",
    "print(\"Final F-score on the testing data: {:.4f}\".format(fbeta_score(y_test, best_predictions, beta = 0.5)))\n",
    "print(best_ada)\n"
   ]
  },
  {
   "cell_type": "code",
   "execution_count": 55,
   "metadata": {},
   "outputs": [
    {
     "data": {
      "text/plain": [
       "AdaBoostClassifier(base_estimator=DecisionTreeClassifier(max_depth=1),\n",
       "                   learning_rate=0.4, n_estimators=250)"
      ]
     },
     "execution_count": 55,
     "metadata": {},
     "output_type": "execute_result"
    }
   ],
   "source": [
    "ada_grid = AdaBoostClassifier(base_estimator=DecisionTreeClassifier(max_depth=1),\n",
    "                   learning_rate=0.4, n_estimators=250)\n",
    "ada_grid.fit(X_train, y_train)"
   ]
  },
  {
   "cell_type": "code",
   "execution_count": 56,
   "metadata": {},
   "outputs": [],
   "source": [
    "y_pred_ada_grid = ada_grid.predict(X_test)"
   ]
  },
  {
   "cell_type": "code",
   "execution_count": 57,
   "metadata": {},
   "outputs": [
    {
     "name": "stdout",
     "output_type": "stream",
     "text": [
      "              precision    recall  f1-score   support\n",
      "\n",
      "         0.0       0.66      0.27      0.38       442\n",
      "         1.0       0.73      0.93      0.82       915\n",
      "\n",
      "    accuracy                           0.72      1357\n",
      "   macro avg       0.69      0.60      0.60      1357\n",
      "weighted avg       0.70      0.72      0.68      1357\n",
      "\n"
     ]
    }
   ],
   "source": [
    "print(classification_report(y_test, y_pred_ada_grid))"
   ]
  },
  {
   "cell_type": "code",
   "execution_count": 58,
   "metadata": {},
   "outputs": [
    {
     "data": {
      "text/plain": [
       "0.7592229549099981"
      ]
     },
     "execution_count": 58,
     "metadata": {},
     "output_type": "execute_result"
    }
   ],
   "source": [
    "fbeta_score(y_test, y_pred_ada_grid, beta=0.5)"
   ]
  },
  {
   "cell_type": "code",
   "execution_count": 59,
   "metadata": {},
   "outputs": [
    {
     "data": {
      "text/plain": [
       "Text(0.5, 1.0, 'Confusion matrix')"
      ]
     },
     "execution_count": 59,
     "metadata": {},
     "output_type": "execute_result"
    },
    {
     "data": {
      "image/png": "[encoded data removed]",
      "text/plain": [
       "<Figure size 432x288 with 2 Axes>"
      ]
     },
     "metadata": {
      "needs_background": "light"
     },
     "output_type": "display_data"
    }
   ],
   "source": [
    "cm = confusion_matrix(y_test, ada_grid.predict(X_test),)\n",
    "cm = cm.astype('float') / cm.sum(axis=1)[:, np.newaxis] # normalize the data\n",
    "# view with a heatmap\n",
    "#plt.figure(i)\n",
    "sns.heatmap(cm, annot=True, annot_kws={\"size\":30}, \n",
    "            cmap='Blues', square=True, fmt='.3f')\n",
    "\n",
    "\n",
    "plt.ylabel('True label', fontsize=15)\n",
    "plt.xlabel('Predicted label', fontsize=15)\n",
    "plt.title('Confusion matrix', fontsize=15, fontweight=\"bold\")"
   ]
  },
  {
   "cell_type": "code",
   "execution_count": 60,
   "metadata": {},
   "outputs": [
    {
     "data": {
      "image/png": "[encoded data removed]",
      "text/plain": [
       "<Figure size 432x288 with 1 Axes>"
      ]
     },
     "metadata": {
      "needs_background": "light"
     },
     "output_type": "display_data"
    },
    {
     "name": "stdout",
     "output_type": "stream",
     "text": [
      "AUC(Adaboost)= 0.67\n"
     ]
    }
   ],
   "source": [
    "# Plot the ROC curve\n",
    "fpr_ada, tpr_ada, thresholds_ada = roc_curve(y_test, y_pred_ada_grid)\n",
    "plt.plot(fpr_ada, tpr_ada, linestyle='-', label='Adaboost')\n",
    "plt.legend()\n",
    "plt.xlabel('False Positive Rate')\n",
    "plt.ylabel('True Positive Rate')\n",
    "plt.title('ROC Curve')\n",
    "plt.show()\n",
    "y_pred_ada_prob = ada_grid.predict_proba(X_test)\n",
    "print(f\"AUC(Adaboost)= {roc_auc_score(y_test, y_pred_ada_prob[:,1]):.2f}\")"
   ]
  },
  {
   "cell_type": "code",
   "execution_count": 61,
   "metadata": {},
   "outputs": [],
   "source": [
    "models['Ada_best'] = [precision_score(y_test, y_pred_ada_grid),\n",
    "                    fbeta_score(y_test, y_pred_ada_grid, beta=0.5),\n",
    "                    roc_auc_score(y_test, y_pred_ada_prob[:,1]),\n",
    "                    accuracy_score(y_test, y_pred_ada_grid)]"
   ]
  },
  {
   "cell_type": "markdown",
   "metadata": {},
   "source": [
    "# XGBoost"
   ]
  },
  {
   "cell_type": "code",
   "execution_count": 62,
   "metadata": {},
   "outputs": [
    {
     "data": {
      "text/plain": [
       "XGBClassifier(random_state=42)"
      ]
     },
     "execution_count": 62,
     "metadata": {},
     "output_type": "execute_result"
    }
   ],
   "source": [
    "# instanciate classifier, fit model\n",
    "xgboost = XGBClassifier(random_state=rs)\n",
    "xgboost.fit(X_train, y_train)"
   ]
  },
  {
   "cell_type": "code",
   "execution_count": 63,
   "metadata": {},
   "outputs": [],
   "source": [
    "y_pred_xgb = xgboost.predict(X_test)"
   ]
  },
  {
   "cell_type": "code",
   "execution_count": 64,
   "metadata": {},
   "outputs": [
    {
     "name": "stdout",
     "output_type": "stream",
     "text": [
      "              precision    recall  f1-score   support\n",
      "\n",
      "         0.0       0.70      0.23      0.34       442\n",
      "         1.0       0.72      0.95      0.82       915\n",
      "\n",
      "    accuracy                           0.72      1357\n",
      "   macro avg       0.71      0.59      0.58      1357\n",
      "weighted avg       0.71      0.72      0.66      1357\n",
      "\n"
     ]
    }
   ],
   "source": [
    "print(classification_report(y_test, y_pred_xgb))"
   ]
  },
  {
   "cell_type": "code",
   "execution_count": 65,
   "metadata": {},
   "outputs": [
    {
     "data": {
      "text/plain": [
       "0.7558441558441558"
      ]
     },
     "execution_count": 65,
     "metadata": {},
     "output_type": "execute_result"
    }
   ],
   "source": [
    "fbeta_score(y_test, y_pred_xgb, beta=0.5)"
   ]
  },
  {
   "cell_type": "code",
   "execution_count": 66,
   "metadata": {},
   "outputs": [
    {
     "data": {
      "text/plain": [
       "Text(0.5, 1.0, 'Confusion matrix')"
      ]
     },
     "execution_count": 66,
     "metadata": {},
     "output_type": "execute_result"
    },
    {
     "data": {
      "image/png": "[encoded data removed]",
      "text/plain": [
       "<Figure size 432x288 with 2 Axes>"
      ]
     },
     "metadata": {
      "needs_background": "light"
     },
     "output_type": "display_data"
    }
   ],
   "source": [
    "cm = confusion_matrix(y_test, xgboost.predict(X_test),)\n",
    "cm = cm.astype('float') / cm.sum(axis=1)[:, np.newaxis] # normalize the data\n",
    "# view with a heatmap\n",
    "#plt.figure(i)\n",
    "sns.heatmap(cm, annot=True, annot_kws={\"size\":30}, \n",
    "            cmap='Blues', square=True, fmt='.3f')\n",
    "\n",
    "\n",
    "plt.ylabel('True label', fontsize=15)\n",
    "plt.xlabel('Predicted label', fontsize=15)\n",
    "plt.title('Confusion matrix', fontsize=15, fontweight=\"bold\")"
   ]
  },
  {
   "cell_type": "code",
   "execution_count": 67,
   "metadata": {},
   "outputs": [
    {
     "data": {
      "image/png": "[encoded data removed]",
      "text/plain": [
       "<Figure size 432x288 with 1 Axes>"
      ]
     },
     "metadata": {
      "needs_background": "light"
     },
     "output_type": "display_data"
    },
    {
     "name": "stdout",
     "output_type": "stream",
     "text": [
      "AUC(Xgboost)= 0.69\n"
     ]
    }
   ],
   "source": [
    "# Plot the ROC curve\n",
    "fpr_xgb, tpr_xgb, thresholds_xgb = roc_curve(y_test, y_pred_xgb)\n",
    "plt.plot(fpr_xgb, tpr_xgb, linestyle='-', label='Xgboost')\n",
    "plt.legend()\n",
    "plt.xlabel('False Positive Rate')\n",
    "plt.ylabel('True Positive Rate')\n",
    "plt.title('ROC Curve')\n",
    "plt.show()\n",
    "y_pred_xgb_prob = xgboost.predict_proba(X_test)\n",
    "print(f\"AUC(Xgboost)= {roc_auc_score(y_test, y_pred_xgb_prob[:,1]):.2f}\")"
   ]
  },
  {
   "cell_type": "code",
   "execution_count": 68,
   "metadata": {},
   "outputs": [],
   "source": [
    "models['XGB_simple'] = [precision_score(y_test, y_pred_xgb),\n",
    "                    fbeta_score(y_test, y_pred_xgb, beta=0.5),\n",
    "                    roc_auc_score(y_test, y_pred_xgb_prob[:,1]),\n",
    "                    accuracy_score(y_test, y_pred_xgb)]"
   ]
  },
  {
   "cell_type": "markdown",
   "metadata": {},
   "source": [
    "## random search"
   ]
  },
  {
   "cell_type": "code",
   "execution_count": 69,
   "metadata": {},
   "outputs": [
    {
     "name": "stdout",
     "output_type": "stream",
     "text": [
      "Fitting 3 folds for each of 10 candidates, totalling 30 fits\n"
     ]
    },
    {
     "name": "stderr",
     "output_type": "stream",
     "text": [
      "[Parallel(n_jobs=1)]: Using backend SequentialBackend with 1 concurrent workers.\n",
      "[Parallel(n_jobs=1)]: Done  30 out of  30 | elapsed:   41.5s finished\n"
     ]
    }
   ],
   "source": [
    "xgb_grid = dict()\n",
    "xgb_grid['max_depth'] = [2, 3, 4, 5, 6]\n",
    "xgb_grid['learning_rate'] = [0.01, 0.05, 0.1, 0.2, 0.4]\n",
    "xgb_grid['gamma'] = [0,0.1,0.2,0.3,0.4,0.5]\n",
    "\n",
    "model = XGBClassifier()\n",
    "grid = xgb_grid\n",
    "    \n",
    "# run randomized search and optimize for fhalf_scorer\n",
    "clf = RandomizedSearchCV(estimator=model,param_distributions=grid,n_iter = 10,verbose=1,\n",
    "                         scoring=fhalf_scorer, random_state=rs,cv=c)\n",
    "search = clf.fit(X_train, y_train)\n",
    "predictions = search.best_estimator_.predict(X_test)"
   ]
  },
  {
   "cell_type": "code",
   "execution_count": 70,
   "metadata": {},
   "outputs": [
    {
     "name": "stdout",
     "output_type": "stream",
     "text": [
      "              precision    recall  f1-score   support\n",
      "\n",
      "         0.0       0.70      0.21      0.32       442\n",
      "         1.0       0.71      0.96      0.82       915\n",
      "\n",
      "    accuracy                           0.71      1357\n",
      "   macro avg       0.71      0.58      0.57      1357\n",
      "weighted avg       0.71      0.71      0.66      1357\n",
      "\n"
     ]
    }
   ],
   "source": [
    "print(classification_report(y_test, predictions))"
   ]
  },
  {
   "cell_type": "code",
   "execution_count": 71,
   "metadata": {},
   "outputs": [
    {
     "name": "stdout",
     "output_type": "stream",
     "text": [
      "{'max_depth': 3, 'learning_rate': 0.01, 'gamma': 0.3}\n"
     ]
    }
   ],
   "source": [
    "print(search.best_params_)"
   ]
  },
  {
   "cell_type": "markdown",
   "metadata": {},
   "source": [
    "best result: {'max_depth': 3, 'learning_rate': 0.01, 'gamma': 0.3}"
   ]
  },
  {
   "cell_type": "code",
   "execution_count": 72,
   "metadata": {},
   "outputs": [],
   "source": [
    "y_pred_xgb_rdm = clf.predict(X_test)"
   ]
  },
  {
   "cell_type": "code",
   "execution_count": 73,
   "metadata": {},
   "outputs": [
    {
     "data": {
      "text/plain": [
       "0.7527066506272556"
      ]
     },
     "execution_count": 73,
     "metadata": {},
     "output_type": "execute_result"
    }
   ],
   "source": [
    "fbeta_score(y_test, y_pred_xgb_rdm, beta=0.5)"
   ]
  },
  {
   "cell_type": "code",
   "execution_count": 74,
   "metadata": {},
   "outputs": [
    {
     "data": {
      "text/plain": [
       "Text(0.5, 1.0, 'Confusion matrix')"
      ]
     },
     "execution_count": 74,
     "metadata": {},
     "output_type": "execute_result"
    },
    {
     "data": {
      "image/png": "[encoded data removed]",
      "text/plain": [
       "<Figure size 432x288 with 2 Axes>"
      ]
     },
     "metadata": {
      "needs_background": "light"
     },
     "output_type": "display_data"
    }
   ],
   "source": [
    "cm = confusion_matrix(y_test, clf.predict(X_test),)\n",
    "cm = cm.astype('float') / cm.sum(axis=1)[:, np.newaxis] # normalize the data\n",
    "# view with a heatmap\n",
    "#plt.figure(i)\n",
    "sns.heatmap(cm, annot=True, annot_kws={\"size\":30}, \n",
    "            cmap='Blues', square=True, fmt='.3f')\n",
    "\n",
    "\n",
    "plt.ylabel('True label', fontsize=15)\n",
    "plt.xlabel('Predicted label', fontsize=15)\n",
    "plt.title('Confusion matrix', fontsize=15, fontweight=\"bold\")"
   ]
  },
  {
   "cell_type": "code",
   "execution_count": 75,
   "metadata": {},
   "outputs": [
    {
     "data": {
      "image/png": "[encoded data removed]",
      "text/plain": [
       "<Figure size 432x288 with 1 Axes>"
      ]
     },
     "metadata": {
      "needs_background": "light"
     },
     "output_type": "display_data"
    },
    {
     "name": "stdout",
     "output_type": "stream",
     "text": [
      "AUC(Xgboost)= 0.68\n"
     ]
    }
   ],
   "source": [
    "# Plot the ROC curve\n",
    "fpr_xgb, tpr_xgb, thresholds_lr = roc_curve(y_test, y_pred_xgb_rdm)\n",
    "plt.plot(fpr_xgb, tpr_xgb, linestyle='-', label='Xgboost')\n",
    "plt.legend()\n",
    "plt.xlabel('False Positive Rate')\n",
    "plt.ylabel('True Positive Rate')\n",
    "plt.title('ROC Curve')\n",
    "plt.show()\n",
    "y_pred_xgb_prob = clf.predict_proba(X_test)\n",
    "print(f\"AUC(Xgboost)= {roc_auc_score(y_test, y_pred_xgb_prob[:,1]):.2f}\")"
   ]
  },
  {
   "cell_type": "markdown",
   "metadata": {},
   "source": [
    "## Gridsearch"
   ]
  },
  {
   "cell_type": "code",
   "execution_count": 76,
   "metadata": {},
   "outputs": [
    {
     "name": "stdout",
     "output_type": "stream",
     "text": [
      "{'gamma': 0.3, 'learning_rate': 0.01, 'max_depth': 3}\n"
     ]
    }
   ],
   "source": [
    "param_grid = {\n",
    "    'max_depth': [2,3,4],\n",
    "    'learning_rate': [0.02, 0.01],\n",
    "    'gamma': [0.3, 0.35, 0.25],}\n",
    "\n",
    "optimal_params = GridSearchCV(\n",
    "    estimator= XGBClassifier(), cv=c,\n",
    "    param_grid=param_grid,\n",
    "     scoring = fhalf_scorer)## For more scoring metics see: \n",
    "        ## https://scikit-learn.org/stable/modules/model_evaluation.html#scoring-parameter\n",
    "\n",
    "optimal_params.fit(X_train, y_train)\n",
    "print(optimal_params.best_params_)"
   ]
  },
  {
   "cell_type": "markdown",
   "metadata": {},
   "source": [
    "{'gamma': 0.5, 'learning_rate': 0.2, 'max_depth': 4}"
   ]
  },
  {
   "cell_type": "code",
   "execution_count": 77,
   "metadata": {},
   "outputs": [],
   "source": [
    "y_pred_xgb_grid = optimal_params.predict(X_test)"
   ]
  },
  {
   "cell_type": "code",
   "execution_count": 78,
   "metadata": {},
   "outputs": [
    {
     "name": "stdout",
     "output_type": "stream",
     "text": [
      "              precision    recall  f1-score   support\n",
      "\n",
      "         0.0       0.70      0.21      0.32       442\n",
      "         1.0       0.71      0.96      0.82       915\n",
      "\n",
      "    accuracy                           0.71      1357\n",
      "   macro avg       0.71      0.58      0.57      1357\n",
      "weighted avg       0.71      0.71      0.66      1357\n",
      "\n"
     ]
    }
   ],
   "source": [
    "print(classification_report(y_test, y_pred_xgb_grid))"
   ]
  },
  {
   "cell_type": "code",
   "execution_count": 79,
   "metadata": {},
   "outputs": [
    {
     "data": {
      "text/plain": [
       "0.7527066506272556"
      ]
     },
     "execution_count": 79,
     "metadata": {},
     "output_type": "execute_result"
    }
   ],
   "source": [
    "fbeta_score(y_test, y_pred_xgb_grid, beta=0.5)"
   ]
  },
  {
   "cell_type": "code",
   "execution_count": 80,
   "metadata": {},
   "outputs": [
    {
     "data": {
      "text/plain": [
       "Text(0.5, 1.0, 'Confusion matrix')"
      ]
     },
     "execution_count": 80,
     "metadata": {},
     "output_type": "execute_result"
    },
    {
     "data": {
      "image/png": "[encoded data removed]",
      "text/plain": [
       "<Figure size 432x288 with 2 Axes>"
      ]
     },
     "metadata": {
      "needs_background": "light"
     },
     "output_type": "display_data"
    }
   ],
   "source": [
    "cm = confusion_matrix(y_test, optimal_params.predict(X_test),)\n",
    "cm = cm.astype('float') / cm.sum(axis=1)[:, np.newaxis] # normalize the data\n",
    "# view with a heatmap\n",
    "#plt.figure(i)\n",
    "sns.heatmap(cm, annot=True, annot_kws={\"size\":30}, \n",
    "            cmap='Blues', square=True, fmt='.3f')\n",
    "\n",
    "\n",
    "plt.ylabel('True label', fontsize=15)\n",
    "plt.xlabel('Predicted label', fontsize=15)\n",
    "plt.title('Confusion matrix', fontsize=15, fontweight=\"bold\")"
   ]
  },
  {
   "cell_type": "code",
   "execution_count": 81,
   "metadata": {},
   "outputs": [
    {
     "data": {
      "image/png": "[encoded data removed]",
      "text/plain": [
       "<Figure size 432x288 with 1 Axes>"
      ]
     },
     "metadata": {
      "needs_background": "light"
     },
     "output_type": "display_data"
    },
    {
     "name": "stdout",
     "output_type": "stream",
     "text": [
      "AUC(Xgboost)= 0.68\n"
     ]
    }
   ],
   "source": [
    "# Plot the ROC curve\n",
    "fpr_xgb, tpr_xgb, thresholds_xgb = roc_curve(y_test, y_pred_xgb_grid)\n",
    "plt.plot(fpr_xgb, tpr_xgb, linestyle='-', label='Xgboost_Grid')\n",
    "plt.legend()\n",
    "plt.xlabel('False Positive Rate')\n",
    "plt.ylabel('True Positive Rate')\n",
    "plt.title('ROC Curve')\n",
    "plt.show()\n",
    "y_pred_xgb_prob = optimal_params.predict_proba(X_test)\n",
    "print(f\"AUC(Xgboost)= {roc_auc_score(y_test, y_pred_xgb_prob[:,1]):.2f}\")"
   ]
  },
  {
   "cell_type": "code",
   "execution_count": 82,
   "metadata": {},
   "outputs": [],
   "source": [
    "models['XGB_best'] = [precision_score(y_test, y_pred_xgb_grid),\n",
    "                    fbeta_score(y_test, y_pred_xgb_grid, beta=0.5),\n",
    "                    roc_auc_score(y_test, y_pred_xgb_prob[:,1]),\n",
    "                    accuracy_score(y_test, y_pred_xgb_grid)]"
   ]
  },
  {
   "cell_type": "markdown",
   "metadata": {},
   "source": [
    "# SVM Classifier"
   ]
  },
  {
   "cell_type": "markdown",
   "metadata": {},
   "source": [
    "## Simple Model"
   ]
  },
  {
   "cell_type": "code",
   "execution_count": 83,
   "metadata": {},
   "outputs": [],
   "source": [
    "svc_model = SVC(C=1, kernel='rbf', probability=True, random_state=rs)\n",
    "svc = svc_model.fit(X_train, y_train)\n",
    "y_pred_svc = svc.predict(X_test)"
   ]
  },
  {
   "cell_type": "code",
   "execution_count": 84,
   "metadata": {},
   "outputs": [
    {
     "name": "stdout",
     "output_type": "stream",
     "text": [
      "              precision    recall  f1-score   support\n",
      "\n",
      "         0.0       0.66      0.15      0.24       442\n",
      "         1.0       0.70      0.96      0.81       915\n",
      "\n",
      "    accuracy                           0.70      1357\n",
      "   macro avg       0.68      0.56      0.53      1357\n",
      "weighted avg       0.69      0.70      0.63      1357\n",
      "\n",
      "F-Beta-Score(0.5) =  0.74\n"
     ]
    }
   ],
   "source": [
    "print(classification_report(y_test, y_pred_svc))\n",
    "print(f'F-Beta-Score(0.5) =  {fbeta_score(y_test, y_pred_svc, beta=0.5 ):.2f}')"
   ]
  },
  {
   "cell_type": "code",
   "execution_count": 85,
   "metadata": {},
   "outputs": [
    {
     "data": {
      "image/png": "[encoded data removed]",
      "text/plain": [
       "<Figure size 432x288 with 1 Axes>"
      ]
     },
     "metadata": {
      "needs_background": "light"
     },
     "output_type": "display_data"
    },
    {
     "name": "stdout",
     "output_type": "stream",
     "text": [
      "AUC (SVC)= 0.68\n"
     ]
    }
   ],
   "source": [
    "# Plot the ROC curve\n",
    "fpr_svc, tpr_svc, thresholds_svc = roc_curve(y_test, y_pred_svc)\n",
    "#plt.plot(fpr, tpr, linestyle='--', label='Dummy')\n",
    "plt.plot(fpr_svc, tpr_svc, linestyle='-', label='SVM Classifier') \n",
    "plt.legend()\n",
    "plt.xlabel('False Positive Rate')\n",
    "plt.ylabel('True Positive Rate')\n",
    "plt.title('ROC Curve')\n",
    "plt.show()\n",
    "y_pred_svc_prob = svc.predict_proba(X_test)\n",
    "#print(f\"AUC(Dummy) = {roc_auc_score(y_test, y_pred_dumm_prob[:,1]):.2f}\")\n",
    "print(f\"AUC (SVC)= {roc_auc_score(y_test, y_pred_svc_prob[:,1]):.2f}\")"
   ]
  },
  {
   "cell_type": "code",
   "execution_count": 86,
   "metadata": {},
   "outputs": [],
   "source": [
    "models['SVC_simple'] = [precision_score(y_test, y_pred_svc),\n",
    "                    fbeta_score(y_test, y_pred_svc, beta=0.5),\n",
    "                    roc_auc_score(y_test, y_pred_svc_prob[:,1]),\n",
    "                    accuracy_score(y_test, y_pred_svc)]"
   ]
  },
  {
   "cell_type": "markdown",
   "metadata": {},
   "source": [
    "## Tuning with Gridsearch"
   ]
  },
  {
   "cell_type": "code",
   "execution_count": 87,
   "metadata": {},
   "outputs": [],
   "source": [
    "grid_svc = {'C': [0.1,1, 10, 50, 100],\n",
    "             #'kernel': ['linear', 'rbf', 'poly','sigmoid'],\n",
    "             'kernel': ['linear', 'rbf'],\n",
    "             'gamma' : [1, 0.1, 0.01, 0.001]\n",
    "             }"
   ]
  },
  {
   "cell_type": "code",
   "execution_count": 88,
   "metadata": {},
   "outputs": [],
   "source": [
    "svc_grid = GridSearchCV(estimator= SVC(), \n",
    "                        param_grid=grid_svc, \n",
    "                        cv=c, \n",
    "                        verbose=2, n_jobs=-1,\n",
    "                        scoring=fhalf_scorer)"
   ]
  },
  {
   "cell_type": "code",
   "execution_count": 89,
   "metadata": {},
   "outputs": [
    {
     "name": "stdout",
     "output_type": "stream",
     "text": [
      "Fitting 3 folds for each of 40 candidates, totalling 120 fits\n"
     ]
    },
    {
     "name": "stderr",
     "output_type": "stream",
     "text": [
      "[Parallel(n_jobs=-1)]: Using backend LokyBackend with 8 concurrent workers.\n",
      "[Parallel(n_jobs=-1)]: Done  25 tasks      | elapsed:   15.5s\n",
      "[Parallel(n_jobs=-1)]: Done 120 out of 120 | elapsed: 141.2min finished\n"
     ]
    },
    {
     "data": {
      "text/plain": [
       "{'C': 100, 'gamma': 0.001, 'kernel': 'rbf'}"
      ]
     },
     "execution_count": 89,
     "metadata": {},
     "output_type": "execute_result"
    }
   ],
   "source": [
    "svc_grid.fit(X_train, y_train)\n",
    "y_pred_svc_grid = svc_grid.predict(X_test)\n",
    "svc_grid.best_params_"
   ]
  },
  {
   "cell_type": "code",
   "execution_count": 90,
   "metadata": {},
   "outputs": [],
   "source": [
    "svc_bestmodel = SVC(C=100, kernel='rbf', probability=True, gamma=0.001, random_state=rs)\n",
    "svc_best = svc_bestmodel.fit(X_train, y_train)\n",
    "y_pred_svc_best = svc_best.predict(X_test)"
   ]
  },
  {
   "cell_type": "code",
   "execution_count": 91,
   "metadata": {},
   "outputs": [
    {
     "name": "stdout",
     "output_type": "stream",
     "text": [
      "              precision    recall  f1-score   support\n",
      "\n",
      "         0.0       0.62      0.24      0.35       442\n",
      "         1.0       0.72      0.93      0.81       915\n",
      "\n",
      "    accuracy                           0.71      1357\n",
      "   macro avg       0.67      0.59      0.58      1357\n",
      "weighted avg       0.69      0.71      0.66      1357\n",
      "\n",
      "F-Beta-Score(0.5) =  0.75\n"
     ]
    }
   ],
   "source": [
    "print(classification_report(y_test, y_pred_svc_best))\n",
    "print(f'F-Beta-Score(0.5) =  {fbeta_score(y_test, y_pred_svc_best, beta=0.5 ):.2f}')"
   ]
  },
  {
   "cell_type": "code",
   "execution_count": 92,
   "metadata": {},
   "outputs": [
    {
     "data": {
      "image/png": "[encoded data removed]",
      "text/plain": [
       "<Figure size 432x288 with 1 Axes>"
      ]
     },
     "metadata": {
      "needs_background": "light"
     },
     "output_type": "display_data"
    },
    {
     "name": "stdout",
     "output_type": "stream",
     "text": [
      "AUC (SVC)= 0.68\n",
      "AUC (SVC_best)= 0.67\n"
     ]
    }
   ],
   "source": [
    "# Plot the ROC curve\n",
    "fpr_svc_grid, tpr_svc_grid, thresholds_svc_grid = roc_curve(y_test, y_pred_svc_best)\n",
    "#plt.plot(fpr, tpr, linestyle='--', label='Dummy')\n",
    "plt.plot(fpr_svc_grid, tpr_svc_grid, linestyle='-', label='SVM Classifier Grid') \n",
    "plt.legend()\n",
    "plt.xlabel('False Positive Rate')\n",
    "plt.ylabel('True Positive Rate')\n",
    "plt.title('ROC Curve')\n",
    "plt.show()\n",
    "y_pred_svc_prob_best = svc_best.predict_proba(X_test)\n",
    "#print(f\"AUC(Dummy) = {roc_auc_score(y_test, y_pred_dumm_prob[:,1]):.2f}\")\n",
    "print(f\"AUC (SVC)= {roc_auc_score(y_test, y_pred_svc_prob[:,1]):.2f}\")\n",
    "print(f\"AUC (SVC_best)= {roc_auc_score(y_test, y_pred_svc_prob_best[:,1]):.2f}\")"
   ]
  },
  {
   "cell_type": "code",
   "execution_count": 93,
   "metadata": {},
   "outputs": [],
   "source": [
    "models['SVC_grid'] = [precision_score(y_test, y_pred_svc_best),\n",
    "                    fbeta_score(y_test, y_pred_svc_best, beta=0.5),\n",
    "                    roc_auc_score(y_test, y_pred_svc_prob_best[:,1]),\n",
    "                    accuracy_score(y_test, y_pred_svc_best)]"
   ]
  },
  {
   "cell_type": "markdown",
   "metadata": {},
   "source": [
    "# kNN"
   ]
  },
  {
   "cell_type": "markdown",
   "metadata": {},
   "source": [
    "## Simple kNN"
   ]
  },
  {
   "cell_type": "code",
   "execution_count": 94,
   "metadata": {},
   "outputs": [
    {
     "data": {
      "image/png": "[encoded data removed]",
      "text/plain": [
       "<Figure size 432x288 with 1 Axes>"
      ]
     },
     "metadata": {
      "needs_background": "light"
     },
     "output_type": "display_data"
    }
   ],
   "source": [
    "train_accuracy = []\n",
    "test_accuracy = []\n",
    "train_beta = []\n",
    "test_beta = []\n",
    "\n",
    "# Probiere Werte für k von 1 bis 10 aus\n",
    "neighbor_settings = range(1, 20)\n",
    "\n",
    "for k in neighbor_settings:\n",
    "    clf = KNeighborsClassifier(n_neighbors=k)\n",
    "    clf.fit(X_train, y_train)\n",
    "    y_pred = clf.predict(X_test)\n",
    "    train_beta.append(fbeta_score(y_test, y_pred, beta=0.5))\n",
    "    train_accuracy.append(clf.score(X_train, y_train))\n",
    "    test_accuracy.append(clf.score(X_test, y_test))\n",
    "\n",
    "plt.plot(neighbor_settings, train_accuracy, label='Accuracy Training')\n",
    "plt.plot(neighbor_settings, test_accuracy, label='Accuracy Test')\n",
    "plt.ylabel('Accuracy')\n",
    "plt.xlabel('Number neighbors')\n",
    "plt.legend();"
   ]
  },
  {
   "cell_type": "code",
   "execution_count": 95,
   "metadata": {},
   "outputs": [
    {
     "data": {
      "image/png": "[encoded data removed]",
      "text/plain": [
       "<Figure size 432x288 with 1 Axes>"
      ]
     },
     "metadata": {
      "needs_background": "light"
     },
     "output_type": "display_data"
    }
   ],
   "source": [
    "plt.plot(neighbor_settings, train_beta)\n",
    "plt.ylabel('F-beta-score')\n",
    "plt.xlabel('Number neighbors')\n",
    "plt.xticks(ticks=list(range(0,20,2)) ,labels=list(range(1,20,2)));"
   ]
  },
  {
   "cell_type": "markdown",
   "metadata": {},
   "source": [
    "We take 12 neighbours as best value, for the first simple model."
   ]
  },
  {
   "cell_type": "code",
   "execution_count": 96,
   "metadata": {},
   "outputs": [],
   "source": [
    "knn = KNeighborsClassifier(n_neighbors=12)\n",
    "knn.fit(X_train, y_train)\n",
    "y_pred_knn= knn.predict(X_test)"
   ]
  },
  {
   "cell_type": "code",
   "execution_count": 97,
   "metadata": {},
   "outputs": [
    {
     "name": "stdout",
     "output_type": "stream",
     "text": [
      "              precision    recall  f1-score   support\n",
      "\n",
      "         0.0       0.51      0.27      0.35       442\n",
      "         1.0       0.71      0.87      0.79       915\n",
      "\n",
      "    accuracy                           0.68      1357\n",
      "   macro avg       0.61      0.57      0.57      1357\n",
      "weighted avg       0.65      0.68      0.65      1357\n",
      "\n",
      "[[120 322]\n",
      " [115 800]]\n",
      "F-Beta-Score(0.5) =  0.74\n"
     ]
    }
   ],
   "source": [
    "print(classification_report(y_test, y_pred_knn))\n",
    "print(confusion_matrix(y_test, y_pred_knn))\n",
    "print(f'F-Beta-Score(0.5) =  {fbeta_score(y_test, y_pred_knn, beta=0.5 ):.2f}')"
   ]
  },
  {
   "cell_type": "code",
   "execution_count": 98,
   "metadata": {},
   "outputs": [],
   "source": [
    "y_pred_knn_prob = clf.predict_proba(X_test)\n"
   ]
  },
  {
   "cell_type": "code",
   "execution_count": 99,
   "metadata": {},
   "outputs": [
    {
     "data": {
      "image/png": "[encoded data removed]",
      "text/plain": [
       "<Figure size 720x504 with 1 Axes>"
      ]
     },
     "metadata": {
      "needs_background": "light"
     },
     "output_type": "display_data"
    }
   ],
   "source": [
    "fpr, tpr, thresholds = roc_curve(y_test, y_pred_knn)\n",
    "auc_score = roc_auc_score(y_test, y_pred_knn_prob[:,1])\n",
    "\n",
    "plt.figure(figsize=(10,7))\n",
    "plt.plot(fpr, tpr, linewidth=2) \n",
    "plt.plot([0, 1], [0, 1], 'k--') \n",
    "plt.ylabel('True Positive Rate (Recall)')\n",
    "plt.xlabel('False Positive Rate')\n",
    "plt.title('ROC Curve for Base KNN', loc='left')\n",
    "plt.title(f'AUC Score: {auc_score}', loc='right');"
   ]
  },
  {
   "cell_type": "code",
   "execution_count": 100,
   "metadata": {},
   "outputs": [],
   "source": [
    "models['knn_simple'] = [precision_score(y_test, y_pred_knn),\n",
    "                    fbeta_score(y_test, y_pred_knn, beta=0.5),\n",
    "                    roc_auc_score(y_test, y_pred_knn_prob[:,1]),\n",
    "                    accuracy_score(y_test, y_pred_knn)]"
   ]
  },
  {
   "cell_type": "markdown",
   "metadata": {},
   "source": [
    "## Optimize Model"
   ]
  },
  {
   "cell_type": "code",
   "execution_count": 101,
   "metadata": {},
   "outputs": [],
   "source": [
    "grid_knn = {'n_neighbors' : list(range(1,30)),\n",
    "             'weights': ['uniform', 'distance'],\n",
    "             'leaf_size' : list(range(1,20)),\n",
    "             'metric' : ['euclidean','minkowski','manhattan']}"
   ]
  },
  {
   "cell_type": "code",
   "execution_count": 102,
   "metadata": {},
   "outputs": [],
   "source": [
    "knn_grid_mod = GridSearchCV(KNeighborsClassifier(), \n",
    "                        param_grid=grid_knn, \n",
    "                        cv=c, \n",
    "                        verbose=False, n_jobs=-1,\n",
    "                        scoring=fhalf_scorer)\n",
    "knn_grid_mod.fit(X_train, y_train)\n",
    "y_pred = knn_grid_mod.predict(X_test)\n"
   ]
  },
  {
   "cell_type": "code",
   "execution_count": 103,
   "metadata": {},
   "outputs": [
    {
     "name": "stdout",
     "output_type": "stream",
     "text": [
      "              precision    recall  f1-score   support\n",
      "\n",
      "         0.0       0.60      0.15      0.24       442\n",
      "         1.0       0.70      0.95      0.81       915\n",
      "\n",
      "    accuracy                           0.69      1357\n",
      "   macro avg       0.65      0.55      0.52      1357\n",
      "weighted avg       0.67      0.69      0.62      1357\n",
      "\n",
      "[[ 68 374]\n",
      " [ 46 869]]\n",
      "F-Beta-Score(0.5) =  0.74\n"
     ]
    }
   ],
   "source": [
    "print(classification_report(y_test, y_pred))\n",
    "print(confusion_matrix(y_test, y_pred))\n",
    "print(f'F-Beta-Score(0.5) =  {fbeta_score(y_test, y_pred, beta=0.5 ):.2f}')"
   ]
  },
  {
   "cell_type": "code",
   "execution_count": 104,
   "metadata": {},
   "outputs": [
    {
     "data": {
      "text/plain": [
       "{'leaf_size': 1,\n",
       " 'metric': 'manhattan',\n",
       " 'n_neighbors': 28,\n",
       " 'weights': 'uniform'}"
      ]
     },
     "execution_count": 104,
     "metadata": {},
     "output_type": "execute_result"
    }
   ],
   "source": [
    "knn_grid_mod.best_params_"
   ]
  },
  {
   "cell_type": "code",
   "execution_count": 105,
   "metadata": {},
   "outputs": [
    {
     "name": "stdout",
     "output_type": "stream",
     "text": [
      "ROC-AUC-Score = 0.63\n"
     ]
    }
   ],
   "source": [
    "y_pred_prob = knn_grid_mod.predict_proba(X_test)\n",
    "print(f'ROC-AUC-Score = {roc_auc_score(y_test, y_pred_prob[:,1]):.2f}')"
   ]
  },
  {
   "cell_type": "code",
   "execution_count": 106,
   "metadata": {},
   "outputs": [
    {
     "data": {
      "image/png": "[encoded data removed]",
      "text/plain": [
       "<Figure size 432x288 with 1 Axes>"
      ]
     },
     "metadata": {
      "needs_background": "light"
     },
     "output_type": "display_data"
    },
    {
     "name": "stdout",
     "output_type": "stream",
     "text": [
      "AUC(kNN)= 0.63\n"
     ]
    }
   ],
   "source": [
    "# Plot the ROC curve\n",
    "fpr_knn_grid, tpr_knn_grid, thresholds_grid= roc_curve(y_test, y_pred)\n",
    "plt.plot(fpr_knn_grid, tpr_knn_grid, linestyle='-', label='kNN') \n",
    "plt.legend()\n",
    "plt.xlabel('False Positive Rate')\n",
    "plt.ylabel('True Positive Rate')\n",
    "plt.title('ROC Curve')\n",
    "plt.show()\n",
    "y_pred_prob =knn_grid_mod.predict_proba(X_test)\n",
    "print(f\"AUC(kNN)= {roc_auc_score(y_test, y_pred_prob[:,1]):.2f}\")"
   ]
  },
  {
   "cell_type": "code",
   "execution_count": 107,
   "metadata": {},
   "outputs": [
    {
     "name": "stdout",
     "output_type": "stream",
     "text": [
      "Confusion matrix, without normalization\n",
      "[[ 68 374]\n",
      " [ 46 869]]\n"
     ]
    },
    {
     "data": {
      "image/png": "[encoded data removed]",
      "text/plain": [
       "<Figure size 432x288 with 2 Axes>"
      ]
     },
     "metadata": {
      "needs_background": "light"
     },
     "output_type": "display_data"
    }
   ],
   "source": [
    "# Plot non-normalized confusion matrix\n",
    "cnf_matrix = confusion_matrix(y_test, y_pred)\n",
    "plt.figure()\n",
    "plot_confusion_matrix(cnf_matrix, classes=['Failed','Succeeded'],\n",
    "                      normalize= False,  title='Confusion matrix')"
   ]
  },
  {
   "cell_type": "code",
   "execution_count": 108,
   "metadata": {},
   "outputs": [],
   "source": [
    "models['knn_best'] = [precision_score(y_test, y_pred),\n",
    "                    fbeta_score(y_test, y_pred, beta=0.5),\n",
    "                    roc_auc_score(y_test, y_pred_prob[:,1]),\n",
    "                    accuracy_score(y_test, y_pred)]"
   ]
  },
  {
   "cell_type": "markdown",
   "metadata": {},
   "source": [
    "# Naive Bayes"
   ]
  },
  {
   "cell_type": "markdown",
   "metadata": {},
   "source": [
    "## Hyperparameter by default"
   ]
  },
  {
   "cell_type": "code",
   "execution_count": 109,
   "metadata": {},
   "outputs": [],
   "source": [
    "gnb = GaussianNB()\n",
    "y_pred_gnb = gnb.fit(X_train, y_train).predict(X_test)"
   ]
  },
  {
   "cell_type": "code",
   "execution_count": 110,
   "metadata": {},
   "outputs": [
    {
     "name": "stdout",
     "output_type": "stream",
     "text": [
      "              precision    recall  f1-score   support\n",
      "\n",
      "         0.0       0.37      0.74      0.50       442\n",
      "         1.0       0.76      0.41      0.53       915\n",
      "\n",
      "    accuracy                           0.51      1357\n",
      "   macro avg       0.57      0.57      0.51      1357\n",
      "weighted avg       0.64      0.51      0.52      1357\n",
      "\n",
      "F-Beta-Score(0.5) =  0.65\n"
     ]
    }
   ],
   "source": [
    "print(classification_report(y_test, y_pred_gnb))\n",
    "print(f'F-Beta-Score(0.5) =  {fbeta_score(y_test, y_pred_gnb, beta=0.5 ):.2f}')"
   ]
  },
  {
   "cell_type": "code",
   "execution_count": 111,
   "metadata": {},
   "outputs": [
    {
     "name": "stdout",
     "output_type": "stream",
     "text": [
      "Confusion matrix, without normalization\n",
      "[[326 116]\n",
      " [544 371]]\n"
     ]
    },
    {
     "data": {
      "image/png": "[encoded data removed]",
      "text/plain": [
       "<Figure size 432x288 with 2 Axes>"
      ]
     },
     "metadata": {
      "needs_background": "light"
     },
     "output_type": "display_data"
    }
   ],
   "source": [
    "# Plot non-normalized confusion matrix\n",
    "cnf_matrix = confusion_matrix(y_test, y_pred_gnb)\n",
    "plt.figure()\n",
    "plot_confusion_matrix(cnf_matrix, classes=['Failed','Succeeded'],\n",
    "                      normalize= False,  title='Confusion matrix')"
   ]
  },
  {
   "cell_type": "code",
   "execution_count": 112,
   "metadata": {},
   "outputs": [
    {
     "data": {
      "image/png": "[encoded data removed]",
      "text/plain": [
       "<Figure size 432x288 with 1 Axes>"
      ]
     },
     "metadata": {
      "needs_background": "light"
     },
     "output_type": "display_data"
    },
    {
     "name": "stdout",
     "output_type": "stream",
     "text": [
      "AUC(GNB)= 0.63\n"
     ]
    }
   ],
   "source": [
    "# Plot the ROC curve\n",
    "fpr_gnb, tpr_gnb, thresholds_gnb = roc_curve(y_test, y_pred_gnb)\n",
    "plt.plot(fpr_gnb, tpr_gnb, linestyle='-', label='Gaussian Naive Bayes') \n",
    "plt.legend()\n",
    "plt.xlabel('False Positive Rate')\n",
    "plt.ylabel('True Positive Rate')\n",
    "plt.title('ROC Curve')\n",
    "plt.show()\n",
    "y_pred_gnb_prob = gnb.predict_proba(X_test)\n",
    "print(f\"AUC(GNB)= {roc_auc_score(y_test, y_pred_gnb_prob[:,1]):.2f}\")"
   ]
  },
  {
   "cell_type": "code",
   "execution_count": 113,
   "metadata": {},
   "outputs": [],
   "source": [
    "models['GNB_simple'] = [precision_score(y_test, y_pred_gnb),\n",
    "                    fbeta_score(y_test, y_pred_gnb, beta=0.5),\n",
    "                    roc_auc_score(y_test, y_pred_gnb_prob[:,1]),\n",
    "                    accuracy_score(y_test, y_pred_gnb)]"
   ]
  },
  {
   "cell_type": "markdown",
   "metadata": {},
   "source": [
    "## Hyperparameter tuning"
   ]
  },
  {
   "cell_type": "code",
   "execution_count": 114,
   "metadata": {},
   "outputs": [
    {
     "name": "stdout",
     "output_type": "stream",
     "text": [
      "Fitting 3 folds for each of 1000 candidates, totalling 3000 fits\n"
     ]
    },
    {
     "name": "stderr",
     "output_type": "stream",
     "text": [
      "[Parallel(n_jobs=-1)]: Using backend LokyBackend with 8 concurrent workers.\n",
      "[Parallel(n_jobs=-1)]: Done  56 tasks      | elapsed:    0.3s\n",
      "[Parallel(n_jobs=-1)]: Done 2160 tasks      | elapsed:    4.1s\n",
      "[Parallel(n_jobs=-1)]: Done 3000 out of 3000 | elapsed:    5.9s finished\n"
     ]
    },
    {
     "data": {
      "text/plain": [
       "GridSearchCV(cv=StratifiedKFold(n_splits=3, random_state=None, shuffle=False),\n",
       "             estimator=GaussianNB(), n_jobs=-1,\n",
       "             param_grid={'var_smoothing': array([1.00000000e+01, 9.77214697e+00, 9.54948564e+00, 9.33189772e+00,\n",
       "       9.11926760e+00, 8.91148232e+00, 8.70843150e+00, 8.51000725e+00,\n",
       "       8.31610415e+00, 8.12661920e+00, 7.94145172e+00, 7.76050334e+00,\n",
       "       7.58367791e+00, 7.41088152e...\n",
       "       1.54949504e-09, 1.51418933e-09, 1.47968806e-09, 1.44597292e-09,\n",
       "       1.41302599e-09, 1.38082977e-09, 1.34936714e-09, 1.31862140e-09,\n",
       "       1.28857621e-09, 1.25921561e-09, 1.23052400e-09, 1.20248614e-09,\n",
       "       1.17508713e-09, 1.14831241e-09, 1.12214777e-09, 1.09657929e-09,\n",
       "       1.07159340e-09, 1.04717682e-09, 1.02331658e-09, 1.00000000e-09])},\n",
       "             scoring=make_scorer(fbeta_score, beta=0.5), verbose=1)"
      ]
     },
     "execution_count": 114,
     "metadata": {},
     "output_type": "execute_result"
    }
   ],
   "source": [
    "# Hyperparameter grid for GridSearch for Naive Bayes\n",
    "params_grid = {'var_smoothing': np.logspace(1,-9, num=1000)}\n",
    "\n",
    "# Estimator for use in gridSearch\n",
    "estimator = GaussianNB()\n",
    "\n",
    "# Create the gridSearch model\n",
    "gnb_gs = GridSearchCV(estimator, params_grid, scoring= fhalf_scorer, cv = c,\n",
    "                     n_jobs = -1, verbose = 1)\n",
    "\n",
    "# Fit \n",
    "gnb_gs.fit(X_train, y_train)"
   ]
  },
  {
   "cell_type": "code",
   "execution_count": 115,
   "metadata": {},
   "outputs": [
    {
     "data": {
      "text/plain": [
       "{'var_smoothing': 3.6271002523306466}"
      ]
     },
     "execution_count": 115,
     "metadata": {},
     "output_type": "execute_result"
    }
   ],
   "source": [
    "gnb_gs.best_params_"
   ]
  },
  {
   "cell_type": "code",
   "execution_count": 116,
   "metadata": {},
   "outputs": [],
   "source": [
    "best_model_gnb_gs = gnb_gs.best_estimator_"
   ]
  },
  {
   "cell_type": "code",
   "execution_count": 117,
   "metadata": {},
   "outputs": [
    {
     "name": "stdout",
     "output_type": "stream",
     "text": [
      "              precision    recall  f1-score   support\n",
      "\n",
      "         0.0       0.50      0.02      0.04       442\n",
      "         1.0       0.68      0.99      0.80       915\n",
      "\n",
      "    accuracy                           0.67      1357\n",
      "   macro avg       0.59      0.51      0.42      1357\n",
      "weighted avg       0.62      0.67      0.56      1357\n",
      "\n",
      "F-Beta-Score(0.5) =  0.72\n"
     ]
    }
   ],
   "source": [
    "y_pred_gnb_best = best_model_gnb_gs.predict(X_test)\n",
    "print(classification_report(y_test, y_pred_gnb_best))\n",
    "print(f'F-Beta-Score(0.5) =  {fbeta_score(y_test, y_pred_gnb_best, beta=0.5 ):.2f}')"
   ]
  },
  {
   "cell_type": "code",
   "execution_count": 118,
   "metadata": {},
   "outputs": [
    {
     "name": "stdout",
     "output_type": "stream",
     "text": [
      "Confusion matrix, without normalization\n",
      "[[ 10 432]\n",
      " [ 10 905]]\n"
     ]
    },
    {
     "data": {
      "image/png": "[encoded data removed]",
      "text/plain": [
       "<Figure size 432x288 with 2 Axes>"
      ]
     },
     "metadata": {
      "needs_background": "light"
     },
     "output_type": "display_data"
    }
   ],
   "source": [
    "# Plot non-normalized confusion matrix\n",
    "cnf_matrix = confusion_matrix(y_test, y_pred_gnb_best)\n",
    "plt.figure()\n",
    "plot_confusion_matrix(cnf_matrix, classes=['Failed','Succeeded'],\n",
    "                      normalize= False,  title='Confusion matrix')"
   ]
  },
  {
   "cell_type": "code",
   "execution_count": 119,
   "metadata": {},
   "outputs": [
    {
     "data": {
      "image/png": "[encoded data removed]",
      "text/plain": [
       "<Figure size 432x288 with 1 Axes>"
      ]
     },
     "metadata": {
      "needs_background": "light"
     },
     "output_type": "display_data"
    },
    {
     "name": "stdout",
     "output_type": "stream",
     "text": [
      "AUC(GNB)= 0.63\n",
      "AUC(BestGNB)= 0.66\n"
     ]
    }
   ],
   "source": [
    "# Plot the ROC curve\n",
    "fpr_gnb_best, tpr_gnb_best, thresholds_gnb_best = roc_curve(y_test, y_pred_gnb_best)\n",
    "plt.plot(fpr_gnb, tpr_gnb, linestyle='-', label='Naive Bayes') \n",
    "plt.plot(fpr_gnb_best, tpr_gnb_best, linestyle=':', label='Best Naive Bayes')\n",
    "plt.legend()\n",
    "plt.xlabel('False Positive Rate')\n",
    "plt.ylabel('True Positive Rate')\n",
    "plt.title('ROC Curve')\n",
    "plt.show()\n",
    "y_pred_gnb_best_prob = best_model_gnb_gs.predict_proba(X_test)\n",
    "print(f\"AUC(GNB)= {roc_auc_score(y_test, y_pred_gnb_prob[:,1]):.2f}\")\n",
    "print(f\"AUC(BestGNB)= {roc_auc_score(y_test, y_pred_gnb_best_prob[:,1]):.2f}\")"
   ]
  },
  {
   "cell_type": "code",
   "execution_count": 120,
   "metadata": {},
   "outputs": [],
   "source": [
    "models['GNB_best'] = [precision_score(y_test, y_pred_gnb_best),\n",
    "                    fbeta_score(y_test, y_pred_gnb_best, beta=0.5),\n",
    "                    roc_auc_score(y_test, y_pred_gnb_best_prob[:,1]),\n",
    "                    accuracy_score(y_test, y_pred_gnb_best)]"
   ]
  },
  {
   "cell_type": "markdown",
   "metadata": {},
   "source": [
    "# Overview"
   ]
  },
  {
   "cell_type": "markdown",
   "metadata": {},
   "source": [
    "**Comparison of the results**"
   ]
  },
  {
   "cell_type": "code",
   "execution_count": 121,
   "metadata": {},
   "outputs": [
    {
     "data": {
      "text/html": [
       "<div>\n",
       "<style scoped>\n",
       "    .dataframe tbody tr th:only-of-type {\n",
       "        vertical-align: middle;\n",
       "    }\n",
       "\n",
       "    .dataframe tbody tr th {\n",
       "        vertical-align: top;\n",
       "    }\n",
       "\n",
       "    .dataframe thead th {\n",
       "        text-align: right;\n",
       "    }\n",
       "</style>\n",
       "<table border=\"1\" class=\"dataframe\">\n",
       "  <thead>\n",
       "    <tr style=\"text-align: right;\">\n",
       "      <th></th>\n",
       "      <th>Precision</th>\n",
       "      <th>F-Beta(0.5)</th>\n",
       "      <th>Roc-Auc-Score</th>\n",
       "      <th>Accuracy</th>\n",
       "    </tr>\n",
       "  </thead>\n",
       "  <tbody>\n",
       "    <tr>\n",
       "      <th>Ada_best</th>\n",
       "      <td>0.725724</td>\n",
       "      <td>0.759223</td>\n",
       "      <td>0.669048</td>\n",
       "      <td>0.716286</td>\n",
       "    </tr>\n",
       "    <tr>\n",
       "      <th>XGB_simple</th>\n",
       "      <td>0.718519</td>\n",
       "      <td>0.755844</td>\n",
       "      <td>0.694141</td>\n",
       "      <td>0.717023</td>\n",
       "    </tr>\n",
       "    <tr>\n",
       "      <th>XGB_best</th>\n",
       "      <td>0.714519</td>\n",
       "      <td>0.752707</td>\n",
       "      <td>0.679168</td>\n",
       "      <td>0.713338</td>\n",
       "    </tr>\n",
       "    <tr>\n",
       "      <th>Ada_simple</th>\n",
       "      <td>0.721739</td>\n",
       "      <td>0.752493</td>\n",
       "      <td>0.663808</td>\n",
       "      <td>0.701548</td>\n",
       "    </tr>\n",
       "    <tr>\n",
       "      <th>RF_best</th>\n",
       "      <td>0.712560</td>\n",
       "      <td>0.752167</td>\n",
       "      <td>0.682803</td>\n",
       "      <td>0.714812</td>\n",
       "    </tr>\n",
       "    <tr>\n",
       "      <th>SVC_grid</th>\n",
       "      <td>0.717667</td>\n",
       "      <td>0.751727</td>\n",
       "      <td>0.667349</td>\n",
       "      <td>0.705232</td>\n",
       "    </tr>\n",
       "    <tr>\n",
       "      <th>logReg_best</th>\n",
       "      <td>0.708543</td>\n",
       "      <td>0.743279</td>\n",
       "      <td>0.669434</td>\n",
       "      <td>0.692704</td>\n",
       "    </tr>\n",
       "    <tr>\n",
       "      <th>RF_simple</th>\n",
       "      <td>0.703050</td>\n",
       "      <td>0.742499</td>\n",
       "      <td>0.666121</td>\n",
       "      <td>0.698600</td>\n",
       "    </tr>\n",
       "    <tr>\n",
       "      <th>logReg_simple</th>\n",
       "      <td>0.707705</td>\n",
       "      <td>0.742400</td>\n",
       "      <td>0.669710</td>\n",
       "      <td>0.691231</td>\n",
       "    </tr>\n",
       "    <tr>\n",
       "      <th>SVC_simple</th>\n",
       "      <td>0.700556</td>\n",
       "      <td>0.741052</td>\n",
       "      <td>0.675185</td>\n",
       "      <td>0.697863</td>\n",
       "    </tr>\n",
       "    <tr>\n",
       "      <th>knn_simple</th>\n",
       "      <td>0.713012</td>\n",
       "      <td>0.740329</td>\n",
       "      <td>0.627939</td>\n",
       "      <td>0.677966</td>\n",
       "    </tr>\n",
       "    <tr>\n",
       "      <th>knn_best</th>\n",
       "      <td>0.699115</td>\n",
       "      <td>0.738067</td>\n",
       "      <td>0.628888</td>\n",
       "      <td>0.690494</td>\n",
       "    </tr>\n",
       "    <tr>\n",
       "      <th>GNB_best</th>\n",
       "      <td>0.676889</td>\n",
       "      <td>0.722497</td>\n",
       "      <td>0.657701</td>\n",
       "      <td>0.674282</td>\n",
       "    </tr>\n",
       "    <tr>\n",
       "      <th>GNB_simple</th>\n",
       "      <td>0.761807</td>\n",
       "      <td>0.647922</td>\n",
       "      <td>0.628846</td>\n",
       "      <td>0.513633</td>\n",
       "    </tr>\n",
       "  </tbody>\n",
       "</table>\n",
       "</div>"
      ],
      "text/plain": [
       "               Precision  F-Beta(0.5)  Roc-Auc-Score  Accuracy\n",
       "Ada_best        0.725724     0.759223       0.669048  0.716286\n",
       "XGB_simple      0.718519     0.755844       0.694141  0.717023\n",
       "XGB_best        0.714519     0.752707       0.679168  0.713338\n",
       "Ada_simple      0.721739     0.752493       0.663808  0.701548\n",
       "RF_best         0.712560     0.752167       0.682803  0.714812\n",
       "SVC_grid        0.717667     0.751727       0.667349  0.705232\n",
       "logReg_best     0.708543     0.743279       0.669434  0.692704\n",
       "RF_simple       0.703050     0.742499       0.666121  0.698600\n",
       "logReg_simple   0.707705     0.742400       0.669710  0.691231\n",
       "SVC_simple      0.700556     0.741052       0.675185  0.697863\n",
       "knn_simple      0.713012     0.740329       0.627939  0.677966\n",
       "knn_best        0.699115     0.738067       0.628888  0.690494\n",
       "GNB_best        0.676889     0.722497       0.657701  0.674282\n",
       "GNB_simple      0.761807     0.647922       0.628846  0.513633"
      ]
     },
     "execution_count": 121,
     "metadata": {},
     "output_type": "execute_result"
    }
   ],
   "source": [
    "overview = pd.DataFrame.from_dict(models, orient='index')\n",
    "overview.columns = [\"Precision\", \"F-Beta(0.5)\", \"Roc-Auc-Score\", \"Accuracy\"]\n",
    "overview.sort_values(by='F-Beta(0.5)', ascending=False)"
   ]
  },
  {
   "cell_type": "markdown",
   "metadata": {},
   "source": [
    "It appears that for XGBoost and knn the grid search parameters have not led to an improvement of the base model performance. Removing the tracheo column has deteriorated the performance of the models."
   ]
  },
  {
   "cell_type": "code",
   "execution_count": 122,
   "metadata": {},
   "outputs": [],
   "source": [
    "bestmodels = overview.drop(['logReg_simple', 'RF_simple', 'Ada_simple', 'XGB_simple',\n",
    "                            'SVC_simple', 'knn_simple', 'GNB_simple'],axis=0)"
   ]
  },
  {
   "cell_type": "code",
   "execution_count": 123,
   "metadata": {},
   "outputs": [
    {
     "data": {
      "image/png": "[encoded data removed]",
      "text/plain": [
       "<Figure size 1008x504 with 1 Axes>"
      ]
     },
     "metadata": {
      "needs_background": "light"
     },
     "output_type": "display_data"
    }
   ],
   "source": [
    "bestmodels.plot(kind='bar', figsize=(14,7))\n",
    "plt.legend(loc='center left', bbox_to_anchor=(1.0, 0.5));"
   ]
  },
  {
   "cell_type": "markdown",
   "metadata": {},
   "source": [
    "**XGBoost and AdaBoost show the best performance with regard to all evaluation metrics.**"
   ]
  },
  {
   "cell_type": "code",
   "execution_count": 129,
   "metadata": {},
   "outputs": [
    {
     "data": {
      "image/png": "[encoded data removed]",
      "text/plain": [
       "<Figure size 432x288 with 1 Axes>"
      ]
     },
     "metadata": {
      "needs_background": "light"
     },
     "output_type": "display_data"
    },
    {
     "name": "stdout",
     "output_type": "stream",
     "text": [
      "AUC(Xgboost)= 0.68\n",
      "AUC(Adaboost)= 0.67\n",
      "AUC(Random Forest)= 0.68\n",
      "AUC (SVM Classifier)= 0.67\n",
      "AUC(Logistic Regression)= 0.67\n",
      "AUC(Knn)= 0.63\n",
      "AUC(Naive Bayes)= 0.66\n",
      "AUC(Dummy)= 0.49\n"
     ]
    }
   ],
   "source": [
    "# Plot the ROC curve\n",
    "plt.plot(fpr_xgb, tpr_xgb, label='Xgboost')\n",
    "plt.plot(fpr_ada, tpr_ada, label='Adaboost')\n",
    "plt.plot(fpr_rf_gs, tpr_rf_gs, label='Random Forest')\n",
    "plt.plot(fpr_svc_grid, tpr_svc_grid, label='SVM Classifier')\n",
    "plt.plot(fpr_lr_best, tpr_lr_best, label='Logistic Regression')\n",
    "plt.plot(fpr, tpr, label='Knn')\n",
    "plt.plot(fpr_gnb_best, tpr_gnb_best, label='Naive Bayes')\n",
    "plt.plot([0, 1], [0, 1], label = 'Dummy') \n",
    "plt.legend()\n",
    "plt.xlabel('False Positive Rate')\n",
    "plt.ylabel('True Positive Rate')\n",
    "plt.title('ROC Curve')\n",
    "plt.show()\n",
    "print(f\"AUC(Xgboost)= {roc_auc_score(y_test, y_pred_xgb_prob[:,1]):.2f}\")\n",
    "print(f\"AUC(Adaboost)= {roc_auc_score(y_test, y_pred_ada_prob[:,1]):.2f}\")\n",
    "print(f\"AUC(Random Forest)= {roc_auc_score(y_test, y_proba_rf_adv[:,1]):.2f}\")\n",
    "print(f\"AUC (SVM Classifier)= {roc_auc_score(y_test, y_pred_svc_prob_best[:,1]):.2f}\")\n",
    "print(f\"AUC(Logistic Regression)= {roc_auc_score(y_test, y_pred_lr_best_prob[:,1]):.2f}\")\n",
    "print(f\"AUC(Knn)= {roc_auc_score(y_test, y_pred_knn_prob[:,1]):.2f}\")\n",
    "print(f\"AUC(Naive Bayes)= {roc_auc_score(y_test, y_pred_gnb_best_prob[:,1]):.2f}\")\n",
    "print(\"AUC(Dummy)= 0.49\")"
   ]
  },
  {
   "cell_type": "markdown",
   "metadata": {},
   "source": [
    "# Feature Importance"
   ]
  },
  {
   "cell_type": "markdown",
   "metadata": {},
   "source": [
    "##### Set the color palette"
   ]
  },
  {
   "cell_type": "code",
   "execution_count": 124,
   "metadata": {},
   "outputs": [],
   "source": [
    "# Explore color codes\n",
    "blue_1 = '#4fbbd2'\n",
    "blue_2 = '#0085a0'\n",
    "blue_3 = '#173f6d'\n",
    "green = '#21a8a4'\n",
    "red = '#f27050'\n",
    "orange = '#ffa733'\n",
    "\n",
    "# List of colors \n",
    "colors = [blue_3, blue_2, blue_1, green, orange, red]\n",
    "current_palette = sns.color_palette(colors)"
   ]
  },
  {
   "cell_type": "markdown",
   "metadata": {},
   "source": [
    "##### Initialize our best fitted Classifiers "
   ]
  },
  {
   "cell_type": "code",
   "execution_count": 125,
   "metadata": {},
   "outputs": [],
   "source": [
    "ABC = ada.feature_importances_\n",
    "XGBC = xgboost.feature_importances_\n",
    "RDMC = best_model_rf_adv.feature_importances_\n",
    "LOGC = abs(best_model_lr_gs.coef_[0])\n",
    "\n",
    "\n",
    "# List of Tree-based Classifiers used for feature Selection\n",
    "best_clf = [ABC, XGBC, RDMC, LOGC]\n",
    "\n",
    "# List of Classifier Names\n",
    "name_clf = [\"ABC\", \"XGBC\", \"RDMC\", \"LOGC\"]"
   ]
  },
  {
   "cell_type": "markdown",
   "metadata": {},
   "source": [
    "##### make a function that gives us only the first 25 best features"
   ]
  },
  {
   "cell_type": "code",
   "execution_count": 126,
   "metadata": {},
   "outputs": [],
   "source": [
    "def feature_selection(results_dict, tree_clf, name_clf, n=25):\n",
    "    \n",
    "    # n is the number of Features + classifier added to the results dictionary (default=20)\n",
    "    # and printed during process for each classifier\n",
    "    # if n=None all Features + classifier are added and printed\n",
    "    \n",
    "    count = 0\n",
    "    \n",
    "    for classifier in tree_clf:\n",
    "        \n",
    "        indices = np.argsort(classifier)[::-1]\n",
    "        feature_name = X.columns[indices]\n",
    "    \n",
    "        # Write first n Ranks to dictionary results_dict as \n",
    "        # \"name_clf: (feature_name, importance)\", default is n=20\n",
    "        results_dict[name_clf[count]] = list(zip(feature_name[0:n], classifier[indices][0:n]))     \n",
    "        \n",
    "        count +=1\n",
    "    \n",
    "        \n",
    "    return results_dict"
   ]
  },
  {
   "cell_type": "markdown",
   "metadata": {},
   "source": [
    "##### Create dataframes for visualization"
   ]
  },
  {
   "cell_type": "code",
   "execution_count": 127,
   "metadata": {},
   "outputs": [],
   "source": [
    "# Create Dictionary for Feature Selection Results\n",
    "results_fs = {}\n",
    "\n",
    "# Use feature_selection function \n",
    "feature_selection(results_fs, best_clf, name_clf)\n",
    "\n",
    "# Making Dataframes from results_fs Dictionary\n",
    "log_dataframe = pd.DataFrame(results_fs[\"LOGC\"]).rename(columns={0:\"Features\", 1:\"importance value\"})\n",
    "rfc_dataframe = pd.DataFrame(results_fs[\"RDMC\"]).rename(columns={0:\"Features\", 1:\"importance value\"})\n",
    "abc_dataframe = pd.DataFrame(results_fs[\"ABC\"]).rename(columns={0:\"Features\", 1:\"importance value\"})\n",
    "xgbc_dataframe = pd.DataFrame(results_fs[\"XGBC\"]).rename(columns={0:\"Features\", 1:\"importance value\"})"
   ]
  },
  {
   "cell_type": "markdown",
   "metadata": {},
   "source": [
    "##### make the visualization"
   ]
  },
  {
   "cell_type": "code",
   "execution_count": 130,
   "metadata": {},
   "outputs": [
    {
     "data": {
      "image/png": "[encoded data removed]",
      "text/plain": [
       "<Figure size 1080x3528 with 4 Axes>"
      ]
     },
     "metadata": {
      "needs_background": "light"
     },
     "output_type": "display_data"
    }
   ],
   "source": [
    "# Plots for feature Selection\n",
    "f, (ax1, ax2, ax3, ax4) = plt.subplots(4, 1, figsize=(15, 49))\n",
    "f.suptitle(\"Feature importance\",fontsize=27, fontweight = 'bold', y= 0.98)\n",
    "f.tight_layout(pad=2.0)\n",
    "sns.set_context(\"poster\")\n",
    "\n",
    "sns.barplot(y=\"Features\", x=\"importance value\", data=rfc_dataframe, ax=ax1, palette=current_palette)\n",
    "sns.barplot(y=\"Features\", x=\"importance value\", data=abc_dataframe, ax=ax2, palette=current_palette)\n",
    "sns.barplot(y=\"Features\", x=\"importance value\", data=xgbc_dataframe, ax=ax3, palette=current_palette) \n",
    "sns.barplot(y=\"Features\", x=\"importance value\", data=log_dataframe, ax=ax4, palette=current_palette)\n",
    "\n",
    "ax1.set_title(\"Random forest\", fontsize=25, fontweight=\"bold\")\n",
    "ax2.set_title(\"Adaboost\", fontsize=25, fontweight=\"bold\")\n",
    "ax3.set_title(\"Xgboost\", fontsize=25, fontweight=\"bold\")\n",
    "ax4.set_title(\"Logistic regresion (coefficient)\", fontsize=25, fontweight=\"bold\")\n",
    "\n",
    "ax1.set_xlabel('')\n",
    "ax2.set_xlabel('')\n",
    "ax3.set_xlabel('')\n",
    "ax4.set_xlabel('');"
   ]
  },
  {
   "cell_type": "markdown",
   "metadata": {},
   "source": [
    "The removal of the tracheo column did not produce any significant shift in the feature importance."
   ]
  },
  {
   "cell_type": "markdown",
   "metadata": {},
   "source": [
    "# Best Models with only the most important features"
   ]
  },
  {
   "cell_type": "markdown",
   "metadata": {},
   "source": [
    "In order to check whether the reduction of the dimension improves the model or whether a lower number of features is sufficient, we now examine the performance of the model with a reduced number of features. For this we vary the number of features (according to the importance in the respective model) and evaluate the model."
   ]
  },
  {
   "cell_type": "code",
   "execution_count": 131,
   "metadata": {},
   "outputs": [],
   "source": [
    "def feature_redu (dataframe, number_features, estimator):\n",
    "    liste = list(dataframe.Features.loc[:(number_features-1)].values)\n",
    "    X1 = df[liste]\n",
    "    X_train1, X_test1, y_train1, y_test1 = train_test_split(X1, y, test_size=0.25, random_state=rs, stratify=y)\n",
    "    scaler = preprocessing.StandardScaler().fit(X_train1)\n",
    "    X_train1 = scaler.transform(X_train1)\n",
    "    X_test1 = scaler.transform(X_test1)\n",
    "    \n",
    "    clf_reduced = estimator\n",
    "    clf_reduced.fit(X_train1, y_train1)\n",
    "    y_pred_clf_reduced = clf_reduced.predict(X_test1)\n",
    "    #print(classification_report(y_test1, y_pred_clf_reduced))\n",
    "    #print(f'F-Beta-Score(0.5) =  {fbeta_score(y_test1, y_pred_clf_reduced, beta=0.5 ):.2f}')\n",
    "    y_pred_clf_prob_reduced = clf_reduced.predict_proba(X_test1)\n",
    "    #print(f\"AUC= {roc_auc_score(y_test1, y_pred_clf_prob_reduced[:,1]):.2f}\")\n",
    "    \n",
    "    return [precision_score(y_test1, y_pred_clf_reduced),\n",
    "            fbeta_score(y_test1, y_pred_clf_reduced, beta=0.5),\n",
    "            roc_auc_score(y_test1, y_pred_clf_prob_reduced[:,1]),\n",
    "            accuracy_score(y_test1, y_pred_clf_reduced)]\n",
    "    "
   ]
  },
  {
   "cell_type": "code",
   "execution_count": 132,
   "metadata": {},
   "outputs": [],
   "source": [
    "def first_feature (diction, dataframe, number, estimator):\n",
    "    \n",
    "    for i in range(number):\n",
    "        diction[i+1] = feature_redu(dataframe, i+1, estimator)\n",
    "    ubersicht = pd.DataFrame.from_dict(diction, orient='index')\n",
    "    ubersicht.columns = [\"Precision\", \"F-Beta(0.5)\", \"Roc-Auc-Score\", \"Accuracy\"]\n",
    "    return ubersicht.sort_values(by='F-Beta(0.5)', ascending = False)\n",
    "    "
   ]
  },
  {
   "cell_type": "code",
   "execution_count": 133,
   "metadata": {},
   "outputs": [
    {
     "data": {
      "text/html": [
       "<div>\n",
       "<style scoped>\n",
       "    .dataframe tbody tr th:only-of-type {\n",
       "        vertical-align: middle;\n",
       "    }\n",
       "\n",
       "    .dataframe tbody tr th {\n",
       "        vertical-align: top;\n",
       "    }\n",
       "\n",
       "    .dataframe thead th {\n",
       "        text-align: right;\n",
       "    }\n",
       "</style>\n",
       "<table border=\"1\" class=\"dataframe\">\n",
       "  <thead>\n",
       "    <tr style=\"text-align: right;\">\n",
       "      <th></th>\n",
       "      <th>Precision</th>\n",
       "      <th>F-Beta(0.5)</th>\n",
       "      <th>Roc-Auc-Score</th>\n",
       "      <th>Accuracy</th>\n",
       "    </tr>\n",
       "  </thead>\n",
       "  <tbody>\n",
       "    <tr>\n",
       "      <th>8</th>\n",
       "      <td>0.718928</td>\n",
       "      <td>0.757835</td>\n",
       "      <td>0.653575</td>\n",
       "      <td>0.722918</td>\n",
       "    </tr>\n",
       "    <tr>\n",
       "      <th>15</th>\n",
       "      <td>0.719934</td>\n",
       "      <td>0.757234</td>\n",
       "      <td>0.687620</td>\n",
       "      <td>0.719234</td>\n",
       "    </tr>\n",
       "    <tr>\n",
       "      <th>14</th>\n",
       "      <td>0.719703</td>\n",
       "      <td>0.756893</td>\n",
       "      <td>0.688513</td>\n",
       "      <td>0.718497</td>\n",
       "    </tr>\n",
       "    <tr>\n",
       "      <th>16</th>\n",
       "      <td>0.717801</td>\n",
       "      <td>0.755483</td>\n",
       "      <td>0.683175</td>\n",
       "      <td>0.717023</td>\n",
       "    </tr>\n",
       "    <tr>\n",
       "      <th>12</th>\n",
       "      <td>0.717928</td>\n",
       "      <td>0.755321</td>\n",
       "      <td>0.675057</td>\n",
       "      <td>0.716286</td>\n",
       "    </tr>\n",
       "  </tbody>\n",
       "</table>\n",
       "</div>"
      ],
      "text/plain": [
       "    Precision  F-Beta(0.5)  Roc-Auc-Score  Accuracy\n",
       "8    0.718928     0.757835       0.653575  0.722918\n",
       "15   0.719934     0.757234       0.687620  0.719234\n",
       "14   0.719703     0.756893       0.688513  0.718497\n",
       "16   0.717801     0.755483       0.683175  0.717023\n",
       "12   0.717928     0.755321       0.675057  0.716286"
      ]
     },
     "execution_count": 133,
     "metadata": {},
     "output_type": "execute_result"
    }
   ],
   "source": [
    "xgb = {}\n",
    "ubersicht_xgb = first_feature(xgb, xgbc_dataframe, 20, XGBClassifier())\n",
    "ubersicht_xgb.head()"
   ]
  },
  {
   "cell_type": "code",
   "execution_count": 134,
   "metadata": {},
   "outputs": [
    {
     "data": {
      "text/html": [
       "<div>\n",
       "<style scoped>\n",
       "    .dataframe tbody tr th:only-of-type {\n",
       "        vertical-align: middle;\n",
       "    }\n",
       "\n",
       "    .dataframe tbody tr th {\n",
       "        vertical-align: top;\n",
       "    }\n",
       "\n",
       "    .dataframe thead th {\n",
       "        text-align: right;\n",
       "    }\n",
       "</style>\n",
       "<table border=\"1\" class=\"dataframe\">\n",
       "  <thead>\n",
       "    <tr style=\"text-align: right;\">\n",
       "      <th></th>\n",
       "      <th>Precision</th>\n",
       "      <th>F-Beta(0.5)</th>\n",
       "      <th>Roc-Auc-Score</th>\n",
       "      <th>Accuracy</th>\n",
       "    </tr>\n",
       "  </thead>\n",
       "  <tbody>\n",
       "    <tr>\n",
       "      <th>10</th>\n",
       "      <td>0.711297</td>\n",
       "      <td>0.746269</td>\n",
       "      <td>0.651176</td>\n",
       "      <td>0.697863</td>\n",
       "    </tr>\n",
       "    <tr>\n",
       "      <th>13</th>\n",
       "      <td>0.710460</td>\n",
       "      <td>0.745391</td>\n",
       "      <td>0.666730</td>\n",
       "      <td>0.696389</td>\n",
       "    </tr>\n",
       "    <tr>\n",
       "      <th>8</th>\n",
       "      <td>0.711036</td>\n",
       "      <td>0.745188</td>\n",
       "      <td>0.639615</td>\n",
       "      <td>0.694915</td>\n",
       "    </tr>\n",
       "    <tr>\n",
       "      <th>18</th>\n",
       "      <td>0.711375</td>\n",
       "      <td>0.744624</td>\n",
       "      <td>0.643878</td>\n",
       "      <td>0.692704</td>\n",
       "    </tr>\n",
       "    <tr>\n",
       "      <th>19</th>\n",
       "      <td>0.710034</td>\n",
       "      <td>0.743015</td>\n",
       "      <td>0.648907</td>\n",
       "      <td>0.689757</td>\n",
       "    </tr>\n",
       "  </tbody>\n",
       "</table>\n",
       "</div>"
      ],
      "text/plain": [
       "    Precision  F-Beta(0.5)  Roc-Auc-Score  Accuracy\n",
       "10   0.711297     0.746269       0.651176  0.697863\n",
       "13   0.710460     0.745391       0.666730  0.696389\n",
       "8    0.711036     0.745188       0.639615  0.694915\n",
       "18   0.711375     0.744624       0.643878  0.692704\n",
       "19   0.710034     0.743015       0.648907  0.689757"
      ]
     },
     "execution_count": 134,
     "metadata": {},
     "output_type": "execute_result"
    }
   ],
   "source": [
    "ada = {}\n",
    "ubersicht_ada = first_feature(ada, abc_dataframe, 20, AdaBoostClassifier())\n",
    "ubersicht_ada.head()"
   ]
  },
  {
   "cell_type": "code",
   "execution_count": 135,
   "metadata": {},
   "outputs": [
    {
     "data": {
      "text/html": [
       "<div>\n",
       "<style scoped>\n",
       "    .dataframe tbody tr th:only-of-type {\n",
       "        vertical-align: middle;\n",
       "    }\n",
       "\n",
       "    .dataframe tbody tr th {\n",
       "        vertical-align: top;\n",
       "    }\n",
       "\n",
       "    .dataframe thead th {\n",
       "        text-align: right;\n",
       "    }\n",
       "</style>\n",
       "<table border=\"1\" class=\"dataframe\">\n",
       "  <thead>\n",
       "    <tr style=\"text-align: right;\">\n",
       "      <th></th>\n",
       "      <th>Precision</th>\n",
       "      <th>F-Beta(0.5)</th>\n",
       "      <th>Roc-Auc-Score</th>\n",
       "      <th>Accuracy</th>\n",
       "    </tr>\n",
       "  </thead>\n",
       "  <tbody>\n",
       "    <tr>\n",
       "      <th>16</th>\n",
       "      <td>0.690383</td>\n",
       "      <td>0.732051</td>\n",
       "      <td>0.633398</td>\n",
       "      <td>0.684598</td>\n",
       "    </tr>\n",
       "    <tr>\n",
       "      <th>17</th>\n",
       "      <td>0.690307</td>\n",
       "      <td>0.731097</td>\n",
       "      <td>0.647234</td>\n",
       "      <td>0.681651</td>\n",
       "    </tr>\n",
       "    <tr>\n",
       "      <th>15</th>\n",
       "      <td>0.686335</td>\n",
       "      <td>0.728531</td>\n",
       "      <td>0.627812</td>\n",
       "      <td>0.679440</td>\n",
       "    </tr>\n",
       "    <tr>\n",
       "      <th>20</th>\n",
       "      <td>0.687451</td>\n",
       "      <td>0.727896</td>\n",
       "      <td>0.651398</td>\n",
       "      <td>0.675755</td>\n",
       "    </tr>\n",
       "    <tr>\n",
       "      <th>18</th>\n",
       "      <td>0.687451</td>\n",
       "      <td>0.727896</td>\n",
       "      <td>0.648340</td>\n",
       "      <td>0.675755</td>\n",
       "    </tr>\n",
       "  </tbody>\n",
       "</table>\n",
       "</div>"
      ],
      "text/plain": [
       "    Precision  F-Beta(0.5)  Roc-Auc-Score  Accuracy\n",
       "16   0.690383     0.732051       0.633398  0.684598\n",
       "17   0.690307     0.731097       0.647234  0.681651\n",
       "15   0.686335     0.728531       0.627812  0.679440\n",
       "20   0.687451     0.727896       0.651398  0.675755\n",
       "18   0.687451     0.727896       0.648340  0.675755"
      ]
     },
     "execution_count": 135,
     "metadata": {},
     "output_type": "execute_result"
    }
   ],
   "source": [
    "logReg = {}\n",
    "ubersicht_logReg = first_feature(logReg, log_dataframe, 20, LogisticRegression(penalty= 'l2', C= 0.1))\n",
    "ubersicht_logReg.head()"
   ]
  },
  {
   "cell_type": "code",
   "execution_count": 136,
   "metadata": {},
   "outputs": [
    {
     "data": {
      "text/html": [
       "<div>\n",
       "<style scoped>\n",
       "    .dataframe tbody tr th:only-of-type {\n",
       "        vertical-align: middle;\n",
       "    }\n",
       "\n",
       "    .dataframe tbody tr th {\n",
       "        vertical-align: top;\n",
       "    }\n",
       "\n",
       "    .dataframe thead th {\n",
       "        text-align: right;\n",
       "    }\n",
       "</style>\n",
       "<table border=\"1\" class=\"dataframe\">\n",
       "  <thead>\n",
       "    <tr style=\"text-align: right;\">\n",
       "      <th></th>\n",
       "      <th>Precision</th>\n",
       "      <th>F-Beta(0.5)</th>\n",
       "      <th>Roc-Auc-Score</th>\n",
       "      <th>Accuracy</th>\n",
       "    </tr>\n",
       "  </thead>\n",
       "  <tbody>\n",
       "    <tr>\n",
       "      <th>14</th>\n",
       "      <td>0.713696</td>\n",
       "      <td>0.750477</td>\n",
       "      <td>0.651634</td>\n",
       "      <td>0.707443</td>\n",
       "    </tr>\n",
       "    <tr>\n",
       "      <th>15</th>\n",
       "      <td>0.712183</td>\n",
       "      <td>0.749957</td>\n",
       "      <td>0.653244</td>\n",
       "      <td>0.708180</td>\n",
       "    </tr>\n",
       "    <tr>\n",
       "      <th>7</th>\n",
       "      <td>0.714165</td>\n",
       "      <td>0.748365</td>\n",
       "      <td>0.617928</td>\n",
       "      <td>0.700074</td>\n",
       "    </tr>\n",
       "    <tr>\n",
       "      <th>20</th>\n",
       "      <td>0.709388</td>\n",
       "      <td>0.747206</td>\n",
       "      <td>0.654923</td>\n",
       "      <td>0.703758</td>\n",
       "    </tr>\n",
       "    <tr>\n",
       "      <th>11</th>\n",
       "      <td>0.710265</td>\n",
       "      <td>0.746476</td>\n",
       "      <td>0.641228</td>\n",
       "      <td>0.700074</td>\n",
       "    </tr>\n",
       "  </tbody>\n",
       "</table>\n",
       "</div>"
      ],
      "text/plain": [
       "    Precision  F-Beta(0.5)  Roc-Auc-Score  Accuracy\n",
       "14   0.713696     0.750477       0.651634  0.707443\n",
       "15   0.712183     0.749957       0.653244  0.708180\n",
       "7    0.714165     0.748365       0.617928  0.700074\n",
       "20   0.709388     0.747206       0.654923  0.703758\n",
       "11   0.710265     0.746476       0.641228  0.700074"
      ]
     },
     "execution_count": 136,
     "metadata": {},
     "output_type": "execute_result"
    }
   ],
   "source": [
    "RF = {}\n",
    "ubersicht_RF = first_feature(RF, rfc_dataframe, 20, RandomForestClassifier(bootstrap= False, max_depth= 40, max_features= 'auto', min_samples_leaf= 2,\n",
    "                                     min_samples_split= 7, n_estimators= 500, random_state=rs))\n",
    "ubersicht_RF.head()"
   ]
  },
  {
   "cell_type": "code",
   "execution_count": 137,
   "metadata": {},
   "outputs": [
    {
     "data": {
      "text/html": [
       "<div>\n",
       "<style scoped>\n",
       "    .dataframe tbody tr th:only-of-type {\n",
       "        vertical-align: middle;\n",
       "    }\n",
       "\n",
       "    .dataframe tbody tr th {\n",
       "        vertical-align: top;\n",
       "    }\n",
       "\n",
       "    .dataframe thead th {\n",
       "        text-align: right;\n",
       "    }\n",
       "</style>\n",
       "<table border=\"1\" class=\"dataframe\">\n",
       "  <thead>\n",
       "    <tr style=\"text-align: right;\">\n",
       "      <th></th>\n",
       "      <th>Number_features</th>\n",
       "      <th>Precision</th>\n",
       "      <th>F-Beta(0.5)</th>\n",
       "      <th>Roc-Auc-Score</th>\n",
       "      <th>Accuracy</th>\n",
       "      <th>Metrics</th>\n",
       "    </tr>\n",
       "  </thead>\n",
       "  <tbody>\n",
       "    <tr>\n",
       "      <th>1</th>\n",
       "      <td>8</td>\n",
       "      <td>0.718928</td>\n",
       "      <td>0.757835</td>\n",
       "      <td>0.653575</td>\n",
       "      <td>0.722918</td>\n",
       "      <td>Xgboost</td>\n",
       "    </tr>\n",
       "    <tr>\n",
       "      <th>2</th>\n",
       "      <td>14</td>\n",
       "      <td>0.713696</td>\n",
       "      <td>0.750477</td>\n",
       "      <td>0.651634</td>\n",
       "      <td>0.707443</td>\n",
       "      <td>Random_forest</td>\n",
       "    </tr>\n",
       "    <tr>\n",
       "      <th>0</th>\n",
       "      <td>10</td>\n",
       "      <td>0.711297</td>\n",
       "      <td>0.746269</td>\n",
       "      <td>0.651176</td>\n",
       "      <td>0.697863</td>\n",
       "      <td>Adaboost</td>\n",
       "    </tr>\n",
       "    <tr>\n",
       "      <th>3</th>\n",
       "      <td>16</td>\n",
       "      <td>0.690383</td>\n",
       "      <td>0.732051</td>\n",
       "      <td>0.633398</td>\n",
       "      <td>0.684598</td>\n",
       "      <td>Logistic_regresion</td>\n",
       "    </tr>\n",
       "  </tbody>\n",
       "</table>\n",
       "</div>"
      ],
      "text/plain": [
       "   Number_features  Precision  F-Beta(0.5)  Roc-Auc-Score  Accuracy  \\\n",
       "1                8   0.718928     0.757835       0.653575  0.722918   \n",
       "2               14   0.713696     0.750477       0.651634  0.707443   \n",
       "0               10   0.711297     0.746269       0.651176  0.697863   \n",
       "3               16   0.690383     0.732051       0.633398  0.684598   \n",
       "\n",
       "              Metrics  \n",
       "1             Xgboost  \n",
       "2       Random_forest  \n",
       "0            Adaboost  \n",
       "3  Logistic_regresion  "
      ]
     },
     "execution_count": 137,
     "metadata": {},
     "output_type": "execute_result"
    }
   ],
   "source": [
    "best_model= pd.concat([ubersicht_ada.iloc[:1,:], ubersicht_xgb.iloc[:1,:], ubersicht_RF.iloc[:1,:],\n",
    "                       ubersicht_logReg.iloc[:1,:]])\n",
    "best_model.reset_index(inplace=True)\n",
    "best_model.rename(columns={'index':\"Number_features\"},inplace=True)\n",
    "metrics=  pd.DataFrame({'Metrics': ['Adaboost','Xgboost', 'Random_forest', 'Logistic_regresion']})\n",
    "best_model= pd.concat([best_model,metrics], axis=1)\n",
    "best_model.set_index('Metrics')\n",
    "best_model.sort_values(by='F-Beta(0.5)', ascending=False)"
   ]
  },
  {
   "cell_type": "code",
   "execution_count": 138,
   "metadata": {
    "scrolled": true
   },
   "outputs": [
    {
     "data": {
      "text/html": [
       "<div>\n",
       "<style scoped>\n",
       "    .dataframe tbody tr th:only-of-type {\n",
       "        vertical-align: middle;\n",
       "    }\n",
       "\n",
       "    .dataframe tbody tr th {\n",
       "        vertical-align: top;\n",
       "    }\n",
       "\n",
       "    .dataframe thead th {\n",
       "        text-align: right;\n",
       "    }\n",
       "</style>\n",
       "<table border=\"1\" class=\"dataframe\">\n",
       "  <thead>\n",
       "    <tr style=\"text-align: right;\">\n",
       "      <th></th>\n",
       "      <th>Adaboost</th>\n",
       "      <th>Xgboost</th>\n",
       "      <th>Random_forest</th>\n",
       "      <th>Logistic_regresion</th>\n",
       "    </tr>\n",
       "  </thead>\n",
       "  <tbody>\n",
       "    <tr>\n",
       "      <th>0</th>\n",
       "      <td>hour_mechvent</td>\n",
       "      <td>hour_mechvent</td>\n",
       "      <td>hour_mechvent</td>\n",
       "      <td>maximum_hr</td>\n",
       "    </tr>\n",
       "    <tr>\n",
       "      <th>1</th>\n",
       "      <td>age</td>\n",
       "      <td>minimum_SaO2</td>\n",
       "      <td>pf_ratio</td>\n",
       "      <td>std_hr</td>\n",
       "    </tr>\n",
       "    <tr>\n",
       "      <th>2</th>\n",
       "      <td>creatinin</td>\n",
       "      <td>median_PaO2</td>\n",
       "      <td>median_PaO2</td>\n",
       "      <td>breath_min_vol</td>\n",
       "    </tr>\n",
       "    <tr>\n",
       "      <th>3</th>\n",
       "      <td>kurto_blood_pr</td>\n",
       "      <td>PEEP</td>\n",
       "      <td>breath_min_vol</td>\n",
       "      <td>pf_ratio</td>\n",
       "    </tr>\n",
       "    <tr>\n",
       "      <th>4</th>\n",
       "      <td>skew_hr</td>\n",
       "      <td>pf_ratio</td>\n",
       "      <td>std_SaO2</td>\n",
       "      <td>median_pH</td>\n",
       "    </tr>\n",
       "    <tr>\n",
       "      <th>5</th>\n",
       "      <td>PaO2</td>\n",
       "      <td>median_SaO2</td>\n",
       "      <td>rsbi</td>\n",
       "      <td>maximum_PaO2</td>\n",
       "    </tr>\n",
       "    <tr>\n",
       "      <th>6</th>\n",
       "      <td>numb_diagn</td>\n",
       "      <td>minimum_PaO2</td>\n",
       "      <td>std_hr</td>\n",
       "      <td>tidal_vol</td>\n",
       "    </tr>\n",
       "    <tr>\n",
       "      <th>7</th>\n",
       "      <td>rsbi</td>\n",
       "      <td>maximum_pH</td>\n",
       "      <td>skew_hr</td>\n",
       "      <td>std_SaO2</td>\n",
       "    </tr>\n",
       "    <tr>\n",
       "      <th>8</th>\n",
       "      <td>tidal_vol</td>\n",
       "      <td>NaN</td>\n",
       "      <td>age</td>\n",
       "      <td>product1</td>\n",
       "    </tr>\n",
       "    <tr>\n",
       "      <th>9</th>\n",
       "      <td>minimum_blood_pr</td>\n",
       "      <td>NaN</td>\n",
       "      <td>maximum_PaO2</td>\n",
       "      <td>maximum_SaO2</td>\n",
       "    </tr>\n",
       "    <tr>\n",
       "      <th>10</th>\n",
       "      <td>NaN</td>\n",
       "      <td>NaN</td>\n",
       "      <td>kurto_SaO2</td>\n",
       "      <td>icu_SICU</td>\n",
       "    </tr>\n",
       "    <tr>\n",
       "      <th>11</th>\n",
       "      <td>NaN</td>\n",
       "      <td>NaN</td>\n",
       "      <td>kurto_hr</td>\n",
       "      <td>maximum_pH</td>\n",
       "    </tr>\n",
       "    <tr>\n",
       "      <th>12</th>\n",
       "      <td>NaN</td>\n",
       "      <td>NaN</td>\n",
       "      <td>wob</td>\n",
       "      <td>base_excess</td>\n",
       "    </tr>\n",
       "    <tr>\n",
       "      <th>13</th>\n",
       "      <td>NaN</td>\n",
       "      <td>NaN</td>\n",
       "      <td>kurto_blood_pr</td>\n",
       "      <td>PaO2</td>\n",
       "    </tr>\n",
       "    <tr>\n",
       "      <th>14</th>\n",
       "      <td>NaN</td>\n",
       "      <td>NaN</td>\n",
       "      <td>NaN</td>\n",
       "      <td>pH</td>\n",
       "    </tr>\n",
       "    <tr>\n",
       "      <th>15</th>\n",
       "      <td>NaN</td>\n",
       "      <td>NaN</td>\n",
       "      <td>NaN</td>\n",
       "      <td>minimum_hr</td>\n",
       "    </tr>\n",
       "  </tbody>\n",
       "</table>\n",
       "</div>"
      ],
      "text/plain": [
       "            Adaboost        Xgboost   Random_forest Logistic_regresion\n",
       "0      hour_mechvent  hour_mechvent   hour_mechvent         maximum_hr\n",
       "1                age   minimum_SaO2        pf_ratio             std_hr\n",
       "2          creatinin    median_PaO2     median_PaO2     breath_min_vol\n",
       "3     kurto_blood_pr           PEEP  breath_min_vol           pf_ratio\n",
       "4            skew_hr       pf_ratio        std_SaO2          median_pH\n",
       "5               PaO2    median_SaO2            rsbi       maximum_PaO2\n",
       "6         numb_diagn   minimum_PaO2          std_hr          tidal_vol\n",
       "7               rsbi     maximum_pH         skew_hr           std_SaO2\n",
       "8          tidal_vol            NaN             age           product1\n",
       "9   minimum_blood_pr            NaN    maximum_PaO2       maximum_SaO2\n",
       "10               NaN            NaN      kurto_SaO2           icu_SICU\n",
       "11               NaN            NaN        kurto_hr         maximum_pH\n",
       "12               NaN            NaN             wob        base_excess\n",
       "13               NaN            NaN  kurto_blood_pr               PaO2\n",
       "14               NaN            NaN             NaN                 pH\n",
       "15               NaN            NaN             NaN         minimum_hr"
      ]
     },
     "execution_count": 138,
     "metadata": {},
     "output_type": "execute_result"
    }
   ],
   "source": [
    "best_features = pd.concat([pd.DataFrame({'Adaboost':abc_dataframe.iloc[:best_model.iloc[0,0],0].values}),\n",
    "                              pd.DataFrame({'Xgboost':xgbc_dataframe.iloc[:best_model.iloc[1,0],0].values}),\n",
    "                              pd.DataFrame({'Random_forest':rfc_dataframe.iloc[:best_model.iloc[2,0],0].values}),\n",
    "                              pd.DataFrame({'Logistic_regresion':log_dataframe.iloc[:best_model.iloc[3,0],0].values})],\n",
    "                               axis=1)\n",
    "best_features"
   ]
  },
  {
   "cell_type": "markdown",
   "metadata": {},
   "source": [
    "# Conclusion"
   ]
  },
  {
   "cell_type": "markdown",
   "metadata": {},
   "source": [
    "Removing the tracheo column has worsened the performance of the models, but has hardly affected the importance of the remaining features.   \n",
    "The dominance of the \"tracheo\" feature does not hide the influence of the other features."
   ]
  },
  {
   "cell_type": "code",
   "execution_count": null,
   "metadata": {},
   "outputs": [],
   "source": []
  }
 ],
 "metadata": {
  "kernelspec": {
   "display_name": "Python [conda env:.conda-nf] *",
   "language": "python",
   "name": "conda-env-.conda-nf-py"
  },
  "language_info": {
   "codemirror_mode": {
    "name": "ipython",
    "version": 3
   },
   "file_extension": ".py",
   "mimetype": "text/x-python",
   "name": "python",
   "nbconvert_exporter": "python",
   "pygments_lexer": "ipython3",
   "version": "3.6.10"
  },
  "toc": {
   "base_numbering": 1,
   "nav_menu": {},
   "number_sections": true,
   "sideBar": true,
   "skip_h1_title": false,
   "title_cell": "Table of Contents",
   "title_sidebar": "Contents",
   "toc_cell": false,
   "toc_position": {},
   "toc_section_display": true,
   "toc_window_display": true
  },
  "varInspector": {
   "cols": {
    "lenName": 16,
    "lenType": 16,
    "lenVar": 40
   },
   "kernels_config": {
    "python": {
     "delete_cmd_postfix": "",
     "delete_cmd_prefix": "del ",
     "library": "var_list.py",
     "varRefreshCmd": "print(var_dic_list())"
    },
    "r": {
     "delete_cmd_postfix": ") ",
     "delete_cmd_prefix": "rm(",
     "library": "var_list.r",
     "varRefreshCmd": "cat(var_dic_list()) "
    }
   },
   "types_to_exclude": [
    "module",
    "function",
    "builtin_function_or_method",
    "instance",
    "_Feature"
   ],
   "window_display": false
  }
 },
 "nbformat": 4,
 "nbformat_minor": 4
}
